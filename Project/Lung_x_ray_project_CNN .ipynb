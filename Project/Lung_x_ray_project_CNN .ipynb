{
  "nbformat": 4,
  "nbformat_minor": 0,
  "metadata": {
    "colab": {
      "name": "Lung_x_ray_project_CNN.ipynb",
      "provenance": [],
      "collapsed_sections": []
    },
    "kernelspec": {
      "name": "python3",
      "display_name": "Python 3"
    },
    "language_info": {
      "name": "python"
    },
    "accelerator": "GPU"
  },
  "cells": [
    {
      "cell_type": "code",
      "metadata": {
        "id": "C7emZSBuUfF4"
      },
      "source": [
        "Train_path = '/content/drive/MyDrive/New_Dataset/train'\n",
        "Test_path = '/content/drive/MyDrive/New_Dataset/test'"
      ],
      "execution_count": null,
      "outputs": []
    },
    {
      "cell_type": "code",
      "metadata": {
        "id": "dSg3SG7kQTS4"
      },
      "source": [
        "import pandas as pd\n",
        "import numpy as np\n",
        "import matplotlib.pyplot as plt\n",
        "import keras\n",
        "from keras.layers import Dense,MaxPooling2D,Flatten,Conv2D,Dropout\n",
        "from keras.models import Sequential\n",
        "from keras.preprocessing import image\n",
        "from keras.losses import binary_crossentropy"
      ],
      "execution_count": null,
      "outputs": []
    },
    {
      "cell_type": "code",
      "metadata": {
        "id": "CE6sooSKQuDo"
      },
      "source": [
        "# CNN\n",
        "model = Sequential()\n",
        "model.add(Conv2D(32,kernel_size=(3,3),activation='relu',input_shape=(224,224,3)))\n",
        "model.add(MaxPooling2D(pool_size=(2,2)))\n",
        "model.add(Conv2D(64,(3,3),activation='relu'))\n",
        "model.add(MaxPooling2D(pool_size=(2,2)))\n",
        "\n",
        "model.add(Conv2D(64,(3,3),activation='relu'))\n",
        "model.add(MaxPooling2D(pool_size=(2,2)))\n",
        "\n",
        "model.add(Conv2D(128,(3,3),activation='relu'))\n",
        "model.add(MaxPooling2D(pool_size=(2,2)))\n",
        "\n",
        "model.add(Flatten())\n",
        "\n",
        "model.add(Dense(64,activation='relu'))\n",
        "\n",
        "model.add(Dense(1,activation='sigmoid'))\n",
        "\n",
        "\n",
        "model.compile(loss=binary_crossentropy,optimizer='adam',metrics=['accuracy'])\n"
      ],
      "execution_count": null,
      "outputs": []
    },
    {
      "cell_type": "code",
      "metadata": {
        "colab": {
          "base_uri": "https://localhost:8080/"
        },
        "id": "xfCTpo4xRxHw",
        "outputId": "223e6962-b1ff-4990-eeec-95fe1672bab8"
      },
      "source": [
        "model.summary()"
      ],
      "execution_count": null,
      "outputs": [
        {
          "output_type": "stream",
          "text": [
            "Model: \"sequential\"\n",
            "_________________________________________________________________\n",
            "Layer (type)                 Output Shape              Param #   \n",
            "=================================================================\n",
            "conv2d (Conv2D)              (None, 222, 222, 32)      896       \n",
            "_________________________________________________________________\n",
            "max_pooling2d (MaxPooling2D) (None, 111, 111, 32)      0         \n",
            "_________________________________________________________________\n",
            "conv2d_1 (Conv2D)            (None, 109, 109, 64)      18496     \n",
            "_________________________________________________________________\n",
            "max_pooling2d_1 (MaxPooling2 (None, 54, 54, 64)        0         \n",
            "_________________________________________________________________\n",
            "conv2d_2 (Conv2D)            (None, 52, 52, 64)        36928     \n",
            "_________________________________________________________________\n",
            "max_pooling2d_2 (MaxPooling2 (None, 26, 26, 64)        0         \n",
            "_________________________________________________________________\n",
            "conv2d_3 (Conv2D)            (None, 24, 24, 128)       73856     \n",
            "_________________________________________________________________\n",
            "max_pooling2d_3 (MaxPooling2 (None, 12, 12, 128)       0         \n",
            "_________________________________________________________________\n",
            "flatten (Flatten)            (None, 18432)             0         \n",
            "_________________________________________________________________\n",
            "dense (Dense)                (None, 64)                1179712   \n",
            "_________________________________________________________________\n",
            "dense_1 (Dense)              (None, 1)                 65        \n",
            "=================================================================\n",
            "Total params: 1,309,953\n",
            "Trainable params: 1,309,953\n",
            "Non-trainable params: 0\n",
            "_________________________________________________________________\n"
          ],
          "name": "stdout"
        }
      ]
    },
    {
      "cell_type": "code",
      "metadata": {
        "id": "RDj7twMzS6Jy"
      },
      "source": [
        "# Generating data by doing Data Augmentation\n",
        "train_datagen = image.ImageDataGenerator(\n",
        "     rescale=1/255,\n",
        "     shear_range = 0.2,\n",
        "     zoom_range = 0.2,\n",
        "     horizontal_flip = True\n",
        " )\n",
        "\n",
        "test_dataset = image.ImageDataGenerator(rescale=1/255) "
      ],
      "execution_count": null,
      "outputs": []
    },
    {
      "cell_type": "code",
      "metadata": {
        "colab": {
          "base_uri": "https://localhost:8080/"
        },
        "id": "uWS-bfUMT1bY",
        "outputId": "c33232ad-2723-404c-f13d-732b73bafd4f"
      },
      "source": [
        "train_generator = train_datagen.flow_from_directory(\n",
        "    Train_path,\n",
        "    target_size = (224,224),\n",
        "    batch_size = 32,\n",
        "    class_mode = 'binary'\n",
        ") \n"
      ],
      "execution_count": null,
      "outputs": [
        {
          "output_type": "stream",
          "text": [
            "Found 846 images belonging to 2 classes.\n"
          ],
          "name": "stdout"
        }
      ]
    },
    {
      "cell_type": "code",
      "metadata": {
        "colab": {
          "base_uri": "https://localhost:8080/"
        },
        "id": "yXRS-DImUrKy",
        "outputId": "452ff816-e6e7-46d8-fb8e-d092c983f2b1"
      },
      "source": [
        "train_generator.class_indices"
      ],
      "execution_count": null,
      "outputs": [
        {
          "output_type": "execute_result",
          "data": {
            "text/plain": [
              "{'covid+': 0, 'normal': 1}"
            ]
          },
          "metadata": {
            "tags": []
          },
          "execution_count": 8
        }
      ]
    },
    {
      "cell_type": "code",
      "metadata": {
        "colab": {
          "base_uri": "https://localhost:8080/"
        },
        "id": "DNBWjVhfUtpL",
        "outputId": "8098820a-c7b2-49bb-fd03-b38e2a3d7d15"
      },
      "source": [
        "validation_generator = test_dataset.flow_from_directory(\n",
        "    Test_path,\n",
        "    target_size = (224,224),\n",
        "    batch_size = 32,\n",
        "    class_mode = 'binary'\n",
        ") \n"
      ],
      "execution_count": null,
      "outputs": [
        {
          "output_type": "stream",
          "text": [
            "Found 280 images belonging to 2 classes.\n"
          ],
          "name": "stdout"
        }
      ]
    },
    {
      "cell_type": "code",
      "metadata": {
        "colab": {
          "base_uri": "https://localhost:8080/"
        },
        "id": "FOhe7JstVQnQ",
        "outputId": "e805330d-d0cb-496b-a5ed-00b8fe56305e"
      },
      "source": [
        " hist = model.fit_generator(\n",
        "     train_generator,\n",
        "     steps_per_epoch=8,\n",
        "     epochs=10,\n",
        "     validation_data=validation_generator,\n",
        "     validation_steps=2 \n",
        " )"
      ],
      "execution_count": null,
      "outputs": [
        {
          "output_type": "stream",
          "text": [
            "/usr/local/lib/python3.7/dist-packages/tensorflow/python/keras/engine/training.py:1844: UserWarning: `Model.fit_generator` is deprecated and will be removed in a future version. Please use `Model.fit`, which supports generators.\n",
            "  warnings.warn('`Model.fit_generator` is deprecated and '\n"
          ],
          "name": "stderr"
        },
        {
          "output_type": "stream",
          "text": [
            "Epoch 1/10\n",
            "8/8 [==============================] - 145s 15s/step - loss: 0.6838 - accuracy: 0.5122 - val_loss: 0.5700 - val_accuracy: 0.9531\n",
            "Epoch 2/10\n",
            "8/8 [==============================] - 86s 11s/step - loss: 0.5518 - accuracy: 0.7830 - val_loss: 0.3911 - val_accuracy: 0.8125\n",
            "Epoch 3/10\n",
            "8/8 [==============================] - 59s 7s/step - loss: 0.3611 - accuracy: 0.8565 - val_loss: 0.1603 - val_accuracy: 0.9688\n",
            "Epoch 4/10\n",
            "8/8 [==============================] - 44s 6s/step - loss: 0.2822 - accuracy: 0.8817 - val_loss: 0.1801 - val_accuracy: 0.9688\n",
            "Epoch 5/10\n",
            "8/8 [==============================] - 42s 5s/step - loss: 0.1526 - accuracy: 0.9434 - val_loss: 0.0881 - val_accuracy: 0.9688\n",
            "Epoch 6/10\n",
            "8/8 [==============================] - 25s 3s/step - loss: 0.1487 - accuracy: 0.9514 - val_loss: 0.2096 - val_accuracy: 0.9062\n",
            "Epoch 7/10\n",
            "8/8 [==============================] - 24s 3s/step - loss: 0.3998 - accuracy: 0.8950 - val_loss: 0.1054 - val_accuracy: 0.9844\n",
            "Epoch 8/10\n",
            "8/8 [==============================] - 20s 3s/step - loss: 0.1435 - accuracy: 0.9620 - val_loss: 0.2097 - val_accuracy: 0.9375\n",
            "Epoch 9/10\n",
            "8/8 [==============================] - 16s 2s/step - loss: 0.0993 - accuracy: 0.9686 - val_loss: 0.1179 - val_accuracy: 0.9688\n",
            "Epoch 10/10\n",
            "8/8 [==============================] - 14s 2s/step - loss: 0.0906 - accuracy: 0.9580 - val_loss: 0.1014 - val_accuracy: 0.9688\n"
          ],
          "name": "stdout"
        }
      ]
    },
    {
      "cell_type": "code",
      "metadata": {
        "id": "Pi9NcUpVVoCr"
      },
      "source": [
        "model.save('Covide_detector_CNN.h5')"
      ],
      "execution_count": null,
      "outputs": []
    },
    {
      "cell_type": "code",
      "metadata": {
        "id": "EsZmd_D2_sLU"
      },
      "source": [
        ""
      ],
      "execution_count": null,
      "outputs": []
    },
    {
      "cell_type": "code",
      "metadata": {
        "colab": {
          "base_uri": "https://localhost:8080/"
        },
        "id": "QBp-t8W-YwS7",
        "outputId": "5c1f19aa-eaec-40c5-fcac-ca5555963de4"
      },
      "source": [
        "model.evaluate_generator(train_generator)"
      ],
      "execution_count": null,
      "outputs": [
        {
          "output_type": "stream",
          "text": [
            "/usr/local/lib/python3.7/dist-packages/tensorflow/python/keras/engine/training.py:1877: UserWarning: `Model.evaluate_generator` is deprecated and will be removed in a future version. Please use `Model.evaluate`, which supports generators.\n",
            "  warnings.warn('`Model.evaluate_generator` is deprecated and '\n"
          ],
          "name": "stderr"
        },
        {
          "output_type": "execute_result",
          "data": {
            "text/plain": [
              "[0.10283111035823822, 0.9692671298980713]"
            ]
          },
          "metadata": {
            "tags": []
          },
          "execution_count": 12
        }
      ]
    },
    {
      "cell_type": "code",
      "metadata": {
        "colab": {
          "base_uri": "https://localhost:8080/"
        },
        "id": "n67LpL4mY2K6",
        "outputId": "c288db9b-a50e-494a-ce8c-33c5e10eedff"
      },
      "source": [
        "model.evaluate_generator(validation_generator)"
      ],
      "execution_count": null,
      "outputs": [
        {
          "output_type": "stream",
          "text": [
            "/usr/local/lib/python3.7/dist-packages/tensorflow/python/keras/engine/training.py:1877: UserWarning: `Model.evaluate_generator` is deprecated and will be removed in a future version. Please use `Model.evaluate`, which supports generators.\n",
            "  warnings.warn('`Model.evaluate_generator` is deprecated and '\n"
          ],
          "name": "stderr"
        },
        {
          "output_type": "execute_result",
          "data": {
            "text/plain": [
              "[0.09430856257677078, 0.9750000238418579]"
            ]
          },
          "metadata": {
            "tags": []
          },
          "execution_count": 13
        }
      ]
    },
    {
      "cell_type": "code",
      "metadata": {
        "id": "yC0gNV_Tbo5Y"
      },
      "source": [
        ""
      ],
      "execution_count": null,
      "outputs": []
    },
    {
      "cell_type": "code",
      "metadata": {
        "id": "ltSPp3vlc1uZ"
      },
      "source": [
        ""
      ],
      "execution_count": null,
      "outputs": []
    }
  ]
}