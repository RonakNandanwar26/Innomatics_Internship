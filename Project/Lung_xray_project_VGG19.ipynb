{
  "nbformat": 4,
  "nbformat_minor": 0,
  "metadata": {
    "colab": {
      "name": "Lung_xray_project_VGG19.ipynb",
      "provenance": [],
      "collapsed_sections": []
    },
    "kernelspec": {
      "name": "python3",
      "display_name": "Python 3"
    },
    "language_info": {
      "name": "python"
    }
  },
  "cells": [
    {
      "cell_type": "code",
      "metadata": {
        "id": "ZFcYFzG2fERL"
      },
      "source": [
        "# import the libraries as shown below\n",
        "\n",
        "from tensorflow.keras.layers import Input, Lambda, Dense, Flatten,Conv2D\n",
        "from tensorflow.keras.models import Model\n",
        "from tensorflow.keras.applications.vgg19 import VGG19\n",
        "from tensorflow.keras.applications.resnet50 import preprocess_input\n",
        "from tensorflow.keras.preprocessing import image\n",
        "from tensorflow.keras.preprocessing.image import ImageDataGenerator,load_img\n",
        "from tensorflow.keras.models import Sequential\n",
        "import numpy as np\n",
        "from glob import glob\n",
        "import matplotlib.pyplot as plt"
      ],
      "execution_count": null,
      "outputs": []
    },
    {
      "cell_type": "code",
      "metadata": {
        "id": "BZ2FMMgtfQcy"
      },
      "source": [
        "IMAGE_SIZE = [224, 224]\n",
        "\n",
        "train_path = '/content/drive/MyDrive/New_Dataset/train'\n",
        "valid_path = '/content/drive/MyDrive/New_Dataset/test'"
      ],
      "execution_count": null,
      "outputs": []
    },
    {
      "cell_type": "code",
      "metadata": {
        "colab": {
          "base_uri": "https://localhost:8080/"
        },
        "id": "r5P7DJpfiGSv",
        "outputId": "ad6a5be0-fef8-4beb-e7ae-ddeca655d420"
      },
      "source": [
        "vgg19 = VGG19(input_shape=IMAGE_SIZE + [3], weights='imagenet', include_top=False)"
      ],
      "execution_count": null,
      "outputs": [
        {
          "output_type": "stream",
          "text": [
            "Downloading data from https://storage.googleapis.com/tensorflow/keras-applications/vgg19/vgg19_weights_tf_dim_ordering_tf_kernels_notop.h5\n",
            "80142336/80134624 [==============================] - 1s 0us/step\n"
          ],
          "name": "stdout"
        }
      ]
    },
    {
      "cell_type": "code",
      "metadata": {
        "id": "osirsK4OiMKE"
      },
      "source": [
        "# don't train existing weights\n",
        "for layer in vgg19.layers:\n",
        "    layer.trainable = False"
      ],
      "execution_count": null,
      "outputs": []
    },
    {
      "cell_type": "code",
      "metadata": {
        "id": "6YcBUZIAiOdj"
      },
      "source": [
        "folders = glob('/content/drive/MyDrive/New_Dataset/train/*')"
      ],
      "execution_count": null,
      "outputs": []
    },
    {
      "cell_type": "code",
      "metadata": {
        "colab": {
          "base_uri": "https://localhost:8080/"
        },
        "id": "MgYr3Jp8iX9F",
        "outputId": "50df24d9-6cb2-4740-b9eb-af4ae9eb88d9"
      },
      "source": [
        "folders"
      ],
      "execution_count": null,
      "outputs": [
        {
          "output_type": "execute_result",
          "data": {
            "text/plain": [
              "['/content/drive/MyDrive/New_Dataset/train/covid+',\n",
              " '/content/drive/MyDrive/New_Dataset/train/normal']"
            ]
          },
          "metadata": {
            "tags": []
          },
          "execution_count": 7
        }
      ]
    },
    {
      "cell_type": "code",
      "metadata": {
        "id": "KKLaoAa4iYjh"
      },
      "source": [
        "x = Flatten()(vgg19.output)"
      ],
      "execution_count": null,
      "outputs": []
    },
    {
      "cell_type": "code",
      "metadata": {
        "id": "j2lCtZGWidqw"
      },
      "source": [
        "prediction = Dense(len(folders), activation='softmax')(x)\n",
        "\n",
        "# create a model object\n",
        "model = Model(inputs=vgg19.input, outputs=prediction)"
      ],
      "execution_count": null,
      "outputs": []
    },
    {
      "cell_type": "code",
      "metadata": {
        "colab": {
          "base_uri": "https://localhost:8080/"
        },
        "id": "WjuFvPO-ik41",
        "outputId": "6a9bf636-eedb-4d43-fd0b-682f7dfab885"
      },
      "source": [
        "model.summary()"
      ],
      "execution_count": null,
      "outputs": [
        {
          "output_type": "stream",
          "text": [
            "Model: \"model\"\n",
            "_________________________________________________________________\n",
            "Layer (type)                 Output Shape              Param #   \n",
            "=================================================================\n",
            "input_1 (InputLayer)         [(None, 224, 224, 3)]     0         \n",
            "_________________________________________________________________\n",
            "block1_conv1 (Conv2D)        (None, 224, 224, 64)      1792      \n",
            "_________________________________________________________________\n",
            "block1_conv2 (Conv2D)        (None, 224, 224, 64)      36928     \n",
            "_________________________________________________________________\n",
            "block1_pool (MaxPooling2D)   (None, 112, 112, 64)      0         \n",
            "_________________________________________________________________\n",
            "block2_conv1 (Conv2D)        (None, 112, 112, 128)     73856     \n",
            "_________________________________________________________________\n",
            "block2_conv2 (Conv2D)        (None, 112, 112, 128)     147584    \n",
            "_________________________________________________________________\n",
            "block2_pool (MaxPooling2D)   (None, 56, 56, 128)       0         \n",
            "_________________________________________________________________\n",
            "block3_conv1 (Conv2D)        (None, 56, 56, 256)       295168    \n",
            "_________________________________________________________________\n",
            "block3_conv2 (Conv2D)        (None, 56, 56, 256)       590080    \n",
            "_________________________________________________________________\n",
            "block3_conv3 (Conv2D)        (None, 56, 56, 256)       590080    \n",
            "_________________________________________________________________\n",
            "block3_conv4 (Conv2D)        (None, 56, 56, 256)       590080    \n",
            "_________________________________________________________________\n",
            "block3_pool (MaxPooling2D)   (None, 28, 28, 256)       0         \n",
            "_________________________________________________________________\n",
            "block4_conv1 (Conv2D)        (None, 28, 28, 512)       1180160   \n",
            "_________________________________________________________________\n",
            "block4_conv2 (Conv2D)        (None, 28, 28, 512)       2359808   \n",
            "_________________________________________________________________\n",
            "block4_conv3 (Conv2D)        (None, 28, 28, 512)       2359808   \n",
            "_________________________________________________________________\n",
            "block4_conv4 (Conv2D)        (None, 28, 28, 512)       2359808   \n",
            "_________________________________________________________________\n",
            "block4_pool (MaxPooling2D)   (None, 14, 14, 512)       0         \n",
            "_________________________________________________________________\n",
            "block5_conv1 (Conv2D)        (None, 14, 14, 512)       2359808   \n",
            "_________________________________________________________________\n",
            "block5_conv2 (Conv2D)        (None, 14, 14, 512)       2359808   \n",
            "_________________________________________________________________\n",
            "block5_conv3 (Conv2D)        (None, 14, 14, 512)       2359808   \n",
            "_________________________________________________________________\n",
            "block5_conv4 (Conv2D)        (None, 14, 14, 512)       2359808   \n",
            "_________________________________________________________________\n",
            "block5_pool (MaxPooling2D)   (None, 7, 7, 512)         0         \n",
            "_________________________________________________________________\n",
            "flatten (Flatten)            (None, 25088)             0         \n",
            "_________________________________________________________________\n",
            "dense (Dense)                (None, 2)                 50178     \n",
            "=================================================================\n",
            "Total params: 20,074,562\n",
            "Trainable params: 50,178\n",
            "Non-trainable params: 20,024,384\n",
            "_________________________________________________________________\n"
          ],
          "name": "stdout"
        }
      ]
    },
    {
      "cell_type": "code",
      "metadata": {
        "id": "czlyjdlQinQ5"
      },
      "source": [
        "model.compile(\n",
        "  loss='categorical_crossentropy',\n",
        "  optimizer='adam',\n",
        "  metrics=['accuracy']\n",
        ")"
      ],
      "execution_count": null,
      "outputs": []
    },
    {
      "cell_type": "code",
      "metadata": {
        "id": "YWxKMi2ri0tg"
      },
      "source": [
        "from tensorflow.keras.preprocessing.image import ImageDataGenerator\n",
        "\n",
        "train_datagen = ImageDataGenerator(rescale = 1./255,\n",
        "                                   shear_range = 0.2,\n",
        "                                   zoom_range = 0.2,\n",
        "                                   horizontal_flip = True)\n",
        "\n",
        "test_datagen = ImageDataGenerator(rescale = 1./255)"
      ],
      "execution_count": null,
      "outputs": []
    },
    {
      "cell_type": "code",
      "metadata": {
        "colab": {
          "base_uri": "https://localhost:8080/"
        },
        "id": "nqhR6IJFi2aq",
        "outputId": "4eef0dd9-ddae-4b52-c6cb-f6cddec50fc9"
      },
      "source": [
        "training_set = train_datagen.flow_from_directory('/content/drive/MyDrive/New_Dataset/train',\n",
        "                                                 target_size = (224, 224),\n",
        "                                                 batch_size = 32,\n",
        "                                                 class_mode = 'categorical')"
      ],
      "execution_count": null,
      "outputs": [
        {
          "output_type": "stream",
          "text": [
            "Found 846 images belonging to 2 classes.\n"
          ],
          "name": "stdout"
        }
      ]
    },
    {
      "cell_type": "code",
      "metadata": {
        "colab": {
          "base_uri": "https://localhost:8080/"
        },
        "id": "fUXFL1k9i9Mj",
        "outputId": "98d6ff0f-584b-4a30-bce0-e759c4e6e4e1"
      },
      "source": [
        "test_set = test_datagen.flow_from_directory('/content/drive/MyDrive/New_Dataset/test',\n",
        "                                            target_size = (224, 224),\n",
        "                                            batch_size = 32,\n",
        "                                            class_mode = 'categorical')"
      ],
      "execution_count": null,
      "outputs": [
        {
          "output_type": "stream",
          "text": [
            "Found 280 images belonging to 2 classes.\n"
          ],
          "name": "stdout"
        }
      ]
    },
    {
      "cell_type": "code",
      "metadata": {
        "colab": {
          "base_uri": "https://localhost:8080/"
        },
        "id": "-k_KfokMjJsi",
        "outputId": "e996fe4c-13cd-43d8-c5d0-33ab186ea28b"
      },
      "source": [
        "r = model.fit_generator(\n",
        "  training_set,\n",
        "  validation_data=test_set,\n",
        "  epochs=10,\n",
        "  steps_per_epoch=len(training_set),\n",
        "  validation_steps=len(test_set)\n",
        ")"
      ],
      "execution_count": null,
      "outputs": [
        {
          "output_type": "stream",
          "text": [
            "/usr/local/lib/python3.7/dist-packages/tensorflow/python/keras/engine/training.py:1844: UserWarning: `Model.fit_generator` is deprecated and will be removed in a future version. Please use `Model.fit`, which supports generators.\n",
            "  warnings.warn('`Model.fit_generator` is deprecated and '\n"
          ],
          "name": "stderr"
        },
        {
          "output_type": "stream",
          "text": [
            "Epoch 1/10\n",
            "27/27 [==============================] - 733s 27s/step - loss: 0.1445 - accuracy: 0.9385 - val_loss: 0.0571 - val_accuracy: 0.9821\n",
            "Epoch 2/10\n",
            "27/27 [==============================] - 432s 16s/step - loss: 0.0344 - accuracy: 0.9870 - val_loss: 0.0450 - val_accuracy: 0.9821\n",
            "Epoch 3/10\n",
            "27/27 [==============================] - 431s 16s/step - loss: 0.0260 - accuracy: 0.9905 - val_loss: 0.0371 - val_accuracy: 0.9893\n",
            "Epoch 4/10\n",
            "27/27 [==============================] - 431s 16s/step - loss: 0.0223 - accuracy: 0.9941 - val_loss: 0.0251 - val_accuracy: 0.9893\n",
            "Epoch 5/10\n",
            "27/27 [==============================] - 432s 16s/step - loss: 0.0276 - accuracy: 0.9905 - val_loss: 0.0234 - val_accuracy: 0.9893\n",
            "Epoch 6/10\n",
            "27/27 [==============================] - 433s 16s/step - loss: 0.0191 - accuracy: 0.9941 - val_loss: 0.0192 - val_accuracy: 0.9964\n",
            "Epoch 7/10\n",
            "27/27 [==============================] - 433s 16s/step - loss: 0.0168 - accuracy: 0.9941 - val_loss: 0.0292 - val_accuracy: 0.9893\n",
            "Epoch 8/10\n",
            "27/27 [==============================] - 433s 16s/step - loss: 0.0098 - accuracy: 0.9976 - val_loss: 0.0172 - val_accuracy: 0.9929\n",
            "Epoch 9/10\n",
            "27/27 [==============================] - 433s 16s/step - loss: 0.0094 - accuracy: 0.9965 - val_loss: 0.0238 - val_accuracy: 0.9893\n",
            "Epoch 10/10\n",
            "27/27 [==============================] - 431s 16s/step - loss: 0.0134 - accuracy: 0.9976 - val_loss: 0.0251 - val_accuracy: 0.9929\n"
          ],
          "name": "stdout"
        }
      ]
    },
    {
      "cell_type": "code",
      "metadata": {
        "colab": {
          "base_uri": "https://localhost:8080/",
          "height": 515
        },
        "id": "RKzifPE8jWhG",
        "outputId": "69ae1275-f582-43b1-8760-b6008b2ca021"
      },
      "source": [
        "\n",
        "# plot the loss\n",
        "plt.plot(r.history['loss'], label='train loss')\n",
        "plt.plot(r.history['val_loss'], label='val loss')\n",
        "plt.legend()\n",
        "plt.show()\n",
        "\n",
        "# plot the accuracy\n",
        "plt.plot(r.history['accuracy'], label='train acc')\n",
        "plt.plot(r.history['val_accuracy'], label='val acc')\n",
        "plt.legend()\n",
        "plt.show()"
      ],
      "execution_count": null,
      "outputs": [
        {
          "output_type": "display_data",
          "data": {
            "image/png": "[encoded data removed]",
            "text/plain": [
              "<Figure size 432x288 with 1 Axes>"
            ]
          },
          "metadata": {
            "tags": [],
            "needs_background": "light"
          }
        },
        {
          "output_type": "display_data",
          "data": {
            "image/png": "[encoded data removed]",
            "text/plain": [
              "<Figure size 432x288 with 1 Axes>"
            ]
          },
          "metadata": {
            "tags": [],
            "needs_background": "light"
          }
        }
      ]
    },
    {
      "cell_type": "code",
      "metadata": {
        "id": "wND66wVdjiLM"
      },
      "source": [
        "\n",
        "from tensorflow.keras.models import load_model\n",
        "\n",
        "model.save('model_vgg19.h5')"
      ],
      "execution_count": null,
      "outputs": []
    },
    {
      "cell_type": "code",
      "metadata": {
        "colab": {
          "base_uri": "https://localhost:8080/"
        },
        "id": "FiDBqR6ojiHJ",
        "outputId": "1484974d-4881-4d76-a186-f10254626d75"
      },
      "source": [
        "\n",
        "y_pred = model.predict(test_set)\n",
        "y_pred"
      ],
      "execution_count": null,
      "outputs": [
        {
          "output_type": "execute_result",
          "data": {
            "text/plain": [
              "array([[4.41157511e-07, 9.99999523e-01],\n",
              "       [3.06456900e-06, 9.99996901e-01],\n",
              "       [3.38094810e-06, 9.99996662e-01],\n",
              "       [9.99802530e-01, 1.97464993e-04],\n",
              "       [1.49953416e-06, 9.99998450e-01],\n",
              "       [3.56823080e-07, 9.99999642e-01],\n",
              "       [1.09409953e-07, 9.99999881e-01],\n",
              "       [9.99277055e-01, 7.22953468e-04],\n",
              "       [1.11849920e-06, 9.99998927e-01],\n",
              "       [1.46077554e-07, 9.99999881e-01],\n",
              "       [2.60865733e-07, 9.99999762e-01],\n",
              "       [9.96040106e-01, 3.95989232e-03],\n",
              "       [2.79758642e-05, 9.99971986e-01],\n",
              "       [5.74399246e-06, 9.99994278e-01],\n",
              "       [9.98498559e-01, 1.50146545e-03],\n",
              "       [9.97528374e-01, 2.47166492e-03],\n",
              "       [5.39336256e-08, 1.00000000e+00],\n",
              "       [9.99437511e-01, 5.62421395e-04],\n",
              "       [4.77315538e-04, 9.99522686e-01],\n",
              "       [1.35773269e-04, 9.99864221e-01],\n",
              "       [1.37172565e-05, 9.99986291e-01],\n",
              "       [1.32860009e-06, 9.99998689e-01],\n",
              "       [1.99828628e-06, 9.99997973e-01],\n",
              "       [5.00854185e-07, 9.99999523e-01],\n",
              "       [5.04170465e-08, 1.00000000e+00],\n",
              "       [6.96108909e-04, 9.99303937e-01],\n",
              "       [9.87722754e-01, 1.22771887e-02],\n",
              "       [9.98993814e-01, 1.00620557e-03],\n",
              "       [9.97273624e-01, 2.72634998e-03],\n",
              "       [9.99930501e-01, 6.94699484e-05],\n",
              "       [9.99932051e-01, 6.79310397e-05],\n",
              "       [3.99353155e-07, 9.99999642e-01],\n",
              "       [1.65289998e-01, 8.34710062e-01],\n",
              "       [3.22888923e-07, 9.99999642e-01],\n",
              "       [6.75828996e-05, 9.99932408e-01],\n",
              "       [2.39018914e-06, 9.99997616e-01],\n",
              "       [2.38829816e-05, 9.99976158e-01],\n",
              "       [5.45970636e-07, 9.99999404e-01],\n",
              "       [2.18926948e-06, 9.99997854e-01],\n",
              "       [9.97931361e-01, 2.06870050e-03],\n",
              "       [4.30763890e-07, 9.99999523e-01],\n",
              "       [1.03256041e-02, 9.89674389e-01],\n",
              "       [9.99641895e-01, 3.58057179e-04],\n",
              "       [5.98612075e-08, 9.99999881e-01],\n",
              "       [9.04085056e-08, 9.99999881e-01],\n",
              "       [1.10863141e-06, 9.99998927e-01],\n",
              "       [2.70734375e-07, 9.99999762e-01],\n",
              "       [9.94913578e-01, 5.08636516e-03],\n",
              "       [9.99819219e-01, 1.80776609e-04],\n",
              "       [2.76818701e-05, 9.99972343e-01],\n",
              "       [4.26076738e-08, 1.00000000e+00],\n",
              "       [4.17980627e-05, 9.99958158e-01],\n",
              "       [9.98040736e-01, 1.95930386e-03],\n",
              "       [3.46519542e-08, 1.00000000e+00],\n",
              "       [9.40585077e-01, 5.94148673e-02],\n",
              "       [1.57860157e-07, 9.99999881e-01],\n",
              "       [9.99887466e-01, 1.12477195e-04],\n",
              "       [8.20666790e-01, 1.79333180e-01],\n",
              "       [7.55753398e-01, 2.44246602e-01],\n",
              "       [9.96707916e-01, 3.29208910e-03],\n",
              "       [9.98415112e-01, 1.58489647e-03],\n",
              "       [3.31800493e-07, 9.99999642e-01],\n",
              "       [2.20433925e-04, 9.99779522e-01],\n",
              "       [9.99125540e-01, 8.74495192e-04],\n",
              "       [5.26278843e-09, 1.00000000e+00],\n",
              "       [9.72350836e-01, 2.76491605e-02],\n",
              "       [9.58244860e-01, 4.17551510e-02],\n",
              "       [9.99954581e-01, 4.53712528e-05],\n",
              "       [9.93245661e-01, 6.75431779e-03],\n",
              "       [9.99060571e-01, 9.39448830e-04],\n",
              "       [9.99820173e-01, 1.79864655e-04],\n",
              "       [9.98884380e-01, 1.11565727e-03],\n",
              "       [4.91619517e-07, 9.99999523e-01],\n",
              "       [5.13780751e-09, 1.00000000e+00],\n",
              "       [9.98582125e-01, 1.41789671e-03],\n",
              "       [9.97747004e-01, 2.25296826e-03],\n",
              "       [1.00000000e+00, 4.28270113e-08],\n",
              "       [9.99987483e-01, 1.25690367e-05],\n",
              "       [9.75583553e-01, 2.44164038e-02],\n",
              "       [3.67174711e-04, 9.99632835e-01],\n",
              "       [9.89678383e-01, 1.03215836e-02],\n",
              "       [9.88670707e-01, 1.13293286e-02],\n",
              "       [9.99409676e-01, 5.90299023e-04],\n",
              "       [6.20279792e-08, 9.99999881e-01],\n",
              "       [3.39797930e-06, 9.99996543e-01],\n",
              "       [8.22592556e-01, 1.77407488e-01],\n",
              "       [9.98853922e-01, 1.14609022e-03],\n",
              "       [9.99229789e-01, 7.70158076e-04],\n",
              "       [9.98326242e-01, 1.67372986e-03],\n",
              "       [9.99286830e-01, 7.13214336e-04],\n",
              "       [7.96285570e-01, 2.03714445e-01],\n",
              "       [9.85129714e-01, 1.48702553e-02],\n",
              "       [9.99302387e-01, 6.97634416e-04],\n",
              "       [7.74149958e-04, 9.99225855e-01],\n",
              "       [9.76509929e-01, 2.34901179e-02],\n",
              "       [1.44283081e-06, 9.99998569e-01],\n",
              "       [4.56248790e-01, 5.43751240e-01],\n",
              "       [6.69620295e-06, 9.99993324e-01],\n",
              "       [9.81618702e-01, 1.83813311e-02],\n",
              "       [2.08910620e-07, 9.99999762e-01],\n",
              "       [3.28596361e-05, 9.99967098e-01],\n",
              "       [9.99867797e-01, 1.32126981e-04],\n",
              "       [1.11632581e-07, 9.99999881e-01],\n",
              "       [2.65809490e-07, 9.99999762e-01],\n",
              "       [9.99676585e-01, 3.23477201e-04],\n",
              "       [2.01857415e-06, 9.99997973e-01],\n",
              "       [9.99848247e-01, 1.51675806e-04],\n",
              "       [7.45263605e-06, 9.99992490e-01],\n",
              "       [9.91436422e-01, 8.56359676e-03],\n",
              "       [9.98531342e-01, 1.46859919e-03],\n",
              "       [9.99664903e-01, 3.35070508e-04],\n",
              "       [2.71839313e-02, 9.72816110e-01],\n",
              "       [9.94578123e-01, 5.42188575e-03],\n",
              "       [9.95090961e-01, 4.90906136e-03],\n",
              "       [5.10074869e-06, 9.99994874e-01],\n",
              "       [9.98984277e-01, 1.01570389e-03],\n",
              "       [1.03371567e-05, 9.99989629e-01],\n",
              "       [4.08802094e-07, 9.99999642e-01],\n",
              "       [9.98067915e-01, 1.93210645e-03],\n",
              "       [1.55903841e-03, 9.98440921e-01],\n",
              "       [3.34026083e-07, 9.99999642e-01],\n",
              "       [3.17645199e-09, 1.00000000e+00],\n",
              "       [7.92021547e-06, 9.99992132e-01],\n",
              "       [3.27005118e-01, 6.72994912e-01],\n",
              "       [9.97924566e-01, 2.07542768e-03],\n",
              "       [8.30188632e-01, 1.69811323e-01],\n",
              "       [7.40676214e-08, 9.99999881e-01],\n",
              "       [9.97498453e-01, 2.50147539e-03],\n",
              "       [9.93370771e-01, 6.62921695e-03],\n",
              "       [4.87031321e-06, 9.99995112e-01],\n",
              "       [6.74902258e-05, 9.99932528e-01],\n",
              "       [1.75347691e-06, 9.99998212e-01],\n",
              "       [8.74229848e-01, 1.25770152e-01],\n",
              "       [9.07833040e-01, 9.21669230e-02],\n",
              "       [1.27378300e-07, 9.99999881e-01],\n",
              "       [2.13617659e-06, 9.99997854e-01],\n",
              "       [9.11879361e-01, 8.81205872e-02],\n",
              "       [9.99604404e-01, 3.95673676e-04],\n",
              "       [1.63155519e-07, 9.99999881e-01],\n",
              "       [3.12854979e-07, 9.99999642e-01],\n",
              "       [1.29677755e-06, 9.99998689e-01],\n",
              "       [8.71962948e-06, 9.99991298e-01],\n",
              "       [8.83080184e-01, 1.16919793e-01],\n",
              "       [2.40062013e-06, 9.99997616e-01],\n",
              "       [9.99598444e-01, 4.01517609e-04],\n",
              "       [9.99331474e-01, 6.68601075e-04],\n",
              "       [8.88733176e-09, 1.00000000e+00],\n",
              "       [3.83339142e-07, 9.99999642e-01],\n",
              "       [5.95609936e-06, 9.99994040e-01],\n",
              "       [8.57279429e-06, 9.99991417e-01],\n",
              "       [1.87381611e-05, 9.99981284e-01],\n",
              "       [9.98544931e-01, 1.45510735e-03],\n",
              "       [1.27173516e-05, 9.99987245e-01],\n",
              "       [9.97805178e-01, 2.19484977e-03],\n",
              "       [1.05957333e-05, 9.99989390e-01],\n",
              "       [9.53240633e-01, 4.67594340e-02],\n",
              "       [4.85552903e-07, 9.99999523e-01],\n",
              "       [9.97189462e-01, 2.81049218e-03],\n",
              "       [9.89446640e-01, 1.05533767e-02],\n",
              "       [9.96907651e-01, 3.09229549e-03],\n",
              "       [9.99299884e-01, 7.00146775e-04],\n",
              "       [8.88848305e-01, 1.11151747e-01],\n",
              "       [5.34220248e-07, 9.99999523e-01],\n",
              "       [9.99677420e-01, 3.22635489e-04],\n",
              "       [1.63238146e-05, 9.99983668e-01],\n",
              "       [9.68971729e-01, 3.10283471e-02],\n",
              "       [9.87102449e-01, 1.28975660e-02],\n",
              "       [9.99878049e-01, 1.21952864e-04],\n",
              "       [9.25052345e-01, 7.49476776e-02],\n",
              "       [9.99999642e-01, 3.57667290e-07],\n",
              "       [1.27457743e-05, 9.99987245e-01],\n",
              "       [9.97177720e-01, 2.82227201e-03],\n",
              "       [9.95735049e-01, 4.26495681e-03],\n",
              "       [3.22429037e-06, 9.99996781e-01],\n",
              "       [9.99999881e-01, 1.09628452e-07],\n",
              "       [8.20655405e-05, 9.99917984e-01],\n",
              "       [9.99999881e-01, 1.14172245e-07],\n",
              "       [5.88564326e-08, 1.00000000e+00],\n",
              "       [9.53383744e-01, 4.66162488e-02],\n",
              "       [2.58012278e-07, 9.99999762e-01],\n",
              "       [9.99290943e-01, 7.09059299e-04],\n",
              "       [8.92319679e-01, 1.07680343e-01],\n",
              "       [1.05038659e-07, 9.99999881e-01],\n",
              "       [1.03626981e-07, 9.99999881e-01],\n",
              "       [1.09158316e-06, 9.99998927e-01],\n",
              "       [1.10486226e-05, 9.99988914e-01],\n",
              "       [9.96497989e-01, 3.50202061e-03],\n",
              "       [9.99961257e-01, 3.87144537e-05],\n",
              "       [1.18890830e-05, 9.99988079e-01],\n",
              "       [1.93056039e-05, 9.99980688e-01],\n",
              "       [9.96838331e-01, 3.16165690e-03],\n",
              "       [9.99999762e-01, 2.48152816e-07],\n",
              "       [6.23000915e-07, 9.99999404e-01],\n",
              "       [2.81699588e-08, 1.00000000e+00],\n",
              "       [1.02840986e-05, 9.99989748e-01],\n",
              "       [7.97037592e-06, 9.99992013e-01],\n",
              "       [9.80642617e-01, 1.93573553e-02],\n",
              "       [9.46386993e-01, 5.36129214e-02],\n",
              "       [1.62632898e-06, 9.99998331e-01],\n",
              "       [1.37262887e-07, 9.99999881e-01],\n",
              "       [9.99951482e-01, 4.85422643e-05],\n",
              "       [9.93458211e-01, 6.54183701e-03],\n",
              "       [9.99334633e-01, 6.65394706e-04],\n",
              "       [4.56263479e-07, 9.99999523e-01],\n",
              "       [8.39540422e-01, 1.60459563e-01],\n",
              "       [1.87209826e-02, 9.81279016e-01],\n",
              "       [9.66268480e-02, 9.03373122e-01],\n",
              "       [9.99739707e-01, 2.60291621e-04],\n",
              "       [1.04656589e-04, 9.99895334e-01],\n",
              "       [2.16595879e-08, 1.00000000e+00],\n",
              "       [9.99419689e-01, 5.80295746e-04],\n",
              "       [1.07402241e-06, 9.99998927e-01],\n",
              "       [9.56238627e-01, 4.37613428e-02],\n",
              "       [5.97932058e-07, 9.99999404e-01],\n",
              "       [1.07512879e-03, 9.98924792e-01],\n",
              "       [2.16024070e-08, 1.00000000e+00],\n",
              "       [9.92261589e-01, 7.73843797e-03],\n",
              "       [5.14568910e-02, 9.48543131e-01],\n",
              "       [9.97112632e-01, 2.88731745e-03],\n",
              "       [3.13013334e-05, 9.99968648e-01],\n",
              "       [9.98789489e-01, 1.21051760e-03],\n",
              "       [8.90093803e-01, 1.09906249e-01],\n",
              "       [9.93518293e-01, 6.48171362e-03],\n",
              "       [9.08067420e-07, 9.99999046e-01],\n",
              "       [1.83051068e-08, 1.00000000e+00],\n",
              "       [2.00491218e-06, 9.99997973e-01],\n",
              "       [9.77552414e-01, 2.24475283e-02],\n",
              "       [2.82735790e-08, 1.00000000e+00],\n",
              "       [9.33093846e-01, 6.69061691e-02],\n",
              "       [9.99990344e-01, 9.70211022e-06],\n",
              "       [1.67348640e-04, 9.99832630e-01],\n",
              "       [2.65431918e-05, 9.99973416e-01],\n",
              "       [9.98772562e-01, 1.22740853e-03],\n",
              "       [9.06438708e-01, 9.35613140e-02],\n",
              "       [1.64778797e-07, 9.99999881e-01],\n",
              "       [1.31963773e-07, 9.99999881e-01],\n",
              "       [9.90549743e-01, 9.45026428e-03],\n",
              "       [9.99999523e-01, 4.78736752e-07],\n",
              "       [5.80103460e-06, 9.99994159e-01],\n",
              "       [9.18427765e-01, 8.15722197e-02],\n",
              "       [9.99999881e-01, 1.17838930e-07],\n",
              "       [9.99998331e-01, 1.62262177e-06],\n",
              "       [5.26644362e-06, 9.99994755e-01],\n",
              "       [5.23149902e-05, 9.99947667e-01],\n",
              "       [5.85867838e-06, 9.99994159e-01],\n",
              "       [9.99854088e-01, 1.45834478e-04],\n",
              "       [6.81986194e-03, 9.93180156e-01],\n",
              "       [9.86778378e-01, 1.32215889e-02],\n",
              "       [8.78836632e-01, 1.21163331e-01],\n",
              "       [9.95340586e-01, 4.65939380e-03],\n",
              "       [9.88949537e-01, 1.10505307e-02],\n",
              "       [2.58167017e-08, 1.00000000e+00],\n",
              "       [9.10619656e-06, 9.99990940e-01],\n",
              "       [4.30829630e-07, 9.99999523e-01],\n",
              "       [9.98215973e-01, 1.78398704e-03],\n",
              "       [6.40872258e-07, 9.99999404e-01],\n",
              "       [3.37925457e-07, 9.99999642e-01],\n",
              "       [9.99354303e-01, 6.45682507e-04],\n",
              "       [9.97539043e-01, 2.46093306e-03],\n",
              "       [1.21533221e-05, 9.99987841e-01],\n",
              "       [9.99999762e-01, 2.18861715e-07],\n",
              "       [9.94284928e-01, 5.71505819e-03],\n",
              "       [1.78722185e-05, 9.99982119e-01],\n",
              "       [2.20027850e-05, 9.99977946e-01],\n",
              "       [6.84064344e-06, 9.99993205e-01],\n",
              "       [9.99053538e-01, 9.46468208e-04],\n",
              "       [9.99280155e-01, 7.19865959e-04],\n",
              "       [9.97296154e-01, 2.70379405e-03],\n",
              "       [5.65849483e-08, 1.00000000e+00],\n",
              "       [9.82536972e-01, 1.74630489e-02],\n",
              "       [2.64874984e-07, 9.99999762e-01],\n",
              "       [9.99843597e-01, 1.56360897e-04],\n",
              "       [9.99854326e-01, 1.45601036e-04],\n",
              "       [1.18649114e-05, 9.99988079e-01],\n",
              "       [2.98888381e-07, 9.99999642e-01],\n",
              "       [2.80575682e-06, 9.99997139e-01],\n",
              "       [9.99284208e-01, 7.15764298e-04],\n",
              "       [9.99995112e-01, 4.92542040e-06],\n",
              "       [9.97556686e-01, 2.44323909e-03],\n",
              "       [9.99992728e-01, 7.29813337e-06]], dtype=float32)"
            ]
          },
          "metadata": {
            "tags": []
          },
          "execution_count": 20
        }
      ]
    },
    {
      "cell_type": "code",
      "metadata": {
        "id": "bUXlaHCkjiDe"
      },
      "source": [
        "\n",
        "import numpy as np\n",
        "y_pred = np.argmax(y_pred, axis=1)"
      ],
      "execution_count": null,
      "outputs": []
    },
    {
      "cell_type": "code",
      "metadata": {
        "id": "qbaFKu9_jh7w"
      },
      "source": [
        "from tensorflow.keras.models import load_model\n",
        "from tensorflow.keras.preprocessing import image"
      ],
      "execution_count": null,
      "outputs": []
    },
    {
      "cell_type": "code",
      "metadata": {
        "id": "VUmYKFp8jzYL"
      },
      "source": [
        "model=load_model('model_vgg19.h5')"
      ],
      "execution_count": null,
      "outputs": []
    },
    {
      "cell_type": "code",
      "metadata": {
        "id": "d9YptGYnjzVI"
      },
      "source": [
        "img=image.load_img('/content/drive/MyDrive/New_Dataset/test/normal/IM-0221-0001.jpeg',target_size=(224,224))"
      ],
      "execution_count": null,
      "outputs": []
    },
    {
      "cell_type": "code",
      "metadata": {
        "colab": {
          "base_uri": "https://localhost:8080/"
        },
        "id": "DoQvt99D3G3G",
        "outputId": "d056d724-a8a0-4c97-f440-706d3be19a57"
      },
      "source": [
        "x=image.img_to_array(img)\n",
        "x"
      ],
      "execution_count": 28,
      "outputs": [
        {
          "output_type": "execute_result",
          "data": {
            "text/plain": [
              "array([[[38., 38., 38.],\n",
              "        [49., 49., 49.],\n",
              "        [54., 54., 54.],\n",
              "        ...,\n",
              "        [37., 37., 37.],\n",
              "        [ 6.,  6.,  6.],\n",
              "        [ 7.,  7.,  7.]],\n",
              "\n",
              "       [[38., 38., 38.],\n",
              "        [48., 48., 48.],\n",
              "        [57., 57., 57.],\n",
              "        ...,\n",
              "        [36., 36., 36.],\n",
              "        [ 3.,  3.,  3.],\n",
              "        [ 7.,  7.,  7.]],\n",
              "\n",
              "       [[37., 37., 37.],\n",
              "        [49., 49., 49.],\n",
              "        [53., 53., 53.],\n",
              "        ...,\n",
              "        [25., 25., 25.],\n",
              "        [ 5.,  5.,  5.],\n",
              "        [ 7.,  7.,  7.]],\n",
              "\n",
              "       ...,\n",
              "\n",
              "       [[21., 21., 21.],\n",
              "        [19., 19., 19.],\n",
              "        [17., 17., 17.],\n",
              "        ...,\n",
              "        [16., 16., 16.],\n",
              "        [16., 16., 16.],\n",
              "        [16., 16., 16.]],\n",
              "\n",
              "       [[19., 19., 19.],\n",
              "        [18., 18., 18.],\n",
              "        [19., 19., 19.],\n",
              "        ...,\n",
              "        [17., 17., 17.],\n",
              "        [15., 15., 15.],\n",
              "        [17., 17., 17.]],\n",
              "\n",
              "       [[22., 22., 22.],\n",
              "        [20., 20., 20.],\n",
              "        [17., 17., 17.],\n",
              "        ...,\n",
              "        [19., 19., 19.],\n",
              "        [16., 16., 16.],\n",
              "        [16., 16., 16.]]], dtype=float32)"
            ]
          },
          "metadata": {
            "tags": []
          },
          "execution_count": 28
        }
      ]
    },
    {
      "cell_type": "code",
      "metadata": {
        "colab": {
          "base_uri": "https://localhost:8080/"
        },
        "id": "_CRRkFAQjzSN",
        "outputId": "7bcfbd53-d64b-4d4d-ef4d-94c9dc3bfbbc"
      },
      "source": [
        "\n",
        "x.shape"
      ],
      "execution_count": 29,
      "outputs": [
        {
          "output_type": "execute_result",
          "data": {
            "text/plain": [
              "(224, 224, 3)"
            ]
          },
          "metadata": {
            "tags": []
          },
          "execution_count": 29
        }
      ]
    },
    {
      "cell_type": "code",
      "metadata": {
        "id": "o1BpWAHrjzPG"
      },
      "source": [
        "x=x/255"
      ],
      "execution_count": 30,
      "outputs": []
    },
    {
      "cell_type": "code",
      "metadata": {
        "colab": {
          "base_uri": "https://localhost:8080/"
        },
        "id": "n8tOJ2U4jzLo",
        "outputId": "60a34760-2a33-4d50-8e8e-1b74dfd0facc"
      },
      "source": [
        "x=np.expand_dims(x,axis=0)\n",
        "img_data=preprocess_input(x)\n",
        "img_data.shape"
      ],
      "execution_count": 31,
      "outputs": [
        {
          "output_type": "execute_result",
          "data": {
            "text/plain": [
              "(1, 224, 224, 3)"
            ]
          },
          "metadata": {
            "tags": []
          },
          "execution_count": 31
        }
      ]
    },
    {
      "cell_type": "code",
      "metadata": {
        "id": "aC1gBIbTjzJP",
        "colab": {
          "base_uri": "https://localhost:8080/"
        },
        "outputId": "d3d53d5a-91c3-4d6d-9961-40de3498a055"
      },
      "source": [
        "\n",
        "model.predict(img_data)"
      ],
      "execution_count": 32,
      "outputs": [
        {
          "output_type": "execute_result",
          "data": {
            "text/plain": [
              "array([[9.9949074e-01, 5.0919724e-04]], dtype=float32)"
            ]
          },
          "metadata": {
            "tags": []
          },
          "execution_count": 32
        }
      ]
    },
    {
      "cell_type": "code",
      "metadata": {
        "id": "a78fiMRIjzFk"
      },
      "source": [
        "a=np.argmax(model.predict(img_data), axis=1)"
      ],
      "execution_count": 33,
      "outputs": []
    },
    {
      "cell_type": "code",
      "metadata": {
        "id": "KxpqNCU1jzC1",
        "colab": {
          "base_uri": "https://localhost:8080/"
        },
        "outputId": "ed660989-1b99-43ce-eeb8-39c1c879a59d"
      },
      "source": [
        "if(a==1):\n",
        "    print(\"Normal\")\n",
        "else:\n",
        "    print(\"Covid Positive\")"
      ],
      "execution_count": 34,
      "outputs": [
        {
          "output_type": "stream",
          "text": [
            "Covid Positive\n"
          ],
          "name": "stdout"
        }
      ]
    },
    {
      "cell_type": "code",
      "metadata": {
        "id": "y8QUmFWOjy_5"
      },
      "source": [
        ""
      ],
      "execution_count": null,
      "outputs": []
    },
    {
      "cell_type": "code",
      "metadata": {
        "id": "Vq6r9Ca3jy9F"
      },
      "source": [
        ""
      ],
      "execution_count": null,
      "outputs": []
    },
    {
      "cell_type": "code",
      "metadata": {
        "id": "3coJOp2Qjy53"
      },
      "source": [
        ""
      ],
      "execution_count": null,
      "outputs": []
    },
    {
      "cell_type": "code",
      "metadata": {
        "id": "gSOczDKXjy2N"
      },
      "source": [
        ""
      ],
      "execution_count": null,
      "outputs": []
    }
  ]
}