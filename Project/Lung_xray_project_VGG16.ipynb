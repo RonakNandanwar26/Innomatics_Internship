{
  "nbformat": 4,
  "nbformat_minor": 0,
  "metadata": {
    "colab": {
      "name": "Lung_xray_project_VGG16.ipynb",
      "provenance": [],
      "collapsed_sections": []
    },
    "kernelspec": {
      "name": "python3",
      "display_name": "Python 3"
    },
    "language_info": {
      "name": "python"
    },
    "accelerator": "GPU"
  },
  "cells": [
    {
      "cell_type": "code",
      "metadata": {
        "id": "afKLz7V-AIYT"
      },
      "source": [
        "#  import the libraries as shown below\n",
        "\n",
        "from tensorflow.keras.layers import Input, Lambda, Dense, Flatten,Conv2D\n",
        "from tensorflow.keras.models import Model\n",
        "from tensorflow.keras.applications.vgg16 import VGG16\n",
        "from tensorflow.keras.applications.resnet50 import preprocess_input\n",
        "from tensorflow.keras.preprocessing import image\n",
        "from tensorflow.keras.preprocessing.image import ImageDataGenerator,load_img\n",
        "from tensorflow.keras.models import Sequential\n",
        "import numpy as np\n",
        "from glob import glob\n",
        "import matplotlib.pyplot as plt"
      ],
      "execution_count": 1,
      "outputs": []
    },
    {
      "cell_type": "code",
      "metadata": {
        "id": "rHkW4ExjBJdh"
      },
      "source": [
        "# re-size all the images to this\n",
        "IMAGE_SIZE = [224, 224]\n",
        "\n",
        "train_path = '/content/drive/MyDrive/New_Dataset/train'\n",
        "valid_path = '/content/drive/MyDrive/New_Dataset/test'"
      ],
      "execution_count": 2,
      "outputs": []
    },
    {
      "cell_type": "code",
      "metadata": {
        "id": "YAu9JjFBCNYO"
      },
      "source": [
        "# Import the Vgg 16 library as shown below and add preprocessing layer to the front of VGG\n",
        "# Here we will be using imagenet weights\n",
        "\n",
        "vgg16 = VGG16(input_shape=IMAGE_SIZE + [3], weights='imagenet', include_top=False)"
      ],
      "execution_count": 3,
      "outputs": []
    },
    {
      "cell_type": "code",
      "metadata": {
        "id": "YJxYR010DeZR"
      },
      "source": [
        "# don't train existing weights\n",
        "for layer in vgg16.layers:\n",
        "    layer.trainable = False"
      ],
      "execution_count": 4,
      "outputs": []
    },
    {
      "cell_type": "code",
      "metadata": {
        "id": "rWLFa89qDuOW"
      },
      "source": [
        "folders = glob('/content/drive/MyDrive/New_Dataset/train/*')"
      ],
      "execution_count": 5,
      "outputs": []
    },
    {
      "cell_type": "code",
      "metadata": {
        "colab": {
          "base_uri": "https://localhost:8080/"
        },
        "id": "PqxJ5MqcD5py",
        "outputId": "d36a8319-b5d2-472a-b6cb-8cd0c7d169c0"
      },
      "source": [
        "folders"
      ],
      "execution_count": 6,
      "outputs": [
        {
          "output_type": "execute_result",
          "data": {
            "text/plain": [
              "['/content/drive/MyDrive/New_Dataset/train/covid+',\n",
              " '/content/drive/MyDrive/New_Dataset/train/normal']"
            ]
          },
          "metadata": {
            "tags": []
          },
          "execution_count": 6
        }
      ]
    },
    {
      "cell_type": "code",
      "metadata": {
        "colab": {
          "base_uri": "https://localhost:8080/"
        },
        "id": "79-qv9SVD7T7",
        "outputId": "fca16118-1d75-4e40-fd29-9e8060cd6126"
      },
      "source": [
        "vgg16.summary()"
      ],
      "execution_count": 7,
      "outputs": [
        {
          "output_type": "stream",
          "text": [
            "Model: \"vgg16\"\n",
            "_________________________________________________________________\n",
            "Layer (type)                 Output Shape              Param #   \n",
            "=================================================================\n",
            "input_1 (InputLayer)         [(None, 224, 224, 3)]     0         \n",
            "_________________________________________________________________\n",
            "block1_conv1 (Conv2D)        (None, 224, 224, 64)      1792      \n",
            "_________________________________________________________________\n",
            "block1_conv2 (Conv2D)        (None, 224, 224, 64)      36928     \n",
            "_________________________________________________________________\n",
            "block1_pool (MaxPooling2D)   (None, 112, 112, 64)      0         \n",
            "_________________________________________________________________\n",
            "block2_conv1 (Conv2D)        (None, 112, 112, 128)     73856     \n",
            "_________________________________________________________________\n",
            "block2_conv2 (Conv2D)        (None, 112, 112, 128)     147584    \n",
            "_________________________________________________________________\n",
            "block2_pool (MaxPooling2D)   (None, 56, 56, 128)       0         \n",
            "_________________________________________________________________\n",
            "block3_conv1 (Conv2D)        (None, 56, 56, 256)       295168    \n",
            "_________________________________________________________________\n",
            "block3_conv2 (Conv2D)        (None, 56, 56, 256)       590080    \n",
            "_________________________________________________________________\n",
            "block3_conv3 (Conv2D)        (None, 56, 56, 256)       590080    \n",
            "_________________________________________________________________\n",
            "block3_pool (MaxPooling2D)   (None, 28, 28, 256)       0         \n",
            "_________________________________________________________________\n",
            "block4_conv1 (Conv2D)        (None, 28, 28, 512)       1180160   \n",
            "_________________________________________________________________\n",
            "block4_conv2 (Conv2D)        (None, 28, 28, 512)       2359808   \n",
            "_________________________________________________________________\n",
            "block4_conv3 (Conv2D)        (None, 28, 28, 512)       2359808   \n",
            "_________________________________________________________________\n",
            "block4_pool (MaxPooling2D)   (None, 14, 14, 512)       0         \n",
            "_________________________________________________________________\n",
            "block5_conv1 (Conv2D)        (None, 14, 14, 512)       2359808   \n",
            "_________________________________________________________________\n",
            "block5_conv2 (Conv2D)        (None, 14, 14, 512)       2359808   \n",
            "_________________________________________________________________\n",
            "block5_conv3 (Conv2D)        (None, 14, 14, 512)       2359808   \n",
            "_________________________________________________________________\n",
            "block5_pool (MaxPooling2D)   (None, 7, 7, 512)         0         \n",
            "=================================================================\n",
            "Total params: 14,714,688\n",
            "Trainable params: 0\n",
            "Non-trainable params: 14,714,688\n",
            "_________________________________________________________________\n"
          ],
          "name": "stdout"
        }
      ]
    },
    {
      "cell_type": "code",
      "metadata": {
        "id": "KJVKMfTuEKiJ"
      },
      "source": [
        "# our layers - you can add more if you want\n",
        "x = Flatten()(vgg16.output)"
      ],
      "execution_count": 8,
      "outputs": []
    },
    {
      "cell_type": "code",
      "metadata": {
        "id": "01iIdlChFv3I"
      },
      "source": [
        "prediction = Dense(len(folders), activation='softmax')(x)\n",
        "\n",
        "# create a model object\n",
        "model = Model(inputs=vgg16.input, outputs=prediction)"
      ],
      "execution_count": 9,
      "outputs": []
    },
    {
      "cell_type": "code",
      "metadata": {
        "colab": {
          "base_uri": "https://localhost:8080/"
        },
        "id": "epbYON76F6a0",
        "outputId": "ee40b78b-4025-407f-f0f2-c261dc3b9392"
      },
      "source": [
        "model.summary()"
      ],
      "execution_count": 10,
      "outputs": [
        {
          "output_type": "stream",
          "text": [
            "Model: \"model\"\n",
            "_________________________________________________________________\n",
            "Layer (type)                 Output Shape              Param #   \n",
            "=================================================================\n",
            "input_1 (InputLayer)         [(None, 224, 224, 3)]     0         \n",
            "_________________________________________________________________\n",
            "block1_conv1 (Conv2D)        (None, 224, 224, 64)      1792      \n",
            "_________________________________________________________________\n",
            "block1_conv2 (Conv2D)        (None, 224, 224, 64)      36928     \n",
            "_________________________________________________________________\n",
            "block1_pool (MaxPooling2D)   (None, 112, 112, 64)      0         \n",
            "_________________________________________________________________\n",
            "block2_conv1 (Conv2D)        (None, 112, 112, 128)     73856     \n",
            "_________________________________________________________________\n",
            "block2_conv2 (Conv2D)        (None, 112, 112, 128)     147584    \n",
            "_________________________________________________________________\n",
            "block2_pool (MaxPooling2D)   (None, 56, 56, 128)       0         \n",
            "_________________________________________________________________\n",
            "block3_conv1 (Conv2D)        (None, 56, 56, 256)       295168    \n",
            "_________________________________________________________________\n",
            "block3_conv2 (Conv2D)        (None, 56, 56, 256)       590080    \n",
            "_________________________________________________________________\n",
            "block3_conv3 (Conv2D)        (None, 56, 56, 256)       590080    \n",
            "_________________________________________________________________\n",
            "block3_pool (MaxPooling2D)   (None, 28, 28, 256)       0         \n",
            "_________________________________________________________________\n",
            "block4_conv1 (Conv2D)        (None, 28, 28, 512)       1180160   \n",
            "_________________________________________________________________\n",
            "block4_conv2 (Conv2D)        (None, 28, 28, 512)       2359808   \n",
            "_________________________________________________________________\n",
            "block4_conv3 (Conv2D)        (None, 28, 28, 512)       2359808   \n",
            "_________________________________________________________________\n",
            "block4_pool (MaxPooling2D)   (None, 14, 14, 512)       0         \n",
            "_________________________________________________________________\n",
            "block5_conv1 (Conv2D)        (None, 14, 14, 512)       2359808   \n",
            "_________________________________________________________________\n",
            "block5_conv2 (Conv2D)        (None, 14, 14, 512)       2359808   \n",
            "_________________________________________________________________\n",
            "block5_conv3 (Conv2D)        (None, 14, 14, 512)       2359808   \n",
            "_________________________________________________________________\n",
            "block5_pool (MaxPooling2D)   (None, 7, 7, 512)         0         \n",
            "_________________________________________________________________\n",
            "flatten (Flatten)            (None, 25088)             0         \n",
            "_________________________________________________________________\n",
            "dense (Dense)                (None, 2)                 50178     \n",
            "=================================================================\n",
            "Total params: 14,764,866\n",
            "Trainable params: 50,178\n",
            "Non-trainable params: 14,714,688\n",
            "_________________________________________________________________\n"
          ],
          "name": "stdout"
        }
      ]
    },
    {
      "cell_type": "code",
      "metadata": {
        "id": "TS9WdGJBF8X8"
      },
      "source": [
        "model.compile(\n",
        "  loss='categorical_crossentropy',\n",
        "  optimizer='adam',\n",
        "  metrics=['accuracy']\n",
        ")"
      ],
      "execution_count": 11,
      "outputs": []
    },
    {
      "cell_type": "code",
      "metadata": {
        "id": "rIv2l8h_GaVp"
      },
      "source": [
        "# Use the Image Data Generator to import the images from the dataset\n",
        "from tensorflow.keras.preprocessing.image import ImageDataGenerator\n",
        "\n",
        "train_datagen = ImageDataGenerator(rescale = 1./255,\n",
        "                                   shear_range = 0.2,\n",
        "                                   zoom_range = 0.2,\n",
        "                                   horizontal_flip = True)\n",
        "\n",
        "test_datagen = ImageDataGenerator(rescale = 1./255)"
      ],
      "execution_count": 12,
      "outputs": []
    },
    {
      "cell_type": "code",
      "metadata": {
        "colab": {
          "base_uri": "https://localhost:8080/"
        },
        "id": "R5kXc6IiHdo-",
        "outputId": "4137e80e-9a9e-4854-c219-2dae6d92288e"
      },
      "source": [
        "training_set = train_datagen.flow_from_directory('/content/drive/MyDrive/New_Dataset/train',\n",
        "                                                 target_size = (224, 224),\n",
        "                                                 batch_size = 32,\n",
        "                                                 class_mode = 'categorical')"
      ],
      "execution_count": 13,
      "outputs": [
        {
          "output_type": "stream",
          "text": [
            "Found 846 images belonging to 2 classes.\n"
          ],
          "name": "stdout"
        }
      ]
    },
    {
      "cell_type": "code",
      "metadata": {
        "colab": {
          "base_uri": "https://localhost:8080/"
        },
        "id": "TyJVknZxIMGq",
        "outputId": "556488b5-da00-4400-d697-a46642574337"
      },
      "source": [
        "test_set = test_datagen.flow_from_directory('/content/drive/MyDrive/New_Dataset/test',\n",
        "                                            target_size = (224, 224),\n",
        "                                            batch_size = 32,\n",
        "                                            class_mode = 'categorical')"
      ],
      "execution_count": 14,
      "outputs": [
        {
          "output_type": "stream",
          "text": [
            "Found 280 images belonging to 2 classes.\n"
          ],
          "name": "stdout"
        }
      ]
    },
    {
      "cell_type": "code",
      "metadata": {
        "colab": {
          "base_uri": "https://localhost:8080/"
        },
        "id": "t59TKSVPInzc",
        "outputId": "843745bd-a571-4353-e707-95f1fbec5b97"
      },
      "source": [
        "# fit the model\n",
        "r = model.fit_generator(\n",
        "  training_set,\n",
        "  validation_data=test_set,\n",
        "  epochs=10,\n",
        "  steps_per_epoch=len(training_set),\n",
        "  validation_steps=len(test_set)\n",
        ")"
      ],
      "execution_count": 15,
      "outputs": [
        {
          "output_type": "stream",
          "text": [
            "/usr/local/lib/python3.7/dist-packages/tensorflow/python/keras/engine/training.py:1844: UserWarning: `Model.fit_generator` is deprecated and will be removed in a future version. Please use `Model.fit`, which supports generators.\n",
            "  warnings.warn('`Model.fit_generator` is deprecated and '\n"
          ],
          "name": "stderr"
        },
        {
          "output_type": "stream",
          "text": [
            "Epoch 1/10\n",
            "27/27 [==============================] - 393s 14s/step - loss: 0.3408 - accuracy: 0.8389 - val_loss: 0.0372 - val_accuracy: 0.9857\n",
            "Epoch 2/10\n",
            "27/27 [==============================] - 37s 1s/step - loss: 0.0281 - accuracy: 0.9902 - val_loss: 0.0440 - val_accuracy: 0.9821\n",
            "Epoch 3/10\n",
            "27/27 [==============================] - 37s 1s/step - loss: 0.0288 - accuracy: 0.9919 - val_loss: 0.0189 - val_accuracy: 0.9964\n",
            "Epoch 4/10\n",
            "27/27 [==============================] - 37s 1s/step - loss: 0.0166 - accuracy: 0.9968 - val_loss: 0.0265 - val_accuracy: 0.9893\n",
            "Epoch 5/10\n",
            "27/27 [==============================] - 37s 1s/step - loss: 0.0119 - accuracy: 0.9995 - val_loss: 0.0183 - val_accuracy: 0.9964\n",
            "Epoch 6/10\n",
            "27/27 [==============================] - 37s 1s/step - loss: 0.0136 - accuracy: 0.9984 - val_loss: 0.0109 - val_accuracy: 0.9964\n",
            "Epoch 7/10\n",
            "27/27 [==============================] - 37s 1s/step - loss: 0.0086 - accuracy: 0.9987 - val_loss: 0.0107 - val_accuracy: 1.0000\n",
            "Epoch 8/10\n",
            "27/27 [==============================] - 37s 1s/step - loss: 0.0066 - accuracy: 0.9969 - val_loss: 0.0113 - val_accuracy: 0.9964\n",
            "Epoch 9/10\n",
            "27/27 [==============================] - 37s 1s/step - loss: 0.0052 - accuracy: 0.9986 - val_loss: 0.0103 - val_accuracy: 1.0000\n",
            "Epoch 10/10\n",
            "27/27 [==============================] - 37s 1s/step - loss: 0.0034 - accuracy: 0.9999 - val_loss: 0.0089 - val_accuracy: 1.0000\n"
          ],
          "name": "stdout"
        }
      ]
    },
    {
      "cell_type": "code",
      "metadata": {
        "colab": {
          "base_uri": "https://localhost:8080/",
          "height": 513
        },
        "id": "9NsA5dXJI6vb",
        "outputId": "ba69b661-885d-49b0-8a54-57f25a51f1b6"
      },
      "source": [
        "# plot the loss\n",
        "plt.plot(r.history['loss'], label='train loss')\n",
        "plt.plot(r.history['val_loss'], label='val loss')\n",
        "plt.legend()\n",
        "plt.show()\n",
        "\n",
        "# plot the accuracy\n",
        "plt.plot(r.history['accuracy'], label='train acc')\n",
        "plt.plot(r.history['val_accuracy'], label='val acc')\n",
        "plt.legend()\n",
        "plt.show()"
      ],
      "execution_count": 16,
      "outputs": [
        {
          "output_type": "display_data",
          "data": {
            "image/png": "[encoded data removed]",
            "text/plain": [
              "<Figure size 432x288 with 1 Axes>"
            ]
          },
          "metadata": {
            "tags": [],
            "needs_background": "light"
          }
        },
        {
          "output_type": "display_data",
          "data": {
            "image/png": "[encoded data removed]",
            "text/plain": [
              "<Figure size 432x288 with 1 Axes>"
            ]
          },
          "metadata": {
            "tags": [],
            "needs_background": "light"
          }
        }
      ]
    },
    {
      "cell_type": "code",
      "metadata": {
        "id": "dyy80c8COUKj"
      },
      "source": [
        "model.save('model_vgg19.h5')"
      ],
      "execution_count": 17,
      "outputs": []
    },
    {
      "cell_type": "code",
      "metadata": {
        "id": "F2IcjZliOnsF"
      },
      "source": [
        "y_pred = model.predict(test_set)"
      ],
      "execution_count": 18,
      "outputs": []
    },
    {
      "cell_type": "code",
      "metadata": {
        "colab": {
          "base_uri": "https://localhost:8080/"
        },
        "id": "bmGbv6m_Osbw",
        "outputId": "8202cdac-802b-4e57-a945-62e77a03b383"
      },
      "source": [
        "y_pred"
      ],
      "execution_count": 19,
      "outputs": [
        {
          "output_type": "execute_result",
          "data": {
            "text/plain": [
              "array([[3.71575879e-06, 9.99996305e-01],\n",
              "       [1.26592374e-06, 9.99998689e-01],\n",
              "       [9.99647260e-01, 3.52782692e-04],\n",
              "       [1.01613596e-05, 9.99989867e-01],\n",
              "       [9.99873996e-01, 1.26037572e-04],\n",
              "       [9.99988675e-01, 1.12891739e-05],\n",
              "       [1.00000000e+00, 2.40659688e-08],\n",
              "       [9.99989867e-01, 1.01225451e-05],\n",
              "       [1.59575862e-07, 9.99999881e-01],\n",
              "       [9.98776972e-01, 1.22301420e-03],\n",
              "       [1.77650407e-04, 9.99822319e-01],\n",
              "       [9.99860048e-01, 1.39910495e-04],\n",
              "       [9.64817107e-01, 3.51828784e-02],\n",
              "       [9.99406815e-01, 5.93182107e-04],\n",
              "       [1.22356118e-06, 9.99998808e-01],\n",
              "       [9.99994397e-01, 5.59419368e-06],\n",
              "       [9.97313321e-01, 2.68669333e-03],\n",
              "       [9.99961615e-01, 3.83688493e-05],\n",
              "       [9.98502374e-01, 1.49760058e-03],\n",
              "       [9.99946237e-01, 5.37614433e-05],\n",
              "       [9.95322883e-01, 4.67711221e-03],\n",
              "       [9.51379064e-08, 9.99999881e-01],\n",
              "       [3.17093991e-02, 9.68290567e-01],\n",
              "       [3.35746654e-06, 9.99996662e-01],\n",
              "       [2.12952600e-07, 9.99999762e-01],\n",
              "       [8.25332691e-08, 9.99999881e-01],\n",
              "       [9.99397874e-01, 6.02081476e-04],\n",
              "       [8.61563683e-02, 9.13843572e-01],\n",
              "       [9.66455340e-01, 3.35446484e-02],\n",
              "       [9.99892712e-01, 1.07287553e-04],\n",
              "       [2.31554668e-06, 9.99997735e-01],\n",
              "       [9.99999881e-01, 8.42229113e-08],\n",
              "       [2.98086414e-03, 9.97019172e-01],\n",
              "       [9.99801576e-01, 1.98423586e-04],\n",
              "       [2.70743362e-06, 9.99997258e-01],\n",
              "       [6.97620166e-08, 9.99999881e-01],\n",
              "       [2.03476361e-07, 9.99999762e-01],\n",
              "       [9.15853961e-05, 9.99908447e-01],\n",
              "       [9.99984622e-01, 1.53435394e-05],\n",
              "       [9.98982847e-01, 1.01708772e-03],\n",
              "       [9.99922872e-01, 7.71132400e-05],\n",
              "       [9.99014854e-01, 9.85092833e-04],\n",
              "       [2.17936929e-07, 9.99999762e-01],\n",
              "       [2.93524645e-05, 9.99970675e-01],\n",
              "       [1.96942210e-07, 9.99999762e-01],\n",
              "       [1.56795394e-08, 1.00000000e+00],\n",
              "       [4.41292686e-05, 9.99955893e-01],\n",
              "       [9.99916196e-01, 8.37928383e-05],\n",
              "       [6.30524073e-06, 9.99993682e-01],\n",
              "       [3.73380147e-02, 9.62662041e-01],\n",
              "       [2.58839173e-05, 9.99974132e-01],\n",
              "       [2.33618048e-05, 9.99976635e-01],\n",
              "       [9.98396933e-01, 1.60307705e-03],\n",
              "       [9.98332798e-01, 1.66717498e-03],\n",
              "       [9.99272048e-01, 7.27962644e-04],\n",
              "       [1.39081055e-06, 9.99998569e-01],\n",
              "       [9.89386082e-01, 1.06139053e-02],\n",
              "       [9.99881625e-01, 1.18363510e-04],\n",
              "       [1.31406676e-04, 9.99868631e-01],\n",
              "       [5.92848241e-01, 4.07151729e-01],\n",
              "       [1.05607114e-06, 9.99998927e-01],\n",
              "       [5.86596229e-07, 9.99999404e-01],\n",
              "       [9.99980807e-01, 1.92221614e-05],\n",
              "       [9.97683883e-01, 2.31613102e-03],\n",
              "       [6.60999835e-01, 3.39000165e-01],\n",
              "       [3.21903644e-06, 9.99996781e-01],\n",
              "       [8.97458960e-07, 9.99999046e-01],\n",
              "       [9.99918699e-01, 8.13104780e-05],\n",
              "       [9.90848184e-01, 9.15186014e-03],\n",
              "       [8.49697983e-07, 9.99999166e-01],\n",
              "       [9.99963164e-01, 3.68393485e-05],\n",
              "       [9.99982119e-01, 1.79387789e-05],\n",
              "       [4.22130179e-05, 9.99957800e-01],\n",
              "       [9.99918818e-01, 8.11687059e-05],\n",
              "       [1.00000000e+00, 1.03161268e-09],\n",
              "       [7.92061670e-08, 9.99999881e-01],\n",
              "       [9.99973655e-01, 2.63801739e-05],\n",
              "       [9.99994397e-01, 5.64415404e-06],\n",
              "       [2.55486862e-06, 9.99997497e-01],\n",
              "       [9.99632001e-01, 3.67924862e-04],\n",
              "       [4.48883235e-01, 5.51116765e-01],\n",
              "       [6.57311557e-06, 9.99993443e-01],\n",
              "       [9.91672337e-01, 8.32770299e-03],\n",
              "       [2.72282978e-05, 9.99972820e-01],\n",
              "       [9.41688850e-05, 9.99905825e-01],\n",
              "       [1.93318028e-05, 9.99980688e-01],\n",
              "       [4.56346897e-05, 9.99954343e-01],\n",
              "       [4.45098791e-04, 9.99554932e-01],\n",
              "       [2.80455038e-06, 9.99997139e-01],\n",
              "       [2.36715982e-06, 9.99997616e-01],\n",
              "       [9.85017061e-01, 1.49829192e-02],\n",
              "       [9.99927878e-01, 7.20837270e-05],\n",
              "       [3.32494182e-07, 9.99999642e-01],\n",
              "       [9.54443021e-05, 9.99904513e-01],\n",
              "       [9.99986410e-01, 1.36152876e-05],\n",
              "       [9.99887228e-01, 1.12771995e-04],\n",
              "       [9.99122202e-01, 8.77840037e-04],\n",
              "       [9.16341634e-08, 9.99999881e-01],\n",
              "       [9.45893466e-01, 5.41065782e-02],\n",
              "       [4.19610878e-05, 9.99958038e-01],\n",
              "       [1.16388210e-05, 9.99988317e-01],\n",
              "       [2.01456991e-04, 9.99798596e-01],\n",
              "       [1.24215006e-07, 9.99999881e-01],\n",
              "       [4.63319552e-08, 1.00000000e+00],\n",
              "       [9.99808013e-01, 1.92011532e-04],\n",
              "       [3.14548174e-06, 9.99996901e-01],\n",
              "       [9.97115612e-01, 2.88439239e-03],\n",
              "       [9.76481855e-01, 2.35181563e-02],\n",
              "       [9.99980927e-01, 1.90164010e-05],\n",
              "       [9.26953703e-07, 9.99999046e-01],\n",
              "       [9.99974012e-01, 2.59890876e-05],\n",
              "       [1.65516497e-07, 9.99999881e-01],\n",
              "       [1.06606727e-07, 9.99999881e-01],\n",
              "       [3.58765210e-05, 9.99964118e-01],\n",
              "       [1.09550649e-06, 9.99998927e-01],\n",
              "       [1.29486980e-05, 9.99987006e-01],\n",
              "       [1.51159373e-04, 9.99848843e-01],\n",
              "       [9.99976754e-01, 2.32867114e-05],\n",
              "       [9.99430835e-01, 5.69163938e-04],\n",
              "       [3.58661669e-06, 9.99996424e-01],\n",
              "       [4.69558800e-05, 9.99953032e-01],\n",
              "       [3.69047279e-06, 9.99996305e-01],\n",
              "       [1.00000000e+00, 4.13322709e-10],\n",
              "       [6.70323974e-09, 1.00000000e+00],\n",
              "       [9.99326706e-01, 6.73260423e-04],\n",
              "       [9.99979377e-01, 2.05864017e-05],\n",
              "       [9.99936342e-01, 6.36593031e-05],\n",
              "       [9.99794304e-01, 2.05756922e-04],\n",
              "       [9.99731004e-01, 2.69040698e-04],\n",
              "       [2.03539571e-06, 9.99997973e-01],\n",
              "       [9.66963626e-07, 9.99999046e-01],\n",
              "       [1.00000000e+00, 4.87424430e-08],\n",
              "       [9.99610484e-01, 3.89556139e-04],\n",
              "       [1.02147778e-05, 9.99989748e-01],\n",
              "       [9.98515666e-01, 1.48432946e-03],\n",
              "       [6.89387671e-05, 9.99931097e-01],\n",
              "       [9.97169673e-01, 2.83036637e-03],\n",
              "       [2.53849830e-05, 9.99974608e-01],\n",
              "       [9.08184347e-07, 9.99999046e-01],\n",
              "       [9.96872962e-01, 3.12712090e-03],\n",
              "       [4.62573180e-09, 1.00000000e+00],\n",
              "       [1.14656211e-06, 9.99998808e-01],\n",
              "       [4.42157170e-06, 9.99995589e-01],\n",
              "       [9.99427617e-01, 5.72346908e-04],\n",
              "       [9.96666968e-01, 3.33300163e-03],\n",
              "       [9.99946117e-01, 5.39345529e-05],\n",
              "       [1.80622053e-04, 9.99819458e-01],\n",
              "       [6.11855835e-03, 9.93881464e-01],\n",
              "       [9.99290466e-01, 7.09562271e-04],\n",
              "       [4.18065520e-06, 9.99995828e-01],\n",
              "       [1.87872317e-07, 9.99999762e-01],\n",
              "       [9.99385834e-01, 6.14177436e-04],\n",
              "       [9.75566566e-01, 2.44335029e-02],\n",
              "       [9.99752939e-01, 2.47052609e-04],\n",
              "       [8.26264381e-01, 1.73735559e-01],\n",
              "       [9.99945045e-01, 5.49301658e-05],\n",
              "       [9.42280258e-06, 9.99990582e-01],\n",
              "       [9.99566019e-01, 4.33972018e-04],\n",
              "       [9.99854565e-01, 1.45359940e-04],\n",
              "       [9.99950290e-01, 4.97522415e-05],\n",
              "       [2.06033335e-04, 9.99793947e-01],\n",
              "       [2.77784670e-06, 9.99997258e-01],\n",
              "       [2.72726112e-07, 9.99999762e-01],\n",
              "       [4.47089724e-06, 9.99995470e-01],\n",
              "       [9.99761999e-01, 2.37972417e-04],\n",
              "       [1.74775487e-04, 9.99825299e-01],\n",
              "       [9.46659839e-07, 9.99999046e-01],\n",
              "       [9.99959111e-01, 4.08634296e-05],\n",
              "       [9.99986887e-01, 1.30978215e-05],\n",
              "       [9.99982476e-01, 1.75145815e-05],\n",
              "       [7.57127225e-07, 9.99999285e-01],\n",
              "       [9.85522985e-01, 1.44770453e-02],\n",
              "       [3.81746332e-07, 9.99999642e-01],\n",
              "       [9.97465014e-01, 2.53501860e-03],\n",
              "       [1.75389823e-06, 9.99998212e-01],\n",
              "       [1.00000000e+00, 4.25412872e-10],\n",
              "       [9.99878407e-01, 1.21624318e-04],\n",
              "       [2.03572235e-05, 9.99979615e-01],\n",
              "       [9.99827206e-01, 1.72843269e-04],\n",
              "       [4.42594057e-07, 9.99999523e-01],\n",
              "       [9.99986649e-01, 1.32924115e-05],\n",
              "       [3.52883262e-07, 9.99999642e-01],\n",
              "       [9.99953747e-01, 4.62768039e-05],\n",
              "       [9.99898553e-01, 1.01414240e-04],\n",
              "       [9.99869227e-01, 1.30744244e-04],\n",
              "       [8.30647241e-06, 9.99991655e-01],\n",
              "       [9.48032721e-06, 9.99990463e-01],\n",
              "       [3.28612659e-05, 9.99967098e-01],\n",
              "       [9.99774158e-01, 2.25817304e-04],\n",
              "       [6.93204250e-09, 1.00000000e+00],\n",
              "       [7.47705371e-06, 9.99992490e-01],\n",
              "       [3.47074297e-06, 9.99996543e-01],\n",
              "       [2.81787743e-06, 9.99997139e-01],\n",
              "       [1.40010128e-02, 9.85998988e-01],\n",
              "       [6.46278204e-05, 9.99935389e-01],\n",
              "       [1.15274190e-07, 9.99999881e-01],\n",
              "       [2.23568077e-06, 9.99997735e-01],\n",
              "       [3.55210574e-03, 9.96447921e-01],\n",
              "       [9.81978238e-01, 1.80217959e-02],\n",
              "       [4.90014429e-07, 9.99999523e-01],\n",
              "       [5.02545445e-05, 9.99949694e-01],\n",
              "       [9.96704400e-01, 3.29557969e-03],\n",
              "       [1.09086920e-06, 9.99998927e-01],\n",
              "       [9.19352544e-07, 9.99999046e-01],\n",
              "       [2.15133241e-05, 9.99978542e-01],\n",
              "       [9.07716822e-06, 9.99990940e-01],\n",
              "       [5.02673967e-04, 9.99497294e-01],\n",
              "       [9.78569508e-01, 2.14304868e-02],\n",
              "       [9.98996556e-01, 1.00346946e-03],\n",
              "       [9.99938488e-01, 6.15397075e-05],\n",
              "       [2.22855192e-06, 9.99997735e-01],\n",
              "       [9.99899983e-01, 1.00005149e-04],\n",
              "       [9.99997258e-01, 2.79779965e-06],\n",
              "       [9.99679208e-01, 3.20848718e-04],\n",
              "       [2.69716935e-07, 9.99999762e-01],\n",
              "       [1.46877980e-07, 9.99999881e-01],\n",
              "       [9.44935024e-01, 5.50649650e-02],\n",
              "       [1.00000000e+00, 5.93869576e-09],\n",
              "       [9.99965429e-01, 3.45333319e-05],\n",
              "       [9.99950767e-01, 4.92283798e-05],\n",
              "       [9.99146938e-01, 8.53083504e-04],\n",
              "       [9.99720633e-01, 2.79356056e-04],\n",
              "       [9.72029507e-01, 2.79704183e-02],\n",
              "       [6.35728182e-04, 9.99364316e-01],\n",
              "       [5.91916250e-06, 9.99994040e-01],\n",
              "       [9.90647614e-01, 9.35232360e-03],\n",
              "       [5.21904781e-07, 9.99999523e-01],\n",
              "       [9.99756753e-01, 2.43241899e-04],\n",
              "       [9.98515189e-01, 1.48478174e-03],\n",
              "       [9.99918938e-01, 8.10872516e-05],\n",
              "       [8.49851972e-07, 9.99999166e-01],\n",
              "       [9.80438709e-01, 1.95613112e-02],\n",
              "       [2.21288303e-07, 9.99999762e-01],\n",
              "       [9.99996543e-01, 3.48372259e-06],\n",
              "       [9.17210418e-05, 9.99908328e-01],\n",
              "       [2.39669425e-05, 9.99976039e-01],\n",
              "       [9.84985709e-01, 1.50142526e-02],\n",
              "       [9.43461716e-01, 5.65383062e-02],\n",
              "       [9.98546422e-01, 1.45358942e-03],\n",
              "       [9.99998093e-01, 1.89068430e-06],\n",
              "       [2.92578193e-07, 9.99999762e-01],\n",
              "       [1.59856583e-07, 9.99999881e-01],\n",
              "       [3.02032277e-07, 9.99999642e-01],\n",
              "       [9.99873757e-01, 1.26268889e-04],\n",
              "       [9.96435642e-01, 3.56441899e-03],\n",
              "       [9.99923468e-01, 7.65789518e-05],\n",
              "       [9.99999881e-01, 1.01338500e-07],\n",
              "       [1.00000000e+00, 5.45266161e-08],\n",
              "       [2.44693598e-04, 9.99755323e-01],\n",
              "       [1.00000000e+00, 8.20057966e-10],\n",
              "       [7.26492928e-08, 9.99999881e-01],\n",
              "       [1.70238835e-07, 9.99999881e-01],\n",
              "       [5.44058639e-06, 9.99994516e-01],\n",
              "       [9.99980569e-01, 1.94870445e-05],\n",
              "       [9.99994755e-01, 5.25531050e-06],\n",
              "       [3.70863054e-05, 9.99962926e-01],\n",
              "       [3.28335154e-05, 9.99967217e-01],\n",
              "       [9.99673367e-01, 3.26588284e-04],\n",
              "       [8.46874627e-07, 9.99999166e-01],\n",
              "       [9.99915838e-01, 8.41088113e-05],\n",
              "       [2.90146749e-03, 9.97098565e-01],\n",
              "       [1.86151965e-07, 9.99999762e-01],\n",
              "       [8.03162402e-04, 9.99196827e-01],\n",
              "       [9.99953389e-01, 4.65903031e-05],\n",
              "       [2.44865396e-06, 9.99997497e-01],\n",
              "       [1.47227634e-04, 9.99852777e-01],\n",
              "       [9.95717108e-01, 4.28291783e-03],\n",
              "       [7.11611301e-06, 9.99992847e-01],\n",
              "       [9.79396224e-01, 2.06037723e-02],\n",
              "       [1.00000000e+00, 4.53238087e-08],\n",
              "       [9.78110015e-01, 2.18900219e-02],\n",
              "       [1.69371816e-07, 9.99999881e-01],\n",
              "       [9.99150395e-01, 8.49625270e-04],\n",
              "       [4.22371977e-06, 9.99995828e-01],\n",
              "       [9.95216012e-01, 4.78399359e-03],\n",
              "       [1.00000000e+00, 1.71823178e-08],\n",
              "       [9.96988833e-01, 3.01118381e-03],\n",
              "       [9.99985933e-01, 1.40902357e-05],\n",
              "       [2.40416142e-07, 9.99999762e-01],\n",
              "       [9.99285519e-01, 7.14521913e-04]], dtype=float32)"
            ]
          },
          "metadata": {
            "tags": []
          },
          "execution_count": 19
        }
      ]
    },
    {
      "cell_type": "code",
      "metadata": {
        "id": "x2Ckhd4NOv2o"
      },
      "source": [
        "import numpy as np\n",
        "y_pred = np.argmax(y_pred, axis=1)"
      ],
      "execution_count": 20,
      "outputs": []
    },
    {
      "cell_type": "code",
      "metadata": {
        "colab": {
          "base_uri": "https://localhost:8080/"
        },
        "id": "wtpOn9QvO-XC",
        "outputId": "50fd4586-fd60-42cc-a28a-a2a488ea41db"
      },
      "source": [
        "y_pred"
      ],
      "execution_count": 21,
      "outputs": [
        {
          "output_type": "execute_result",
          "data": {
            "text/plain": [
              "array([1, 1, 0, 1, 0, 0, 0, 0, 1, 0, 1, 0, 0, 0, 1, 0, 0, 0, 0, 0, 0, 1,\n",
              "       1, 1, 1, 1, 0, 1, 0, 0, 1, 0, 1, 0, 1, 1, 1, 1, 0, 0, 0, 0, 1, 1,\n",
              "       1, 1, 1, 0, 1, 1, 1, 1, 0, 0, 0, 1, 0, 0, 1, 0, 1, 1, 0, 0, 0, 1,\n",
              "       1, 0, 0, 1, 0, 0, 1, 0, 0, 1, 0, 0, 1, 0, 1, 1, 0, 1, 1, 1, 1, 1,\n",
              "       1, 1, 0, 0, 1, 1, 0, 0, 0, 1, 0, 1, 1, 1, 1, 1, 0, 1, 0, 0, 0, 1,\n",
              "       0, 1, 1, 1, 1, 1, 1, 0, 0, 1, 1, 1, 0, 1, 0, 0, 0, 0, 0, 1, 1, 0,\n",
              "       0, 1, 0, 1, 0, 1, 1, 0, 1, 1, 1, 0, 0, 0, 1, 1, 0, 1, 1, 0, 0, 0,\n",
              "       0, 0, 1, 0, 0, 0, 1, 1, 1, 1, 0, 1, 1, 0, 0, 0, 1, 0, 1, 0, 1, 0,\n",
              "       0, 1, 0, 1, 0, 1, 0, 0, 0, 1, 1, 1, 0, 1, 1, 1, 1, 1, 1, 1, 1, 1,\n",
              "       0, 1, 1, 0, 1, 1, 1, 1, 1, 0, 0, 0, 1, 0, 0, 0, 1, 1, 0, 0, 0, 0,\n",
              "       0, 0, 0, 1, 1, 0, 1, 0, 0, 0, 1, 0, 1, 0, 1, 1, 0, 0, 0, 0, 1, 1,\n",
              "       1, 0, 0, 0, 0, 0, 1, 0, 1, 1, 1, 0, 0, 1, 1, 0, 1, 0, 1, 1, 1, 0,\n",
              "       1, 1, 0, 1, 0, 0, 0, 1, 0, 1, 0, 0, 0, 0, 1, 0])"
            ]
          },
          "metadata": {
            "tags": []
          },
          "execution_count": 21
        }
      ]
    },
    {
      "cell_type": "code",
      "metadata": {
        "id": "0i0LN7wHO_rn"
      },
      "source": [
        "from tensorflow.keras.models import load_model\n",
        "from tensorflow.keras.preprocessing import image"
      ],
      "execution_count": 23,
      "outputs": []
    },
    {
      "cell_type": "code",
      "metadata": {
        "id": "RLSHdueqPDG0"
      },
      "source": [
        "model=load_model('model_vgg19.h5')"
      ],
      "execution_count": 24,
      "outputs": []
    },
    {
      "cell_type": "code",
      "metadata": {
        "id": "LH7kOhvFPGRV"
      },
      "source": [
        "img=image.load_img('/content/drive/MyDrive/New_Dataset/test/covid+/08ed451c576ee00935ee178ec85c57_jumbo-1.jpeg',target_size=(224,224))"
      ],
      "execution_count": 26,
      "outputs": []
    },
    {
      "cell_type": "code",
      "metadata": {
        "colab": {
          "base_uri": "https://localhost:8080/"
        },
        "id": "5AFhHeQGPKR5",
        "outputId": "bdc59bf9-6cc0-4829-be3a-3683164ae101"
      },
      "source": [
        "x=image.img_to_array(img)\n",
        "x"
      ],
      "execution_count": 27,
      "outputs": [
        {
          "output_type": "execute_result",
          "data": {
            "text/plain": [
              "array([[[0., 0., 0.],\n",
              "        [0., 0., 0.],\n",
              "        [0., 0., 0.],\n",
              "        ...,\n",
              "        [0., 0., 0.],\n",
              "        [0., 0., 0.],\n",
              "        [0., 0., 0.]],\n",
              "\n",
              "       [[0., 0., 0.],\n",
              "        [0., 0., 0.],\n",
              "        [0., 0., 0.],\n",
              "        ...,\n",
              "        [0., 0., 0.],\n",
              "        [0., 0., 0.],\n",
              "        [0., 0., 0.]],\n",
              "\n",
              "       [[0., 0., 0.],\n",
              "        [0., 0., 0.],\n",
              "        [0., 0., 0.],\n",
              "        ...,\n",
              "        [0., 0., 0.],\n",
              "        [0., 0., 0.],\n",
              "        [0., 0., 0.]],\n",
              "\n",
              "       ...,\n",
              "\n",
              "       [[0., 0., 0.],\n",
              "        [0., 0., 0.],\n",
              "        [0., 0., 0.],\n",
              "        ...,\n",
              "        [0., 0., 0.],\n",
              "        [0., 0., 0.],\n",
              "        [0., 0., 0.]],\n",
              "\n",
              "       [[0., 0., 0.],\n",
              "        [0., 0., 0.],\n",
              "        [0., 0., 0.],\n",
              "        ...,\n",
              "        [0., 0., 0.],\n",
              "        [1., 1., 1.],\n",
              "        [0., 0., 0.]],\n",
              "\n",
              "       [[0., 0., 0.],\n",
              "        [0., 0., 0.],\n",
              "        [0., 0., 0.],\n",
              "        ...,\n",
              "        [0., 0., 0.],\n",
              "        [0., 0., 0.],\n",
              "        [0., 0., 0.]]], dtype=float32)"
            ]
          },
          "metadata": {
            "tags": []
          },
          "execution_count": 27
        }
      ]
    },
    {
      "cell_type": "code",
      "metadata": {
        "colab": {
          "base_uri": "https://localhost:8080/"
        },
        "id": "gNJ49Wb0PWPG",
        "outputId": "3feb7b60-0f40-428e-f541-04b8f9e12b91"
      },
      "source": [
        "x.shape"
      ],
      "execution_count": 28,
      "outputs": [
        {
          "output_type": "execute_result",
          "data": {
            "text/plain": [
              "(224, 224, 3)"
            ]
          },
          "metadata": {
            "tags": []
          },
          "execution_count": 28
        }
      ]
    },
    {
      "cell_type": "code",
      "metadata": {
        "id": "OIal_57SPY_Q"
      },
      "source": [
        "x=x/255"
      ],
      "execution_count": 29,
      "outputs": []
    },
    {
      "cell_type": "code",
      "metadata": {
        "colab": {
          "base_uri": "https://localhost:8080/"
        },
        "id": "Om3k4mUKPauO",
        "outputId": "d809d35e-8d73-4231-d772-475df3080ffa"
      },
      "source": [
        "x=np.expand_dims(x,axis=0)\n",
        "img_data=preprocess_input(x)\n",
        "img_data.shape"
      ],
      "execution_count": 30,
      "outputs": [
        {
          "output_type": "execute_result",
          "data": {
            "text/plain": [
              "(1, 224, 224, 3)"
            ]
          },
          "metadata": {
            "tags": []
          },
          "execution_count": 30
        }
      ]
    },
    {
      "cell_type": "code",
      "metadata": {
        "colab": {
          "base_uri": "https://localhost:8080/"
        },
        "id": "SRbkvkTfPcaI",
        "outputId": "d99eae4c-3aa7-41f4-fc95-415a7f8da68b"
      },
      "source": [
        "model.predict(img_data)"
      ],
      "execution_count": 31,
      "outputs": [
        {
          "output_type": "execute_result",
          "data": {
            "text/plain": [
              "array([[9.9971575e-01, 2.8426200e-04]], dtype=float32)"
            ]
          },
          "metadata": {
            "tags": []
          },
          "execution_count": 31
        }
      ]
    },
    {
      "cell_type": "code",
      "metadata": {
        "id": "hGinwzOYPeEF"
      },
      "source": [
        "a=np.argmax(model.predict(img_data), axis=1)"
      ],
      "execution_count": 32,
      "outputs": []
    },
    {
      "cell_type": "code",
      "metadata": {
        "colab": {
          "base_uri": "https://localhost:8080/"
        },
        "id": "L7upplW7Pgtp",
        "outputId": "345d60c8-73b3-4270-a951-adf87b23a3c3"
      },
      "source": [
        "a"
      ],
      "execution_count": 33,
      "outputs": [
        {
          "output_type": "execute_result",
          "data": {
            "text/plain": [
              "array([0])"
            ]
          },
          "metadata": {
            "tags": []
          },
          "execution_count": 33
        }
      ]
    },
    {
      "cell_type": "code",
      "metadata": {
        "colab": {
          "base_uri": "https://localhost:8080/"
        },
        "id": "3srIIuxsPhBj",
        "outputId": "a6b66036-f9ee-4d11-90a5-30de32eadd84"
      },
      "source": [
        "if(a==1):\n",
        "    print(\"normal\")\n",
        "else:\n",
        "    print(\"Covid Positive\")"
      ],
      "execution_count": 34,
      "outputs": [
        {
          "output_type": "stream",
          "text": [
            "Covid Positive\n"
          ],
          "name": "stdout"
        }
      ]
    },
    {
      "cell_type": "code",
      "metadata": {
        "id": "aoRL0xNKP-1w"
      },
      "source": [
        ""
      ],
      "execution_count": null,
      "outputs": []
    }
  ]
}