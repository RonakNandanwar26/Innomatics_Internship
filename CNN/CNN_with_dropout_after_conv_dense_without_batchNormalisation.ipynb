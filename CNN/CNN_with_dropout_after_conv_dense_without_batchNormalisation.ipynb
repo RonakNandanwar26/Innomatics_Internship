{
 "cells": [
  {
   "cell_type": "code",
   "execution_count": 1,
   "metadata": {
    "id": "nma_0bZPyUmL"
   },
   "outputs": [],
   "source": [
    "from tensorflow import keras\n",
    "import numpy as np"
   ]
  },
  {
   "cell_type": "code",
   "execution_count": 2,
   "metadata": {
    "id": "bmPb-FmVyX2Z"
   },
   "outputs": [],
   "source": [
    "cifar10 = keras.datasets.cifar10"
   ]
  },
  {
   "cell_type": "code",
   "execution_count": 3,
   "metadata": {
    "colab": {
     "base_uri": "https://localhost:8080/"
    },
    "id": "afwMuEJCyfu2",
    "outputId": "89de1ec1-ec29-4e77-f5ba-8a03c861ae96"
   },
   "outputs": [
    {
     "name": "stdout",
     "output_type": "stream",
     "text": [
      "Downloading data from https://www.cs.toronto.edu/~kriz/cifar-10-python.tar.gz\n",
      "170500096/170498071 [==============================] - 11s 0us/step\n"
     ]
    }
   ],
   "source": [
    "(x_train,y_train),(x_test,y_test) = cifar10.load_data()"
   ]
  },
  {
   "cell_type": "code",
   "execution_count": 4,
   "metadata": {
    "colab": {
     "base_uri": "https://localhost:8080/"
    },
    "id": "kf3lcwo1ykpZ",
    "outputId": "b35fb8b8-e096-458b-d9e0-037d342bbe89"
   },
   "outputs": [
    {
     "data": {
      "text/plain": [
       "(50000, 32, 32, 3)"
      ]
     },
     "execution_count": 4,
     "metadata": {
      "tags": []
     },
     "output_type": "execute_result"
    }
   ],
   "source": [
    "x_train.shape"
   ]
  },
  {
   "cell_type": "code",
   "execution_count": 5,
   "metadata": {
    "colab": {
     "base_uri": "https://localhost:8080/"
    },
    "id": "FGiFLUerynHO",
    "outputId": "6a3716de-329e-4094-f66e-54710b461834"
   },
   "outputs": [
    {
     "data": {
      "text/plain": [
       "(50000, 1)"
      ]
     },
     "execution_count": 5,
     "metadata": {
      "tags": []
     },
     "output_type": "execute_result"
    }
   ],
   "source": [
    "y_train.shape"
   ]
  },
  {
   "cell_type": "code",
   "execution_count": 6,
   "metadata": {
    "colab": {
     "base_uri": "https://localhost:8080/"
    },
    "id": "pNIsbJLXyoEJ",
    "outputId": "d25c1ab5-b5d3-4957-8a89-15c7b33415b1"
   },
   "outputs": [
    {
     "data": {
      "text/plain": [
       "array([[[[ 59,  62,  63],\n",
       "         [ 43,  46,  45],\n",
       "         [ 50,  48,  43],\n",
       "         ...,\n",
       "         [158, 132, 108],\n",
       "         [152, 125, 102],\n",
       "         [148, 124, 103]],\n",
       "\n",
       "        [[ 16,  20,  20],\n",
       "         [  0,   0,   0],\n",
       "         [ 18,   8,   0],\n",
       "         ...,\n",
       "         [123,  88,  55],\n",
       "         [119,  83,  50],\n",
       "         [122,  87,  57]],\n",
       "\n",
       "        [[ 25,  24,  21],\n",
       "         [ 16,   7,   0],\n",
       "         [ 49,  27,   8],\n",
       "         ...,\n",
       "         [118,  84,  50],\n",
       "         [120,  84,  50],\n",
       "         [109,  73,  42]],\n",
       "\n",
       "        ...,\n",
       "\n",
       "        [[208, 170,  96],\n",
       "         [201, 153,  34],\n",
       "         [198, 161,  26],\n",
       "         ...,\n",
       "         [160, 133,  70],\n",
       "         [ 56,  31,   7],\n",
       "         [ 53,  34,  20]],\n",
       "\n",
       "        [[180, 139,  96],\n",
       "         [173, 123,  42],\n",
       "         [186, 144,  30],\n",
       "         ...,\n",
       "         [184, 148,  94],\n",
       "         [ 97,  62,  34],\n",
       "         [ 83,  53,  34]],\n",
       "\n",
       "        [[177, 144, 116],\n",
       "         [168, 129,  94],\n",
       "         [179, 142,  87],\n",
       "         ...,\n",
       "         [216, 184, 140],\n",
       "         [151, 118,  84],\n",
       "         [123,  92,  72]]],\n",
       "\n",
       "\n",
       "       [[[154, 177, 187],\n",
       "         [126, 137, 136],\n",
       "         [105, 104,  95],\n",
       "         ...,\n",
       "         [ 91,  95,  71],\n",
       "         [ 87,  90,  71],\n",
       "         [ 79,  81,  70]],\n",
       "\n",
       "        [[140, 160, 169],\n",
       "         [145, 153, 154],\n",
       "         [125, 125, 118],\n",
       "         ...,\n",
       "         [ 96,  99,  78],\n",
       "         [ 77,  80,  62],\n",
       "         [ 71,  73,  61]],\n",
       "\n",
       "        [[140, 155, 164],\n",
       "         [139, 146, 149],\n",
       "         [115, 115, 112],\n",
       "         ...,\n",
       "         [ 79,  82,  64],\n",
       "         [ 68,  70,  55],\n",
       "         [ 67,  69,  55]],\n",
       "\n",
       "        ...,\n",
       "\n",
       "        [[175, 167, 166],\n",
       "         [156, 154, 160],\n",
       "         [154, 160, 170],\n",
       "         ...,\n",
       "         [ 42,  34,  36],\n",
       "         [ 61,  53,  57],\n",
       "         [ 93,  83,  91]],\n",
       "\n",
       "        [[165, 154, 128],\n",
       "         [156, 152, 130],\n",
       "         [159, 161, 142],\n",
       "         ...,\n",
       "         [103,  93,  96],\n",
       "         [123, 114, 120],\n",
       "         [131, 121, 131]],\n",
       "\n",
       "        [[163, 148, 120],\n",
       "         [158, 148, 122],\n",
       "         [163, 156, 133],\n",
       "         ...,\n",
       "         [143, 133, 139],\n",
       "         [143, 134, 142],\n",
       "         [143, 133, 144]]],\n",
       "\n",
       "\n",
       "       [[[255, 255, 255],\n",
       "         [253, 253, 253],\n",
       "         [253, 253, 253],\n",
       "         ...,\n",
       "         [253, 253, 253],\n",
       "         [253, 253, 253],\n",
       "         [253, 253, 253]],\n",
       "\n",
       "        [[255, 255, 255],\n",
       "         [255, 255, 255],\n",
       "         [255, 255, 255],\n",
       "         ...,\n",
       "         [255, 255, 255],\n",
       "         [255, 255, 255],\n",
       "         [255, 255, 255]],\n",
       "\n",
       "        [[255, 255, 255],\n",
       "         [254, 254, 254],\n",
       "         [254, 254, 254],\n",
       "         ...,\n",
       "         [254, 254, 254],\n",
       "         [254, 254, 254],\n",
       "         [254, 254, 254]],\n",
       "\n",
       "        ...,\n",
       "\n",
       "        [[113, 120, 112],\n",
       "         [111, 118, 111],\n",
       "         [105, 112, 106],\n",
       "         ...,\n",
       "         [ 72,  81,  80],\n",
       "         [ 72,  80,  79],\n",
       "         [ 72,  80,  79]],\n",
       "\n",
       "        [[111, 118, 110],\n",
       "         [104, 111, 104],\n",
       "         [ 99, 106,  98],\n",
       "         ...,\n",
       "         [ 68,  75,  73],\n",
       "         [ 70,  76,  75],\n",
       "         [ 78,  84,  82]],\n",
       "\n",
       "        [[106, 113, 105],\n",
       "         [ 99, 106,  98],\n",
       "         [ 95, 102,  94],\n",
       "         ...,\n",
       "         [ 78,  85,  83],\n",
       "         [ 79,  85,  83],\n",
       "         [ 80,  86,  84]]],\n",
       "\n",
       "\n",
       "       ...,\n",
       "\n",
       "\n",
       "       [[[ 35, 178, 235],\n",
       "         [ 40, 176, 239],\n",
       "         [ 42, 176, 241],\n",
       "         ...,\n",
       "         [ 99, 177, 219],\n",
       "         [ 79, 147, 197],\n",
       "         [ 89, 148, 189]],\n",
       "\n",
       "        [[ 57, 182, 234],\n",
       "         [ 44, 184, 250],\n",
       "         [ 50, 183, 240],\n",
       "         ...,\n",
       "         [156, 182, 200],\n",
       "         [141, 177, 206],\n",
       "         [116, 149, 175]],\n",
       "\n",
       "        [[ 98, 197, 237],\n",
       "         [ 64, 189, 252],\n",
       "         [ 69, 192, 245],\n",
       "         ...,\n",
       "         [188, 195, 206],\n",
       "         [119, 135, 147],\n",
       "         [ 61,  79,  90]],\n",
       "\n",
       "        ...,\n",
       "\n",
       "        [[ 73,  79,  77],\n",
       "         [ 53,  63,  68],\n",
       "         [ 54,  68,  80],\n",
       "         ...,\n",
       "         [ 17,  40,  64],\n",
       "         [ 21,  36,  51],\n",
       "         [ 33,  48,  49]],\n",
       "\n",
       "        [[ 61,  68,  75],\n",
       "         [ 55,  70,  86],\n",
       "         [ 57,  79, 103],\n",
       "         ...,\n",
       "         [ 24,  48,  72],\n",
       "         [ 17,  35,  53],\n",
       "         [  7,  23,  32]],\n",
       "\n",
       "        [[ 44,  56,  73],\n",
       "         [ 46,  66,  88],\n",
       "         [ 49,  77, 105],\n",
       "         ...,\n",
       "         [ 27,  52,  77],\n",
       "         [ 21,  43,  66],\n",
       "         [ 12,  31,  50]]],\n",
       "\n",
       "\n",
       "       [[[189, 211, 240],\n",
       "         [186, 208, 236],\n",
       "         [185, 207, 235],\n",
       "         ...,\n",
       "         [175, 195, 224],\n",
       "         [172, 194, 222],\n",
       "         [169, 194, 220]],\n",
       "\n",
       "        [[194, 210, 239],\n",
       "         [191, 207, 236],\n",
       "         [190, 206, 235],\n",
       "         ...,\n",
       "         [173, 192, 220],\n",
       "         [171, 191, 218],\n",
       "         [167, 190, 216]],\n",
       "\n",
       "        [[208, 219, 244],\n",
       "         [205, 216, 240],\n",
       "         [204, 215, 239],\n",
       "         ...,\n",
       "         [175, 191, 217],\n",
       "         [172, 190, 216],\n",
       "         [169, 191, 215]],\n",
       "\n",
       "        ...,\n",
       "\n",
       "        [[207, 199, 181],\n",
       "         [203, 195, 175],\n",
       "         [203, 196, 173],\n",
       "         ...,\n",
       "         [135, 132, 127],\n",
       "         [162, 158, 150],\n",
       "         [168, 163, 151]],\n",
       "\n",
       "        [[198, 190, 170],\n",
       "         [189, 181, 159],\n",
       "         [180, 172, 147],\n",
       "         ...,\n",
       "         [178, 171, 160],\n",
       "         [175, 169, 156],\n",
       "         [175, 169, 154]],\n",
       "\n",
       "        [[198, 189, 173],\n",
       "         [189, 181, 162],\n",
       "         [178, 170, 149],\n",
       "         ...,\n",
       "         [195, 184, 169],\n",
       "         [196, 189, 171],\n",
       "         [195, 190, 171]]],\n",
       "\n",
       "\n",
       "       [[[229, 229, 239],\n",
       "         [236, 237, 247],\n",
       "         [234, 236, 247],\n",
       "         ...,\n",
       "         [217, 219, 233],\n",
       "         [221, 223, 234],\n",
       "         [222, 223, 233]],\n",
       "\n",
       "        [[222, 221, 229],\n",
       "         [239, 239, 249],\n",
       "         [233, 234, 246],\n",
       "         ...,\n",
       "         [223, 223, 236],\n",
       "         [227, 228, 238],\n",
       "         [210, 211, 220]],\n",
       "\n",
       "        [[213, 206, 211],\n",
       "         [234, 232, 239],\n",
       "         [231, 233, 244],\n",
       "         ...,\n",
       "         [220, 220, 232],\n",
       "         [220, 219, 232],\n",
       "         [202, 203, 215]],\n",
       "\n",
       "        ...,\n",
       "\n",
       "        [[150, 143, 135],\n",
       "         [140, 135, 127],\n",
       "         [132, 127, 120],\n",
       "         ...,\n",
       "         [224, 222, 218],\n",
       "         [230, 228, 225],\n",
       "         [241, 241, 238]],\n",
       "\n",
       "        [[137, 132, 126],\n",
       "         [130, 127, 120],\n",
       "         [125, 121, 115],\n",
       "         ...,\n",
       "         [181, 180, 178],\n",
       "         [202, 201, 198],\n",
       "         [212, 211, 207]],\n",
       "\n",
       "        [[122, 119, 114],\n",
       "         [118, 116, 110],\n",
       "         [120, 116, 111],\n",
       "         ...,\n",
       "         [179, 177, 173],\n",
       "         [164, 164, 162],\n",
       "         [163, 163, 161]]]], dtype=uint8)"
      ]
     },
     "execution_count": 6,
     "metadata": {
      "tags": []
     },
     "output_type": "execute_result"
    }
   ],
   "source": [
    "x_train\n",
    "# ranges from 0 to 255"
   ]
  },
  {
   "cell_type": "code",
   "execution_count": 7,
   "metadata": {
    "id": "ZrVmSIZdyrT3"
   },
   "outputs": [],
   "source": [
    "# scaling down the data \n",
    "x_train = x_train/255\n",
    "x_test = x_test/255"
   ]
  },
  {
   "cell_type": "code",
   "execution_count": 8,
   "metadata": {
    "id": "8arg1d4Gy2LW"
   },
   "outputs": [],
   "source": [
    "from keras.utils import np_utils\n",
    "from keras.models import Sequential \n",
    "from keras.layers import Dense,Dropout,Conv2D,Flatten"
   ]
  },
  {
   "cell_type": "code",
   "execution_count": 9,
   "metadata": {
    "colab": {
     "base_uri": "https://localhost:8080/"
    },
    "id": "5Gbgosyh2FYI",
    "outputId": "5bacce3a-9d83-4666-b00c-572a7c39587d"
   },
   "outputs": [
    {
     "data": {
      "text/plain": [
       "array([0., 0., 0., 0., 0., 0., 0., 0., 0., 1.], dtype=float32)"
      ]
     },
     "execution_count": 9,
     "metadata": {
      "tags": []
     },
     "output_type": "execute_result"
    }
   ],
   "source": [
    "y_train = np_utils.to_categorical(y_train)\n",
    "y_test = np_utils.to_categorical(y_test)\n",
    "y_train[1]"
   ]
  },
  {
   "cell_type": "code",
   "execution_count": 10,
   "metadata": {
    "id": "vrZZZogE04t6"
   },
   "outputs": [],
   "source": [
    "model = Sequential()"
   ]
  },
  {
   "cell_type": "code",
   "execution_count": 11,
   "metadata": {
    "id": "47Sh63yk1D3q"
   },
   "outputs": [],
   "source": [
    "model.add(Conv2D(64,kernel_size=(3,3),input_shape=(32,32,3),activation='relu',kernel_initializer='he_uniform'))\n",
    "model.add(Dropout(0.2))\n",
    "model.add(Conv2D(128,(3,3),activation='relu',kernel_initializer='he_uniform'))\n",
    "model.add(Flatten())\n",
    "model.add(Dropout(0.3))\n",
    "model.add(Dense(128,activation='relu',kernel_initializer='he_uniform'))\n",
    "model.add(Flatten())\n",
    "model.add(Dropout(0.5))\n",
    "model.add(Dense(10,activation='softmax'))"
   ]
  },
  {
   "cell_type": "code",
   "execution_count": 11,
   "metadata": {
    "id": "2HsD1_fwASdJ"
   },
   "outputs": [],
   "source": []
  },
  {
   "cell_type": "code",
   "execution_count": 12,
   "metadata": {
    "id": "Pvg-CmuK2aTg"
   },
   "outputs": [],
   "source": [
    "model.compile(optimizer='adam',loss='categorical_crossentropy',metrics=['accuracy'])"
   ]
  },
  {
   "cell_type": "code",
   "execution_count": 13,
   "metadata": {
    "colab": {
     "base_uri": "https://localhost:8080/"
    },
    "id": "ZJ1pI8skA5yZ",
    "outputId": "1c4fde8b-5daf-468f-9936-185b983d1a51"
   },
   "outputs": [
    {
     "name": "stdout",
     "output_type": "stream",
     "text": [
      "Model: \"sequential\"\n",
      "_________________________________________________________________\n",
      "Layer (type)                 Output Shape              Param #   \n",
      "=================================================================\n",
      "conv2d (Conv2D)              (None, 30, 30, 64)        1792      \n",
      "_________________________________________________________________\n",
      "dropout (Dropout)            (None, 30, 30, 64)        0         \n",
      "_________________________________________________________________\n",
      "conv2d_1 (Conv2D)            (None, 28, 28, 128)       73856     \n",
      "_________________________________________________________________\n",
      "flatten (Flatten)            (None, 100352)            0         \n",
      "_________________________________________________________________\n",
      "dropout_1 (Dropout)          (None, 100352)            0         \n",
      "_________________________________________________________________\n",
      "dense (Dense)                (None, 128)               12845184  \n",
      "_________________________________________________________________\n",
      "flatten_1 (Flatten)          (None, 128)               0         \n",
      "_________________________________________________________________\n",
      "dropout_2 (Dropout)          (None, 128)               0         \n",
      "_________________________________________________________________\n",
      "dense_1 (Dense)              (None, 10)                1290      \n",
      "=================================================================\n",
      "Total params: 12,922,122\n",
      "Trainable params: 12,922,122\n",
      "Non-trainable params: 0\n",
      "_________________________________________________________________\n"
     ]
    }
   ],
   "source": [
    "model.summary()"
   ]
  },
  {
   "cell_type": "code",
   "execution_count": 14,
   "metadata": {
    "id": "qYmgIyHtB2zw"
   },
   "outputs": [],
   "source": [
    "import tensorflow as tf\n",
    "tf.config.run_functions_eagerly(True)"
   ]
  },
  {
   "cell_type": "code",
   "execution_count": 15,
   "metadata": {
    "colab": {
     "base_uri": "https://localhost:8080/"
    },
    "id": "oNekly-d2mWb",
    "outputId": "52d1e1a4-cda2-43c7-f13d-677b3506f05a"
   },
   "outputs": [
    {
     "name": "stderr",
     "output_type": "stream",
     "text": [
      "/usr/local/lib/python3.7/dist-packages/tensorflow/python/data/ops/dataset_ops.py:3504: UserWarning: Even though the tf.config.experimental_run_functions_eagerly option is set, this option does not apply to tf.data functions. tf.data functions are still traced and executed as graphs.\n",
      "  \"Even though the tf.config.experimental_run_functions_eagerly \"\n"
     ]
    },
    {
     "name": "stdout",
     "output_type": "stream",
     "text": [
      "Epoch 1/50\n",
      "391/391 [==============================] - 38s 21ms/step - loss: 3.1830 - accuracy: 0.2396\n",
      "Epoch 2/50\n",
      "391/391 [==============================] - 8s 21ms/step - loss: 1.5335 - accuracy: 0.4430\n",
      "Epoch 3/50\n",
      "391/391 [==============================] - 8s 21ms/step - loss: 1.3908 - accuracy: 0.5011\n",
      "Epoch 4/50\n",
      "391/391 [==============================] - 8s 21ms/step - loss: 1.2592 - accuracy: 0.5441\n",
      "Epoch 5/50\n",
      "391/391 [==============================] - 8s 21ms/step - loss: 1.1515 - accuracy: 0.5847\n",
      "Epoch 6/50\n",
      "391/391 [==============================] - 8s 21ms/step - loss: 1.0578 - accuracy: 0.6183\n",
      "Epoch 7/50\n",
      "391/391 [==============================] - 8s 21ms/step - loss: 0.9838 - accuracy: 0.6432\n",
      "Epoch 8/50\n",
      "391/391 [==============================] - 8s 21ms/step - loss: 0.8992 - accuracy: 0.6739\n",
      "Epoch 9/50\n",
      "391/391 [==============================] - 8s 21ms/step - loss: 0.8356 - accuracy: 0.6935\n",
      "Epoch 10/50\n",
      "391/391 [==============================] - 8s 21ms/step - loss: 0.7765 - accuracy: 0.7157\n",
      "Epoch 11/50\n",
      "391/391 [==============================] - 8s 21ms/step - loss: 0.7135 - accuracy: 0.7397\n",
      "Epoch 12/50\n",
      "391/391 [==============================] - 8s 21ms/step - loss: 0.6579 - accuracy: 0.7534\n",
      "Epoch 13/50\n",
      "391/391 [==============================] - 8s 21ms/step - loss: 0.6202 - accuracy: 0.7745\n",
      "Epoch 14/50\n",
      "391/391 [==============================] - 8s 21ms/step - loss: 0.5723 - accuracy: 0.7894\n",
      "Epoch 15/50\n",
      "391/391 [==============================] - 8s 21ms/step - loss: 0.5342 - accuracy: 0.8020\n",
      "Epoch 16/50\n",
      "391/391 [==============================] - 8s 21ms/step - loss: 0.5083 - accuracy: 0.8094\n",
      "Epoch 17/50\n",
      "391/391 [==============================] - 8s 21ms/step - loss: 0.4764 - accuracy: 0.8213\n",
      "Epoch 18/50\n",
      "391/391 [==============================] - 8s 21ms/step - loss: 0.4427 - accuracy: 0.8344\n",
      "Epoch 19/50\n",
      "391/391 [==============================] - 8s 21ms/step - loss: 0.4327 - accuracy: 0.8357\n",
      "Epoch 20/50\n",
      "391/391 [==============================] - 8s 21ms/step - loss: 0.4085 - accuracy: 0.8491\n",
      "Epoch 21/50\n",
      "391/391 [==============================] - 8s 21ms/step - loss: 0.3963 - accuracy: 0.8502\n",
      "Epoch 22/50\n",
      "391/391 [==============================] - 8s 21ms/step - loss: 0.3770 - accuracy: 0.8575\n",
      "Epoch 23/50\n",
      "391/391 [==============================] - 8s 21ms/step - loss: 0.3591 - accuracy: 0.8663\n",
      "Epoch 24/50\n",
      "391/391 [==============================] - 8s 21ms/step - loss: 0.3430 - accuracy: 0.8705\n",
      "Epoch 25/50\n",
      "391/391 [==============================] - 8s 21ms/step - loss: 0.3364 - accuracy: 0.8726\n",
      "Epoch 26/50\n",
      "391/391 [==============================] - 8s 21ms/step - loss: 0.3337 - accuracy: 0.8773\n",
      "Epoch 27/50\n",
      "391/391 [==============================] - 8s 21ms/step - loss: 0.3187 - accuracy: 0.8807\n",
      "Epoch 28/50\n",
      "391/391 [==============================] - 8s 21ms/step - loss: 0.3049 - accuracy: 0.8851\n",
      "Epoch 29/50\n",
      "391/391 [==============================] - 8s 21ms/step - loss: 0.3024 - accuracy: 0.8879\n",
      "Epoch 30/50\n",
      "391/391 [==============================] - 8s 21ms/step - loss: 0.2915 - accuracy: 0.8890\n",
      "Epoch 31/50\n",
      "391/391 [==============================] - 8s 21ms/step - loss: 0.2837 - accuracy: 0.8960\n",
      "Epoch 32/50\n",
      "391/391 [==============================] - 8s 21ms/step - loss: 0.2775 - accuracy: 0.8958\n",
      "Epoch 33/50\n",
      "391/391 [==============================] - 8s 21ms/step - loss: 0.2729 - accuracy: 0.8968\n",
      "Epoch 34/50\n",
      "391/391 [==============================] - 8s 21ms/step - loss: 0.2618 - accuracy: 0.9011\n",
      "Epoch 35/50\n",
      "391/391 [==============================] - 8s 21ms/step - loss: 0.2606 - accuracy: 0.9032\n",
      "Epoch 36/50\n",
      "391/391 [==============================] - 8s 21ms/step - loss: 0.2559 - accuracy: 0.9059\n",
      "Epoch 37/50\n",
      "391/391 [==============================] - 8s 21ms/step - loss: 0.2457 - accuracy: 0.9088\n",
      "Epoch 38/50\n",
      "391/391 [==============================] - 8s 21ms/step - loss: 0.2546 - accuracy: 0.9069\n",
      "Epoch 39/50\n",
      "391/391 [==============================] - 8s 21ms/step - loss: 0.2488 - accuracy: 0.9069\n",
      "Epoch 40/50\n",
      "391/391 [==============================] - 8s 21ms/step - loss: 0.2376 - accuracy: 0.9107\n",
      "Epoch 41/50\n",
      "391/391 [==============================] - 8s 21ms/step - loss: 0.2324 - accuracy: 0.9122\n",
      "Epoch 42/50\n",
      "391/391 [==============================] - 8s 21ms/step - loss: 0.2271 - accuracy: 0.9159\n",
      "Epoch 43/50\n",
      "391/391 [==============================] - 8s 21ms/step - loss: 0.2321 - accuracy: 0.9144\n",
      "Epoch 44/50\n",
      "391/391 [==============================] - 8s 21ms/step - loss: 0.2227 - accuracy: 0.9167\n",
      "Epoch 45/50\n",
      "391/391 [==============================] - 8s 21ms/step - loss: 0.2192 - accuracy: 0.9183\n",
      "Epoch 46/50\n",
      "391/391 [==============================] - 8s 21ms/step - loss: 0.2152 - accuracy: 0.9214\n",
      "Epoch 47/50\n",
      "391/391 [==============================] - 8s 21ms/step - loss: 0.2145 - accuracy: 0.9210\n",
      "Epoch 48/50\n",
      "391/391 [==============================] - 8s 21ms/step - loss: 0.2075 - accuracy: 0.9234\n",
      "Epoch 49/50\n",
      "391/391 [==============================] - 8s 21ms/step - loss: 0.2103 - accuracy: 0.9202\n",
      "Epoch 50/50\n",
      "391/391 [==============================] - 8s 21ms/step - loss: 0.1957 - accuracy: 0.9281\n"
     ]
    },
    {
     "data": {
      "text/plain": [
       "<tensorflow.python.keras.callbacks.History at 0x7fb2d0309450>"
      ]
     },
     "execution_count": 15,
     "metadata": {
      "tags": []
     },
     "output_type": "execute_result"
    }
   ],
   "source": [
    "model.fit(x_train,y_train,batch_size=128,epochs=50)"
   ]
  },
  {
   "cell_type": "code",
   "execution_count": 16,
   "metadata": {
    "colab": {
     "base_uri": "https://localhost:8080/"
    },
    "id": "KW-RcQxA2spA",
    "outputId": "83974b5b-ed35-41df-eca7-a2ae7abcf6bc"
   },
   "outputs": [
    {
     "name": "stderr",
     "output_type": "stream",
     "text": [
      "/usr/local/lib/python3.7/dist-packages/tensorflow/python/data/ops/dataset_ops.py:3504: UserWarning: Even though the tf.config.experimental_run_functions_eagerly option is set, this option does not apply to tf.data functions. tf.data functions are still traced and executed as graphs.\n",
      "  \"Even though the tf.config.experimental_run_functions_eagerly \"\n"
     ]
    },
    {
     "name": "stdout",
     "output_type": "stream",
     "text": [
      "Test Loss and Test Accuracy [1.5233489274978638, 0.6876000165939331]\n"
     ]
    }
   ],
   "source": [
    "prediction_score = model.evaluate(x_test, y_test, verbose=0)\n",
    "\n",
    "print('Test Loss and Test Accuracy', prediction_score)"
   ]
  },
  {
   "cell_type": "code",
   "execution_count": null,
   "metadata": {
    "id": "iIj4VNTrWQY_"
   },
   "outputs": [],
   "source": []
  }
 ],
 "metadata": {
  "accelerator": "GPU",
  "colab": {
   "collapsed_sections": [],
   "name": "CNN_with_dropout_after_conv_dense_without_batchNormalisation.ipynb",
   "provenance": []
  },
  "kernelspec": {
   "display_name": "Python 3",
   "language": "python",
   "name": "python3"
  },
  "language_info": {
   "name": "python"
  }
 },
 "nbformat": 4,
 "nbformat_minor": 1
}
