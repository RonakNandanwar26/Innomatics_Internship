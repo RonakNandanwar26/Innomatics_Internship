{
 "cells": [
  {
   "cell_type": "code",
   "execution_count": 1,
   "metadata": {
    "id": "Jx51b9z4p4a-"
   },
   "outputs": [],
   "source": [
    "from tensorflow import keras\n",
    "import tensorflow as tf"
   ]
  },
  {
   "cell_type": "code",
   "execution_count": 2,
   "metadata": {
    "id": "xGduVczqqsgB"
   },
   "outputs": [],
   "source": [
    "cifar10 = keras.datasets.cifar10"
   ]
  },
  {
   "cell_type": "code",
   "execution_count": 3,
   "metadata": {
    "colab": {
     "base_uri": "https://localhost:8080/"
    },
    "id": "YQUOhkXCq4kv",
    "outputId": "83cd9d78-b7c4-4e4c-feca-ecf1d274c0ec"
   },
   "outputs": [
    {
     "name": "stdout",
     "output_type": "stream",
     "text": [
      "Downloading data from https://www.cs.toronto.edu/~kriz/cifar-10-python.tar.gz\n",
      "170500096/170498071 [==============================] - 4s 0us/step\n"
     ]
    }
   ],
   "source": [
    "(x_train,y_train),(x_test,y_test) = cifar10.load_data()"
   ]
  },
  {
   "cell_type": "code",
   "execution_count": 4,
   "metadata": {
    "colab": {
     "base_uri": "https://localhost:8080/"
    },
    "id": "jeQJ9ZP3q-oL",
    "outputId": "7bbb462b-1ebc-4d37-8dbb-3cceabdf2e6a"
   },
   "outputs": [
    {
     "data": {
      "text/plain": [
       "(50000, 32, 32, 3)"
      ]
     },
     "execution_count": 4,
     "metadata": {
      "tags": []
     },
     "output_type": "execute_result"
    }
   ],
   "source": [
    "x_train.shape"
   ]
  },
  {
   "cell_type": "code",
   "execution_count": 5,
   "metadata": {
    "colab": {
     "base_uri": "https://localhost:8080/"
    },
    "id": "8KBlJUjSq_pS",
    "outputId": "328cca32-0ff8-42fe-ff9e-a424cc9456c0"
   },
   "outputs": [
    {
     "data": {
      "text/plain": [
       "(50000, 1)"
      ]
     },
     "execution_count": 5,
     "metadata": {
      "tags": []
     },
     "output_type": "execute_result"
    }
   ],
   "source": [
    "y_train.shape"
   ]
  },
  {
   "cell_type": "code",
   "execution_count": 6,
   "metadata": {
    "id": "nbcmxVWvrBGC"
   },
   "outputs": [],
   "source": [
    "x_train = x_train/255\n",
    "x_test = x_test/255"
   ]
  },
  {
   "cell_type": "code",
   "execution_count": 7,
   "metadata": {
    "id": "E-3zADNHrHAP"
   },
   "outputs": [],
   "source": [
    "from keras.utils import np_utils"
   ]
  },
  {
   "cell_type": "code",
   "execution_count": 8,
   "metadata": {
    "id": "7Jff12F8rR6O"
   },
   "outputs": [],
   "source": [
    "y_train = np_utils.to_categorical(y_train)\n",
    "y_test = np_utils.to_categorical(y_test)"
   ]
  },
  {
   "cell_type": "code",
   "execution_count": 10,
   "metadata": {
    "id": "PH55d1EerX66"
   },
   "outputs": [],
   "source": [
    "from keras.models import Sequential\n",
    "from keras.layers import Dense,Dropout,Flatten,Conv2D,BatchNormalization"
   ]
  },
  {
   "cell_type": "code",
   "execution_count": 12,
   "metadata": {
    "id": "J585t7GbrlMy"
   },
   "outputs": [],
   "source": [
    "model = Sequential()\n",
    "model.add(Conv2D(64,kernel_size=(3,3),input_shape=(32,32,3),activation='relu',kernel_initializer='he_uniform'))\n",
    "model.add(BatchNormalization())\n",
    "model.add(Dropout(0.3))\n",
    "model.add(Conv2D(128,(3,3),activation='relu',kernel_initializer='he_uniform'))\n",
    "model.add(BatchNormalization())\n",
    "model.add(Dropout(0.4))\n",
    "model.add(Conv2D(256,(3,3),activation='relu',kernel_initializer='he_uniform'))\n",
    "model.add(BatchNormalization())\n",
    "model.add(Dropout(0.5))\n",
    "model.add(Flatten())\n",
    "model.add(Dense(128,kernel_regularizer='l2',activation='relu',kernel_initializer='he_uniform'))\n",
    "model.add(Flatten())\n",
    "model.add(Dense(10,activation='softmax'))"
   ]
  },
  {
   "cell_type": "code",
   "execution_count": 13,
   "metadata": {
    "id": "94DPfbJwrvuF"
   },
   "outputs": [],
   "source": [
    "model.compile(optimizer='adam',loss='categorical_crossentropy',metrics=['accuracy'])"
   ]
  },
  {
   "cell_type": "code",
   "execution_count": 14,
   "metadata": {
    "colab": {
     "base_uri": "https://localhost:8080/"
    },
    "id": "coAtYALtsAzp",
    "outputId": "72fb1d2a-62ce-4595-a524-2509dd19c48d"
   },
   "outputs": [
    {
     "name": "stdout",
     "output_type": "stream",
     "text": [
      "Model: \"sequential_1\"\n",
      "_________________________________________________________________\n",
      "Layer (type)                 Output Shape              Param #   \n",
      "=================================================================\n",
      "conv2d_3 (Conv2D)            (None, 30, 30, 64)        1792      \n",
      "_________________________________________________________________\n",
      "batch_normalization_2 (Batch (None, 30, 30, 64)        256       \n",
      "_________________________________________________________________\n",
      "dropout_2 (Dropout)          (None, 30, 30, 64)        0         \n",
      "_________________________________________________________________\n",
      "conv2d_4 (Conv2D)            (None, 28, 28, 128)       73856     \n",
      "_________________________________________________________________\n",
      "batch_normalization_3 (Batch (None, 28, 28, 128)       512       \n",
      "_________________________________________________________________\n",
      "dropout_3 (Dropout)          (None, 28, 28, 128)       0         \n",
      "_________________________________________________________________\n",
      "conv2d_5 (Conv2D)            (None, 26, 26, 256)       295168    \n",
      "_________________________________________________________________\n",
      "batch_normalization_4 (Batch (None, 26, 26, 256)       1024      \n",
      "_________________________________________________________________\n",
      "dropout_4 (Dropout)          (None, 26, 26, 256)       0         \n",
      "_________________________________________________________________\n",
      "flatten_1 (Flatten)          (None, 173056)            0         \n",
      "_________________________________________________________________\n",
      "dense (Dense)                (None, 128)               22151296  \n",
      "_________________________________________________________________\n",
      "flatten_2 (Flatten)          (None, 128)               0         \n",
      "_________________________________________________________________\n",
      "dense_1 (Dense)              (None, 10)                1290      \n",
      "=================================================================\n",
      "Total params: 22,525,194\n",
      "Trainable params: 22,524,298\n",
      "Non-trainable params: 896\n",
      "_________________________________________________________________\n"
     ]
    }
   ],
   "source": [
    "model.summary()"
   ]
  },
  {
   "cell_type": "code",
   "execution_count": 15,
   "metadata": {
    "colab": {
     "base_uri": "https://localhost:8080/"
    },
    "id": "I7OVGNXgsB4Y",
    "outputId": "25d26269-b219-41d9-9b5e-efba9db3dc9b"
   },
   "outputs": [
    {
     "name": "stdout",
     "output_type": "stream",
     "text": [
      "Epoch 1/50\n",
      "391/391 [==============================] - 59s 65ms/step - loss: 12.4738 - accuracy: 0.3648\n",
      "Epoch 2/50\n",
      "391/391 [==============================] - 25s 64ms/step - loss: 4.9942 - accuracy: 0.5707\n",
      "Epoch 3/50\n",
      "391/391 [==============================] - 25s 65ms/step - loss: 4.2039 - accuracy: 0.6288\n",
      "Epoch 4/50\n",
      "391/391 [==============================] - 26s 66ms/step - loss: 3.6164 - accuracy: 0.6594\n",
      "Epoch 5/50\n",
      "391/391 [==============================] - 26s 66ms/step - loss: 3.3294 - accuracy: 0.6716\n",
      "Epoch 6/50\n",
      "391/391 [==============================] - 26s 65ms/step - loss: 2.9149 - accuracy: 0.6899\n",
      "Epoch 7/50\n",
      "391/391 [==============================] - 26s 66ms/step - loss: 2.5363 - accuracy: 0.7027\n",
      "Epoch 8/50\n",
      "391/391 [==============================] - 26s 66ms/step - loss: 2.3664 - accuracy: 0.7094\n",
      "Epoch 9/50\n",
      "391/391 [==============================] - 26s 66ms/step - loss: 2.2968 - accuracy: 0.7232\n",
      "Epoch 10/50\n",
      "391/391 [==============================] - 26s 66ms/step - loss: 2.1876 - accuracy: 0.7279\n",
      "Epoch 11/50\n",
      "391/391 [==============================] - 26s 66ms/step - loss: 2.1464 - accuracy: 0.7410\n",
      "Epoch 12/50\n",
      "391/391 [==============================] - 26s 65ms/step - loss: 2.0961 - accuracy: 0.7438\n",
      "Epoch 13/50\n",
      "391/391 [==============================] - 26s 65ms/step - loss: 2.1042 - accuracy: 0.7471\n",
      "Epoch 14/50\n",
      "391/391 [==============================] - 26s 65ms/step - loss: 2.0908 - accuracy: 0.7537\n",
      "Epoch 15/50\n",
      "391/391 [==============================] - 26s 65ms/step - loss: 2.0204 - accuracy: 0.7651\n",
      "Epoch 16/50\n",
      "391/391 [==============================] - 26s 65ms/step - loss: 2.0075 - accuracy: 0.7707\n",
      "Epoch 17/50\n",
      "391/391 [==============================] - 26s 65ms/step - loss: 2.0259 - accuracy: 0.7740\n",
      "Epoch 18/50\n",
      "391/391 [==============================] - 26s 65ms/step - loss: 1.9513 - accuracy: 0.7792\n",
      "Epoch 19/50\n",
      "391/391 [==============================] - 26s 65ms/step - loss: 1.9016 - accuracy: 0.7822\n",
      "Epoch 20/50\n",
      "391/391 [==============================] - 26s 65ms/step - loss: 1.8249 - accuracy: 0.7865\n",
      "Epoch 21/50\n",
      "391/391 [==============================] - 25s 65ms/step - loss: 1.7876 - accuracy: 0.7926\n",
      "Epoch 22/50\n",
      "391/391 [==============================] - 26s 65ms/step - loss: 1.7530 - accuracy: 0.7888\n",
      "Epoch 23/50\n",
      "391/391 [==============================] - 26s 65ms/step - loss: 1.6969 - accuracy: 0.8037\n",
      "Epoch 24/50\n",
      "391/391 [==============================] - 26s 65ms/step - loss: 1.6795 - accuracy: 0.8029\n",
      "Epoch 25/50\n",
      "391/391 [==============================] - 26s 65ms/step - loss: 1.6429 - accuracy: 0.8063\n",
      "Epoch 26/50\n",
      "391/391 [==============================] - 26s 65ms/step - loss: 1.6269 - accuracy: 0.8060\n",
      "Epoch 27/50\n",
      "391/391 [==============================] - 25s 65ms/step - loss: 1.6093 - accuracy: 0.8123\n",
      "Epoch 28/50\n",
      "391/391 [==============================] - 25s 65ms/step - loss: 1.6047 - accuracy: 0.8135\n",
      "Epoch 29/50\n",
      "391/391 [==============================] - 25s 65ms/step - loss: 1.5930 - accuracy: 0.8156\n",
      "Epoch 30/50\n",
      "391/391 [==============================] - 25s 65ms/step - loss: 1.5715 - accuracy: 0.8192\n",
      "Epoch 31/50\n",
      "391/391 [==============================] - 25s 65ms/step - loss: 1.5677 - accuracy: 0.8171\n",
      "Epoch 32/50\n",
      "391/391 [==============================] - 25s 65ms/step - loss: 1.5259 - accuracy: 0.8231\n",
      "Epoch 33/50\n",
      "391/391 [==============================] - 25s 65ms/step - loss: 1.5290 - accuracy: 0.8252\n",
      "Epoch 34/50\n",
      "391/391 [==============================] - 25s 65ms/step - loss: 1.5027 - accuracy: 0.8274\n",
      "Epoch 35/50\n",
      "391/391 [==============================] - 25s 65ms/step - loss: 1.5037 - accuracy: 0.8260\n",
      "Epoch 36/50\n",
      "391/391 [==============================] - 25s 65ms/step - loss: 1.4978 - accuracy: 0.8276\n",
      "Epoch 37/50\n",
      "391/391 [==============================] - 25s 65ms/step - loss: 1.4708 - accuracy: 0.8321\n",
      "Epoch 38/50\n",
      "391/391 [==============================] - 25s 65ms/step - loss: 1.4850 - accuracy: 0.8291\n",
      "Epoch 39/50\n",
      "391/391 [==============================] - 25s 65ms/step - loss: 1.4590 - accuracy: 0.8311\n",
      "Epoch 40/50\n",
      "391/391 [==============================] - 25s 65ms/step - loss: 1.4856 - accuracy: 0.8327\n",
      "Epoch 41/50\n",
      "391/391 [==============================] - 25s 65ms/step - loss: 1.4942 - accuracy: 0.8307\n",
      "Epoch 42/50\n",
      "391/391 [==============================] - 25s 65ms/step - loss: 1.4627 - accuracy: 0.8356\n",
      "Epoch 43/50\n",
      "391/391 [==============================] - 25s 65ms/step - loss: 1.4539 - accuracy: 0.8367\n",
      "Epoch 44/50\n",
      "391/391 [==============================] - 25s 65ms/step - loss: 1.4218 - accuracy: 0.8402\n",
      "Epoch 45/50\n",
      "391/391 [==============================] - 25s 65ms/step - loss: 1.4458 - accuracy: 0.8368\n",
      "Epoch 46/50\n",
      "391/391 [==============================] - 25s 65ms/step - loss: 1.4283 - accuracy: 0.8399\n",
      "Epoch 47/50\n",
      "391/391 [==============================] - 25s 65ms/step - loss: 1.4388 - accuracy: 0.8393\n",
      "Epoch 48/50\n",
      "391/391 [==============================] - 25s 65ms/step - loss: 1.4174 - accuracy: 0.8468\n",
      "Epoch 49/50\n",
      "391/391 [==============================] - 25s 65ms/step - loss: 1.4388 - accuracy: 0.8394\n",
      "Epoch 50/50\n",
      "391/391 [==============================] - 25s 65ms/step - loss: 1.4138 - accuracy: 0.8450\n"
     ]
    },
    {
     "data": {
      "text/plain": [
       "<tensorflow.python.keras.callbacks.History at 0x7f8fc826cd90>"
      ]
     },
     "execution_count": 15,
     "metadata": {
      "tags": []
     },
     "output_type": "execute_result"
    }
   ],
   "source": [
    "model.fit(x_train,y_train,batch_size=128,epochs=50)"
   ]
  },
  {
   "cell_type": "code",
   "execution_count": 16,
   "metadata": {
    "colab": {
     "base_uri": "https://localhost:8080/"
    },
    "id": "qMD4oxXssIuc",
    "outputId": "3135e203-470b-4a0c-8f79-98d252707a59"
   },
   "outputs": [
    {
     "name": "stdout",
     "output_type": "stream",
     "text": [
      "Test Loss and Test Accuracy [1.6250107288360596, 0.7908999919891357]\n"
     ]
    }
   ],
   "source": [
    "  prediction_score = model.evaluate(x_test, y_test, verbose=0)\n",
    "\n",
    "  print('Test Loss and Test Accuracy', prediction_score)"
   ]
  },
  {
   "cell_type": "code",
   "execution_count": null,
   "metadata": {
    "id": "IAO68eHUzzQq"
   },
   "outputs": [],
   "source": []
  }
 ],
 "metadata": {
  "accelerator": "GPU",
  "colab": {
   "collapsed_sections": [],
   "name": "Convlayer_added_with_batch_normalization_and dropout.ipynb",
   "provenance": []
  },
  "kernelspec": {
   "display_name": "Python 3",
   "language": "python",
   "name": "python3"
  },
  "language_info": {
   "name": "python"
  }
 },
 "nbformat": 4,
 "nbformat_minor": 1
}
