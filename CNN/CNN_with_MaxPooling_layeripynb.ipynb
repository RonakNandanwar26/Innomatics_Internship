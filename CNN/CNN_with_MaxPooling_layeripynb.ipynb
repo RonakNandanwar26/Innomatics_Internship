{
 "cells": [
  {
   "cell_type": "code",
   "execution_count": 1,
   "metadata": {
    "id": "J2u0aATTtB5s"
   },
   "outputs": [],
   "source": [
    "from tensorflow import keras\n",
    "import tensorflow as tf"
   ]
  },
  {
   "cell_type": "code",
   "execution_count": 2,
   "metadata": {
    "id": "hAynoOertKhM"
   },
   "outputs": [],
   "source": [
    "tf.config.run_functions_eagerly(True)"
   ]
  },
  {
   "cell_type": "code",
   "execution_count": 3,
   "metadata": {
    "id": "vxr6iCzztgSI"
   },
   "outputs": [],
   "source": [
    "cifar10 = keras.datasets.cifar10"
   ]
  },
  {
   "cell_type": "code",
   "execution_count": 4,
   "metadata": {
    "colab": {
     "base_uri": "https://localhost:8080/"
    },
    "id": "TSPkUVFXtkZF",
    "outputId": "6fa2ce89-3c4d-4ccc-cd7e-156740c81c84"
   },
   "outputs": [
    {
     "name": "stdout",
     "output_type": "stream",
     "text": [
      "Downloading data from https://www.cs.toronto.edu/~kriz/cifar-10-python.tar.gz\n",
      "170500096/170498071 [==============================] - 2s 0us/step\n"
     ]
    }
   ],
   "source": [
    "(x_train,y_train),(x_test,y_test) = cifar10.load_data()"
   ]
  },
  {
   "cell_type": "code",
   "execution_count": 5,
   "metadata": {
    "colab": {
     "base_uri": "https://localhost:8080/"
    },
    "id": "tm3neHeDto4t",
    "outputId": "c6badd58-e19c-4232-ae20-2181de9871fc"
   },
   "outputs": [
    {
     "data": {
      "text/plain": [
       "(50000, 32, 32, 3)"
      ]
     },
     "execution_count": 5,
     "metadata": {
      "tags": []
     },
     "output_type": "execute_result"
    }
   ],
   "source": [
    "x_train.shape"
   ]
  },
  {
   "cell_type": "code",
   "execution_count": 6,
   "metadata": {
    "id": "IS885QjgtqSZ"
   },
   "outputs": [],
   "source": [
    "x_train = x_train/255\n",
    "x_test = x_test/255"
   ]
  },
  {
   "cell_type": "code",
   "execution_count": 7,
   "metadata": {
    "id": "yPPloi0KtwLH"
   },
   "outputs": [],
   "source": [
    "from keras.utils import np_utils"
   ]
  },
  {
   "cell_type": "code",
   "execution_count": 8,
   "metadata": {
    "id": "9Tr4CrBBty2w"
   },
   "outputs": [],
   "source": [
    "y_train = np_utils.to_categorical(y_train)\n",
    "y_test = np_utils.to_categorical(y_test)\n"
   ]
  },
  {
   "cell_type": "code",
   "execution_count": 13,
   "metadata": {
    "id": "uGh4EqQzt5i1"
   },
   "outputs": [],
   "source": [
    "from keras.models import Sequential\n",
    "from keras.layers import Dense,Dropout,Conv2D,Flatten,MaxPooling2D"
   ]
  },
  {
   "cell_type": "code",
   "execution_count": 14,
   "metadata": {
    "id": "b-QiRodouEQS"
   },
   "outputs": [],
   "source": [
    "model = Sequential()\n",
    "model.add(Conv2D(64,kernel_size=(3,3),input_shape=(32,32,3),activation='relu',kernel_initializer='he_uniform'))\n",
    "model.add(Dropout(0.3))\n",
    "\n",
    "model.add(Conv2D(128,(3,3),activation='relu',kernel_initializer='he_uniform'))\n",
    "model.add(Dropout(0.4))\n",
    "#Max Pooling Layer\n",
    "model.add(MaxPooling2D(pool_size=(2, 2)))\n",
    "model.add(Dropout(0.25))\n",
    "model.add(Flatten())\n",
    "\n",
    "model.add(Dense(128,kernel_regularizer='l2',activation='relu',kernel_initializer='he_uniform'))\n",
    "model.add(Flatten())\n",
    "\n",
    "model.add(Dense(10,activation='softmax'))"
   ]
  },
  {
   "cell_type": "code",
   "execution_count": 15,
   "metadata": {
    "id": "J0EMm_txvAPm"
   },
   "outputs": [],
   "source": [
    "model.compile(optimizer='adam',loss='categorical_crossentropy',metrics=['accuracy'])"
   ]
  },
  {
   "cell_type": "code",
   "execution_count": 16,
   "metadata": {
    "colab": {
     "base_uri": "https://localhost:8080/"
    },
    "id": "flEcWfW2vIjG",
    "outputId": "1fd04de8-315a-428d-dc88-86cfd3ea4ade"
   },
   "outputs": [
    {
     "name": "stdout",
     "output_type": "stream",
     "text": [
      "Model: \"sequential\"\n",
      "_________________________________________________________________\n",
      "Layer (type)                 Output Shape              Param #   \n",
      "=================================================================\n",
      "conv2d (Conv2D)              (None, 30, 30, 64)        1792      \n",
      "_________________________________________________________________\n",
      "dropout (Dropout)            (None, 30, 30, 64)        0         \n",
      "_________________________________________________________________\n",
      "conv2d_1 (Conv2D)            (None, 28, 28, 128)       73856     \n",
      "_________________________________________________________________\n",
      "dropout_1 (Dropout)          (None, 28, 28, 128)       0         \n",
      "_________________________________________________________________\n",
      "max_pooling2d (MaxPooling2D) (None, 14, 14, 128)       0         \n",
      "_________________________________________________________________\n",
      "dropout_2 (Dropout)          (None, 14, 14, 128)       0         \n",
      "_________________________________________________________________\n",
      "flatten (Flatten)            (None, 25088)             0         \n",
      "_________________________________________________________________\n",
      "dense (Dense)                (None, 128)               3211392   \n",
      "_________________________________________________________________\n",
      "flatten_1 (Flatten)          (None, 128)               0         \n",
      "_________________________________________________________________\n",
      "dense_1 (Dense)              (None, 10)                1290      \n",
      "=================================================================\n",
      "Total params: 3,288,330\n",
      "Trainable params: 3,288,330\n",
      "Non-trainable params: 0\n",
      "_________________________________________________________________\n"
     ]
    }
   ],
   "source": [
    "model.summary()"
   ]
  },
  {
   "cell_type": "code",
   "execution_count": 17,
   "metadata": {
    "colab": {
     "base_uri": "https://localhost:8080/"
    },
    "id": "gQjvVKCJvJo1",
    "outputId": "699ffa2b-5eb5-4881-d475-6b28a28a8e95"
   },
   "outputs": [
    {
     "name": "stderr",
     "output_type": "stream",
     "text": [
      "/usr/local/lib/python3.7/dist-packages/tensorflow/python/data/ops/dataset_ops.py:3504: UserWarning: Even though the tf.config.experimental_run_functions_eagerly option is set, this option does not apply to tf.data functions. tf.data functions are still traced and executed as graphs.\n",
      "  \"Even though the tf.config.experimental_run_functions_eagerly \"\n"
     ]
    },
    {
     "name": "stdout",
     "output_type": "stream",
     "text": [
      "Epoch 1/50\n",
      "391/391 [==============================] - 46s 35ms/step - loss: 4.2115 - accuracy: 0.2715\n",
      "Epoch 2/50\n",
      "391/391 [==============================] - 14s 35ms/step - loss: 1.6069 - accuracy: 0.5311\n",
      "Epoch 3/50\n",
      "391/391 [==============================] - 14s 35ms/step - loss: 1.4527 - accuracy: 0.5787\n",
      "Epoch 4/50\n",
      "391/391 [==============================] - 13s 34ms/step - loss: 1.3815 - accuracy: 0.6078\n",
      "Epoch 5/50\n",
      "391/391 [==============================] - 14s 35ms/step - loss: 1.3459 - accuracy: 0.6244\n",
      "Epoch 6/50\n",
      "391/391 [==============================] - 14s 35ms/step - loss: 1.3353 - accuracy: 0.6283\n",
      "Epoch 7/50\n",
      "391/391 [==============================] - 14s 35ms/step - loss: 1.3127 - accuracy: 0.6437\n",
      "Epoch 8/50\n",
      "391/391 [==============================] - 14s 35ms/step - loss: 1.2916 - accuracy: 0.6546\n",
      "Epoch 9/50\n",
      "391/391 [==============================] - 14s 35ms/step - loss: 1.2769 - accuracy: 0.6624\n",
      "Epoch 10/50\n",
      "391/391 [==============================] - 14s 35ms/step - loss: 1.2740 - accuracy: 0.6668\n",
      "Epoch 11/50\n",
      "391/391 [==============================] - 14s 35ms/step - loss: 1.2578 - accuracy: 0.6697\n",
      "Epoch 12/50\n",
      "391/391 [==============================] - 14s 35ms/step - loss: 1.2485 - accuracy: 0.6734\n",
      "Epoch 13/50\n",
      "391/391 [==============================] - 14s 35ms/step - loss: 1.2342 - accuracy: 0.6783\n",
      "Epoch 14/50\n",
      "391/391 [==============================] - 14s 35ms/step - loss: 1.2174 - accuracy: 0.6873\n",
      "Epoch 15/50\n",
      "391/391 [==============================] - 14s 35ms/step - loss: 1.2062 - accuracy: 0.6920\n",
      "Epoch 16/50\n",
      "391/391 [==============================] - 14s 35ms/step - loss: 1.2022 - accuracy: 0.6895\n",
      "Epoch 17/50\n",
      "391/391 [==============================] - 14s 35ms/step - loss: 1.2002 - accuracy: 0.6956\n",
      "Epoch 18/50\n",
      "391/391 [==============================] - 14s 35ms/step - loss: 1.2043 - accuracy: 0.6926\n",
      "Epoch 19/50\n",
      "391/391 [==============================] - 14s 35ms/step - loss: 1.1780 - accuracy: 0.7027\n",
      "Epoch 20/50\n",
      "391/391 [==============================] - 14s 35ms/step - loss: 1.1943 - accuracy: 0.6971\n",
      "Epoch 21/50\n",
      "391/391 [==============================] - 14s 35ms/step - loss: 1.1762 - accuracy: 0.6992\n",
      "Epoch 22/50\n",
      "391/391 [==============================] - 14s 35ms/step - loss: 1.1709 - accuracy: 0.7011\n",
      "Epoch 23/50\n",
      "391/391 [==============================] - 14s 35ms/step - loss: 1.1526 - accuracy: 0.7065\n",
      "Epoch 24/50\n",
      "391/391 [==============================] - 14s 35ms/step - loss: 1.1554 - accuracy: 0.7065\n",
      "Epoch 25/50\n",
      "391/391 [==============================] - 14s 35ms/step - loss: 1.1505 - accuracy: 0.7081\n",
      "Epoch 26/50\n",
      "391/391 [==============================] - 14s 35ms/step - loss: 1.1509 - accuracy: 0.7107\n",
      "Epoch 27/50\n",
      "391/391 [==============================] - 14s 35ms/step - loss: 1.1511 - accuracy: 0.7070\n",
      "Epoch 28/50\n",
      "391/391 [==============================] - 14s 35ms/step - loss: 1.1335 - accuracy: 0.7151\n",
      "Epoch 29/50\n",
      "391/391 [==============================] - 14s 35ms/step - loss: 1.1352 - accuracy: 0.7146\n",
      "Epoch 30/50\n",
      "391/391 [==============================] - 14s 35ms/step - loss: 1.1384 - accuracy: 0.7152\n",
      "Epoch 31/50\n",
      "391/391 [==============================] - 14s 35ms/step - loss: 1.1298 - accuracy: 0.7161\n",
      "Epoch 32/50\n",
      "391/391 [==============================] - 14s 35ms/step - loss: 1.1145 - accuracy: 0.7228\n",
      "Epoch 33/50\n",
      "391/391 [==============================] - 14s 35ms/step - loss: 1.1161 - accuracy: 0.7184\n",
      "Epoch 34/50\n",
      "391/391 [==============================] - 14s 35ms/step - loss: 1.1187 - accuracy: 0.7219\n",
      "Epoch 35/50\n",
      "391/391 [==============================] - 14s 35ms/step - loss: 1.1016 - accuracy: 0.7236\n",
      "Epoch 36/50\n",
      "391/391 [==============================] - 14s 35ms/step - loss: 1.1002 - accuracy: 0.7263\n",
      "Epoch 37/50\n",
      "391/391 [==============================] - 14s 35ms/step - loss: 1.1112 - accuracy: 0.7226\n",
      "Epoch 38/50\n",
      "391/391 [==============================] - 14s 35ms/step - loss: 1.0992 - accuracy: 0.7263\n",
      "Epoch 39/50\n",
      "391/391 [==============================] - 14s 35ms/step - loss: 1.0988 - accuracy: 0.7284\n",
      "Epoch 40/50\n",
      "391/391 [==============================] - 14s 35ms/step - loss: 1.0955 - accuracy: 0.7271\n",
      "Epoch 41/50\n",
      "391/391 [==============================] - 14s 35ms/step - loss: 1.0939 - accuracy: 0.7275\n",
      "Epoch 42/50\n",
      "391/391 [==============================] - 14s 35ms/step - loss: 1.0854 - accuracy: 0.7286\n",
      "Epoch 43/50\n",
      "391/391 [==============================] - 13s 35ms/step - loss: 1.0939 - accuracy: 0.7278\n",
      "Epoch 44/50\n",
      "391/391 [==============================] - 13s 34ms/step - loss: 1.0844 - accuracy: 0.7307\n",
      "Epoch 45/50\n",
      "391/391 [==============================] - 14s 35ms/step - loss: 1.0847 - accuracy: 0.7307\n",
      "Epoch 46/50\n",
      "391/391 [==============================] - 14s 35ms/step - loss: 1.0764 - accuracy: 0.7348\n",
      "Epoch 47/50\n",
      "391/391 [==============================] - 14s 35ms/step - loss: 1.0824 - accuracy: 0.7310\n",
      "Epoch 48/50\n",
      "391/391 [==============================] - 13s 34ms/step - loss: 1.0849 - accuracy: 0.7289\n",
      "Epoch 49/50\n",
      "391/391 [==============================] - 13s 34ms/step - loss: 1.0797 - accuracy: 0.7311\n",
      "Epoch 50/50\n",
      "391/391 [==============================] - 13s 34ms/step - loss: 1.0743 - accuracy: 0.7341\n"
     ]
    },
    {
     "data": {
      "text/plain": [
       "<tensorflow.python.keras.callbacks.History at 0x7fda602b2350>"
      ]
     },
     "execution_count": 17,
     "metadata": {
      "tags": []
     },
     "output_type": "execute_result"
    }
   ],
   "source": [
    "model.fit(x_train,y_train,batch_size=128,epochs=50)"
   ]
  },
  {
   "cell_type": "code",
   "execution_count": 18,
   "metadata": {
    "colab": {
     "base_uri": "https://localhost:8080/"
    },
    "id": "tP_SlAIFz2ra",
    "outputId": "3fe2d363-c69e-44be-a6a9-eb341b4585fb"
   },
   "outputs": [
    {
     "name": "stderr",
     "output_type": "stream",
     "text": [
      "/usr/local/lib/python3.7/dist-packages/tensorflow/python/data/ops/dataset_ops.py:3504: UserWarning: Even though the tf.config.experimental_run_functions_eagerly option is set, this option does not apply to tf.data functions. tf.data functions are still traced and executed as graphs.\n",
      "  \"Even though the tf.config.experimental_run_functions_eagerly \"\n"
     ]
    },
    {
     "name": "stdout",
     "output_type": "stream",
     "text": [
      "Test Loss and Test Accuracy [1.164839267730713, 0.7179999947547913]\n"
     ]
    }
   ],
   "source": [
    "  prediction_score = model.evaluate(x_test, y_test, verbose=0)\n",
    "\n",
    "  print('Test Loss and Test Accuracy', prediction_score)"
   ]
  },
  {
   "cell_type": "code",
   "execution_count": null,
   "metadata": {
    "id": "0G29Z83F2_h8"
   },
   "outputs": [],
   "source": []
  }
 ],
 "metadata": {
  "accelerator": "GPU",
  "colab": {
   "collapsed_sections": [],
   "name": "CNN_with_MaxPooling_layeripynb",
   "provenance": []
  },
  "kernelspec": {
   "display_name": "Python 3",
   "language": "python",
   "name": "python3"
  },
  "language_info": {
   "name": "python"
  }
 },
 "nbformat": 4,
 "nbformat_minor": 1
}
