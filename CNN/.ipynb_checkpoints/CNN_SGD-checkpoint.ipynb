{
 "cells": [
  {
   "cell_type": "code",
   "execution_count": 1,
   "metadata": {
    "id": "I7iwe5M8QWk_"
   },
   "outputs": [],
   "source": [
    "import pandas as pd\n",
    "import numpy as np"
   ]
  },
  {
   "cell_type": "code",
   "execution_count": 2,
   "metadata": {
    "id": "DgoFynjBQ6Bd"
   },
   "outputs": [],
   "source": [
    "from tensorflow import keras"
   ]
  },
  {
   "cell_type": "code",
   "execution_count": 3,
   "metadata": {
    "id": "OZSMVrpCQ7i6"
   },
   "outputs": [],
   "source": [
    "cifar10 = keras.datasets.cifar10"
   ]
  },
  {
   "cell_type": "code",
   "execution_count": 4,
   "metadata": {
    "colab": {
     "base_uri": "https://localhost:8080/"
    },
    "id": "il0MSfnhQ86A",
    "outputId": "9d4b851f-c7f4-4b35-bdb1-99edcae1f2a1"
   },
   "outputs": [
    {
     "name": "stdout",
     "output_type": "stream",
     "text": [
      "Downloading data from https://www.cs.toronto.edu/~kriz/cifar-10-python.tar.gz\n",
      "170500096/170498071 [==============================] - 4s 0us/step\n"
     ]
    }
   ],
   "source": [
    "(x_train,y_train),(x_test,y_test) = cifar10.load_data()"
   ]
  },
  {
   "cell_type": "code",
   "execution_count": 5,
   "metadata": {
    "colab": {
     "base_uri": "https://localhost:8080/"
    },
    "id": "z9wFGDyKQ-V-",
    "outputId": "d2b24c0b-312f-4534-9e1a-4b2fbe62f419"
   },
   "outputs": [
    {
     "data": {
      "text/plain": [
       "(50000, 32, 32, 3)"
      ]
     },
     "execution_count": 5,
     "metadata": {
      "tags": []
     },
     "output_type": "execute_result"
    }
   ],
   "source": [
    "x_train.shape"
   ]
  },
  {
   "cell_type": "code",
   "execution_count": 6,
   "metadata": {
    "id": "WQcXaQwgQ_pC"
   },
   "outputs": [],
   "source": [
    "x_train = x_train/255\n",
    "x_test = x_test/255"
   ]
  },
  {
   "cell_type": "code",
   "execution_count": 7,
   "metadata": {
    "id": "4eCQgIrNRFg5"
   },
   "outputs": [],
   "source": [
    "from keras.utils import np_utils\n",
    "from keras.models import Sequential \n",
    "from keras.layers import Dense, Dropout, BatchNormalization\n",
    "from keras.layers import Conv2D, MaxPooling2D, Flatten"
   ]
  },
  {
   "cell_type": "code",
   "execution_count": 8,
   "metadata": {
    "id": "M1HIpA1hRBSh"
   },
   "outputs": [],
   "source": [
    "y_train = np_utils.to_categorical(y_train, 10) \n",
    "y_test = np_utils.to_categorical(y_test, 10)"
   ]
  },
  {
   "cell_type": "code",
   "execution_count": 9,
   "metadata": {
    "id": "RjtTW8TnRCtr"
   },
   "outputs": [],
   "source": [
    "model = Sequential()\n",
    "# conv3-32\n",
    "model.add(Conv2D(64, kernel_size=(3, 3), padding='same', input_shape=(32, 32, 3), activation='relu', kernel_initializer='he_normal'))\n",
    "\n",
    "# conv3-64\n",
    "model.add(Conv2D(128, (3, 3), activation='relu', kernel_initializer='he_normal'))\n",
    "\n",
    "# Maxpooling\n",
    "model.add(MaxPooling2D(pool_size=(2, 2)))\n",
    "model.add(Dropout(0.25))\n",
    "\n",
    "# Flatten\n",
    "model.add(Flatten())\n",
    "\n",
    "# FC-128\n",
    "model.add(Dense(128, activation='relu', kernel_initializer='he_normal'))\n",
    "model.add(Dropout(0.5))\n",
    "\n",
    "# FC-10\n",
    "model.add(Dense(10, activation='softmax'))\n",
    "\n",
    "\n",
    "# STEP-2 Compile the Model\n",
    "model.compile(optimizer='SGD', loss='categorical_crossentropy', metrics=['accuracy'])"
   ]
  },
  {
   "cell_type": "code",
   "execution_count": 10,
   "metadata": {
    "colab": {
     "base_uri": "https://localhost:8080/"
    },
    "id": "gQtPu31ZRIcN",
    "outputId": "ee1ec9d0-c96a-4bfc-e50d-365dbbcf358e"
   },
   "outputs": [
    {
     "name": "stdout",
     "output_type": "stream",
     "text": [
      "Epoch 1/10\n",
      "391/391 [==============================] - 40s 19ms/step - loss: 2.2008 - accuracy: 0.1761\n",
      "Epoch 2/10\n",
      "391/391 [==============================] - 7s 18ms/step - loss: 1.8366 - accuracy: 0.3367\n",
      "Epoch 3/10\n",
      "391/391 [==============================] - 7s 18ms/step - loss: 1.6382 - accuracy: 0.4134\n",
      "Epoch 4/10\n",
      "391/391 [==============================] - 7s 18ms/step - loss: 1.5129 - accuracy: 0.4586\n",
      "Epoch 5/10\n",
      "391/391 [==============================] - 7s 18ms/step - loss: 1.4357 - accuracy: 0.4862\n",
      "Epoch 6/10\n",
      "391/391 [==============================] - 7s 18ms/step - loss: 1.3734 - accuracy: 0.5113\n",
      "Epoch 7/10\n",
      "391/391 [==============================] - 7s 19ms/step - loss: 1.3117 - accuracy: 0.5360\n",
      "Epoch 8/10\n",
      "391/391 [==============================] - 7s 19ms/step - loss: 1.2674 - accuracy: 0.5516\n",
      "Epoch 9/10\n",
      "391/391 [==============================] - 7s 19ms/step - loss: 1.2266 - accuracy: 0.5686\n",
      "Epoch 10/10\n",
      "391/391 [==============================] - 7s 18ms/step - loss: 1.1812 - accuracy: 0.5848\n"
     ]
    },
    {
     "data": {
      "text/plain": [
       "<tensorflow.python.keras.callbacks.History at 0x7f25b40556d0>"
      ]
     },
     "execution_count": 10,
     "metadata": {
      "tags": []
     },
     "output_type": "execute_result"
    }
   ],
   "source": [
    "model.fit(x_train, y_train, batch_size=128, epochs=10)"
   ]
  },
  {
   "cell_type": "code",
   "execution_count": 11,
   "metadata": {
    "colab": {
     "base_uri": "https://localhost:8080/"
    },
    "id": "apmvtGmfReUH",
    "outputId": "b8a69462-2e27-4e28-a32e-1d083b85d2e3"
   },
   "outputs": [
    {
     "name": "stdout",
     "output_type": "stream",
     "text": [
      "Test Loss and Test Accuracy [1.084046721458435, 0.6255000233650208]\n"
     ]
    }
   ],
   "source": [
    "\n",
    "prediction_score = model.evaluate(x_test, y_test, verbose=0)\n",
    "\n",
    "print('Test Loss and Test Accuracy', prediction_score)"
   ]
  },
  {
   "cell_type": "code",
   "execution_count": 11,
   "metadata": {
    "id": "5ZoCINT7RkQt"
   },
   "outputs": [],
   "source": []
  }
 ],
 "metadata": {
  "accelerator": "GPU",
  "colab": {
   "collapsed_sections": [],
   "name": "CNN_SGD.ipynb",
   "provenance": []
  },
  "kernelspec": {
   "display_name": "Python 3",
   "language": "python",
   "name": "python3"
  },
  "language_info": {
   "name": "python"
  }
 },
 "nbformat": 4,
 "nbformat_minor": 1
}
