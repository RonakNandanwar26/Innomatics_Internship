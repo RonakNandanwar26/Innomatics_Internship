{
 "cells": [
  {
   "cell_type": "code",
   "execution_count": 17,
   "metadata": {
    "id": "jKq1ozv33LX_"
   },
   "outputs": [],
   "source": [
    "import tensorflow as tf\n",
    "from tensorflow import keras"
   ]
  },
  {
   "cell_type": "code",
   "execution_count": 18,
   "metadata": {
    "id": "dZM7cfJX3TLs"
   },
   "outputs": [],
   "source": [
    "tf.config.run_functions_eagerly(True)"
   ]
  },
  {
   "cell_type": "code",
   "execution_count": 19,
   "metadata": {
    "id": "I18VSD6e3Yd1"
   },
   "outputs": [],
   "source": [
    "cifar10 = keras.datasets.cifar10"
   ]
  },
  {
   "cell_type": "code",
   "execution_count": 20,
   "metadata": {
    "id": "AoAc2pTM3bXG"
   },
   "outputs": [],
   "source": [
    "(x_train,y_train),(x_test,y_test) = cifar10.load_data()"
   ]
  },
  {
   "cell_type": "code",
   "execution_count": 21,
   "metadata": {
    "colab": {
     "base_uri": "https://localhost:8080/"
    },
    "id": "teAvUcFa3gUX",
    "outputId": "ccb5fa11-b2be-4b55-a2ba-1d14d0b51c4c"
   },
   "outputs": [
    {
     "data": {
      "text/plain": [
       "(50000, 32, 32, 3)"
      ]
     },
     "execution_count": 21,
     "metadata": {
      "tags": []
     },
     "output_type": "execute_result"
    }
   ],
   "source": [
    "x_train.shape"
   ]
  },
  {
   "cell_type": "code",
   "execution_count": 22,
   "metadata": {
    "id": "gahdHIvn3hLD"
   },
   "outputs": [],
   "source": [
    "x_train = x_train/255\n",
    "x_test = x_test/255"
   ]
  },
  {
   "cell_type": "code",
   "execution_count": 23,
   "metadata": {
    "id": "9CAGjmet3kpT"
   },
   "outputs": [],
   "source": [
    "from keras.utils import np_utils"
   ]
  },
  {
   "cell_type": "code",
   "execution_count": 24,
   "metadata": {
    "id": "EogAwPpB3nE_"
   },
   "outputs": [],
   "source": [
    "y_train = np_utils.to_categorical(y_train)\n",
    "y_test = np_utils.to_categorical(y_test)"
   ]
  },
  {
   "cell_type": "code",
   "execution_count": 25,
   "metadata": {
    "id": "YvnbWx8C3tV8"
   },
   "outputs": [],
   "source": [
    "from keras.models import Sequential\n",
    "from keras.layers import Dense,Flatten,BatchNormalization,MaxPooling2D,Conv2D,Dropout"
   ]
  },
  {
   "cell_type": "code",
   "execution_count": 26,
   "metadata": {
    "id": "J8Kgzjco4A1v"
   },
   "outputs": [],
   "source": [
    "def build_model(hp):  \n",
    "  model = keras.Sequential([\n",
    "    keras.layers.Conv2D(\n",
    "        filters=hp.Int('conv_1_filter', min_value=32, max_value=128, step=16),\n",
    "        kernel_size=hp.Choice('conv_1_kernel', values = [3,5]),\n",
    "        activation='relu',\n",
    "        input_shape=(32,32,3)\n",
    "    ),\n",
    "    keras.layers.Conv2D(\n",
    "        filters=hp.Int('conv_2_filter', min_value=32, max_value=64, step=16),\n",
    "        kernel_size=hp.Choice('conv_2_kernel', values = [3,5]),\n",
    "        activation='relu'\n",
    "    ),\n",
    "    keras.layers.Flatten(),\n",
    "    keras.layers.Dense(\n",
    "        units=hp.Int('dense_1_units', min_value=32, max_value=128, step=16),\n",
    "        activation='relu'\n",
    "    ),\n",
    "    keras.layers.Flatten(),\n",
    "    keras.layers.Dense(10, activation='softmax')\n",
    "  ])\n",
    "  \n",
    "  model.compile(optimizer=keras.optimizers.Adam(hp.Choice('learning_rate', values=[1e-2, 1e-3])),\n",
    "              loss='categorical_crossentropy',\n",
    "              metrics=['accuracy'])\n",
    "  model.summary()\n",
    "  \n",
    "  return model"
   ]
  },
  {
   "cell_type": "code",
   "execution_count": 27,
   "metadata": {
    "colab": {
     "base_uri": "https://localhost:8080/"
    },
    "id": "8tCPfmtt4ToQ",
    "outputId": "603569c6-15cb-48e8-cade-6d620f03569c"
   },
   "outputs": [
    {
     "name": "stdout",
     "output_type": "stream",
     "text": [
      "Requirement already satisfied: keras-tuner in /usr/local/lib/python3.7/dist-packages (1.0.2)\n",
      "Requirement already satisfied: numpy in /usr/local/lib/python3.7/dist-packages (from keras-tuner) (1.19.5)\n",
      "Requirement already satisfied: tqdm in /usr/local/lib/python3.7/dist-packages (from keras-tuner) (4.41.1)\n",
      "Requirement already satisfied: requests in /usr/local/lib/python3.7/dist-packages (from keras-tuner) (2.23.0)\n",
      "Requirement already satisfied: terminaltables in /usr/local/lib/python3.7/dist-packages (from keras-tuner) (3.1.0)\n",
      "Requirement already satisfied: colorama in /usr/local/lib/python3.7/dist-packages (from keras-tuner) (0.4.4)\n",
      "Requirement already satisfied: scipy in /usr/local/lib/python3.7/dist-packages (from keras-tuner) (1.4.1)\n",
      "Requirement already satisfied: packaging in /usr/local/lib/python3.7/dist-packages (from keras-tuner) (20.9)\n",
      "Requirement already satisfied: tabulate in /usr/local/lib/python3.7/dist-packages (from keras-tuner) (0.8.9)\n",
      "Requirement already satisfied: future in /usr/local/lib/python3.7/dist-packages (from keras-tuner) (0.16.0)\n",
      "Requirement already satisfied: scikit-learn in /usr/local/lib/python3.7/dist-packages (from keras-tuner) (0.22.2.post1)\n",
      "Requirement already satisfied: idna<3,>=2.5 in /usr/local/lib/python3.7/dist-packages (from requests->keras-tuner) (2.10)\n",
      "Requirement already satisfied: urllib3!=1.25.0,!=1.25.1,<1.26,>=1.21.1 in /usr/local/lib/python3.7/dist-packages (from requests->keras-tuner) (1.24.3)\n",
      "Requirement already satisfied: certifi>=2017.4.17 in /usr/local/lib/python3.7/dist-packages (from requests->keras-tuner) (2020.12.5)\n",
      "Requirement already satisfied: chardet<4,>=3.0.2 in /usr/local/lib/python3.7/dist-packages (from requests->keras-tuner) (3.0.4)\n",
      "Requirement already satisfied: pyparsing>=2.0.2 in /usr/local/lib/python3.7/dist-packages (from packaging->keras-tuner) (2.4.7)\n",
      "Requirement already satisfied: joblib>=0.11 in /usr/local/lib/python3.7/dist-packages (from scikit-learn->keras-tuner) (1.0.1)\n"
     ]
    }
   ],
   "source": [
    "!pip install keras-tuner"
   ]
  },
  {
   "cell_type": "code",
   "execution_count": 29,
   "metadata": {
    "id": "INPNdPSE4Mtb"
   },
   "outputs": [],
   "source": [
    "from kerastuner import RandomSearch\n",
    "from kerastuner.engine.hyperparameters import HyperParameters"
   ]
  },
  {
   "cell_type": "code",
   "execution_count": 34,
   "metadata": {
    "colab": {
     "base_uri": "https://localhost:8080/"
    },
    "id": "q6c-82NE4PqV",
    "outputId": "5230b234-34ce-49f3-c44b-39048dd0f3b0"
   },
   "outputs": [
    {
     "name": "stdout",
     "output_type": "stream",
     "text": [
      "Model: \"sequential\"\n",
      "_________________________________________________________________\n",
      "Layer (type)                 Output Shape              Param #   \n",
      "=================================================================\n",
      "conv2d (Conv2D)              (None, 30, 30, 32)        896       \n",
      "_________________________________________________________________\n",
      "conv2d_1 (Conv2D)            (None, 28, 28, 32)        9248      \n",
      "_________________________________________________________________\n",
      "flatten (Flatten)            (None, 25088)             0         \n",
      "_________________________________________________________________\n",
      "dense (Dense)                (None, 32)                802848    \n",
      "_________________________________________________________________\n",
      "flatten_1 (Flatten)          (None, 32)                0         \n",
      "_________________________________________________________________\n",
      "dense_1 (Dense)              (None, 10)                330       \n",
      "=================================================================\n",
      "Total params: 813,322\n",
      "Trainable params: 813,322\n",
      "Non-trainable params: 0\n",
      "_________________________________________________________________\n"
     ]
    }
   ],
   "source": [
    "tuner_search=RandomSearch(build_model,\n",
    "                          objective='val_accuracy',\n",
    "                          max_trials=5,directory='cifar10_output_2',project_name=\"Cifar10\")"
   ]
  },
  {
   "cell_type": "code",
   "execution_count": 35,
   "metadata": {
    "colab": {
     "base_uri": "https://localhost:8080/"
    },
    "id": "zmdrrIXj4cPP",
    "outputId": "3a743772-c10f-4972-b978-625bdf702a75"
   },
   "outputs": [
    {
     "name": "stdout",
     "output_type": "stream",
     "text": [
      "Trial 5 Complete [00h 01m 02s]\n",
      "val_accuracy: 0.10239999741315842\n",
      "\n",
      "Best val_accuracy So Far: 0.5893999934196472\n",
      "Total elapsed time: 00h 05m 05s\n",
      "INFO:tensorflow:Oracle triggered exit\n"
     ]
    }
   ],
   "source": [
    "tuner_search.search(x_train,y_train,epochs=3,validation_split=0.1)"
   ]
  },
  {
   "cell_type": "code",
   "execution_count": 36,
   "metadata": {
    "colab": {
     "base_uri": "https://localhost:8080/"
    },
    "id": "MwgLQXEk4yDO",
    "outputId": "b48dd80a-75ac-4442-d73f-062a4398c8c3"
   },
   "outputs": [
    {
     "name": "stdout",
     "output_type": "stream",
     "text": [
      "Model: \"sequential\"\n",
      "_________________________________________________________________\n",
      "Layer (type)                 Output Shape              Param #   \n",
      "=================================================================\n",
      "conv2d (Conv2D)              (None, 28, 28, 64)        4864      \n",
      "_________________________________________________________________\n",
      "conv2d_1 (Conv2D)            (None, 24, 24, 48)        76848     \n",
      "_________________________________________________________________\n",
      "flatten (Flatten)            (None, 27648)             0         \n",
      "_________________________________________________________________\n",
      "dense (Dense)                (None, 112)               3096688   \n",
      "_________________________________________________________________\n",
      "flatten_1 (Flatten)          (None, 112)               0         \n",
      "_________________________________________________________________\n",
      "dense_1 (Dense)              (None, 10)                1130      \n",
      "=================================================================\n",
      "Total params: 3,179,530\n",
      "Trainable params: 3,179,530\n",
      "Non-trainable params: 0\n",
      "_________________________________________________________________\n"
     ]
    }
   ],
   "source": [
    "model=tuner_search.get_best_models(num_models=1)[0]"
   ]
  },
  {
   "cell_type": "code",
   "execution_count": 39,
   "metadata": {
    "colab": {
     "base_uri": "https://localhost:8080/"
    },
    "id": "abs9BZJKF58_",
    "outputId": "05cda683-7cb2-48e8-fd25-c0b44a6a931a"
   },
   "outputs": [
    {
     "name": "stdout",
     "output_type": "stream",
     "text": [
      "Epoch 4/50\n",
      "   9/1407 [..............................] - ETA: 18s - loss: 0.1226 - accuracy: 0.9583"
     ]
    },
    {
     "name": "stderr",
     "output_type": "stream",
     "text": [
      "/usr/local/lib/python3.7/dist-packages/tensorflow/python/data/ops/dataset_ops.py:3504: UserWarning: Even though the tf.config.experimental_run_functions_eagerly option is set, this option does not apply to tf.data functions. tf.data functions are still traced and executed as graphs.\n",
      "  \"Even though the tf.config.experimental_run_functions_eagerly \"\n"
     ]
    },
    {
     "name": "stdout",
     "output_type": "stream",
     "text": [
      "1407/1407 [==============================] - 20s 14ms/step - loss: 0.1856 - accuracy: 0.9356 - val_loss: 2.5395 - val_accuracy: 0.5584\n",
      "Epoch 5/50\n",
      "1407/1407 [==============================] - 20s 14ms/step - loss: 0.1463 - accuracy: 0.9505 - val_loss: 2.9223 - val_accuracy: 0.5588\n",
      "Epoch 6/50\n",
      "1407/1407 [==============================] - 21s 15ms/step - loss: 0.1358 - accuracy: 0.9534 - val_loss: 2.9626 - val_accuracy: 0.5598\n",
      "Epoch 7/50\n",
      "1407/1407 [==============================] - 20s 14ms/step - loss: 0.1212 - accuracy: 0.9602 - val_loss: 3.3598 - val_accuracy: 0.5662\n",
      "Epoch 8/50\n",
      "1407/1407 [==============================] - 20s 14ms/step - loss: 0.1062 - accuracy: 0.9646 - val_loss: 3.4584 - val_accuracy: 0.5680\n",
      "Epoch 9/50\n",
      "1407/1407 [==============================] - 21s 15ms/step - loss: 0.0967 - accuracy: 0.9685 - val_loss: 3.5864 - val_accuracy: 0.5604\n",
      "Epoch 10/50\n",
      "1407/1407 [==============================] - 21s 15ms/step - loss: 0.0886 - accuracy: 0.9712 - val_loss: 3.7744 - val_accuracy: 0.5552\n",
      "Epoch 11/50\n",
      "1407/1407 [==============================] - 20s 15ms/step - loss: 0.0931 - accuracy: 0.9696 - val_loss: 4.2230 - val_accuracy: 0.5550\n",
      "Epoch 12/50\n",
      "1407/1407 [==============================] - 21s 15ms/step - loss: 0.0862 - accuracy: 0.9721 - val_loss: 4.3543 - val_accuracy: 0.5586\n",
      "Epoch 13/50\n",
      "1407/1407 [==============================] - 20s 15ms/step - loss: 0.0746 - accuracy: 0.9757 - val_loss: 4.2105 - val_accuracy: 0.5584\n",
      "Epoch 14/50\n",
      "1407/1407 [==============================] - 20s 14ms/step - loss: 0.0842 - accuracy: 0.9739 - val_loss: 4.5783 - val_accuracy: 0.5402\n",
      "Epoch 15/50\n",
      "1407/1407 [==============================] - 20s 14ms/step - loss: 0.0776 - accuracy: 0.9759 - val_loss: 4.3910 - val_accuracy: 0.5592\n",
      "Epoch 16/50\n",
      "1407/1407 [==============================] - 21s 15ms/step - loss: 0.0658 - accuracy: 0.9794 - val_loss: 4.7191 - val_accuracy: 0.5526\n",
      "Epoch 17/50\n",
      "1407/1407 [==============================] - 20s 14ms/step - loss: 0.0758 - accuracy: 0.9771 - val_loss: 4.7270 - val_accuracy: 0.5590\n",
      "Epoch 18/50\n",
      "1407/1407 [==============================] - 20s 14ms/step - loss: 0.0673 - accuracy: 0.9802 - val_loss: 5.0387 - val_accuracy: 0.5442\n",
      "Epoch 19/50\n",
      "1407/1407 [==============================] - 20s 14ms/step - loss: 0.0644 - accuracy: 0.9814 - val_loss: 5.0207 - val_accuracy: 0.5436\n",
      "Epoch 20/50\n",
      "1407/1407 [==============================] - 20s 14ms/step - loss: 0.0681 - accuracy: 0.9795 - val_loss: 5.1857 - val_accuracy: 0.5566\n",
      "Epoch 21/50\n",
      "1407/1407 [==============================] - 20s 14ms/step - loss: 0.0699 - accuracy: 0.9796 - val_loss: 5.3339 - val_accuracy: 0.5522\n",
      "Epoch 22/50\n",
      "1407/1407 [==============================] - 20s 14ms/step - loss: 0.0682 - accuracy: 0.9801 - val_loss: 5.2439 - val_accuracy: 0.5516\n",
      "Epoch 23/50\n",
      "1407/1407 [==============================] - 20s 14ms/step - loss: 0.0522 - accuracy: 0.9841 - val_loss: 5.1028 - val_accuracy: 0.5396\n",
      "Epoch 24/50\n",
      "1407/1407 [==============================] - 20s 14ms/step - loss: 0.0585 - accuracy: 0.9833 - val_loss: 5.5046 - val_accuracy: 0.5544\n",
      "Epoch 25/50\n",
      "1407/1407 [==============================] - 20s 14ms/step - loss: 0.0529 - accuracy: 0.9842 - val_loss: 5.4058 - val_accuracy: 0.5582\n",
      "Epoch 26/50\n",
      "1407/1407 [==============================] - 20s 14ms/step - loss: 0.0627 - accuracy: 0.9821 - val_loss: 5.6001 - val_accuracy: 0.5506\n",
      "Epoch 27/50\n",
      "1407/1407 [==============================] - 20s 14ms/step - loss: 0.0610 - accuracy: 0.9828 - val_loss: 6.0017 - val_accuracy: 0.5568\n",
      "Epoch 28/50\n",
      "1407/1407 [==============================] - 20s 14ms/step - loss: 0.0610 - accuracy: 0.9827 - val_loss: 5.9617 - val_accuracy: 0.5482\n",
      "Epoch 29/50\n",
      "1407/1407 [==============================] - 20s 14ms/step - loss: 0.0649 - accuracy: 0.9823 - val_loss: 6.1425 - val_accuracy: 0.5614\n",
      "Epoch 30/50\n",
      "1407/1407 [==============================] - 20s 14ms/step - loss: 0.0519 - accuracy: 0.9853 - val_loss: 5.9616 - val_accuracy: 0.5586\n",
      "Epoch 31/50\n",
      "1407/1407 [==============================] - 20s 14ms/step - loss: 0.0536 - accuracy: 0.9848 - val_loss: 6.2864 - val_accuracy: 0.5648\n",
      "Epoch 32/50\n",
      "1407/1407 [==============================] - 20s 14ms/step - loss: 0.0559 - accuracy: 0.9848 - val_loss: 6.2678 - val_accuracy: 0.5546\n",
      "Epoch 33/50\n",
      "1407/1407 [==============================] - 20s 14ms/step - loss: 0.0466 - accuracy: 0.9868 - val_loss: 6.4939 - val_accuracy: 0.5408\n",
      "Epoch 34/50\n",
      "1407/1407 [==============================] - 20s 14ms/step - loss: 0.0481 - accuracy: 0.9863 - val_loss: 6.6653 - val_accuracy: 0.5504\n",
      "Epoch 35/50\n",
      "1407/1407 [==============================] - 20s 14ms/step - loss: 0.0569 - accuracy: 0.9847 - val_loss: 6.6469 - val_accuracy: 0.5554\n",
      "Epoch 36/50\n",
      "1407/1407 [==============================] - 20s 14ms/step - loss: 0.0539 - accuracy: 0.9854 - val_loss: 6.5497 - val_accuracy: 0.5540\n",
      "Epoch 37/50\n",
      "1407/1407 [==============================] - 20s 14ms/step - loss: 0.0508 - accuracy: 0.9866 - val_loss: 7.0124 - val_accuracy: 0.5484\n",
      "Epoch 38/50\n",
      "1407/1407 [==============================] - 20s 14ms/step - loss: 0.0430 - accuracy: 0.9877 - val_loss: 6.8209 - val_accuracy: 0.5386\n",
      "Epoch 39/50\n",
      "1407/1407 [==============================] - 20s 14ms/step - loss: 0.0494 - accuracy: 0.9870 - val_loss: 7.0587 - val_accuracy: 0.5492\n",
      "Epoch 40/50\n",
      "1407/1407 [==============================] - 20s 14ms/step - loss: 0.0518 - accuracy: 0.9863 - val_loss: 7.1881 - val_accuracy: 0.5532\n",
      "Epoch 41/50\n",
      "1407/1407 [==============================] - 20s 14ms/step - loss: 0.0450 - accuracy: 0.9880 - val_loss: 7.4959 - val_accuracy: 0.5570\n",
      "Epoch 42/50\n",
      "1407/1407 [==============================] - 20s 14ms/step - loss: 0.0479 - accuracy: 0.9879 - val_loss: 7.5395 - val_accuracy: 0.5422\n",
      "Epoch 43/50\n",
      "1407/1407 [==============================] - 20s 14ms/step - loss: 0.0488 - accuracy: 0.9878 - val_loss: 7.5402 - val_accuracy: 0.5428\n",
      "Epoch 44/50\n",
      "1407/1407 [==============================] - 20s 14ms/step - loss: 0.0585 - accuracy: 0.9856 - val_loss: 7.8505 - val_accuracy: 0.5428\n",
      "Epoch 45/50\n",
      "1407/1407 [==============================] - 20s 14ms/step - loss: 0.0444 - accuracy: 0.9896 - val_loss: 7.9559 - val_accuracy: 0.5530\n",
      "Epoch 46/50\n",
      "1407/1407 [==============================] - 20s 14ms/step - loss: 0.0495 - accuracy: 0.9879 - val_loss: 7.7854 - val_accuracy: 0.5516\n",
      "Epoch 47/50\n",
      "1407/1407 [==============================] - 20s 14ms/step - loss: 0.0419 - accuracy: 0.9894 - val_loss: 7.6307 - val_accuracy: 0.5440\n",
      "Epoch 48/50\n",
      "1407/1407 [==============================] - 20s 14ms/step - loss: 0.0513 - accuracy: 0.9875 - val_loss: 7.6295 - val_accuracy: 0.5512\n",
      "Epoch 49/50\n",
      "1407/1407 [==============================] - 20s 14ms/step - loss: 0.0519 - accuracy: 0.9878 - val_loss: 8.0858 - val_accuracy: 0.5416\n",
      "Epoch 50/50\n",
      "1407/1407 [==============================] - 20s 14ms/step - loss: 0.0429 - accuracy: 0.9892 - val_loss: 7.5848 - val_accuracy: 0.5494\n"
     ]
    },
    {
     "data": {
      "text/plain": [
       "<tensorflow.python.keras.callbacks.History at 0x7f4e946cbad0>"
      ]
     },
     "execution_count": 39,
     "metadata": {
      "tags": []
     },
     "output_type": "execute_result"
    }
   ],
   "source": [
    "model.fit(x_train, y_train, epochs=50, validation_split=0.1, initial_epoch=3)"
   ]
  },
  {
   "cell_type": "code",
   "execution_count": 40,
   "metadata": {
    "colab": {
     "base_uri": "https://localhost:8080/"
    },
    "id": "FamQWQ6ZGDUQ",
    "outputId": "5a49755e-62e3-4ea0-8c18-0dc59855d632"
   },
   "outputs": [
    {
     "name": "stderr",
     "output_type": "stream",
     "text": [
      "/usr/local/lib/python3.7/dist-packages/tensorflow/python/data/ops/dataset_ops.py:3504: UserWarning: Even though the tf.config.experimental_run_functions_eagerly option is set, this option does not apply to tf.data functions. tf.data functions are still traced and executed as graphs.\n",
      "  \"Even though the tf.config.experimental_run_functions_eagerly \"\n"
     ]
    },
    {
     "name": "stdout",
     "output_type": "stream",
     "text": [
      "Test Loss and Test Accuracy [7.881112575531006, 0.5418999791145325]\n"
     ]
    }
   ],
   "source": [
    "  prediction_score = model.evaluate(x_test, y_test, verbose=0)\n",
    "\n",
    "  print('Test Loss and Test Accuracy', prediction_score)"
   ]
  },
  {
   "cell_type": "code",
   "execution_count": null,
   "metadata": {
    "id": "cs-VuaUaKVqG"
   },
   "outputs": [],
   "source": []
  }
 ],
 "metadata": {
  "accelerator": "GPU",
  "colab": {
   "collapsed_sections": [],
   "name": "CNN_Hyperparameter_Tuning.ipynb",
   "provenance": []
  },
  "kernelspec": {
   "display_name": "Python 3",
   "language": "python",
   "name": "python3"
  },
  "language_info": {
   "name": "python"
  }
 },
 "nbformat": 4,
 "nbformat_minor": 1
}
