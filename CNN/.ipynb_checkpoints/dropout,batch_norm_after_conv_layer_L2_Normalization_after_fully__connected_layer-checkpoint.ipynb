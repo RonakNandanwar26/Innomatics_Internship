{
 "cells": [
  {
   "cell_type": "code",
   "execution_count": 1,
   "metadata": {
    "id": "Gth1jhzskVQh"
   },
   "outputs": [],
   "source": [
    "import tensorflow as tf\n",
    "from tensorflow import keras\n",
    "import numpy as np"
   ]
  },
  {
   "cell_type": "code",
   "execution_count": 2,
   "metadata": {
    "id": "8dDMyr-ZkbrC"
   },
   "outputs": [],
   "source": [
    "tf.config.run_functions_eagerly(True)"
   ]
  },
  {
   "cell_type": "code",
   "execution_count": 3,
   "metadata": {
    "id": "xcdVU4lCkkWF"
   },
   "outputs": [],
   "source": [
    "cifar10 = keras.datasets.cifar10"
   ]
  },
  {
   "cell_type": "code",
   "execution_count": 4,
   "metadata": {
    "colab": {
     "base_uri": "https://localhost:8080/"
    },
    "id": "PQ9IR9Iokn4A",
    "outputId": "23efa5f4-8f76-4215-a02f-3d5ea1d33f6f"
   },
   "outputs": [
    {
     "name": "stdout",
     "output_type": "stream",
     "text": [
      "Downloading data from https://www.cs.toronto.edu/~kriz/cifar-10-python.tar.gz\n",
      "170500096/170498071 [==============================] - 4s 0us/step\n"
     ]
    }
   ],
   "source": [
    "(x_train,y_train),(x_test,y_test) = cifar10.load_data()"
   ]
  },
  {
   "cell_type": "code",
   "execution_count": 5,
   "metadata": {
    "colab": {
     "base_uri": "https://localhost:8080/"
    },
    "id": "tImakgG0kvVY",
    "outputId": "3a600aa9-0385-4036-aaa7-e0611286565b"
   },
   "outputs": [
    {
     "data": {
      "text/plain": [
       "(50000, 32, 32, 3)"
      ]
     },
     "execution_count": 5,
     "metadata": {
      "tags": []
     },
     "output_type": "execute_result"
    }
   ],
   "source": [
    "x_train.shape"
   ]
  },
  {
   "cell_type": "code",
   "execution_count": 6,
   "metadata": {
    "colab": {
     "base_uri": "https://localhost:8080/"
    },
    "id": "GcL_i_sckwKB",
    "outputId": "935b235b-26ed-4389-c442-fd1ffd315e57"
   },
   "outputs": [
    {
     "data": {
      "text/plain": [
       "(10000, 32, 32, 3)"
      ]
     },
     "execution_count": 6,
     "metadata": {
      "tags": []
     },
     "output_type": "execute_result"
    }
   ],
   "source": [
    "x_test.shape"
   ]
  },
  {
   "cell_type": "code",
   "execution_count": 7,
   "metadata": {
    "id": "ZeJ0MXXJkx1a"
   },
   "outputs": [],
   "source": [
    "x_train = x_train/255\n",
    "x_test = x_test/255"
   ]
  },
  {
   "cell_type": "code",
   "execution_count": 8,
   "metadata": {
    "id": "ZA3vuEYTk3rz"
   },
   "outputs": [],
   "source": [
    "from keras.utils import np_utils"
   ]
  },
  {
   "cell_type": "code",
   "execution_count": 9,
   "metadata": {
    "id": "dHHiqPbmk7LG"
   },
   "outputs": [],
   "source": [
    "y_train = np_utils.to_categorical(y_train)\n",
    "y_test = np_utils.to_categorical(y_test)"
   ]
  },
  {
   "cell_type": "code",
   "execution_count": 10,
   "metadata": {
    "id": "zDt7HxiQlDkl"
   },
   "outputs": [],
   "source": [
    "from keras.models import Sequential\n",
    "from keras.layers import Dense,Flatten,Conv2D,BatchNormalization,Dropout"
   ]
  },
  {
   "cell_type": "code",
   "execution_count": 11,
   "metadata": {
    "id": "gw9dA2oYm0Fl"
   },
   "outputs": [],
   "source": [
    "model = Sequential()\n",
    "model.add(Conv2D(64,kernel_size=(3,3),input_shape=(32,32,3),activation='relu',kernel_initializer='he_uniform'))\n",
    "model.add(BatchNormalization())\n",
    "model.add(Dropout(0.3))\n",
    "model.add(Conv2D(128,(3,3),activation='relu',kernel_initializer='he_uniform'))\n",
    "model.add(BatchNormalization())\n",
    "model.add(Dropout(0.4))\n",
    "model.add(Flatten())\n",
    "model.add(Dense(128,kernel_regularizer='l2',activation='relu',kernel_initializer='he_uniform'))\n",
    "model.add(Flatten())\n",
    "model.add(Dense(10,activation='softmax'))"
   ]
  },
  {
   "cell_type": "code",
   "execution_count": 12,
   "metadata": {
    "id": "eAlorRkToQ8t"
   },
   "outputs": [],
   "source": [
    "model.compile(optimizer='adam',loss='categorical_crossentropy',metrics=['accuracy'])"
   ]
  },
  {
   "cell_type": "code",
   "execution_count": 13,
   "metadata": {
    "colab": {
     "base_uri": "https://localhost:8080/"
    },
    "id": "ttHfo6HuolET",
    "outputId": "aacb2df5-3eef-4f02-cb1a-35beb9c20f94"
   },
   "outputs": [
    {
     "name": "stdout",
     "output_type": "stream",
     "text": [
      "Model: \"sequential\"\n",
      "_________________________________________________________________\n",
      "Layer (type)                 Output Shape              Param #   \n",
      "=================================================================\n",
      "conv2d (Conv2D)              (None, 30, 30, 64)        1792      \n",
      "_________________________________________________________________\n",
      "batch_normalization (BatchNo (None, 30, 30, 64)        256       \n",
      "_________________________________________________________________\n",
      "dropout (Dropout)            (None, 30, 30, 64)        0         \n",
      "_________________________________________________________________\n",
      "conv2d_1 (Conv2D)            (None, 28, 28, 128)       73856     \n",
      "_________________________________________________________________\n",
      "batch_normalization_1 (Batch (None, 28, 28, 128)       512       \n",
      "_________________________________________________________________\n",
      "dropout_1 (Dropout)          (None, 28, 28, 128)       0         \n",
      "_________________________________________________________________\n",
      "flatten (Flatten)            (None, 100352)            0         \n",
      "_________________________________________________________________\n",
      "dense (Dense)                (None, 128)               12845184  \n",
      "_________________________________________________________________\n",
      "flatten_1 (Flatten)          (None, 128)               0         \n",
      "_________________________________________________________________\n",
      "dense_1 (Dense)              (None, 10)                1290      \n",
      "=================================================================\n",
      "Total params: 12,922,890\n",
      "Trainable params: 12,922,506\n",
      "Non-trainable params: 384\n",
      "_________________________________________________________________\n"
     ]
    }
   ],
   "source": [
    "model.summary()"
   ]
  },
  {
   "cell_type": "code",
   "execution_count": 14,
   "metadata": {
    "colab": {
     "base_uri": "https://localhost:8080/"
    },
    "id": "138eJGzHomKO",
    "outputId": "3f1e1b85-31a3-4d68-acc8-2671144083e8"
   },
   "outputs": [
    {
     "name": "stderr",
     "output_type": "stream",
     "text": [
      "/usr/local/lib/python3.7/dist-packages/tensorflow/python/data/ops/dataset_ops.py:3504: UserWarning: Even though the tf.config.experimental_run_functions_eagerly option is set, this option does not apply to tf.data functions. tf.data functions are still traced and executed as graphs.\n",
      "  \"Even though the tf.config.experimental_run_functions_eagerly \"\n"
     ]
    },
    {
     "name": "stdout",
     "output_type": "stream",
     "text": [
      "Epoch 1/50\n",
      "391/391 [==============================] - 41s 27ms/step - loss: 9.8670 - accuracy: 0.3767\n",
      "Epoch 2/50\n",
      "391/391 [==============================] - 11s 27ms/step - loss: 3.8043 - accuracy: 0.5843\n",
      "Epoch 3/50\n",
      "391/391 [==============================] - 11s 27ms/step - loss: 3.5494 - accuracy: 0.6324\n",
      "Epoch 4/50\n",
      "391/391 [==============================] - 11s 27ms/step - loss: 3.2082 - accuracy: 0.6549\n",
      "Epoch 5/50\n",
      "391/391 [==============================] - 11s 27ms/step - loss: 2.8927 - accuracy: 0.6713\n",
      "Epoch 6/50\n",
      "391/391 [==============================] - 11s 27ms/step - loss: 2.7350 - accuracy: 0.6895\n",
      "Epoch 7/50\n",
      "391/391 [==============================] - 11s 27ms/step - loss: 2.5773 - accuracy: 0.6956\n",
      "Epoch 8/50\n",
      "391/391 [==============================] - 11s 27ms/step - loss: 2.3353 - accuracy: 0.7104\n",
      "Epoch 9/50\n",
      "391/391 [==============================] - 11s 27ms/step - loss: 2.3050 - accuracy: 0.7100\n",
      "Epoch 10/50\n",
      "391/391 [==============================] - 11s 27ms/step - loss: 2.1280 - accuracy: 0.7234\n",
      "Epoch 11/50\n",
      "391/391 [==============================] - 11s 27ms/step - loss: 2.0730 - accuracy: 0.7309\n",
      "Epoch 12/50\n",
      "391/391 [==============================] - 10s 27ms/step - loss: 1.9938 - accuracy: 0.7329\n",
      "Epoch 13/50\n",
      "391/391 [==============================] - 11s 27ms/step - loss: 1.9363 - accuracy: 0.7352\n",
      "Epoch 14/50\n",
      "391/391 [==============================] - 11s 27ms/step - loss: 1.8950 - accuracy: 0.7399\n",
      "Epoch 15/50\n",
      "391/391 [==============================] - 10s 27ms/step - loss: 1.8324 - accuracy: 0.7474\n",
      "Epoch 16/50\n",
      "391/391 [==============================] - 10s 27ms/step - loss: 1.8343 - accuracy: 0.7494\n",
      "Epoch 17/50\n",
      "391/391 [==============================] - 10s 27ms/step - loss: 1.8382 - accuracy: 0.7546\n",
      "Epoch 18/50\n",
      "391/391 [==============================] - 10s 27ms/step - loss: 1.8127 - accuracy: 0.7576\n",
      "Epoch 19/50\n",
      "391/391 [==============================] - 11s 27ms/step - loss: 1.8016 - accuracy: 0.7606\n",
      "Epoch 20/50\n",
      "391/391 [==============================] - 11s 27ms/step - loss: 1.7897 - accuracy: 0.7581\n",
      "Epoch 21/50\n",
      "391/391 [==============================] - 11s 27ms/step - loss: 1.7851 - accuracy: 0.7654\n",
      "Epoch 22/50\n",
      "391/391 [==============================] - 11s 27ms/step - loss: 1.7416 - accuracy: 0.7673\n",
      "Epoch 23/50\n",
      "391/391 [==============================] - 11s 27ms/step - loss: 1.7346 - accuracy: 0.7714\n",
      "Epoch 24/50\n",
      "391/391 [==============================] - 11s 27ms/step - loss: 1.7165 - accuracy: 0.7780\n",
      "Epoch 25/50\n",
      "391/391 [==============================] - 11s 27ms/step - loss: 1.7302 - accuracy: 0.7731\n",
      "Epoch 26/50\n",
      "391/391 [==============================] - 11s 28ms/step - loss: 1.7123 - accuracy: 0.7747\n",
      "Epoch 27/50\n",
      "391/391 [==============================] - 11s 28ms/step - loss: 1.6882 - accuracy: 0.7811\n",
      "Epoch 28/50\n",
      "391/391 [==============================] - 11s 27ms/step - loss: 1.6932 - accuracy: 0.7770\n",
      "Epoch 29/50\n",
      "391/391 [==============================] - 11s 27ms/step - loss: 1.6703 - accuracy: 0.7834\n",
      "Epoch 30/50\n",
      "391/391 [==============================] - 11s 27ms/step - loss: 1.6366 - accuracy: 0.7889\n",
      "Epoch 31/50\n",
      "391/391 [==============================] - 11s 27ms/step - loss: 1.6609 - accuracy: 0.7907\n",
      "Epoch 32/50\n",
      "391/391 [==============================] - 11s 27ms/step - loss: 1.6423 - accuracy: 0.7908\n",
      "Epoch 33/50\n",
      "391/391 [==============================] - 11s 27ms/step - loss: 1.6174 - accuracy: 0.7966\n",
      "Epoch 34/50\n",
      "391/391 [==============================] - 11s 27ms/step - loss: 1.6286 - accuracy: 0.7934\n",
      "Epoch 35/50\n",
      "391/391 [==============================] - 11s 27ms/step - loss: 1.5959 - accuracy: 0.8009\n",
      "Epoch 36/50\n",
      "391/391 [==============================] - 11s 27ms/step - loss: 1.5990 - accuracy: 0.7987\n",
      "Epoch 37/50\n",
      "391/391 [==============================] - 11s 27ms/step - loss: 1.5898 - accuracy: 0.7980\n",
      "Epoch 38/50\n",
      "391/391 [==============================] - 11s 27ms/step - loss: 1.5726 - accuracy: 0.8017\n",
      "Epoch 39/50\n",
      "391/391 [==============================] - 11s 27ms/step - loss: 1.5694 - accuracy: 0.8001\n",
      "Epoch 40/50\n",
      "391/391 [==============================] - 11s 27ms/step - loss: 1.5634 - accuracy: 0.8056\n",
      "Epoch 41/50\n",
      "391/391 [==============================] - 11s 27ms/step - loss: 1.5727 - accuracy: 0.8029\n",
      "Epoch 42/50\n",
      "391/391 [==============================] - 11s 27ms/step - loss: 1.5843 - accuracy: 0.8004\n",
      "Epoch 43/50\n",
      "391/391 [==============================] - 11s 27ms/step - loss: 1.5465 - accuracy: 0.8060\n",
      "Epoch 44/50\n",
      "391/391 [==============================] - 11s 27ms/step - loss: 1.5709 - accuracy: 0.8050\n",
      "Epoch 45/50\n",
      "391/391 [==============================] - 11s 27ms/step - loss: 1.5578 - accuracy: 0.8068\n",
      "Epoch 46/50\n",
      "391/391 [==============================] - 11s 27ms/step - loss: 1.5417 - accuracy: 0.8077\n",
      "Epoch 47/50\n",
      "391/391 [==============================] - 11s 27ms/step - loss: 1.5549 - accuracy: 0.8103\n",
      "Epoch 48/50\n",
      "391/391 [==============================] - 11s 27ms/step - loss: 1.5330 - accuracy: 0.8117\n",
      "Epoch 49/50\n",
      "391/391 [==============================] - 11s 27ms/step - loss: 1.5338 - accuracy: 0.8111\n",
      "Epoch 50/50\n",
      "391/391 [==============================] - 11s 27ms/step - loss: 1.5305 - accuracy: 0.8125\n"
     ]
    },
    {
     "data": {
      "text/plain": [
       "<tensorflow.python.keras.callbacks.History at 0x7f6aa0308b10>"
      ]
     },
     "execution_count": 14,
     "metadata": {
      "tags": []
     },
     "output_type": "execute_result"
    }
   ],
   "source": [
    "model.fit(x_train,y_train,batch_size=128,epochs=50)"
   ]
  },
  {
   "cell_type": "code",
   "execution_count": 15,
   "metadata": {
    "colab": {
     "base_uri": "https://localhost:8080/"
    },
    "id": "Q_rOCFwjouYV",
    "outputId": "cd8249d6-46ab-4d7d-d29b-ee73be8938ea"
   },
   "outputs": [
    {
     "name": "stderr",
     "output_type": "stream",
     "text": [
      "/usr/local/lib/python3.7/dist-packages/tensorflow/python/data/ops/dataset_ops.py:3504: UserWarning: Even though the tf.config.experimental_run_functions_eagerly option is set, this option does not apply to tf.data functions. tf.data functions are still traced and executed as graphs.\n",
      "  \"Even though the tf.config.experimental_run_functions_eagerly \"\n"
     ]
    },
    {
     "name": "stdout",
     "output_type": "stream",
     "text": [
      "Test Loss and Test Accuracy [1.8753591775894165, 0.7218999862670898]\n"
     ]
    }
   ],
   "source": [
    "  prediction_score = model.evaluate(x_test, y_test, verbose=0)\n",
    "\n",
    "  print('Test Loss and Test Accuracy', prediction_score)"
   ]
  },
  {
   "cell_type": "code",
   "execution_count": 15,
   "metadata": {
    "id": "Q_Y9YRR7oxbP"
   },
   "outputs": [],
   "source": []
  }
 ],
 "metadata": {
  "accelerator": "GPU",
  "colab": {
   "name": "dropout,batch_norm_after_conv_layer_L2_Normalization_after_fully _connected_layer.ipynb",
   "provenance": []
  },
  "kernelspec": {
   "display_name": "Python 3",
   "language": "python",
   "name": "python3"
  },
  "language_info": {
   "name": "python"
  }
 },
 "nbformat": 4,
 "nbformat_minor": 1
}
