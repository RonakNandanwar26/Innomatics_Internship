{
 "cells": [
  {
   "cell_type": "code",
   "execution_count": 1,
   "metadata": {
    "id": "ckaO0Guafe_x"
   },
   "outputs": [],
   "source": [
    "import tensorflow as tf\n",
    "import numpy as np\n",
    "from tensorflow import keras"
   ]
  },
  {
   "cell_type": "code",
   "execution_count": 2,
   "metadata": {
    "id": "FxhaIXUffsA7"
   },
   "outputs": [],
   "source": [
    "tf.config.run_functions_eagerly(True)"
   ]
  },
  {
   "cell_type": "code",
   "execution_count": 3,
   "metadata": {
    "id": "q5VgWHocftvC"
   },
   "outputs": [],
   "source": [
    "cifar10 = keras.datasets.cifar10"
   ]
  },
  {
   "cell_type": "code",
   "execution_count": 4,
   "metadata": {
    "colab": {
     "base_uri": "https://localhost:8080/"
    },
    "id": "9P5dGGTXf6wO",
    "outputId": "13878c10-6288-445a-cc3f-3ae552672586"
   },
   "outputs": [
    {
     "name": "stdout",
     "output_type": "stream",
     "text": [
      "Downloading data from https://www.cs.toronto.edu/~kriz/cifar-10-python.tar.gz\n",
      "170500096/170498071 [==============================] - 3s 0us/step\n"
     ]
    }
   ],
   "source": [
    "(x_train,y_train),(x_test,y_test) = cifar10.load_data()"
   ]
  },
  {
   "cell_type": "code",
   "execution_count": 5,
   "metadata": {
    "colab": {
     "base_uri": "https://localhost:8080/"
    },
    "id": "feATL70-gCzB",
    "outputId": "74de72de-cc69-4d2f-f1ea-3587ccd239d7"
   },
   "outputs": [
    {
     "data": {
      "text/plain": [
       "(50000, 32, 32, 3)"
      ]
     },
     "execution_count": 5,
     "metadata": {
      "tags": []
     },
     "output_type": "execute_result"
    }
   ],
   "source": [
    "x_train.shape"
   ]
  },
  {
   "cell_type": "code",
   "execution_count": 6,
   "metadata": {
    "colab": {
     "base_uri": "https://localhost:8080/"
    },
    "id": "0NWPov5bgDxc",
    "outputId": "a3eca07f-a829-4c24-bbe4-4c92c364d543"
   },
   "outputs": [
    {
     "data": {
      "text/plain": [
       "(50000, 1)"
      ]
     },
     "execution_count": 6,
     "metadata": {
      "tags": []
     },
     "output_type": "execute_result"
    }
   ],
   "source": [
    "y_train.shape"
   ]
  },
  {
   "cell_type": "code",
   "execution_count": 7,
   "metadata": {
    "id": "lYmcDjeCgFPR"
   },
   "outputs": [],
   "source": [
    "x_train = x_train/255\n",
    "x_test = x_test/255"
   ]
  },
  {
   "cell_type": "code",
   "execution_count": 8,
   "metadata": {
    "id": "xIKRGXHFgKnS"
   },
   "outputs": [],
   "source": [
    "from keras.utils import np_utils"
   ]
  },
  {
   "cell_type": "code",
   "execution_count": 9,
   "metadata": {
    "id": "6JGFJeBEgXdB"
   },
   "outputs": [],
   "source": [
    "y_train = np_utils.to_categorical(y_train)\n",
    "y_test = np_utils.to_categorical(y_test)"
   ]
  },
  {
   "cell_type": "code",
   "execution_count": 10,
   "metadata": {
    "colab": {
     "base_uri": "https://localhost:8080/"
    },
    "id": "E4R--hW6gfdy",
    "outputId": "d6cbdaaa-52b9-4163-d5e5-7c18c97afe0a"
   },
   "outputs": [
    {
     "data": {
      "text/plain": [
       "array([0., 0., 0., 0., 0., 0., 0., 0., 0., 1.], dtype=float32)"
      ]
     },
     "execution_count": 10,
     "metadata": {
      "tags": []
     },
     "output_type": "execute_result"
    }
   ],
   "source": [
    "y_train[1]"
   ]
  },
  {
   "cell_type": "code",
   "execution_count": 11,
   "metadata": {
    "id": "1oF8lbsHggcL"
   },
   "outputs": [],
   "source": [
    "from keras.models import Sequential\n",
    "from keras.layers import Dense,Conv2D,Flatten"
   ]
  },
  {
   "cell_type": "code",
   "execution_count": 12,
   "metadata": {
    "id": "kapISrZShKf2"
   },
   "outputs": [],
   "source": [
    "model = Sequential()\n",
    "model.add(Conv2D(64,kernel_size=(3,3),input_shape=(32,32,3),activation='relu',kernel_initializer='he_uniform'))\n",
    "model.add(Dense(256,kernel_regularizer='l2',activation='relu',kernel_initializer='he_uniform'))\n",
    "model.add(Flatten())\n",
    "model.add(Dense(128,kernel_regularizer='l2',activation='relu',kernel_initializer='he_uniform'))\n",
    "model.add(Flatten())\n",
    "model.add(Dense(10,activation='softmax'))"
   ]
  },
  {
   "cell_type": "code",
   "execution_count": 13,
   "metadata": {
    "id": "XEYdl4E3iXT3"
   },
   "outputs": [],
   "source": [
    "model.compile(optimizer='adam',loss='categorical_crossentropy',metrics=['accuracy'])"
   ]
  },
  {
   "cell_type": "code",
   "execution_count": 14,
   "metadata": {
    "colab": {
     "base_uri": "https://localhost:8080/"
    },
    "id": "qBmGgiSXi9U6",
    "outputId": "8ef9aacd-a094-4fb9-917b-9bae79920cda"
   },
   "outputs": [
    {
     "name": "stdout",
     "output_type": "stream",
     "text": [
      "Model: \"sequential\"\n",
      "_________________________________________________________________\n",
      "Layer (type)                 Output Shape              Param #   \n",
      "=================================================================\n",
      "conv2d (Conv2D)              (None, 30, 30, 64)        1792      \n",
      "_________________________________________________________________\n",
      "dense (Dense)                (None, 30, 30, 256)       16640     \n",
      "_________________________________________________________________\n",
      "flatten (Flatten)            (None, 230400)            0         \n",
      "_________________________________________________________________\n",
      "dense_1 (Dense)              (None, 128)               29491328  \n",
      "_________________________________________________________________\n",
      "flatten_1 (Flatten)          (None, 128)               0         \n",
      "_________________________________________________________________\n",
      "dense_2 (Dense)              (None, 10)                1290      \n",
      "=================================================================\n",
      "Total params: 29,511,050\n",
      "Trainable params: 29,511,050\n",
      "Non-trainable params: 0\n",
      "_________________________________________________________________\n"
     ]
    }
   ],
   "source": [
    "model.summary()"
   ]
  },
  {
   "cell_type": "code",
   "execution_count": 15,
   "metadata": {
    "colab": {
     "base_uri": "https://localhost:8080/"
    },
    "id": "Qxvx1pmDi_Am",
    "outputId": "81eb10fb-bfb7-4e43-84c6-a2308cd8a41a"
   },
   "outputs": [
    {
     "name": "stderr",
     "output_type": "stream",
     "text": [
      "/usr/local/lib/python3.7/dist-packages/tensorflow/python/data/ops/dataset_ops.py:3504: UserWarning: Even though the tf.config.experimental_run_functions_eagerly option is set, this option does not apply to tf.data functions. tf.data functions are still traced and executed as graphs.\n",
      "  \"Even though the tf.config.experimental_run_functions_eagerly \"\n"
     ]
    },
    {
     "name": "stdout",
     "output_type": "stream",
     "text": [
      "Epoch 1/50\n",
      "391/391 [==============================] - 46s 36ms/step - loss: 12.8531 - accuracy: 0.2440\n",
      "Epoch 2/50\n",
      "391/391 [==============================] - 14s 36ms/step - loss: 2.6601 - accuracy: 0.4145\n",
      "Epoch 3/50\n",
      "391/391 [==============================] - 14s 36ms/step - loss: 2.2285 - accuracy: 0.4581\n",
      "Epoch 4/50\n",
      "391/391 [==============================] - 14s 37ms/step - loss: 2.0013 - accuracy: 0.4834\n",
      "Epoch 5/50\n",
      "391/391 [==============================] - 14s 37ms/step - loss: 1.8612 - accuracy: 0.4921\n",
      "Epoch 6/50\n",
      "391/391 [==============================] - 14s 36ms/step - loss: 1.7542 - accuracy: 0.5009\n",
      "Epoch 7/50\n",
      "391/391 [==============================] - 14s 36ms/step - loss: 1.6878 - accuracy: 0.5086\n",
      "Epoch 8/50\n",
      "391/391 [==============================] - 14s 36ms/step - loss: 1.6422 - accuracy: 0.5116\n",
      "Epoch 9/50\n",
      "391/391 [==============================] - 14s 37ms/step - loss: 1.5937 - accuracy: 0.5197\n",
      "Epoch 10/50\n",
      "391/391 [==============================] - 14s 37ms/step - loss: 1.5758 - accuracy: 0.5152\n",
      "Epoch 11/50\n",
      "391/391 [==============================] - 14s 37ms/step - loss: 1.5375 - accuracy: 0.5271\n",
      "Epoch 12/50\n",
      "391/391 [==============================] - 14s 37ms/step - loss: 1.5367 - accuracy: 0.5263\n",
      "Epoch 13/50\n",
      "391/391 [==============================] - 14s 36ms/step - loss: 1.5154 - accuracy: 0.5313\n",
      "Epoch 14/50\n",
      "391/391 [==============================] - 14s 37ms/step - loss: 1.4947 - accuracy: 0.5372\n",
      "Epoch 15/50\n",
      "391/391 [==============================] - 14s 36ms/step - loss: 1.4814 - accuracy: 0.5393\n",
      "Epoch 16/50\n",
      "391/391 [==============================] - 14s 37ms/step - loss: 1.4666 - accuracy: 0.5451\n",
      "Epoch 17/50\n",
      "391/391 [==============================] - 14s 37ms/step - loss: 1.4543 - accuracy: 0.5504\n",
      "Epoch 18/50\n",
      "391/391 [==============================] - 14s 36ms/step - loss: 1.4386 - accuracy: 0.5530\n",
      "Epoch 19/50\n",
      "391/391 [==============================] - 14s 37ms/step - loss: 1.4420 - accuracy: 0.5552\n",
      "Epoch 20/50\n",
      "391/391 [==============================] - 14s 36ms/step - loss: 1.4277 - accuracy: 0.5576\n",
      "Epoch 21/50\n",
      "391/391 [==============================] - 14s 37ms/step - loss: 1.4120 - accuracy: 0.5661\n",
      "Epoch 22/50\n",
      "391/391 [==============================] - 14s 36ms/step - loss: 1.3984 - accuracy: 0.5677\n",
      "Epoch 23/50\n",
      "391/391 [==============================] - 14s 36ms/step - loss: 1.4106 - accuracy: 0.5641\n",
      "Epoch 24/50\n",
      "391/391 [==============================] - 14s 37ms/step - loss: 1.3952 - accuracy: 0.5702\n",
      "Epoch 25/50\n",
      "391/391 [==============================] - 14s 36ms/step - loss: 1.3872 - accuracy: 0.5699\n",
      "Epoch 26/50\n",
      "391/391 [==============================] - 14s 36ms/step - loss: 1.3642 - accuracy: 0.5807\n",
      "Epoch 27/50\n",
      "391/391 [==============================] - 14s 36ms/step - loss: 1.3809 - accuracy: 0.5727\n",
      "Epoch 28/50\n",
      "391/391 [==============================] - 14s 36ms/step - loss: 1.3709 - accuracy: 0.5769\n",
      "Epoch 29/50\n",
      "391/391 [==============================] - 14s 36ms/step - loss: 1.3692 - accuracy: 0.5763\n",
      "Epoch 30/50\n",
      "391/391 [==============================] - 14s 37ms/step - loss: 1.3581 - accuracy: 0.5812\n",
      "Epoch 31/50\n",
      "391/391 [==============================] - 14s 36ms/step - loss: 1.3564 - accuracy: 0.5838\n",
      "Epoch 32/50\n",
      "391/391 [==============================] - 14s 36ms/step - loss: 1.3542 - accuracy: 0.5832\n",
      "Epoch 33/50\n",
      "391/391 [==============================] - 14s 36ms/step - loss: 1.3439 - accuracy: 0.5869\n",
      "Epoch 34/50\n",
      "391/391 [==============================] - 14s 36ms/step - loss: 1.3439 - accuracy: 0.5862\n",
      "Epoch 35/50\n",
      "391/391 [==============================] - 14s 36ms/step - loss: 1.3348 - accuracy: 0.5951\n",
      "Epoch 36/50\n",
      "391/391 [==============================] - 14s 36ms/step - loss: 1.3407 - accuracy: 0.5898\n",
      "Epoch 37/50\n",
      "391/391 [==============================] - 14s 36ms/step - loss: 1.3381 - accuracy: 0.5885\n",
      "Epoch 38/50\n",
      "391/391 [==============================] - 14s 36ms/step - loss: 1.3324 - accuracy: 0.5944\n",
      "Epoch 39/50\n",
      "391/391 [==============================] - 14s 36ms/step - loss: 1.3260 - accuracy: 0.5941\n",
      "Epoch 40/50\n",
      "391/391 [==============================] - 14s 36ms/step - loss: 1.3145 - accuracy: 0.5993\n",
      "Epoch 41/50\n",
      "391/391 [==============================] - 14s 36ms/step - loss: 1.3379 - accuracy: 0.5920\n",
      "Epoch 42/50\n",
      "391/391 [==============================] - 14s 36ms/step - loss: 1.3147 - accuracy: 0.5999\n",
      "Epoch 43/50\n",
      "391/391 [==============================] - 14s 36ms/step - loss: 1.3099 - accuracy: 0.6032\n",
      "Epoch 44/50\n",
      "391/391 [==============================] - 14s 36ms/step - loss: 1.3174 - accuracy: 0.5971\n",
      "Epoch 45/50\n",
      "391/391 [==============================] - 14s 36ms/step - loss: 1.2982 - accuracy: 0.6044\n",
      "Epoch 46/50\n",
      "391/391 [==============================] - 14s 36ms/step - loss: 1.3015 - accuracy: 0.6078\n",
      "Epoch 47/50\n",
      "391/391 [==============================] - 14s 36ms/step - loss: 1.2939 - accuracy: 0.6078\n",
      "Epoch 48/50\n",
      "391/391 [==============================] - 14s 36ms/step - loss: 1.2974 - accuracy: 0.6110\n",
      "Epoch 49/50\n",
      "391/391 [==============================] - 14s 36ms/step - loss: 1.2790 - accuracy: 0.6184\n",
      "Epoch 50/50\n",
      "391/391 [==============================] - 14s 36ms/step - loss: 1.2851 - accuracy: 0.6155\n"
     ]
    },
    {
     "data": {
      "text/plain": [
       "<tensorflow.python.keras.callbacks.History at 0x7f75304eeb50>"
      ]
     },
     "execution_count": 15,
     "metadata": {
      "tags": []
     },
     "output_type": "execute_result"
    }
   ],
   "source": [
    "model.fit(x_train,y_train,batch_size=128,epochs=50)"
   ]
  },
  {
   "cell_type": "code",
   "execution_count": 16,
   "metadata": {
    "colab": {
     "base_uri": "https://localhost:8080/"
    },
    "id": "7DAG-PRvjRLW",
    "outputId": "890a90a7-bf03-496d-cffc-4bb346b2b288"
   },
   "outputs": [
    {
     "name": "stderr",
     "output_type": "stream",
     "text": [
      "/usr/local/lib/python3.7/dist-packages/tensorflow/python/data/ops/dataset_ops.py:3504: UserWarning: Even though the tf.config.experimental_run_functions_eagerly option is set, this option does not apply to tf.data functions. tf.data functions are still traced and executed as graphs.\n",
      "  \"Even though the tf.config.experimental_run_functions_eagerly \"\n"
     ]
    },
    {
     "name": "stdout",
     "output_type": "stream",
     "text": [
      "Test Loss and Test Accuracy [1.353132963180542, 0.5885000228881836]\n"
     ]
    }
   ],
   "source": [
    "  prediction_score = model.evaluate(x_test, y_test, verbose=0)\n",
    "\n",
    "  print('Test Loss and Test Accuracy', prediction_score)"
   ]
  },
  {
   "cell_type": "code",
   "execution_count": 16,
   "metadata": {
    "id": "CwfLBn6GjWgf"
   },
   "outputs": [],
   "source": []
  }
 ],
 "metadata": {
  "accelerator": "GPU",
  "colab": {
   "name": "CNN_with_L2_Regularization.ipynb",
   "provenance": []
  },
  "kernelspec": {
   "display_name": "Python 3",
   "language": "python",
   "name": "python3"
  },
  "language_info": {
   "name": "python"
  }
 },
 "nbformat": 4,
 "nbformat_minor": 1
}
