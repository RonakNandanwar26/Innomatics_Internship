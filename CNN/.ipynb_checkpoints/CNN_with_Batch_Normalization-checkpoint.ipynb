{
 "cells": [
  {
   "cell_type": "code",
   "execution_count": 17,
   "metadata": {
    "id": "ylc9BY6Ya33c"
   },
   "outputs": [],
   "source": [
    "import numpy as np\n",
    "import tensorflow as tf\n",
    "from tensorflow import keras"
   ]
  },
  {
   "cell_type": "code",
   "execution_count": 18,
   "metadata": {
    "id": "HAcyxqQ_bGor"
   },
   "outputs": [],
   "source": [
    "tf.config.run_functions_eagerly(True)"
   ]
  },
  {
   "cell_type": "code",
   "execution_count": 19,
   "metadata": {
    "id": "sf0ViyA-bKkn"
   },
   "outputs": [],
   "source": [
    "cifar10 = keras.datasets.cifar10"
   ]
  },
  {
   "cell_type": "code",
   "execution_count": 20,
   "metadata": {
    "id": "OARDIbZ2bPcV"
   },
   "outputs": [],
   "source": [
    "(x_train,y_train),(x_test,y_test) = cifar10.load_data()"
   ]
  },
  {
   "cell_type": "code",
   "execution_count": 21,
   "metadata": {
    "colab": {
     "base_uri": "https://localhost:8080/"
    },
    "id": "TW5JTOfmbUpk",
    "outputId": "43b83b85-5025-4d9a-c81e-9663251d23cf"
   },
   "outputs": [
    {
     "data": {
      "text/plain": [
       "(50000, 32, 32, 3)"
      ]
     },
     "execution_count": 21,
     "metadata": {
      "tags": []
     },
     "output_type": "execute_result"
    }
   ],
   "source": [
    "x_train.shape"
   ]
  },
  {
   "cell_type": "code",
   "execution_count": 22,
   "metadata": {
    "colab": {
     "base_uri": "https://localhost:8080/"
    },
    "id": "cIQtAq4cbVme",
    "outputId": "1ddb96b4-b97b-4bbf-8427-1ab8edd64299"
   },
   "outputs": [
    {
     "data": {
      "text/plain": [
       "(50000, 1)"
      ]
     },
     "execution_count": 22,
     "metadata": {
      "tags": []
     },
     "output_type": "execute_result"
    }
   ],
   "source": [
    "y_train.shape"
   ]
  },
  {
   "cell_type": "code",
   "execution_count": 23,
   "metadata": {
    "id": "SbwYu8XEbXuf"
   },
   "outputs": [],
   "source": [
    "x_train = x_train/255\n",
    "x_test = x_test/255"
   ]
  },
  {
   "cell_type": "code",
   "execution_count": 24,
   "metadata": {
    "id": "jpoxwnh8bgt8"
   },
   "outputs": [],
   "source": [
    "from keras.utils import np_utils"
   ]
  },
  {
   "cell_type": "code",
   "execution_count": 25,
   "metadata": {
    "id": "Pjs__xv3brEY"
   },
   "outputs": [],
   "source": [
    "y_train = np_utils.to_categorical(y_train)\n",
    "y_test = np_utils.to_categorical(y_test)"
   ]
  },
  {
   "cell_type": "code",
   "execution_count": 26,
   "metadata": {
    "colab": {
     "base_uri": "https://localhost:8080/"
    },
    "id": "_IftG-EJby2K",
    "outputId": "9cf5cbf7-ae2f-42c9-ec47-b1bf7ea5aea9"
   },
   "outputs": [
    {
     "data": {
      "text/plain": [
       "array([0., 0., 0., 0., 0., 0., 0., 0., 0., 1.], dtype=float32)"
      ]
     },
     "execution_count": 26,
     "metadata": {
      "tags": []
     },
     "output_type": "execute_result"
    }
   ],
   "source": [
    "y_train[1]"
   ]
  },
  {
   "cell_type": "code",
   "execution_count": 27,
   "metadata": {
    "id": "YKujm7g2b1WC"
   },
   "outputs": [],
   "source": [
    "from keras.models import Sequential\n",
    "from keras.layers import Dense,BatchNormalization,Conv2D,Flatten"
   ]
  },
  {
   "cell_type": "code",
   "execution_count": 30,
   "metadata": {
    "id": "M4e_Cxi9cE9V"
   },
   "outputs": [],
   "source": [
    "model = Sequential()\n",
    "model.add(Conv2D(64,kernel_size=(3,3),input_shape=(32,32,3),activation='relu',kernel_initializer='he_normal'))\n",
    "model.add(BatchNormalization())\n",
    "model.add(Conv2D(128,(3,3),activation='relu',kernel_initializer='he_normal'))\n",
    "model.add(Flatten())\n",
    "model.add(BatchNormalization())\n",
    "model.add(Dense(64,activation='relu',kernel_initializer='he_normal'))\n",
    "model.add(Flatten())\n",
    "model.add(BatchNormalization())\n",
    "model.add(Dense(10,activation='softmax'))"
   ]
  },
  {
   "cell_type": "code",
   "execution_count": 31,
   "metadata": {
    "id": "LxxdDVBnc3t9"
   },
   "outputs": [],
   "source": [
    "model.compile(optimizer='adadelta',loss='categorical_crossentropy',metrics=['accuracy'])"
   ]
  },
  {
   "cell_type": "code",
   "execution_count": 32,
   "metadata": {
    "colab": {
     "base_uri": "https://localhost:8080/"
    },
    "id": "DSWTAmLbdlTz",
    "outputId": "27591e88-aa4a-4377-9719-aa8abcfd97af"
   },
   "outputs": [
    {
     "name": "stdout",
     "output_type": "stream",
     "text": [
      "Model: \"sequential_2\"\n",
      "_________________________________________________________________\n",
      "Layer (type)                 Output Shape              Param #   \n",
      "=================================================================\n",
      "conv2d_4 (Conv2D)            (None, 30, 30, 64)        1792      \n",
      "_________________________________________________________________\n",
      "batch_normalization_4 (Batch (None, 30, 30, 64)        256       \n",
      "_________________________________________________________________\n",
      "conv2d_5 (Conv2D)            (None, 28, 28, 128)       73856     \n",
      "_________________________________________________________________\n",
      "flatten_1 (Flatten)          (None, 100352)            0         \n",
      "_________________________________________________________________\n",
      "batch_normalization_5 (Batch (None, 100352)            401408    \n",
      "_________________________________________________________________\n",
      "dense_2 (Dense)              (None, 64)                6422592   \n",
      "_________________________________________________________________\n",
      "flatten_2 (Flatten)          (None, 64)                0         \n",
      "_________________________________________________________________\n",
      "batch_normalization_6 (Batch (None, 64)                256       \n",
      "_________________________________________________________________\n",
      "dense_3 (Dense)              (None, 10)                650       \n",
      "=================================================================\n",
      "Total params: 6,900,810\n",
      "Trainable params: 6,699,850\n",
      "Non-trainable params: 200,960\n",
      "_________________________________________________________________\n"
     ]
    }
   ],
   "source": [
    "model.summary()"
   ]
  },
  {
   "cell_type": "code",
   "execution_count": 33,
   "metadata": {
    "colab": {
     "base_uri": "https://localhost:8080/"
    },
    "id": "JUAtlqD3dn3W",
    "outputId": "20e74612-dfa1-4593-e435-a1d0923131e5"
   },
   "outputs": [
    {
     "name": "stderr",
     "output_type": "stream",
     "text": [
      "/usr/local/lib/python3.7/dist-packages/tensorflow/python/data/ops/dataset_ops.py:3504: UserWarning: Even though the tf.config.experimental_run_functions_eagerly option is set, this option does not apply to tf.data functions. tf.data functions are still traced and executed as graphs.\n",
      "  \"Even though the tf.config.experimental_run_functions_eagerly \"\n"
     ]
    },
    {
     "name": "stdout",
     "output_type": "stream",
     "text": [
      "Epoch 1/50\n",
      "391/391 [==============================] - 48s 39ms/step - loss: 2.3528 - accuracy: 0.2210\n",
      "Epoch 2/50\n",
      "391/391 [==============================] - 15s 39ms/step - loss: 1.7757 - accuracy: 0.3796\n",
      "Epoch 3/50\n",
      "391/391 [==============================] - 15s 39ms/step - loss: 1.6153 - accuracy: 0.4371\n",
      "Epoch 4/50\n",
      "391/391 [==============================] - 15s 39ms/step - loss: 1.5101 - accuracy: 0.4767\n",
      "Epoch 5/50\n",
      "391/391 [==============================] - 15s 39ms/step - loss: 1.4339 - accuracy: 0.5014\n",
      "Epoch 6/50\n",
      "391/391 [==============================] - 15s 39ms/step - loss: 1.3739 - accuracy: 0.5257\n",
      "Epoch 7/50\n",
      "391/391 [==============================] - 15s 39ms/step - loss: 1.3159 - accuracy: 0.5505\n",
      "Epoch 8/50\n",
      "391/391 [==============================] - 15s 39ms/step - loss: 1.2853 - accuracy: 0.5611\n",
      "Epoch 9/50\n",
      "391/391 [==============================] - 15s 39ms/step - loss: 1.2476 - accuracy: 0.5720\n",
      "Epoch 10/50\n",
      "391/391 [==============================] - 15s 39ms/step - loss: 1.2191 - accuracy: 0.5855\n",
      "Epoch 11/50\n",
      "391/391 [==============================] - 15s 39ms/step - loss: 1.1762 - accuracy: 0.6022\n",
      "Epoch 12/50\n",
      "391/391 [==============================] - 15s 39ms/step - loss: 1.1486 - accuracy: 0.6140\n",
      "Epoch 13/50\n",
      "391/391 [==============================] - 15s 39ms/step - loss: 1.1178 - accuracy: 0.6261\n",
      "Epoch 14/50\n",
      "391/391 [==============================] - 15s 39ms/step - loss: 1.0996 - accuracy: 0.6325\n",
      "Epoch 15/50\n",
      "391/391 [==============================] - 15s 39ms/step - loss: 1.0833 - accuracy: 0.6417\n",
      "Epoch 16/50\n",
      "391/391 [==============================] - 15s 39ms/step - loss: 1.0464 - accuracy: 0.6572\n",
      "Epoch 17/50\n",
      "391/391 [==============================] - 15s 39ms/step - loss: 1.0267 - accuracy: 0.6626\n",
      "Epoch 18/50\n",
      "391/391 [==============================] - 15s 39ms/step - loss: 1.0043 - accuracy: 0.6738\n",
      "Epoch 19/50\n",
      "391/391 [==============================] - 15s 39ms/step - loss: 0.9878 - accuracy: 0.6800\n",
      "Epoch 20/50\n",
      "391/391 [==============================] - 15s 39ms/step - loss: 0.9587 - accuracy: 0.6925\n",
      "Epoch 21/50\n",
      "391/391 [==============================] - 15s 39ms/step - loss: 0.9470 - accuracy: 0.6979\n",
      "Epoch 22/50\n",
      "391/391 [==============================] - 15s 39ms/step - loss: 0.9320 - accuracy: 0.7038\n",
      "Epoch 23/50\n",
      "391/391 [==============================] - 15s 39ms/step - loss: 0.9095 - accuracy: 0.7152\n",
      "Epoch 24/50\n",
      "391/391 [==============================] - 15s 39ms/step - loss: 0.8949 - accuracy: 0.7210\n",
      "Epoch 25/50\n",
      "391/391 [==============================] - 15s 39ms/step - loss: 0.8811 - accuracy: 0.7253\n",
      "Epoch 26/50\n",
      "391/391 [==============================] - 15s 39ms/step - loss: 0.8623 - accuracy: 0.7353\n",
      "Epoch 27/50\n",
      "391/391 [==============================] - 15s 40ms/step - loss: 0.8431 - accuracy: 0.7448\n",
      "Epoch 28/50\n",
      "391/391 [==============================] - 15s 39ms/step - loss: 0.8258 - accuracy: 0.7517\n",
      "Epoch 29/50\n",
      "391/391 [==============================] - 15s 39ms/step - loss: 0.8133 - accuracy: 0.7570\n",
      "Epoch 30/50\n",
      "391/391 [==============================] - 15s 39ms/step - loss: 0.8017 - accuracy: 0.7638\n",
      "Epoch 31/50\n",
      "391/391 [==============================] - 15s 39ms/step - loss: 0.7883 - accuracy: 0.7694\n",
      "Epoch 32/50\n",
      "391/391 [==============================] - 15s 39ms/step - loss: 0.7698 - accuracy: 0.7749\n",
      "Epoch 33/50\n",
      "391/391 [==============================] - 15s 39ms/step - loss: 0.7559 - accuracy: 0.7821\n",
      "Epoch 34/50\n",
      "391/391 [==============================] - 15s 39ms/step - loss: 0.7431 - accuracy: 0.7877\n",
      "Epoch 35/50\n",
      "391/391 [==============================] - 15s 39ms/step - loss: 0.7363 - accuracy: 0.7902\n",
      "Epoch 36/50\n",
      "391/391 [==============================] - 15s 39ms/step - loss: 0.7126 - accuracy: 0.8023\n",
      "Epoch 37/50\n",
      "391/391 [==============================] - 15s 39ms/step - loss: 0.7033 - accuracy: 0.8072\n",
      "Epoch 38/50\n",
      "391/391 [==============================] - 15s 39ms/step - loss: 0.6938 - accuracy: 0.8115\n",
      "Epoch 39/50\n",
      "391/391 [==============================] - 15s 39ms/step - loss: 0.6820 - accuracy: 0.8175\n",
      "Epoch 40/50\n",
      "391/391 [==============================] - 15s 39ms/step - loss: 0.6693 - accuracy: 0.8210\n",
      "Epoch 41/50\n",
      "391/391 [==============================] - 15s 39ms/step - loss: 0.6597 - accuracy: 0.8270\n",
      "Epoch 42/50\n",
      "391/391 [==============================] - 15s 39ms/step - loss: 0.6473 - accuracy: 0.8296\n",
      "Epoch 43/50\n",
      "391/391 [==============================] - 15s 39ms/step - loss: 0.6305 - accuracy: 0.8406\n",
      "Epoch 44/50\n",
      "391/391 [==============================] - 15s 39ms/step - loss: 0.6252 - accuracy: 0.8422\n",
      "Epoch 45/50\n",
      "391/391 [==============================] - 15s 39ms/step - loss: 0.6154 - accuracy: 0.8497\n",
      "Epoch 46/50\n",
      "391/391 [==============================] - 15s 39ms/step - loss: 0.6015 - accuracy: 0.8519\n",
      "Epoch 47/50\n",
      "391/391 [==============================] - 15s 39ms/step - loss: 0.5941 - accuracy: 0.8555\n",
      "Epoch 48/50\n",
      "391/391 [==============================] - 15s 39ms/step - loss: 0.5828 - accuracy: 0.8613\n",
      "Epoch 49/50\n",
      "391/391 [==============================] - 15s 39ms/step - loss: 0.5720 - accuracy: 0.8656\n",
      "Epoch 50/50\n",
      "391/391 [==============================] - 15s 39ms/step - loss: 0.5643 - accuracy: 0.8727\n"
     ]
    },
    {
     "data": {
      "text/plain": [
       "<tensorflow.python.keras.callbacks.History at 0x7f88363dced0>"
      ]
     },
     "execution_count": 33,
     "metadata": {
      "tags": []
     },
     "output_type": "execute_result"
    }
   ],
   "source": [
    "model.fit(x_train,y_train,batch_size=128,epochs=50)"
   ]
  },
  {
   "cell_type": "code",
   "execution_count": 34,
   "metadata": {
    "colab": {
     "base_uri": "https://localhost:8080/"
    },
    "id": "gK57yCRFeQAK",
    "outputId": "60b20ad5-147d-4f0b-9d31-8101c7115ccb"
   },
   "outputs": [
    {
     "name": "stderr",
     "output_type": "stream",
     "text": [
      "/usr/local/lib/python3.7/dist-packages/tensorflow/python/data/ops/dataset_ops.py:3504: UserWarning: Even though the tf.config.experimental_run_functions_eagerly option is set, this option does not apply to tf.data functions. tf.data functions are still traced and executed as graphs.\n",
      "  \"Even though the tf.config.experimental_run_functions_eagerly \"\n"
     ]
    },
    {
     "name": "stdout",
     "output_type": "stream",
     "text": [
      "Test Loss and Test Accuracy [1.1831483840942383, 0.5913000106811523]\n"
     ]
    }
   ],
   "source": [
    "prediction_score = model.evaluate(x_test, y_test, verbose=0)\n",
    "\n",
    "print('Test Loss and Test Accuracy', prediction_score)"
   ]
  },
  {
   "cell_type": "code",
   "execution_count": null,
   "metadata": {
    "id": "FkLeZAQ7fE0E"
   },
   "outputs": [],
   "source": []
  }
 ],
 "metadata": {
  "accelerator": "GPU",
  "colab": {
   "name": "CNN_with_Batch_Normalization.ipynb",
   "provenance": []
  },
  "kernelspec": {
   "display_name": "Python 3",
   "language": "python",
   "name": "python3"
  },
  "language_info": {
   "name": "python"
  }
 },
 "nbformat": 4,
 "nbformat_minor": 1
}
