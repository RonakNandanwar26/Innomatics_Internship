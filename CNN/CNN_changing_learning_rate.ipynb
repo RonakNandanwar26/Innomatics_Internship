{
 "cells": [
  {
   "cell_type": "code",
   "execution_count": 1,
   "metadata": {
    "id": "PcX_DfmqRprq"
   },
   "outputs": [],
   "source": [
    "import pandas as pd\n",
    "import numpy as np"
   ]
  },
  {
   "cell_type": "code",
   "execution_count": 2,
   "metadata": {
    "id": "eNsrb3EjRvA6"
   },
   "outputs": [],
   "source": [
    "from tensorflow import keras"
   ]
  },
  {
   "cell_type": "code",
   "execution_count": 3,
   "metadata": {
    "id": "nQiAvAuDRzGx"
   },
   "outputs": [],
   "source": [
    "cifar10 = keras.datasets.cifar10"
   ]
  },
  {
   "cell_type": "code",
   "execution_count": 4,
   "metadata": {
    "colab": {
     "base_uri": "https://localhost:8080/"
    },
    "id": "88HAM67HR0QH",
    "outputId": "22b10b07-954d-45e4-98ce-a6cd65350f24"
   },
   "outputs": [
    {
     "name": "stdout",
     "output_type": "stream",
     "text": [
      "Downloading data from https://www.cs.toronto.edu/~kriz/cifar-10-python.tar.gz\n",
      "170500096/170498071 [==============================] - 2s 0us/step\n"
     ]
    }
   ],
   "source": [
    "(x_train,y_train),(x_test,y_test) = cifar10.load_data()"
   ]
  },
  {
   "cell_type": "code",
   "execution_count": 5,
   "metadata": {
    "id": "KLMt7uJRR16m"
   },
   "outputs": [],
   "source": [
    "x_train = x_train/255\n",
    "x_test = x_test/255"
   ]
  },
  {
   "cell_type": "code",
   "execution_count": 6,
   "metadata": {
    "id": "-0zBCmgIR3qf"
   },
   "outputs": [],
   "source": [
    "from keras.utils import np_utils\n",
    "from keras.models import Sequential \n",
    "from keras.layers import Dense, Dropout, BatchNormalization\n",
    "from keras.layers import Conv2D, MaxPooling2D, Flatten"
   ]
  },
  {
   "cell_type": "code",
   "execution_count": 7,
   "metadata": {
    "id": "huS3Eh8gR5NG"
   },
   "outputs": [],
   "source": [
    "y_train = np_utils.to_categorical(y_train, 10) \n",
    "y_test = np_utils.to_categorical(y_test, 10)"
   ]
  },
  {
   "cell_type": "code",
   "execution_count": 8,
   "metadata": {
    "id": "6-1EmdCAR6hg"
   },
   "outputs": [],
   "source": [
    "model = Sequential()\n",
    "# conv3-32\n",
    "model.add(Conv2D(64, kernel_size=(3, 3), padding='same', input_shape=(32, 32, 3), activation='relu', kernel_initializer='he_normal'))\n",
    "\n",
    "# conv3-64\n",
    "model.add(Conv2D(128, (3, 3), activation='relu', kernel_initializer='he_normal'))\n",
    "\n",
    "# Maxpooling\n",
    "model.add(MaxPooling2D(pool_size=(2, 2)))\n",
    "model.add(Dropout(0.25))\n",
    "\n",
    "# Flatten\n",
    "model.add(Flatten())\n",
    "\n",
    "# FC-128\n",
    "model.add(Dense(128, activation='relu', kernel_initializer='he_normal'))\n",
    "model.add(Dropout(0.5))\n",
    "\n",
    "# FC-10\n",
    "model.add(Dense(10, activation='softmax'))\n",
    "\n",
    "\n",
    "# STEP-2 Compile the Model\n",
    "model.compile(optimizer=keras.optimizers.Adam(learning_rate=0.01), loss='categorical_crossentropy', metrics=['accuracy'])"
   ]
  },
  {
   "cell_type": "code",
   "execution_count": 9,
   "metadata": {
    "colab": {
     "base_uri": "https://localhost:8080/"
    },
    "id": "joraN2-rSQCI",
    "outputId": "bce988e7-061e-4a57-c47f-689e83bdab29"
   },
   "outputs": [
    {
     "name": "stdout",
     "output_type": "stream",
     "text": [
      "Epoch 1/10\n",
      "391/391 [==============================] - 40s 17ms/step - loss: 4.1610 - accuracy: 0.2700\n",
      "Epoch 2/10\n",
      "391/391 [==============================] - 7s 17ms/step - loss: 1.5538 - accuracy: 0.4381\n",
      "Epoch 3/10\n",
      "391/391 [==============================] - 7s 17ms/step - loss: 1.4741 - accuracy: 0.4642\n",
      "Epoch 4/10\n",
      "391/391 [==============================] - 7s 17ms/step - loss: 1.4582 - accuracy: 0.4778\n",
      "Epoch 5/10\n",
      "391/391 [==============================] - 7s 17ms/step - loss: 1.4229 - accuracy: 0.4875\n",
      "Epoch 6/10\n",
      "391/391 [==============================] - 7s 17ms/step - loss: 1.4042 - accuracy: 0.4971\n",
      "Epoch 7/10\n",
      "391/391 [==============================] - 7s 17ms/step - loss: 1.3965 - accuracy: 0.4983\n",
      "Epoch 8/10\n",
      "391/391 [==============================] - 7s 17ms/step - loss: 1.3797 - accuracy: 0.5121\n",
      "Epoch 9/10\n",
      "391/391 [==============================] - 7s 17ms/step - loss: 1.3759 - accuracy: 0.5070\n",
      "Epoch 10/10\n",
      "391/391 [==============================] - 7s 17ms/step - loss: 1.3601 - accuracy: 0.5125\n"
     ]
    },
    {
     "data": {
      "text/plain": [
       "<tensorflow.python.keras.callbacks.History at 0x7fdbb05c0b50>"
      ]
     },
     "execution_count": 9,
     "metadata": {
      "tags": []
     },
     "output_type": "execute_result"
    }
   ],
   "source": [
    "model.fit(x_train, y_train, batch_size=128, epochs=10)"
   ]
  },
  {
   "cell_type": "code",
   "execution_count": 10,
   "metadata": {
    "colab": {
     "base_uri": "https://localhost:8080/"
    },
    "id": "JfNwRoygSSPt",
    "outputId": "8932ac30-6514-43f0-eeb1-9b8851e43560"
   },
   "outputs": [
    {
     "name": "stdout",
     "output_type": "stream",
     "text": [
      "Test Loss and Test Accuracy [1.236219882965088, 0.5636000037193298]\n"
     ]
    }
   ],
   "source": [
    "\n",
    "prediction_score = model.evaluate(x_test, y_test, verbose=0)\n",
    "\n",
    "print('Test Loss and Test Accuracy', prediction_score)"
   ]
  },
  {
   "cell_type": "code",
   "execution_count": 10,
   "metadata": {
    "id": "PaXIlwjaSYmr"
   },
   "outputs": [],
   "source": []
  }
 ],
 "metadata": {
  "accelerator": "GPU",
  "colab": {
   "collapsed_sections": [],
   "name": "CNN_changing_learning_rate.ipynb",
   "provenance": []
  },
  "kernelspec": {
   "display_name": "Python 3",
   "language": "python",
   "name": "python3"
  },
  "language_info": {
   "name": "python"
  }
 },
 "nbformat": 4,
 "nbformat_minor": 1
}
