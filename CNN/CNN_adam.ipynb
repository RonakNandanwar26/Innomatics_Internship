{
 "cells": [
  {
   "cell_type": "code",
   "execution_count": null,
   "metadata": {
    "id": "BZbMlR795Z_Q"
   },
   "outputs": [],
   "source": [
    "import pandas as pd\n",
    "import numpy as np"
   ]
  },
  {
   "cell_type": "code",
   "execution_count": null,
   "metadata": {
    "id": "VKS7wooX55lP"
   },
   "outputs": [],
   "source": [
    "from tensorflow import keras"
   ]
  },
  {
   "cell_type": "code",
   "execution_count": null,
   "metadata": {
    "id": "Mhyb02VO6NN-"
   },
   "outputs": [],
   "source": [
    "cifar10 = keras.datasets.cifar10"
   ]
  },
  {
   "cell_type": "code",
   "execution_count": null,
   "metadata": {
    "colab": {
     "base_uri": "https://localhost:8080/"
    },
    "id": "oPQaonnE6QkS",
    "outputId": "e63716a9-cdbb-413c-87ac-1c1aa2582a0a"
   },
   "outputs": [
    {
     "name": "stdout",
     "output_type": "stream",
     "text": [
      "Downloading data from https://www.cs.toronto.edu/~kriz/cifar-10-python.tar.gz\n",
      "170500096/170498071 [==============================] - 4s 0us/step\n"
     ]
    }
   ],
   "source": [
    "(x_train,y_train),(x_test,y_test) = cifar10.load_data()"
   ]
  },
  {
   "cell_type": "code",
   "execution_count": null,
   "metadata": {
    "colab": {
     "base_uri": "https://localhost:8080/"
    },
    "id": "ev85JRpX6XXG",
    "outputId": "a19fdb26-dba9-4b18-fd89-0c07fbc96724"
   },
   "outputs": [
    {
     "data": {
      "text/plain": [
       "(50000, 32, 32, 3)"
      ]
     },
     "execution_count": 5,
     "metadata": {
      "tags": []
     },
     "output_type": "execute_result"
    }
   ],
   "source": [
    "x_train.shape"
   ]
  },
  {
   "cell_type": "code",
   "execution_count": null,
   "metadata": {
    "colab": {
     "base_uri": "https://localhost:8080/"
    },
    "id": "0wrtX5S96aFg",
    "outputId": "d040110a-a301-463f-97b3-ce2be10d29fd"
   },
   "outputs": [
    {
     "data": {
      "text/plain": [
       "(10000, 32, 32, 3)"
      ]
     },
     "execution_count": 6,
     "metadata": {
      "tags": []
     },
     "output_type": "execute_result"
    }
   ],
   "source": [
    "x_test.shape"
   ]
  },
  {
   "cell_type": "code",
   "execution_count": null,
   "metadata": {
    "colab": {
     "base_uri": "https://localhost:8080/"
    },
    "id": "o520q_yG6bS2",
    "outputId": "36ca78d4-ba71-41ce-c211-6bbd0f301d47"
   },
   "outputs": [
    {
     "data": {
      "text/plain": [
       "(50000, 1)"
      ]
     },
     "execution_count": 7,
     "metadata": {
      "tags": []
     },
     "output_type": "execute_result"
    }
   ],
   "source": [
    "y_train.shape"
   ]
  },
  {
   "cell_type": "code",
   "execution_count": null,
   "metadata": {
    "colab": {
     "base_uri": "https://localhost:8080/"
    },
    "id": "MjTPco6I6clr",
    "outputId": "a1c3abfe-dcdd-4399-8485-4544e73bcc00"
   },
   "outputs": [
    {
     "data": {
      "text/plain": [
       "(10000, 1)"
      ]
     },
     "execution_count": 8,
     "metadata": {
      "tags": []
     },
     "output_type": "execute_result"
    }
   ],
   "source": [
    "y_test.shape"
   ]
  },
  {
   "cell_type": "code",
   "execution_count": null,
   "metadata": {
    "id": "YDxNg83i6dkG"
   },
   "outputs": [],
   "source": [
    "x_train = x_train/255\n",
    "x_test = x_test/255"
   ]
  },
  {
   "cell_type": "code",
   "execution_count": null,
   "metadata": {
    "id": "-TDeav836yeg"
   },
   "outputs": [],
   "source": [
    "y_train = np_utils.to_categorical(y_train, 10) \n",
    "y_test = np_utils.to_categorical(y_test, 10)\n"
   ]
  },
  {
   "cell_type": "code",
   "execution_count": null,
   "metadata": {
    "id": "O9PAKMm00m0o"
   },
   "outputs": [],
   "source": [
    "from keras.utils import np_utils\n",
    "from keras.models import Sequential \n",
    "from keras.layers import Dense, Dropout, BatchNormalization\n",
    "from keras.layers import Conv2D, MaxPooling2D, Flatten"
   ]
  },
  {
   "cell_type": "code",
   "execution_count": null,
   "metadata": {
    "colab": {
     "base_uri": "https://localhost:8080/",
     "height": 374
    },
    "id": "Aus7rx0m63Ja",
    "outputId": "d8fb1e10-6b84-4bd2-efe2-6a259703117b"
   },
   "outputs": [
    {
     "ename": "TypeError",
     "evalue": "ignored",
     "output_type": "error",
     "traceback": [
      "\u001b[0;31m---------------------------------------------------------------------------\u001b[0m",
      "\u001b[0;31mTypeError\u001b[0m                                 Traceback (most recent call last)",
      "\u001b[0;32m<ipython-input-25-c6fa5c811a9b>\u001b[0m in \u001b[0;36m<module>\u001b[0;34m()\u001b[0m\n\u001b[1;32m     24\u001b[0m \u001b[0;34m\u001b[0m\u001b[0m\n\u001b[1;32m     25\u001b[0m \u001b[0;31m# STEP-2 Compile the Model\u001b[0m\u001b[0;34m\u001b[0m\u001b[0;34m\u001b[0m\u001b[0;34m\u001b[0m\u001b[0m\n\u001b[0;32m---> 26\u001b[0;31m \u001b[0mmodel\u001b[0m\u001b[0;34m.\u001b[0m\u001b[0mcompile\u001b[0m\u001b[0;34m(\u001b[0m\u001b[0moptimizer\u001b[0m\u001b[0;34m=\u001b[0m\u001b[0;34m'adam'\u001b[0m\u001b[0;34m,\u001b[0m \u001b[0mloss\u001b[0m\u001b[0;34m=\u001b[0m\u001b[0;34m'categorical_crossentropy'\u001b[0m\u001b[0;34m,\u001b[0m \u001b[0mmetrics\u001b[0m\u001b[0;34m=\u001b[0m\u001b[0;34m[\u001b[0m\u001b[0;34m'accuracy'\u001b[0m\u001b[0;34m]\u001b[0m\u001b[0;34m,\u001b[0m\u001b[0mlearning_rate\u001b[0m\u001b[0;34m=\u001b[0m\u001b[0;36m1e-3\u001b[0m\u001b[0;34m)\u001b[0m\u001b[0;34m\u001b[0m\u001b[0;34m\u001b[0m\u001b[0m\n\u001b[0m\u001b[1;32m     27\u001b[0m \u001b[0;34m\u001b[0m\u001b[0m\n\u001b[1;32m     28\u001b[0m \u001b[0;34m\u001b[0m\u001b[0m\n",
      "\u001b[0;32m/usr/local/lib/python3.7/dist-packages/tensorflow/python/keras/engine/training.py\u001b[0m in \u001b[0;36mcompile\u001b[0;34m(self, optimizer, loss, metrics, loss_weights, weighted_metrics, run_eagerly, steps_per_execution, **kwargs)\u001b[0m\n\u001b[1;32m    532\u001b[0m           \u001b[0msteps_per_execution\u001b[0m \u001b[0;34m=\u001b[0m \u001b[0mkwargs\u001b[0m\u001b[0;34m.\u001b[0m\u001b[0mpop\u001b[0m\u001b[0;34m(\u001b[0m\u001b[0;34m'experimental_steps_per_execution'\u001b[0m\u001b[0;34m)\u001b[0m\u001b[0;34m\u001b[0m\u001b[0;34m\u001b[0m\u001b[0m\n\u001b[1;32m    533\u001b[0m \u001b[0;34m\u001b[0m\u001b[0m\n\u001b[0;32m--> 534\u001b[0;31m       \u001b[0mself\u001b[0m\u001b[0;34m.\u001b[0m\u001b[0m_validate_compile\u001b[0m\u001b[0;34m(\u001b[0m\u001b[0moptimizer\u001b[0m\u001b[0;34m,\u001b[0m \u001b[0mmetrics\u001b[0m\u001b[0;34m,\u001b[0m \u001b[0;34m**\u001b[0m\u001b[0mkwargs\u001b[0m\u001b[0;34m)\u001b[0m\u001b[0;34m\u001b[0m\u001b[0;34m\u001b[0m\u001b[0m\n\u001b[0m\u001b[1;32m    535\u001b[0m       \u001b[0mself\u001b[0m\u001b[0;34m.\u001b[0m\u001b[0m_run_eagerly\u001b[0m \u001b[0;34m=\u001b[0m \u001b[0mrun_eagerly\u001b[0m\u001b[0;34m\u001b[0m\u001b[0;34m\u001b[0m\u001b[0m\n\u001b[1;32m    536\u001b[0m \u001b[0;34m\u001b[0m\u001b[0m\n",
      "\u001b[0;32m/usr/local/lib/python3.7/dist-packages/tensorflow/python/keras/engine/training.py\u001b[0m in \u001b[0;36m_validate_compile\u001b[0;34m(self, optimizer, metrics, **kwargs)\u001b[0m\n\u001b[1;32m   2518\u001b[0m     \u001b[0;32mif\u001b[0m \u001b[0minvalid_kwargs\u001b[0m\u001b[0;34m:\u001b[0m\u001b[0;34m\u001b[0m\u001b[0;34m\u001b[0m\u001b[0m\n\u001b[1;32m   2519\u001b[0m       raise TypeError('Invalid keyword argument(s) in `compile`: %s' %\n\u001b[0;32m-> 2520\u001b[0;31m                       (invalid_kwargs,))\n\u001b[0m\u001b[1;32m   2521\u001b[0m \u001b[0;34m\u001b[0m\u001b[0m\n\u001b[1;32m   2522\u001b[0m     \u001b[0;31m# Model must be created and compiled with the same DistStrat.\u001b[0m\u001b[0;34m\u001b[0m\u001b[0;34m\u001b[0m\u001b[0;34m\u001b[0m\u001b[0m\n",
      "\u001b[0;31mTypeError\u001b[0m: Invalid keyword argument(s) in `compile`: {'learning_rate'}"
     ]
    }
   ],
   "source": [
    "\n",
    "model = Sequential()\n",
    "\n",
    "# conv3-32\n",
    "model.add(Conv2D(64, kernel_size=(3, 3), padding='same', input_shape=(32, 32, 3), activation='relu', kernel_initializer='he_normal'))\n",
    "\n",
    "# conv3-64\n",
    "model.add(Conv2D(128, (3, 3), activation='relu', kernel_initializer='he_normal'))\n",
    "\n",
    "# Maxpooling\n",
    "model.add(MaxPooling2D(pool_size=(2, 2)))\n",
    "model.add(Dropout(0.25))\n",
    "\n",
    "# Flatten\n",
    "model.add(Flatten())\n",
    "\n",
    "# FC-128\n",
    "model.add(Dense(128, activation='relu', kernel_initializer='he_normal'))\n",
    "model.add(Dropout(0.5))\n",
    "\n",
    "# FC-10\n",
    "model.add(Dense(10, activation='softmax'))\n",
    "\n",
    "\n",
    "# STEP-2 Compile the Model\n",
    "model.compile(optimizer='adam', loss='categorical_crossentropy', metrics=['accuracy'])\n",
    "\n",
    "\n",
    "# STEP-3 Fit the Model\n"
   ]
  },
  {
   "cell_type": "code",
   "execution_count": null,
   "metadata": {
    "colab": {
     "base_uri": "https://localhost:8080/"
    },
    "id": "BhWlALRf0gd5",
    "outputId": "164bdd35-a2de-47c7-95fe-22d6bcdf4fae"
   },
   "outputs": [
    {
     "name": "stdout",
     "output_type": "stream",
     "text": [
      "Epoch 1/50\n",
      "391/391 [==============================] - 5s 12ms/step - loss: 2.1808 - accuracy: 0.3051\n",
      "Epoch 2/50\n",
      "391/391 [==============================] - 5s 12ms/step - loss: 1.2921 - accuracy: 0.5409\n",
      "Epoch 3/50\n",
      "391/391 [==============================] - 5s 12ms/step - loss: 1.1091 - accuracy: 0.6091\n",
      "Epoch 4/50\n",
      "391/391 [==============================] - 5s 12ms/step - loss: 0.9939 - accuracy: 0.6502\n",
      "Epoch 5/50\n",
      "391/391 [==============================] - 5s 12ms/step - loss: 0.9064 - accuracy: 0.6799\n",
      "Epoch 6/50\n",
      "391/391 [==============================] - 5s 12ms/step - loss: 0.8326 - accuracy: 0.7068\n",
      "Epoch 7/50\n",
      "391/391 [==============================] - 5s 12ms/step - loss: 0.7729 - accuracy: 0.7231\n",
      "Epoch 8/50\n",
      "391/391 [==============================] - 5s 12ms/step - loss: 0.7140 - accuracy: 0.7445\n",
      "Epoch 9/50\n",
      "391/391 [==============================] - 5s 12ms/step - loss: 0.6507 - accuracy: 0.7663\n",
      "Epoch 10/50\n",
      "391/391 [==============================] - 5s 12ms/step - loss: 0.6080 - accuracy: 0.7844\n",
      "Epoch 11/50\n",
      "391/391 [==============================] - 5s 12ms/step - loss: 0.5582 - accuracy: 0.7987\n",
      "Epoch 12/50\n",
      "391/391 [==============================] - 5s 12ms/step - loss: 0.5214 - accuracy: 0.8118\n",
      "Epoch 13/50\n",
      "391/391 [==============================] - 5s 12ms/step - loss: 0.4963 - accuracy: 0.8209\n",
      "Epoch 14/50\n",
      "391/391 [==============================] - 5s 12ms/step - loss: 0.4661 - accuracy: 0.8304\n",
      "Epoch 15/50\n",
      "391/391 [==============================] - 5s 12ms/step - loss: 0.4472 - accuracy: 0.8360\n",
      "Epoch 16/50\n",
      "391/391 [==============================] - 5s 12ms/step - loss: 0.4182 - accuracy: 0.8483\n",
      "Epoch 17/50\n",
      "391/391 [==============================] - 5s 12ms/step - loss: 0.3907 - accuracy: 0.8584\n",
      "Epoch 18/50\n",
      "391/391 [==============================] - 5s 12ms/step - loss: 0.3717 - accuracy: 0.8653\n",
      "Epoch 19/50\n",
      "391/391 [==============================] - 5s 12ms/step - loss: 0.3620 - accuracy: 0.8690\n",
      "Epoch 20/50\n",
      "391/391 [==============================] - 5s 12ms/step - loss: 0.3416 - accuracy: 0.8754\n",
      "Epoch 21/50\n",
      "391/391 [==============================] - 5s 12ms/step - loss: 0.3292 - accuracy: 0.8779\n",
      "Epoch 22/50\n",
      "391/391 [==============================] - 5s 12ms/step - loss: 0.3155 - accuracy: 0.8852\n",
      "Epoch 23/50\n",
      "391/391 [==============================] - 5s 12ms/step - loss: 0.3100 - accuracy: 0.8876\n",
      "Epoch 24/50\n",
      "391/391 [==============================] - 5s 12ms/step - loss: 0.2973 - accuracy: 0.8916\n",
      "Epoch 25/50\n",
      "391/391 [==============================] - 5s 12ms/step - loss: 0.2906 - accuracy: 0.8940\n",
      "Epoch 26/50\n",
      "391/391 [==============================] - 5s 12ms/step - loss: 0.2668 - accuracy: 0.9019\n",
      "Epoch 27/50\n",
      "391/391 [==============================] - 5s 12ms/step - loss: 0.2789 - accuracy: 0.8976\n",
      "Epoch 28/50\n",
      "391/391 [==============================] - 5s 12ms/step - loss: 0.2685 - accuracy: 0.9018\n",
      "Epoch 29/50\n",
      "391/391 [==============================] - 5s 12ms/step - loss: 0.2648 - accuracy: 0.9029\n",
      "Epoch 30/50\n",
      "391/391 [==============================] - 5s 12ms/step - loss: 0.2456 - accuracy: 0.9094\n",
      "Epoch 31/50\n",
      "391/391 [==============================] - 5s 12ms/step - loss: 0.2435 - accuracy: 0.9124\n",
      "Epoch 32/50\n",
      "391/391 [==============================] - 5s 12ms/step - loss: 0.2433 - accuracy: 0.9124\n",
      "Epoch 33/50\n",
      "391/391 [==============================] - 5s 12ms/step - loss: 0.2419 - accuracy: 0.9148\n",
      "Epoch 34/50\n",
      "391/391 [==============================] - 5s 12ms/step - loss: 0.2267 - accuracy: 0.9166\n",
      "Epoch 35/50\n",
      "391/391 [==============================] - 5s 12ms/step - loss: 0.2211 - accuracy: 0.9182\n",
      "Epoch 36/50\n",
      "391/391 [==============================] - 5s 12ms/step - loss: 0.2204 - accuracy: 0.9230\n",
      "Epoch 37/50\n",
      "391/391 [==============================] - 5s 12ms/step - loss: 0.2160 - accuracy: 0.9216\n",
      "Epoch 38/50\n",
      "391/391 [==============================] - 5s 12ms/step - loss: 0.2128 - accuracy: 0.9235\n",
      "Epoch 39/50\n",
      "391/391 [==============================] - 5s 12ms/step - loss: 0.2183 - accuracy: 0.9218\n",
      "Epoch 40/50\n",
      "391/391 [==============================] - 5s 12ms/step - loss: 0.2016 - accuracy: 0.9252\n",
      "Epoch 41/50\n",
      "391/391 [==============================] - 5s 12ms/step - loss: 0.2006 - accuracy: 0.9256\n",
      "Epoch 42/50\n",
      "391/391 [==============================] - 5s 12ms/step - loss: 0.1948 - accuracy: 0.9300\n",
      "Epoch 43/50\n",
      "391/391 [==============================] - 5s 12ms/step - loss: 0.2013 - accuracy: 0.9284\n",
      "Epoch 44/50\n",
      "391/391 [==============================] - 5s 12ms/step - loss: 0.2002 - accuracy: 0.9272\n",
      "Epoch 45/50\n",
      "391/391 [==============================] - 5s 12ms/step - loss: 0.1903 - accuracy: 0.9312\n",
      "Epoch 46/50\n",
      "391/391 [==============================] - 5s 12ms/step - loss: 0.1868 - accuracy: 0.9333\n",
      "Epoch 47/50\n",
      "391/391 [==============================] - 5s 12ms/step - loss: 0.1888 - accuracy: 0.9322\n",
      "Epoch 48/50\n",
      "391/391 [==============================] - 5s 12ms/step - loss: 0.1816 - accuracy: 0.9346\n",
      "Epoch 49/50\n",
      "391/391 [==============================] - 5s 12ms/step - loss: 0.1766 - accuracy: 0.9379\n",
      "Epoch 50/50\n",
      "391/391 [==============================] - 5s 12ms/step - loss: 0.1743 - accuracy: 0.9371\n"
     ]
    },
    {
     "data": {
      "text/plain": [
       "<tensorflow.python.keras.callbacks.History at 0x7f040a61f9d0>"
      ]
     },
     "execution_count": 22,
     "metadata": {
      "tags": []
     },
     "output_type": "execute_result"
    }
   ],
   "source": [
    "model.fit(x_train, y_train, batch_size=128, epochs=50)"
   ]
  },
  {
   "cell_type": "code",
   "execution_count": null,
   "metadata": {
    "colab": {
     "base_uri": "https://localhost:8080/"
    },
    "id": "QcogBE1Q3Lbs",
    "outputId": "f3d55a82-e7f9-46f3-c954-97aeda3df010"
   },
   "outputs": [
    {
     "name": "stdout",
     "output_type": "stream",
     "text": [
      "Test Loss and Test Accuracy [1.4008960723876953, 0.7161999940872192]\n"
     ]
    }
   ],
   "source": [
    "\n",
    "prediction_score = model.evaluate(x_test, y_test, verbose=0)\n",
    "\n",
    "print('Test Loss and Test Accuracy', prediction_score)"
   ]
  },
  {
   "cell_type": "code",
   "execution_count": null,
   "metadata": {
    "id": "0D-a07Fb52J3"
   },
   "outputs": [],
   "source": []
  }
 ],
 "metadata": {
  "accelerator": "GPU",
  "colab": {
   "collapsed_sections": [],
   "name": "CNN_adam.ipynb",
   "provenance": []
  },
  "kernelspec": {
   "display_name": "Python 3",
   "language": "python",
   "name": "python3"
  },
  "language_info": {
   "name": "python"
  }
 },
 "nbformat": 4,
 "nbformat_minor": 1
}
