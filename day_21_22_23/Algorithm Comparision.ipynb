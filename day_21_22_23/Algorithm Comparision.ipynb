{
 "cells": [
  {
   "cell_type": "markdown",
   "metadata": {},
   "source": [
    "### ALgorithm Accuracy Comparision Table"
   ]
  },
  {
   "cell_type": "markdown",
   "metadata": {},
   "source": [
    "|Algorithm||Before Hyperparameter Tuning Training Accuracy||Before Hyperparameter Tuning Testing Accuracy| |After Hyperparameter Tuning Training Acuracy||After Hyperparameter Tuning Testing Accuracy|\n",
    "|---||---||---||---||---|\n",
    "|xgboost||99.8876%||97.7778%||99.2088%||97.6726%|\n",
    "|SVM||50.1142%||50.2558%||85.7871%||85.3593%|\n",
    "|Random Forest||99.6537%||97.1922%||98.5695%||96.9784%|\n",
    "|Linear Regression||91.6918%||91.6918%||92.0731%||91.6884%|\n",
    "|KNN||97.1628%||95.3549%||99.9994%||95.8766%|\n",
    "|Decision Tree||99.9995%||95.5744%||98.1346%||96.7571%|"
   ]
  },
  {
   "cell_type": "code",
   "execution_count": null,
   "metadata": {},
   "outputs": [],
   "source": []
  }
 ],
 "metadata": {
  "kernelspec": {
   "display_name": "Python 3",
   "language": "python",
   "name": "python3"
  },
  "language_info": {
   "codemirror_mode": {
    "name": "ipython",
    "version": 3
   },
   "file_extension": ".py",
   "mimetype": "text/x-python",
   "name": "python",
   "nbconvert_exporter": "python",
   "pygments_lexer": "ipython3",
   "version": "3.8.5"
  }
 },
 "nbformat": 4,
 "nbformat_minor": 4
}
