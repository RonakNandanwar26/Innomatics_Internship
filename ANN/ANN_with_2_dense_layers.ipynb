{
  "nbformat": 4,
  "nbformat_minor": 0,
  "metadata": {
    "colab": {
      "name": "ANN_with_2_dense_layers",
      "provenance": [],
      "collapsed_sections": []
    },
    "kernelspec": {
      "name": "python3",
      "display_name": "Python 3"
    }
  },
  "cells": [
    {
      "cell_type": "code",
      "metadata": {
        "id": "EQGlN7rJLy8m"
      },
      "source": [
        "import pandas as pd\n",
        "import numpy as np\n",
        "import matplotlib.pyplot as plt\n",
        "from keras.datasets import cifar10"
      ],
      "execution_count": 1,
      "outputs": []
    },
    {
      "cell_type": "code",
      "metadata": {
        "colab": {
          "base_uri": "https://localhost:8080/"
        },
        "id": "nyGoV7RIL-Km",
        "outputId": "1f85347a-117b-49b9-e526-4cd220cea3fd"
      },
      "source": [
        "(x_train,y_train),(x_test,y_test) = cifar10.load_data()"
      ],
      "execution_count": 2,
      "outputs": [
        {
          "output_type": "stream",
          "text": [
            "Downloading data from https://www.cs.toronto.edu/~kriz/cifar-10-python.tar.gz\n",
            "170500096/170498071 [==============================] - 2s 0us/step\n"
          ],
          "name": "stdout"
        }
      ]
    },
    {
      "cell_type": "code",
      "metadata": {
        "id": "35F7eG3uMAA8"
      },
      "source": [
        "x_train = x_train/255\n",
        "x_test = x_test/255\n"
      ],
      "execution_count": 3,
      "outputs": []
    },
    {
      "cell_type": "code",
      "metadata": {
        "colab": {
          "base_uri": "https://localhost:8080/"
        },
        "id": "14Yn4NzXMKd9",
        "outputId": "0d502ed2-d0dc-4b38-fbf3-1d1ea899e8ee"
      },
      "source": [
        "x_train.shape"
      ],
      "execution_count": 5,
      "outputs": [
        {
          "output_type": "execute_result",
          "data": {
            "text/plain": [
              "(50000, 3072)"
            ]
          },
          "metadata": {
            "tags": []
          },
          "execution_count": 5
        }
      ]
    },
    {
      "cell_type": "code",
      "metadata": {
        "colab": {
          "base_uri": "https://localhost:8080/"
        },
        "id": "8kVZwq25MFEI",
        "outputId": "61812f77-5a70-4e06-d551-6eadc4be4bb5"
      },
      "source": [
        "x_train = x_train.reshape(50000,3072)\n",
        "x_test = x_test.reshape(10000,3072)\n",
        "print(x_train.shape)\n",
        "print(x_test.shape)"
      ],
      "execution_count": 4,
      "outputs": [
        {
          "output_type": "stream",
          "text": [
            "(50000, 3072)\n",
            "(10000, 3072)\n"
          ],
          "name": "stdout"
        }
      ]
    },
    {
      "cell_type": "code",
      "metadata": {
        "id": "HPTibQX_MIFz"
      },
      "source": [
        "import keras\n",
        "from keras.models import Sequential\n",
        "from keras.layers import Dense\n",
        "from keras.layers import LeakyReLU,PReLU,ELU\n",
        "from keras.layers import Dropout\n",
        "from keras.utils import np_utils"
      ],
      "execution_count": 6,
      "outputs": []
    },
    {
      "cell_type": "code",
      "metadata": {
        "id": "Nw0oAP6aMNtV"
      },
      "source": [
        "classifier = Sequential()"
      ],
      "execution_count": 7,
      "outputs": []
    },
    {
      "cell_type": "code",
      "metadata": {
        "id": "0K8BkuYOMQfm"
      },
      "source": [
        "# adding input layer and first hidden layer\n",
        "classifier.add(Dense(units=512,activation='relu',kernel_initializer='he_uniform',input_dim=3072))"
      ],
      "execution_count": 8,
      "outputs": []
    },
    {
      "cell_type": "code",
      "metadata": {
        "id": "21EMpC3_MSqv"
      },
      "source": [
        "classifier.add(Dense(units=256,activation='relu',kernel_initializer='he_uniform'))"
      ],
      "execution_count": 9,
      "outputs": []
    },
    {
      "cell_type": "code",
      "metadata": {
        "id": "T-RRlnpNMVg4"
      },
      "source": [
        "classifier.add(Dense(units=10,activation='softmax'))"
      ],
      "execution_count": 10,
      "outputs": []
    },
    {
      "cell_type": "code",
      "metadata": {
        "id": "Zt1YbYmCMYTX"
      },
      "source": [
        "# Compile the Model\n",
        "\n",
        "classifier.compile(optimizer='adam', loss='categorical_crossentropy', metrics=['accuracy'])"
      ],
      "execution_count": 11,
      "outputs": []
    },
    {
      "cell_type": "code",
      "metadata": {
        "id": "rqXoU98mMaGb"
      },
      "source": [
        "y_train = np_utils.to_categorical(y_train, 10)\n",
        "y_test = np_utils.to_categorical(y_test, 10)"
      ],
      "execution_count": 12,
      "outputs": []
    },
    {
      "cell_type": "code",
      "metadata": {
        "colab": {
          "base_uri": "https://localhost:8080/"
        },
        "id": "dpqjr8JIMdlb",
        "outputId": "43322f6f-255e-41ad-e700-bffdc1dc1589"
      },
      "source": [
        "model_history = classifier.fit(x_train, y_train, validation_split=0.33,batch_size=128, epochs=100)"
      ],
      "execution_count": 13,
      "outputs": [
        {
          "output_type": "stream",
          "text": [
            "Epoch 1/100\n",
            "262/262 [==============================] - 10s 35ms/step - loss: 2.1868 - accuracy: 0.2500 - val_loss: 1.7991 - val_accuracy: 0.3624\n",
            "Epoch 2/100\n",
            "262/262 [==============================] - 9s 33ms/step - loss: 1.7527 - accuracy: 0.3710 - val_loss: 1.7150 - val_accuracy: 0.3887\n",
            "Epoch 3/100\n",
            "262/262 [==============================] - 9s 33ms/step - loss: 1.6523 - accuracy: 0.4106 - val_loss: 1.6584 - val_accuracy: 0.4078\n",
            "Epoch 4/100\n",
            "262/262 [==============================] - 9s 33ms/step - loss: 1.5943 - accuracy: 0.4325 - val_loss: 1.5871 - val_accuracy: 0.4393\n",
            "Epoch 5/100\n",
            "262/262 [==============================] - 9s 33ms/step - loss: 1.5430 - accuracy: 0.4447 - val_loss: 1.5894 - val_accuracy: 0.4349\n",
            "Epoch 6/100\n",
            "262/262 [==============================] - 9s 33ms/step - loss: 1.5129 - accuracy: 0.4604 - val_loss: 1.5522 - val_accuracy: 0.4521\n",
            "Epoch 7/100\n",
            "262/262 [==============================] - 9s 33ms/step - loss: 1.4720 - accuracy: 0.4738 - val_loss: 1.5487 - val_accuracy: 0.4499\n",
            "Epoch 8/100\n",
            "262/262 [==============================] - 9s 33ms/step - loss: 1.4456 - accuracy: 0.4887 - val_loss: 1.5840 - val_accuracy: 0.4349\n",
            "Epoch 9/100\n",
            "262/262 [==============================] - 9s 35ms/step - loss: 1.4044 - accuracy: 0.4995 - val_loss: 1.5250 - val_accuracy: 0.4628\n",
            "Epoch 10/100\n",
            "262/262 [==============================] - 11s 42ms/step - loss: 1.3860 - accuracy: 0.5091 - val_loss: 1.5495 - val_accuracy: 0.4478\n",
            "Epoch 11/100\n",
            "262/262 [==============================] - 9s 33ms/step - loss: 1.3703 - accuracy: 0.5137 - val_loss: 1.5382 - val_accuracy: 0.4584\n",
            "Epoch 12/100\n",
            "262/262 [==============================] - 9s 33ms/step - loss: 1.3397 - accuracy: 0.5230 - val_loss: 1.4704 - val_accuracy: 0.4859\n",
            "Epoch 13/100\n",
            "262/262 [==============================] - 9s 33ms/step - loss: 1.3082 - accuracy: 0.5325 - val_loss: 1.4586 - val_accuracy: 0.4870\n",
            "Epoch 14/100\n",
            "262/262 [==============================] - 9s 33ms/step - loss: 1.3093 - accuracy: 0.5365 - val_loss: 1.5634 - val_accuracy: 0.4598\n",
            "Epoch 15/100\n",
            "262/262 [==============================] - 9s 33ms/step - loss: 1.2963 - accuracy: 0.5420 - val_loss: 1.5042 - val_accuracy: 0.4775\n",
            "Epoch 16/100\n",
            "262/262 [==============================] - 9s 34ms/step - loss: 1.2356 - accuracy: 0.5566 - val_loss: 1.5186 - val_accuracy: 0.4692\n",
            "Epoch 17/100\n",
            "262/262 [==============================] - 9s 33ms/step - loss: 1.2280 - accuracy: 0.5628 - val_loss: 1.4664 - val_accuracy: 0.4866\n",
            "Epoch 18/100\n",
            "262/262 [==============================] - 9s 33ms/step - loss: 1.1999 - accuracy: 0.5740 - val_loss: 1.4540 - val_accuracy: 0.4909\n",
            "Epoch 19/100\n",
            "262/262 [==============================] - 9s 33ms/step - loss: 1.1868 - accuracy: 0.5775 - val_loss: 1.4524 - val_accuracy: 0.4969\n",
            "Epoch 20/100\n",
            "262/262 [==============================] - 9s 33ms/step - loss: 1.1707 - accuracy: 0.5837 - val_loss: 1.4587 - val_accuracy: 0.4967\n",
            "Epoch 21/100\n",
            "262/262 [==============================] - 9s 33ms/step - loss: 1.1509 - accuracy: 0.5861 - val_loss: 1.4728 - val_accuracy: 0.4992\n",
            "Epoch 22/100\n",
            "262/262 [==============================] - 9s 34ms/step - loss: 1.1408 - accuracy: 0.5966 - val_loss: 1.4786 - val_accuracy: 0.4939\n",
            "Epoch 23/100\n",
            "262/262 [==============================] - 9s 33ms/step - loss: 1.1127 - accuracy: 0.6022 - val_loss: 1.4544 - val_accuracy: 0.4988\n",
            "Epoch 24/100\n",
            "262/262 [==============================] - 9s 33ms/step - loss: 1.0886 - accuracy: 0.6134 - val_loss: 1.4509 - val_accuracy: 0.5041\n",
            "Epoch 25/100\n",
            "262/262 [==============================] - 9s 33ms/step - loss: 1.0963 - accuracy: 0.6088 - val_loss: 1.4872 - val_accuracy: 0.4979\n",
            "Epoch 26/100\n",
            "262/262 [==============================] - 9s 33ms/step - loss: 1.0670 - accuracy: 0.6258 - val_loss: 1.4742 - val_accuracy: 0.5104\n",
            "Epoch 27/100\n",
            "262/262 [==============================] - 9s 33ms/step - loss: 1.0398 - accuracy: 0.6294 - val_loss: 1.5291 - val_accuracy: 0.4879\n",
            "Epoch 28/100\n",
            "262/262 [==============================] - 9s 34ms/step - loss: 1.0368 - accuracy: 0.6315 - val_loss: 1.5272 - val_accuracy: 0.4982\n",
            "Epoch 29/100\n",
            "262/262 [==============================] - 9s 33ms/step - loss: 1.0210 - accuracy: 0.6359 - val_loss: 1.4917 - val_accuracy: 0.5059\n",
            "Epoch 30/100\n",
            "262/262 [==============================] - 9s 33ms/step - loss: 0.9910 - accuracy: 0.6456 - val_loss: 1.5411 - val_accuracy: 0.4976\n",
            "Epoch 31/100\n",
            "262/262 [==============================] - 9s 33ms/step - loss: 0.9754 - accuracy: 0.6505 - val_loss: 1.5765 - val_accuracy: 0.4968\n",
            "Epoch 32/100\n",
            "262/262 [==============================] - 9s 33ms/step - loss: 0.9632 - accuracy: 0.6568 - val_loss: 1.5396 - val_accuracy: 0.5037\n",
            "Epoch 33/100\n",
            "262/262 [==============================] - 9s 33ms/step - loss: 0.9482 - accuracy: 0.6599 - val_loss: 1.5445 - val_accuracy: 0.5020\n",
            "Epoch 34/100\n",
            "262/262 [==============================] - 9s 33ms/step - loss: 0.9411 - accuracy: 0.6636 - val_loss: 1.5563 - val_accuracy: 0.4962\n",
            "Epoch 35/100\n",
            "262/262 [==============================] - 9s 33ms/step - loss: 0.9099 - accuracy: 0.6742 - val_loss: 1.5870 - val_accuracy: 0.5019\n",
            "Epoch 36/100\n",
            "262/262 [==============================] - 9s 33ms/step - loss: 0.8937 - accuracy: 0.6815 - val_loss: 1.5964 - val_accuracy: 0.4989\n",
            "Epoch 37/100\n",
            "262/262 [==============================] - 9s 34ms/step - loss: 0.9024 - accuracy: 0.6774 - val_loss: 1.5808 - val_accuracy: 0.5032\n",
            "Epoch 38/100\n",
            "262/262 [==============================] - 9s 33ms/step - loss: 0.8641 - accuracy: 0.6918 - val_loss: 1.6105 - val_accuracy: 0.4998\n",
            "Epoch 39/100\n",
            "262/262 [==============================] - 9s 33ms/step - loss: 0.8735 - accuracy: 0.6885 - val_loss: 1.6165 - val_accuracy: 0.5087\n",
            "Epoch 40/100\n",
            "262/262 [==============================] - 9s 33ms/step - loss: 0.8404 - accuracy: 0.7005 - val_loss: 1.5909 - val_accuracy: 0.5025\n",
            "Epoch 41/100\n",
            "262/262 [==============================] - 9s 34ms/step - loss: 0.8345 - accuracy: 0.6992 - val_loss: 1.6193 - val_accuracy: 0.5061\n",
            "Epoch 42/100\n",
            "262/262 [==============================] - 9s 33ms/step - loss: 0.8154 - accuracy: 0.7074 - val_loss: 1.6540 - val_accuracy: 0.4948\n",
            "Epoch 43/100\n",
            "262/262 [==============================] - 9s 34ms/step - loss: 0.8077 - accuracy: 0.7115 - val_loss: 1.6926 - val_accuracy: 0.4960\n",
            "Epoch 44/100\n",
            "262/262 [==============================] - 9s 33ms/step - loss: 0.8029 - accuracy: 0.7084 - val_loss: 1.6703 - val_accuracy: 0.5003\n",
            "Epoch 45/100\n",
            "262/262 [==============================] - 9s 33ms/step - loss: 0.7906 - accuracy: 0.7194 - val_loss: 1.7032 - val_accuracy: 0.4992\n",
            "Epoch 46/100\n",
            "262/262 [==============================] - 9s 33ms/step - loss: 0.7814 - accuracy: 0.7203 - val_loss: 1.7133 - val_accuracy: 0.4963\n",
            "Epoch 47/100\n",
            "262/262 [==============================] - 9s 33ms/step - loss: 0.7602 - accuracy: 0.7316 - val_loss: 1.7361 - val_accuracy: 0.5028\n",
            "Epoch 48/100\n",
            "262/262 [==============================] - 9s 33ms/step - loss: 0.7314 - accuracy: 0.7394 - val_loss: 1.7576 - val_accuracy: 0.4999\n",
            "Epoch 49/100\n",
            "262/262 [==============================] - 9s 33ms/step - loss: 0.7532 - accuracy: 0.7289 - val_loss: 1.8100 - val_accuracy: 0.4908\n",
            "Epoch 50/100\n",
            "262/262 [==============================] - 9s 33ms/step - loss: 0.7344 - accuracy: 0.7393 - val_loss: 1.8136 - val_accuracy: 0.4951\n",
            "Epoch 51/100\n",
            "262/262 [==============================] - 9s 33ms/step - loss: 0.7150 - accuracy: 0.7486 - val_loss: 1.8162 - val_accuracy: 0.4895\n",
            "Epoch 52/100\n",
            "262/262 [==============================] - 9s 33ms/step - loss: 0.7229 - accuracy: 0.7445 - val_loss: 1.8054 - val_accuracy: 0.4969\n",
            "Epoch 53/100\n",
            "262/262 [==============================] - 9s 33ms/step - loss: 0.6976 - accuracy: 0.7505 - val_loss: 1.8110 - val_accuracy: 0.5024\n",
            "Epoch 54/100\n",
            "262/262 [==============================] - 9s 33ms/step - loss: 0.6732 - accuracy: 0.7586 - val_loss: 1.8508 - val_accuracy: 0.4910\n",
            "Epoch 55/100\n",
            "262/262 [==============================] - 9s 34ms/step - loss: 0.6851 - accuracy: 0.7562 - val_loss: 1.8643 - val_accuracy: 0.4900\n",
            "Epoch 56/100\n",
            "262/262 [==============================] - 9s 33ms/step - loss: 0.6639 - accuracy: 0.7617 - val_loss: 1.8794 - val_accuracy: 0.5005\n",
            "Epoch 57/100\n",
            "262/262 [==============================] - 9s 33ms/step - loss: 0.6613 - accuracy: 0.7664 - val_loss: 1.8695 - val_accuracy: 0.4958\n",
            "Epoch 58/100\n",
            "262/262 [==============================] - 9s 33ms/step - loss: 0.6479 - accuracy: 0.7670 - val_loss: 1.8850 - val_accuracy: 0.5002\n",
            "Epoch 59/100\n",
            "262/262 [==============================] - 9s 33ms/step - loss: 0.6357 - accuracy: 0.7737 - val_loss: 1.8795 - val_accuracy: 0.4998\n",
            "Epoch 60/100\n",
            "262/262 [==============================] - 9s 33ms/step - loss: 0.6174 - accuracy: 0.7803 - val_loss: 1.9540 - val_accuracy: 0.4978\n",
            "Epoch 61/100\n",
            "262/262 [==============================] - 9s 33ms/step - loss: 0.6171 - accuracy: 0.7819 - val_loss: 1.9764 - val_accuracy: 0.4925\n",
            "Epoch 62/100\n",
            "262/262 [==============================] - 9s 33ms/step - loss: 0.6118 - accuracy: 0.7824 - val_loss: 1.9885 - val_accuracy: 0.4941\n",
            "Epoch 63/100\n",
            "262/262 [==============================] - 9s 33ms/step - loss: 0.6017 - accuracy: 0.7886 - val_loss: 2.0781 - val_accuracy: 0.4890\n",
            "Epoch 64/100\n",
            "262/262 [==============================] - 9s 33ms/step - loss: 0.5975 - accuracy: 0.7892 - val_loss: 2.0443 - val_accuracy: 0.4930\n",
            "Epoch 65/100\n",
            "262/262 [==============================] - 9s 33ms/step - loss: 0.5902 - accuracy: 0.7937 - val_loss: 2.0701 - val_accuracy: 0.4863\n",
            "Epoch 66/100\n",
            "262/262 [==============================] - 9s 33ms/step - loss: 0.5873 - accuracy: 0.7901 - val_loss: 2.0958 - val_accuracy: 0.4935\n",
            "Epoch 67/100\n",
            "262/262 [==============================] - 9s 33ms/step - loss: 0.5497 - accuracy: 0.8072 - val_loss: 2.0791 - val_accuracy: 0.4921\n",
            "Epoch 68/100\n",
            "262/262 [==============================] - 9s 33ms/step - loss: 0.5696 - accuracy: 0.7963 - val_loss: 2.1662 - val_accuracy: 0.4798\n",
            "Epoch 69/100\n",
            "262/262 [==============================] - 9s 34ms/step - loss: 0.5787 - accuracy: 0.7901 - val_loss: 2.1908 - val_accuracy: 0.4812\n",
            "Epoch 70/100\n",
            "262/262 [==============================] - 9s 33ms/step - loss: 0.5656 - accuracy: 0.7958 - val_loss: 2.2421 - val_accuracy: 0.4882\n",
            "Epoch 71/100\n",
            "262/262 [==============================] - 9s 33ms/step - loss: 0.5329 - accuracy: 0.8105 - val_loss: 2.2409 - val_accuracy: 0.4868\n",
            "Epoch 72/100\n",
            "262/262 [==============================] - 9s 34ms/step - loss: 0.5337 - accuracy: 0.8077 - val_loss: 2.2037 - val_accuracy: 0.4862\n",
            "Epoch 73/100\n",
            "262/262 [==============================] - 9s 34ms/step - loss: 0.5393 - accuracy: 0.8062 - val_loss: 2.2684 - val_accuracy: 0.4885\n",
            "Epoch 74/100\n",
            "262/262 [==============================] - 9s 33ms/step - loss: 0.5297 - accuracy: 0.8090 - val_loss: 2.2806 - val_accuracy: 0.4901\n",
            "Epoch 75/100\n",
            "262/262 [==============================] - 9s 33ms/step - loss: 0.5027 - accuracy: 0.8204 - val_loss: 2.3409 - val_accuracy: 0.4874\n",
            "Epoch 76/100\n",
            "262/262 [==============================] - 9s 33ms/step - loss: 0.5189 - accuracy: 0.8118 - val_loss: 2.2874 - val_accuracy: 0.4866\n",
            "Epoch 77/100\n",
            "262/262 [==============================] - 9s 33ms/step - loss: 0.4981 - accuracy: 0.8177 - val_loss: 2.3756 - val_accuracy: 0.4820\n",
            "Epoch 78/100\n",
            "262/262 [==============================] - 9s 33ms/step - loss: 0.4940 - accuracy: 0.8228 - val_loss: 2.3687 - val_accuracy: 0.4859\n",
            "Epoch 79/100\n",
            "262/262 [==============================] - 9s 34ms/step - loss: 0.4700 - accuracy: 0.8292 - val_loss: 2.4378 - val_accuracy: 0.4890\n",
            "Epoch 80/100\n",
            "262/262 [==============================] - 9s 33ms/step - loss: 0.4646 - accuracy: 0.8354 - val_loss: 2.4268 - val_accuracy: 0.4822\n",
            "Epoch 81/100\n",
            "262/262 [==============================] - 9s 33ms/step - loss: 0.4837 - accuracy: 0.8252 - val_loss: 2.4107 - val_accuracy: 0.4851\n",
            "Epoch 82/100\n",
            "262/262 [==============================] - 9s 33ms/step - loss: 0.4674 - accuracy: 0.8330 - val_loss: 2.4265 - val_accuracy: 0.4834\n",
            "Epoch 83/100\n",
            "262/262 [==============================] - 9s 34ms/step - loss: 0.4876 - accuracy: 0.8262 - val_loss: 2.5128 - val_accuracy: 0.4791\n",
            "Epoch 84/100\n",
            "262/262 [==============================] - 9s 33ms/step - loss: 0.4651 - accuracy: 0.8361 - val_loss: 2.5558 - val_accuracy: 0.4826\n",
            "Epoch 85/100\n",
            "262/262 [==============================] - 9s 34ms/step - loss: 0.4700 - accuracy: 0.8346 - val_loss: 2.4991 - val_accuracy: 0.4907\n",
            "Epoch 86/100\n",
            "262/262 [==============================] - 9s 33ms/step - loss: 0.4459 - accuracy: 0.8391 - val_loss: 2.5096 - val_accuracy: 0.4881\n",
            "Epoch 87/100\n",
            "262/262 [==============================] - 9s 33ms/step - loss: 0.4382 - accuracy: 0.8424 - val_loss: 2.6326 - val_accuracy: 0.4772\n",
            "Epoch 88/100\n",
            "262/262 [==============================] - 9s 33ms/step - loss: 0.4483 - accuracy: 0.8372 - val_loss: 2.6032 - val_accuracy: 0.4819\n",
            "Epoch 89/100\n",
            "262/262 [==============================] - 9s 33ms/step - loss: 0.4183 - accuracy: 0.8494 - val_loss: 2.5905 - val_accuracy: 0.4775\n",
            "Epoch 90/100\n",
            "262/262 [==============================] - 9s 33ms/step - loss: 0.4269 - accuracy: 0.8485 - val_loss: 2.6928 - val_accuracy: 0.4805\n",
            "Epoch 91/100\n",
            "262/262 [==============================] - 9s 34ms/step - loss: 0.4208 - accuracy: 0.8495 - val_loss: 2.6228 - val_accuracy: 0.4847\n",
            "Epoch 92/100\n",
            "262/262 [==============================] - 9s 33ms/step - loss: 0.4140 - accuracy: 0.8538 - val_loss: 2.6991 - val_accuracy: 0.4798\n",
            "Epoch 93/100\n",
            "262/262 [==============================] - 9s 33ms/step - loss: 0.4244 - accuracy: 0.8518 - val_loss: 2.7176 - val_accuracy: 0.4817\n",
            "Epoch 94/100\n",
            "262/262 [==============================] - 9s 34ms/step - loss: 0.4181 - accuracy: 0.8488 - val_loss: 2.7597 - val_accuracy: 0.4794\n",
            "Epoch 95/100\n",
            "262/262 [==============================] - 9s 34ms/step - loss: 0.4381 - accuracy: 0.8429 - val_loss: 2.6754 - val_accuracy: 0.4855\n",
            "Epoch 96/100\n",
            "262/262 [==============================] - 9s 34ms/step - loss: 0.4003 - accuracy: 0.8548 - val_loss: 2.7938 - val_accuracy: 0.4765\n",
            "Epoch 97/100\n",
            "262/262 [==============================] - 9s 33ms/step - loss: 0.3746 - accuracy: 0.8657 - val_loss: 2.7872 - val_accuracy: 0.4771\n",
            "Epoch 98/100\n",
            "262/262 [==============================] - 9s 33ms/step - loss: 0.3815 - accuracy: 0.8663 - val_loss: 2.7672 - val_accuracy: 0.4853\n",
            "Epoch 99/100\n",
            "262/262 [==============================] - 9s 33ms/step - loss: 0.3931 - accuracy: 0.8597 - val_loss: 2.8639 - val_accuracy: 0.4863\n",
            "Epoch 100/100\n",
            "262/262 [==============================] - 9s 34ms/step - loss: 0.3706 - accuracy: 0.8653 - val_loss: 2.8698 - val_accuracy: 0.4885\n"
          ],
          "name": "stdout"
        }
      ]
    },
    {
      "cell_type": "code",
      "metadata": {
        "colab": {
          "base_uri": "https://localhost:8080/",
          "height": 312
        },
        "id": "TpzA7Re_MhOv",
        "outputId": "c80c1f66-5d01-46c3-ff87-90fdbdbbfa2c"
      },
      "source": [
        "\n",
        "print(model_history.history.keys())\n",
        "# summarize history for accuracy\n",
        "plt.plot(model_history.history['accuracy'])\n",
        "plt.plot(model_history.history['val_accuracy'])\n",
        "plt.title('model accuracy')\n",
        "plt.ylabel('accuracy')\n",
        "plt.xlabel('epoch')\n",
        "plt.legend(['train', 'test'], loc='lower right')\n",
        "plt.show()"
      ],
      "execution_count": 14,
      "outputs": [
        {
          "output_type": "stream",
          "text": [
            "dict_keys(['loss', 'accuracy', 'val_loss', 'val_accuracy'])\n"
          ],
          "name": "stdout"
        },
        {
          "output_type": "display_data",
          "data": {
            "image/png": "[encoded data removed]",
            "text/plain": [
              "<Figure size 432x288 with 1 Axes>"
            ]
          },
          "metadata": {
            "tags": [],
            "needs_background": "light"
          }
        }
      ]
    },
    {
      "cell_type": "code",
      "metadata": {
        "colab": {
          "base_uri": "https://localhost:8080/",
          "height": 295
        },
        "id": "snH9LE7oMwTI",
        "outputId": "8df636b0-b4ac-4d8f-a485-6b1eeec2a7b0"
      },
      "source": [
        "# summarize history for loss\n",
        "plt.plot(model_history.history['loss'])\n",
        "plt.plot(model_history.history['val_loss'])\n",
        "plt.title('model loss')\n",
        "plt.ylabel('loss')\n",
        "plt.xlabel('epoch')\n",
        "plt.legend(['train', 'test'], loc='upper left')\n",
        "plt.show()"
      ],
      "execution_count": 15,
      "outputs": [
        {
          "output_type": "display_data",
          "data": {
            "image/png": "[encoded data removed]",
            "text/plain": [
              "<Figure size 432x288 with 1 Axes>"
            ]
          },
          "metadata": {
            "tags": [],
            "needs_background": "light"
          }
        }
      ]
    },
    {
      "cell_type": "code",
      "metadata": {
        "colab": {
          "base_uri": "https://localhost:8080/"
        },
        "id": "zOaei78GMzQk",
        "outputId": "244ecbd8-7bdb-41fe-f7d1-bb2ae8bb1c3b"
      },
      "source": [
        "y_pred = classifier.predict(x_test)\n",
        "y_pred"
      ],
      "execution_count": 16,
      "outputs": [
        {
          "output_type": "execute_result",
          "data": {
            "text/plain": [
              "array([[1.3898157e-02, 1.9979980e-04, 9.9664430e-05, ..., 8.6558296e-04,\n",
              "        1.7951903e-03, 7.9650868e-04],\n",
              "       [9.4983168e-03, 3.4769699e-02, 6.2738036e-13, ..., 1.4878424e-08,\n",
              "        1.9389617e-01, 7.6183575e-01],\n",
              "       [8.7808752e-01, 1.5754610e-02, 3.2937401e-06, ..., 2.3406222e-03,\n",
              "        9.5168445e-03, 9.4199225e-02],\n",
              "       ...,\n",
              "       [3.8980090e-11, 2.4352610e-16, 2.8467726e-08, ..., 2.0435296e-13,\n",
              "        7.2056489e-10, 1.8618051e-13],\n",
              "       [5.3183755e-15, 1.0932258e-15, 9.8203444e-01, ..., 8.2409324e-09,\n",
              "        1.5715752e-15, 1.2843827e-09],\n",
              "       [2.6124172e-04, 2.4191066e-04, 5.7516062e-01, ..., 1.8967040e-01,\n",
              "        5.2873003e-03, 5.6515378e-03]], dtype=float32)"
            ]
          },
          "metadata": {
            "tags": []
          },
          "execution_count": 16
        }
      ]
    },
    {
      "cell_type": "code",
      "metadata": {
        "colab": {
          "base_uri": "https://localhost:8080/"
        },
        "id": "F2onjlaDMzyJ",
        "outputId": "508a0df3-587e-4858-a630-ef5939753bd5"
      },
      "source": [
        "prediction_score = classifier.evaluate(x_test, y_test, verbose=0)\n",
        "\n",
        "\n",
        "print('Test Loss and Test Accuracy', prediction_score)"
      ],
      "execution_count": 17,
      "outputs": [
        {
          "output_type": "stream",
          "text": [
            "Test Loss and Test Accuracy [2.8596739768981934, 0.4878999888896942]\n"
          ],
          "name": "stdout"
        }
      ]
    },
    {
      "cell_type": "code",
      "metadata": {
        "id": "p2OqbpVCP8Ge"
      },
      "source": [
        ""
      ],
      "execution_count": null,
      "outputs": []
    }
  ]
}