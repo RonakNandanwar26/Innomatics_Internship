{
 "cells": [
  {
   "cell_type": "code",
   "execution_count": 1,
   "metadata": {
    "id": "PXZG1zQ3M5F6"
   },
   "outputs": [],
   "source": [
    "import pandas as pd\n",
    "import numpy as np\n",
    "import matplotlib.pyplot as plt\n",
    "from keras.datasets import cifar10"
   ]
  },
  {
   "cell_type": "code",
   "execution_count": 2,
   "metadata": {
    "colab": {
     "base_uri": "https://localhost:8080/"
    },
    "id": "yPN5SAmUQ4oc",
    "outputId": "6563b5b6-7e91-4b36-9a87-4c13e064e986"
   },
   "outputs": [
    {
     "name": "stdout",
     "output_type": "stream",
     "text": [
      "Downloading data from https://www.cs.toronto.edu/~kriz/cifar-10-python.tar.gz\n",
      "170500096/170498071 [==============================] - 4s 0us/step\n"
     ]
    }
   ],
   "source": [
    "(x_train,y_train),(x_test,y_test) = cifar10.load_data()"
   ]
  },
  {
   "cell_type": "code",
   "execution_count": 4,
   "metadata": {
    "id": "vUvz5mcGQ6Q6"
   },
   "outputs": [],
   "source": [
    "x_train = x_train/255\n",
    "x_test = x_test/255\n"
   ]
  },
  {
   "cell_type": "code",
   "execution_count": 5,
   "metadata": {
    "colab": {
     "base_uri": "https://localhost:8080/"
    },
    "id": "b0ycJ08xQ-Yu",
    "outputId": "e3088483-f4cc-4636-dafe-1902d2b299e0"
   },
   "outputs": [
    {
     "data": {
      "text/plain": [
       "(50000, 32, 32, 3)"
      ]
     },
     "execution_count": 5,
     "metadata": {
      "tags": []
     },
     "output_type": "execute_result"
    }
   ],
   "source": [
    "x_train.shape"
   ]
  },
  {
   "cell_type": "code",
   "execution_count": 6,
   "metadata": {
    "colab": {
     "base_uri": "https://localhost:8080/"
    },
    "id": "7tlNAibdQ_Bk",
    "outputId": "1eb7b6f8-5cd1-4b59-85d0-40899cc1c7b2"
   },
   "outputs": [
    {
     "name": "stdout",
     "output_type": "stream",
     "text": [
      "(50000, 3072)\n",
      "(10000, 3072)\n"
     ]
    }
   ],
   "source": [
    "x_train = x_train.reshape(50000,3072)\n",
    "x_test = x_test.reshape(10000,3072)\n",
    "print(x_train.shape)\n",
    "print(x_test.shape)"
   ]
  },
  {
   "cell_type": "code",
   "execution_count": 7,
   "metadata": {
    "id": "rgdGo8dCRA1t"
   },
   "outputs": [],
   "source": [
    "import keras\n",
    "from keras.models import Sequential\n",
    "from keras.layers import Dense\n",
    "from keras.layers import LeakyReLU,PReLU,ELU\n",
    "from keras.layers import Dropout\n",
    "from keras.utils import np_utils"
   ]
  },
  {
   "cell_type": "code",
   "execution_count": 8,
   "metadata": {
    "id": "pNBNt1eARDK3"
   },
   "outputs": [],
   "source": [
    "classifier = Sequential()"
   ]
  },
  {
   "cell_type": "code",
   "execution_count": 9,
   "metadata": {
    "id": "GYH7GQ5NRE6h"
   },
   "outputs": [],
   "source": [
    "# adding input layer and first hidden layer\n",
    "classifier.add(Dense(units=512,activation='relu',kernel_initializer='he_uniform',input_dim=3072))"
   ]
  },
  {
   "cell_type": "code",
   "execution_count": 13,
   "metadata": {
    "id": "0nuNa-DCRH8h"
   },
   "outputs": [],
   "source": [
    "# adding input layer and first hidden layer\n",
    "classifier.add(Dense(units=512,activation='selu',kernel_initializer='he_uniform'))"
   ]
  },
  {
   "cell_type": "code",
   "execution_count": 14,
   "metadata": {
    "id": "zcyij6RqRrbI"
   },
   "outputs": [],
   "source": [
    "# adding input layer and first hidden layer\n",
    "classifier.add(Dense(units=256,activation='elu',kernel_initializer='he_uniform'))"
   ]
  },
  {
   "cell_type": "code",
   "execution_count": 15,
   "metadata": {
    "id": "-mCIOH6dRvAb"
   },
   "outputs": [],
   "source": [
    "# adding input layer and first hidden layer\n",
    "classifier.add(Dense(units=128,activation='softplus',kernel_initializer='he_uniform'))"
   ]
  },
  {
   "cell_type": "code",
   "execution_count": 17,
   "metadata": {
    "id": "s8u18KgJSr7p"
   },
   "outputs": [],
   "source": [
    "classifier.add(Dense(units=10,activation='softmax'))"
   ]
  },
  {
   "cell_type": "code",
   "execution_count": 18,
   "metadata": {
    "id": "vMAolfABS2Im"
   },
   "outputs": [],
   "source": [
    "\n",
    "classifier.compile(optimizer='adamax', loss='categorical_crossentropy', metrics=['accuracy'])"
   ]
  },
  {
   "cell_type": "code",
   "execution_count": 19,
   "metadata": {
    "id": "47yQgGRqTAzM"
   },
   "outputs": [],
   "source": [
    "y_train = np_utils.to_categorical(y_train, 10)\n",
    "y_test = np_utils.to_categorical(y_test, 10)"
   ]
  },
  {
   "cell_type": "code",
   "execution_count": 21,
   "metadata": {
    "colab": {
     "base_uri": "https://localhost:8080/"
    },
    "id": "J_M_hLheTCnI",
    "outputId": "68d83ca9-e1ce-4945-e16e-4a4278d45fd5"
   },
   "outputs": [
    {
     "name": "stdout",
     "output_type": "stream",
     "text": [
      "Epoch 1/100\n",
      "262/262 [==============================] - 8s 32ms/step - loss: 0.6480 - accuracy: 0.7635 - val_loss: 2.1611 - val_accuracy: 0.4953\n",
      "Epoch 2/100\n",
      "262/262 [==============================] - 8s 31ms/step - loss: 0.6319 - accuracy: 0.7697 - val_loss: 2.1380 - val_accuracy: 0.4896\n",
      "Epoch 3/100\n",
      "262/262 [==============================] - 8s 32ms/step - loss: 0.6120 - accuracy: 0.7757 - val_loss: 2.0837 - val_accuracy: 0.4935\n",
      "Epoch 4/100\n",
      "262/262 [==============================] - 8s 32ms/step - loss: 0.6069 - accuracy: 0.7793 - val_loss: 2.2104 - val_accuracy: 0.4769\n",
      "Epoch 5/100\n",
      "262/262 [==============================] - 8s 32ms/step - loss: 0.6064 - accuracy: 0.7772 - val_loss: 2.2353 - val_accuracy: 0.4961\n",
      "Epoch 6/100\n",
      "262/262 [==============================] - 8s 32ms/step - loss: 0.6022 - accuracy: 0.7791 - val_loss: 2.2226 - val_accuracy: 0.4970\n",
      "Epoch 7/100\n",
      "262/262 [==============================] - 8s 32ms/step - loss: 0.5900 - accuracy: 0.7826 - val_loss: 2.2247 - val_accuracy: 0.4959\n",
      "Epoch 8/100\n",
      "262/262 [==============================] - 8s 32ms/step - loss: 0.5875 - accuracy: 0.7864 - val_loss: 2.2759 - val_accuracy: 0.4952\n",
      "Epoch 9/100\n",
      "262/262 [==============================] - 8s 32ms/step - loss: 0.5684 - accuracy: 0.7933 - val_loss: 2.4137 - val_accuracy: 0.4968\n",
      "Epoch 10/100\n",
      "262/262 [==============================] - 8s 32ms/step - loss: 0.5719 - accuracy: 0.7897 - val_loss: 2.2707 - val_accuracy: 0.5025\n",
      "Epoch 11/100\n",
      "262/262 [==============================] - 8s 32ms/step - loss: 0.5699 - accuracy: 0.7919 - val_loss: 2.2874 - val_accuracy: 0.4934\n",
      "Epoch 12/100\n",
      "262/262 [==============================] - 8s 32ms/step - loss: 0.5384 - accuracy: 0.8034 - val_loss: 2.4454 - val_accuracy: 0.4922\n",
      "Epoch 13/100\n",
      "262/262 [==============================] - 8s 32ms/step - loss: 0.5613 - accuracy: 0.7944 - val_loss: 2.2857 - val_accuracy: 0.4935\n",
      "Epoch 14/100\n",
      "262/262 [==============================] - 8s 32ms/step - loss: 0.5475 - accuracy: 0.8008 - val_loss: 2.5046 - val_accuracy: 0.4932\n",
      "Epoch 15/100\n",
      "262/262 [==============================] - 8s 32ms/step - loss: 0.5391 - accuracy: 0.8036 - val_loss: 2.4771 - val_accuracy: 0.4873\n",
      "Epoch 16/100\n",
      "262/262 [==============================] - 8s 32ms/step - loss: 0.5374 - accuracy: 0.8027 - val_loss: 2.4162 - val_accuracy: 0.4887\n",
      "Epoch 17/100\n",
      "262/262 [==============================] - 8s 32ms/step - loss: 0.5344 - accuracy: 0.8029 - val_loss: 2.4061 - val_accuracy: 0.4942\n",
      "Epoch 18/100\n",
      "262/262 [==============================] - 8s 31ms/step - loss: 0.5294 - accuracy: 0.8062 - val_loss: 2.4856 - val_accuracy: 0.4971\n",
      "Epoch 19/100\n",
      "262/262 [==============================] - 8s 32ms/step - loss: 0.5306 - accuracy: 0.8083 - val_loss: 2.4470 - val_accuracy: 0.4973\n",
      "Epoch 20/100\n",
      "262/262 [==============================] - 8s 32ms/step - loss: 0.5059 - accuracy: 0.8156 - val_loss: 2.5120 - val_accuracy: 0.4821\n",
      "Epoch 21/100\n",
      "262/262 [==============================] - 8s 32ms/step - loss: 0.5235 - accuracy: 0.8079 - val_loss: 2.5265 - val_accuracy: 0.4989\n",
      "Epoch 22/100\n",
      "262/262 [==============================] - 8s 32ms/step - loss: 0.5041 - accuracy: 0.8176 - val_loss: 2.6596 - val_accuracy: 0.4869\n",
      "Epoch 23/100\n",
      "262/262 [==============================] - 8s 32ms/step - loss: 0.5036 - accuracy: 0.8158 - val_loss: 2.5807 - val_accuracy: 0.4867\n",
      "Epoch 24/100\n",
      "262/262 [==============================] - 8s 32ms/step - loss: 0.5105 - accuracy: 0.8136 - val_loss: 2.5948 - val_accuracy: 0.4964\n",
      "Epoch 25/100\n",
      "262/262 [==============================] - 8s 32ms/step - loss: 0.4779 - accuracy: 0.8234 - val_loss: 2.5436 - val_accuracy: 0.4927\n",
      "Epoch 26/100\n",
      "262/262 [==============================] - 8s 32ms/step - loss: 0.4872 - accuracy: 0.8226 - val_loss: 2.7160 - val_accuracy: 0.4924\n",
      "Epoch 27/100\n",
      "262/262 [==============================] - 8s 32ms/step - loss: 0.4947 - accuracy: 0.8168 - val_loss: 2.7583 - val_accuracy: 0.4770\n",
      "Epoch 28/100\n",
      "262/262 [==============================] - 8s 32ms/step - loss: 0.4753 - accuracy: 0.8261 - val_loss: 2.7362 - val_accuracy: 0.4948\n",
      "Epoch 29/100\n",
      "262/262 [==============================] - 8s 32ms/step - loss: 0.4702 - accuracy: 0.8293 - val_loss: 2.7633 - val_accuracy: 0.4890\n",
      "Epoch 30/100\n",
      "262/262 [==============================] - 8s 32ms/step - loss: 0.4702 - accuracy: 0.8262 - val_loss: 2.6760 - val_accuracy: 0.4919\n",
      "Epoch 31/100\n",
      "262/262 [==============================] - 8s 32ms/step - loss: 0.4607 - accuracy: 0.8309 - val_loss: 2.7930 - val_accuracy: 0.4867\n",
      "Epoch 32/100\n",
      "262/262 [==============================] - 8s 32ms/step - loss: 0.4592 - accuracy: 0.8307 - val_loss: 2.8613 - val_accuracy: 0.4919\n",
      "Epoch 33/100\n",
      "262/262 [==============================] - 8s 32ms/step - loss: 0.4553 - accuracy: 0.8319 - val_loss: 2.8468 - val_accuracy: 0.4882\n",
      "Epoch 34/100\n",
      "262/262 [==============================] - 8s 32ms/step - loss: 0.4419 - accuracy: 0.8406 - val_loss: 2.9563 - val_accuracy: 0.4903\n",
      "Epoch 35/100\n",
      "262/262 [==============================] - 8s 32ms/step - loss: 0.4447 - accuracy: 0.8359 - val_loss: 2.8480 - val_accuracy: 0.4868\n",
      "Epoch 36/100\n",
      "262/262 [==============================] - 8s 32ms/step - loss: 0.4429 - accuracy: 0.8384 - val_loss: 2.8544 - val_accuracy: 0.4936\n",
      "Epoch 37/100\n",
      "262/262 [==============================] - 8s 32ms/step - loss: 0.4301 - accuracy: 0.8430 - val_loss: 2.8062 - val_accuracy: 0.4937\n",
      "Epoch 38/100\n",
      "262/262 [==============================] - 8s 32ms/step - loss: 0.4338 - accuracy: 0.8418 - val_loss: 2.7974 - val_accuracy: 0.4845\n",
      "Epoch 39/100\n",
      "262/262 [==============================] - 8s 32ms/step - loss: 0.4317 - accuracy: 0.8433 - val_loss: 2.9596 - val_accuracy: 0.4891\n",
      "Epoch 40/100\n",
      "262/262 [==============================] - 8s 32ms/step - loss: 0.4140 - accuracy: 0.8486 - val_loss: 3.0653 - val_accuracy: 0.4886\n",
      "Epoch 41/100\n",
      "262/262 [==============================] - 8s 32ms/step - loss: 0.4069 - accuracy: 0.8507 - val_loss: 2.9234 - val_accuracy: 0.4897\n",
      "Epoch 42/100\n",
      "262/262 [==============================] - 8s 32ms/step - loss: 0.4304 - accuracy: 0.8420 - val_loss: 2.9971 - val_accuracy: 0.4902\n",
      "Epoch 43/100\n",
      "262/262 [==============================] - 8s 32ms/step - loss: 0.4091 - accuracy: 0.8521 - val_loss: 3.0195 - val_accuracy: 0.4904\n",
      "Epoch 44/100\n",
      "262/262 [==============================] - 8s 32ms/step - loss: 0.4057 - accuracy: 0.8508 - val_loss: 3.0152 - val_accuracy: 0.4888\n",
      "Epoch 45/100\n",
      "262/262 [==============================] - 8s 32ms/step - loss: 0.4051 - accuracy: 0.8530 - val_loss: 2.9459 - val_accuracy: 0.4875\n",
      "Epoch 46/100\n",
      "262/262 [==============================] - 8s 31ms/step - loss: 0.3778 - accuracy: 0.8606 - val_loss: 3.1672 - val_accuracy: 0.4800\n",
      "Epoch 47/100\n",
      "262/262 [==============================] - 8s 32ms/step - loss: 0.3811 - accuracy: 0.8599 - val_loss: 3.0651 - val_accuracy: 0.4935\n",
      "Epoch 48/100\n",
      "262/262 [==============================] - 8s 32ms/step - loss: 0.3999 - accuracy: 0.8558 - val_loss: 3.1382 - val_accuracy: 0.4890\n",
      "Epoch 49/100\n",
      "262/262 [==============================] - 8s 32ms/step - loss: 0.3836 - accuracy: 0.8595 - val_loss: 3.2220 - val_accuracy: 0.4824\n",
      "Epoch 50/100\n",
      "262/262 [==============================] - 8s 32ms/step - loss: 0.3749 - accuracy: 0.8623 - val_loss: 3.1331 - val_accuracy: 0.4852\n",
      "Epoch 51/100\n",
      "262/262 [==============================] - 8s 32ms/step - loss: 0.3902 - accuracy: 0.8576 - val_loss: 3.0614 - val_accuracy: 0.4825\n",
      "Epoch 52/100\n",
      "262/262 [==============================] - 8s 32ms/step - loss: 0.3605 - accuracy: 0.8679 - val_loss: 3.2837 - val_accuracy: 0.4827\n",
      "Epoch 53/100\n",
      "262/262 [==============================] - 8s 32ms/step - loss: 0.3661 - accuracy: 0.8651 - val_loss: 3.2988 - val_accuracy: 0.4834\n",
      "Epoch 54/100\n",
      "262/262 [==============================] - 8s 32ms/step - loss: 0.3669 - accuracy: 0.8660 - val_loss: 3.2331 - val_accuracy: 0.4858\n",
      "Epoch 55/100\n",
      "262/262 [==============================] - 8s 32ms/step - loss: 0.3611 - accuracy: 0.8653 - val_loss: 3.1025 - val_accuracy: 0.4826\n",
      "Epoch 56/100\n",
      "262/262 [==============================] - 8s 32ms/step - loss: 0.3654 - accuracy: 0.8668 - val_loss: 3.5157 - val_accuracy: 0.4782\n",
      "Epoch 57/100\n",
      "262/262 [==============================] - 8s 32ms/step - loss: 0.3599 - accuracy: 0.8691 - val_loss: 3.3763 - val_accuracy: 0.4879\n",
      "Epoch 58/100\n",
      "262/262 [==============================] - 8s 32ms/step - loss: 0.3297 - accuracy: 0.8796 - val_loss: 3.4839 - val_accuracy: 0.4885\n",
      "Epoch 59/100\n",
      "262/262 [==============================] - 8s 32ms/step - loss: 0.3415 - accuracy: 0.8749 - val_loss: 3.4534 - val_accuracy: 0.4808\n",
      "Epoch 60/100\n",
      "262/262 [==============================] - 8s 32ms/step - loss: 0.3518 - accuracy: 0.8715 - val_loss: 3.5220 - val_accuracy: 0.4850\n",
      "Epoch 61/100\n",
      "262/262 [==============================] - 8s 32ms/step - loss: 0.3330 - accuracy: 0.8784 - val_loss: 3.5249 - val_accuracy: 0.4846\n",
      "Epoch 62/100\n",
      "262/262 [==============================] - 8s 32ms/step - loss: 0.3510 - accuracy: 0.8698 - val_loss: 3.4666 - val_accuracy: 0.4862\n",
      "Epoch 63/100\n",
      "262/262 [==============================] - 8s 32ms/step - loss: 0.3540 - accuracy: 0.8702 - val_loss: 3.5807 - val_accuracy: 0.4864\n",
      "Epoch 64/100\n",
      "262/262 [==============================] - 8s 32ms/step - loss: 0.3133 - accuracy: 0.8867 - val_loss: 3.8350 - val_accuracy: 0.4833\n",
      "Epoch 65/100\n",
      "262/262 [==============================] - 8s 32ms/step - loss: 0.3297 - accuracy: 0.8780 - val_loss: 3.4936 - val_accuracy: 0.4822\n",
      "Epoch 66/100\n",
      "262/262 [==============================] - 8s 32ms/step - loss: 0.3108 - accuracy: 0.8861 - val_loss: 3.5694 - val_accuracy: 0.4852\n",
      "Epoch 67/100\n",
      "262/262 [==============================] - 8s 32ms/step - loss: 0.3071 - accuracy: 0.8877 - val_loss: 3.6837 - val_accuracy: 0.4884\n",
      "Epoch 68/100\n",
      "262/262 [==============================] - 8s 32ms/step - loss: 0.3214 - accuracy: 0.8818 - val_loss: 3.7111 - val_accuracy: 0.4797\n",
      "Epoch 69/100\n",
      "262/262 [==============================] - 8s 32ms/step - loss: 0.3105 - accuracy: 0.8869 - val_loss: 3.8221 - val_accuracy: 0.4666\n",
      "Epoch 70/100\n",
      "262/262 [==============================] - 8s 32ms/step - loss: 0.3085 - accuracy: 0.8861 - val_loss: 3.5253 - val_accuracy: 0.4678\n",
      "Epoch 71/100\n",
      "262/262 [==============================] - 8s 32ms/step - loss: 0.3153 - accuracy: 0.8850 - val_loss: 4.0559 - val_accuracy: 0.4756\n",
      "Epoch 72/100\n",
      "262/262 [==============================] - 8s 32ms/step - loss: 0.3055 - accuracy: 0.8899 - val_loss: 3.6822 - val_accuracy: 0.4865\n",
      "Epoch 73/100\n",
      "262/262 [==============================] - 8s 32ms/step - loss: 0.3042 - accuracy: 0.8892 - val_loss: 3.8077 - val_accuracy: 0.4812\n",
      "Epoch 74/100\n",
      "262/262 [==============================] - 8s 32ms/step - loss: 0.2691 - accuracy: 0.9024 - val_loss: 3.5865 - val_accuracy: 0.4728\n",
      "Epoch 75/100\n",
      "262/262 [==============================] - 8s 32ms/step - loss: 0.3082 - accuracy: 0.8876 - val_loss: 3.8345 - val_accuracy: 0.4808\n",
      "Epoch 76/100\n",
      "262/262 [==============================] - 8s 32ms/step - loss: 0.3004 - accuracy: 0.8910 - val_loss: 3.6732 - val_accuracy: 0.4795\n",
      "Epoch 77/100\n",
      "262/262 [==============================] - 8s 32ms/step - loss: 0.2871 - accuracy: 0.8958 - val_loss: 3.7166 - val_accuracy: 0.4842\n",
      "Epoch 78/100\n",
      "262/262 [==============================] - 8s 32ms/step - loss: 0.2911 - accuracy: 0.8916 - val_loss: 3.7953 - val_accuracy: 0.4773\n",
      "Epoch 79/100\n",
      "262/262 [==============================] - 8s 32ms/step - loss: 0.3011 - accuracy: 0.8885 - val_loss: 3.8772 - val_accuracy: 0.4841\n",
      "Epoch 80/100\n",
      "262/262 [==============================] - 8s 32ms/step - loss: 0.2853 - accuracy: 0.8982 - val_loss: 3.8722 - val_accuracy: 0.4804\n",
      "Epoch 81/100\n",
      "262/262 [==============================] - 8s 32ms/step - loss: 0.2503 - accuracy: 0.9113 - val_loss: 3.8928 - val_accuracy: 0.4744\n",
      "Epoch 82/100\n",
      "262/262 [==============================] - 8s 32ms/step - loss: 0.2760 - accuracy: 0.8995 - val_loss: 3.9717 - val_accuracy: 0.4854\n",
      "Epoch 83/100\n",
      "262/262 [==============================] - 8s 32ms/step - loss: 0.2781 - accuracy: 0.8984 - val_loss: 3.9168 - val_accuracy: 0.4786\n",
      "Epoch 84/100\n",
      "262/262 [==============================] - 8s 32ms/step - loss: 0.2725 - accuracy: 0.9006 - val_loss: 4.1289 - val_accuracy: 0.4813\n",
      "Epoch 85/100\n",
      "262/262 [==============================] - 8s 32ms/step - loss: 0.2708 - accuracy: 0.9009 - val_loss: 3.9089 - val_accuracy: 0.4719\n",
      "Epoch 86/100\n",
      "262/262 [==============================] - 8s 32ms/step - loss: 0.2687 - accuracy: 0.9019 - val_loss: 4.1795 - val_accuracy: 0.4852\n",
      "Epoch 87/100\n",
      "262/262 [==============================] - 8s 32ms/step - loss: 0.2548 - accuracy: 0.9079 - val_loss: 4.1323 - val_accuracy: 0.4864\n",
      "Epoch 88/100\n",
      "262/262 [==============================] - 8s 32ms/step - loss: 0.2524 - accuracy: 0.9087 - val_loss: 4.2523 - val_accuracy: 0.4871\n",
      "Epoch 89/100\n",
      "262/262 [==============================] - 8s 32ms/step - loss: 0.2614 - accuracy: 0.9049 - val_loss: 4.0744 - val_accuracy: 0.4784\n",
      "Epoch 90/100\n",
      "262/262 [==============================] - 8s 32ms/step - loss: 0.2476 - accuracy: 0.9104 - val_loss: 4.1546 - val_accuracy: 0.4878\n",
      "Epoch 91/100\n",
      "262/262 [==============================] - 9s 32ms/step - loss: 0.2667 - accuracy: 0.9045 - val_loss: 4.2908 - val_accuracy: 0.4810\n",
      "Epoch 92/100\n",
      "262/262 [==============================] - 9s 33ms/step - loss: 0.2294 - accuracy: 0.9167 - val_loss: 4.0719 - val_accuracy: 0.4738\n",
      "Epoch 93/100\n",
      "262/262 [==============================] - 9s 33ms/step - loss: 0.2502 - accuracy: 0.9103 - val_loss: 4.3876 - val_accuracy: 0.4779\n",
      "Epoch 94/100\n",
      "262/262 [==============================] - 8s 32ms/step - loss: 0.2151 - accuracy: 0.9253 - val_loss: 4.1999 - val_accuracy: 0.4832\n",
      "Epoch 95/100\n",
      "262/262 [==============================] - 8s 32ms/step - loss: 0.2511 - accuracy: 0.9099 - val_loss: 4.0898 - val_accuracy: 0.4803\n",
      "Epoch 96/100\n",
      "262/262 [==============================] - 8s 32ms/step - loss: 0.2287 - accuracy: 0.9176 - val_loss: 4.2260 - val_accuracy: 0.4810\n",
      "Epoch 97/100\n",
      "262/262 [==============================] - 8s 32ms/step - loss: 0.2305 - accuracy: 0.9157 - val_loss: 4.4285 - val_accuracy: 0.4813\n",
      "Epoch 98/100\n",
      "262/262 [==============================] - 8s 32ms/step - loss: 0.2612 - accuracy: 0.9063 - val_loss: 4.3185 - val_accuracy: 0.4788\n",
      "Epoch 99/100\n",
      "262/262 [==============================] - 8s 32ms/step - loss: 0.2148 - accuracy: 0.9221 - val_loss: 4.2631 - val_accuracy: 0.4802\n",
      "Epoch 100/100\n",
      "262/262 [==============================] - 8s 32ms/step - loss: 0.2319 - accuracy: 0.9159 - val_loss: 4.4126 - val_accuracy: 0.4797\n"
     ]
    }
   ],
   "source": [
    "model_history = classifier.fit(x_train, y_train, validation_split=0.33,batch_size=128, epochs=100)"
   ]
  },
  {
   "cell_type": "code",
   "execution_count": 22,
   "metadata": {
    "colab": {
     "base_uri": "https://localhost:8080/",
     "height": 312
    },
    "id": "zURDYatPTE-2",
    "outputId": "943b3869-0fa2-4309-835f-d20610cdae88"
   },
   "outputs": [
    {
     "name": "stdout",
     "output_type": "stream",
     "text": [
      "dict_keys(['loss', 'accuracy', 'val_loss', 'val_accuracy'])\n"
     ]
    },
    {
     "data": {
      "image/png": "[encoded data removed]",
      "text/plain": [
       "<Figure size 432x288 with 1 Axes>"
      ]
     },
     "metadata": {
      "needs_background": "light",
      "tags": []
     },
     "output_type": "display_data"
    }
   ],
   "source": [
    "\n",
    "print(model_history.history.keys())\n",
    "# summarize history for accuracy\n",
    "plt.plot(model_history.history['accuracy'])\n",
    "plt.plot(model_history.history['val_accuracy'])\n",
    "plt.title('model accuracy')\n",
    "plt.ylabel('accuracy')\n",
    "plt.xlabel('epoch')\n",
    "plt.legend(['train', 'test'], loc='lower right')\n",
    "plt.show()"
   ]
  },
  {
   "cell_type": "code",
   "execution_count": 23,
   "metadata": {
    "colab": {
     "base_uri": "https://localhost:8080/",
     "height": 295
    },
    "id": "egN3uSYEbEnW",
    "outputId": "08d6d85a-2d82-4086-b264-6de1f6dff9bd"
   },
   "outputs": [
    {
     "data": {
      "image/png": "[encoded data removed]",
      "text/plain": [
       "<Figure size 432x288 with 1 Axes>"
      ]
     },
     "metadata": {
      "needs_background": "light",
      "tags": []
     },
     "output_type": "display_data"
    }
   ],
   "source": [
    "# summarize history for loss\n",
    "plt.plot(model_history.history['loss'])\n",
    "plt.plot(model_history.history['val_loss'])\n",
    "plt.title('model loss')\n",
    "plt.ylabel('loss')\n",
    "plt.xlabel('epoch')\n",
    "plt.legend(['train', 'test'], loc='upper left')\n",
    "plt.show()"
   ]
  },
  {
   "cell_type": "code",
   "execution_count": 24,
   "metadata": {
    "colab": {
     "base_uri": "https://localhost:8080/"
    },
    "id": "8UQI7op-bGrN",
    "outputId": "f2ea14dc-27e1-476b-fe5b-b9e7cc445d0f"
   },
   "outputs": [
    {
     "data": {
      "text/plain": [
       "array([[4.59710609e-05, 1.76590082e-04, 2.53720814e-03, ...,\n",
       "        5.50513912e-04, 9.39455407e-04, 2.96316832e-01],\n",
       "       [8.20393780e-06, 2.24424501e-09, 4.63528868e-11, ...,\n",
       "        6.16803158e-14, 9.99942064e-01, 4.97668298e-05],\n",
       "       [9.96429503e-01, 1.60243828e-04, 5.73900838e-09, ...,\n",
       "        9.24672167e-06, 3.39024025e-03, 1.01084515e-05],\n",
       "       ...,\n",
       "       [2.15279561e-05, 3.85381172e-05, 3.00716655e-03, ...,\n",
       "        3.46950583e-06, 9.96820211e-01, 7.94455346e-09],\n",
       "       [3.31111210e-08, 1.47228848e-05, 3.30524432e-04, ...,\n",
       "        3.98335254e-11, 1.78958195e-10, 1.80475502e-12],\n",
       "       [6.29419276e-07, 7.79146276e-08, 4.13409859e-01, ...,\n",
       "        5.00894547e-01, 4.46027229e-07, 2.75552109e-10]], dtype=float32)"
      ]
     },
     "execution_count": 24,
     "metadata": {
      "tags": []
     },
     "output_type": "execute_result"
    }
   ],
   "source": [
    "y_pred = classifier.predict(x_test)\n",
    "y_pred"
   ]
  },
  {
   "cell_type": "code",
   "execution_count": 25,
   "metadata": {
    "colab": {
     "base_uri": "https://localhost:8080/"
    },
    "id": "dt0HjSt1bIW3",
    "outputId": "19455a01-eff5-4f7e-a083-08d4a7b234f4"
   },
   "outputs": [
    {
     "name": "stdout",
     "output_type": "stream",
     "text": [
      "Test Loss and Test Accuracy [4.308028697967529, 0.48730000853538513]\n"
     ]
    }
   ],
   "source": [
    "prediction_score = classifier.evaluate(x_test, y_test, verbose=0)\n",
    "\n",
    "print('Test Loss and Test Accuracy', prediction_score)"
   ]
  },
  {
   "cell_type": "code",
   "execution_count": null,
   "metadata": {
    "id": "LigTtBkkbK8n"
   },
   "outputs": [],
   "source": []
  }
 ],
 "metadata": {
  "colab": {
   "collapsed_sections": [],
   "name": "ANN_with_activation_selu,softplus, elu,relu",
   "provenance": []
  },
  "kernelspec": {
   "display_name": "Python 3",
   "language": "python",
   "name": "python3"
  },
  "language_info": {
   "codemirror_mode": {
    "name": "ipython",
    "version": 3
   },
   "file_extension": ".py",
   "mimetype": "text/x-python",
   "name": "python",
   "nbconvert_exporter": "python",
   "pygments_lexer": "ipython3",
   "version": "3.8.5"
  }
 },
 "nbformat": 4,
 "nbformat_minor": 1
}
