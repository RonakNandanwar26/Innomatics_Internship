{
 "cells": [
  {
   "cell_type": "code",
   "execution_count": 93,
   "metadata": {
    "id": "NegxNNYdeE2s"
   },
   "outputs": [],
   "source": [
    "import pandas as pd\n",
    "import numpy as np\n",
    "import matplotlib.pyplot as plt\n"
   ]
  },
  {
   "cell_type": "code",
   "execution_count": 94,
   "metadata": {
    "id": "7pXywjxmejqi"
   },
   "outputs": [],
   "source": [
    "from keras.datasets import cifar10"
   ]
  },
  {
   "cell_type": "code",
   "execution_count": 95,
   "metadata": {
    "id": "Kfbl7Z0keq-s"
   },
   "outputs": [],
   "source": [
    "(x_train,y_train),(x_test,y_test) = cifar10.load_data()"
   ]
  },
  {
   "cell_type": "code",
   "execution_count": 96,
   "metadata": {
    "colab": {
     "base_uri": "https://localhost:8080/"
    },
    "id": "Z3Ia4ndgfQc5",
    "outputId": "4eb7cd29-810c-46a0-bcb6-63b8ed8009d6"
   },
   "outputs": [
    {
     "data": {
      "text/plain": [
       "(50000, 32, 32, 3)"
      ]
     },
     "execution_count": 96,
     "metadata": {
      "tags": []
     },
     "output_type": "execute_result"
    }
   ],
   "source": [
    "x_train.shape"
   ]
  },
  {
   "cell_type": "code",
   "execution_count": 97,
   "metadata": {
    "colab": {
     "base_uri": "https://localhost:8080/"
    },
    "id": "oX4OTJBUfTTE",
    "outputId": "0e584410-ee2a-4bd2-c261-306b7dfaa6c1"
   },
   "outputs": [
    {
     "data": {
      "text/plain": [
       "(10000, 32, 32, 3)"
      ]
     },
     "execution_count": 97,
     "metadata": {
      "tags": []
     },
     "output_type": "execute_result"
    }
   ],
   "source": [
    "x_test.shape"
   ]
  },
  {
   "cell_type": "code",
   "execution_count": 98,
   "metadata": {
    "colab": {
     "base_uri": "https://localhost:8080/"
    },
    "id": "-SpI9Cb7fU-7",
    "outputId": "7fa5289d-f48f-4da2-f674-f1ec0155f948"
   },
   "outputs": [
    {
     "data": {
      "text/plain": [
       "(50000, 1)"
      ]
     },
     "execution_count": 98,
     "metadata": {
      "tags": []
     },
     "output_type": "execute_result"
    }
   ],
   "source": [
    "y_train.shape"
   ]
  },
  {
   "cell_type": "code",
   "execution_count": 99,
   "metadata": {
    "colab": {
     "base_uri": "https://localhost:8080/"
    },
    "id": "1u27tKBHfWB4",
    "outputId": "ed57dafe-eadf-48b6-9e3f-1e1375364374"
   },
   "outputs": [
    {
     "data": {
      "text/plain": [
       "(10000, 1)"
      ]
     },
     "execution_count": 99,
     "metadata": {
      "tags": []
     },
     "output_type": "execute_result"
    }
   ],
   "source": [
    "y_test.shape"
   ]
  },
  {
   "cell_type": "code",
   "execution_count": 100,
   "metadata": {
    "colab": {
     "base_uri": "https://localhost:8080/",
     "height": 283
    },
    "id": "ZCBvCrorfXs-",
    "outputId": "ef674402-a8ff-4eec-a7e3-27949311100e"
   },
   "outputs": [
    {
     "data": {
      "text/plain": [
       "<matplotlib.image.AxesImage at 0x7fde1a69b710>"
      ]
     },
     "execution_count": 100,
     "metadata": {
      "tags": []
     },
     "output_type": "execute_result"
    },
    {
     "data": {
      "image/png": "[encoded data removed]",
      "text/plain": [
       "<Figure size 432x288 with 1 Axes>"
      ]
     },
     "metadata": {
      "needs_background": "light",
      "tags": []
     },
     "output_type": "display_data"
    }
   ],
   "source": [
    "plt.imshow(x_train[6])"
   ]
  },
  {
   "cell_type": "code",
   "execution_count": 101,
   "metadata": {
    "colab": {
     "base_uri": "https://localhost:8080/",
     "height": 283
    },
    "id": "gT01wAHefeJY",
    "outputId": "1c67077b-24dc-4946-cc3d-e6d01af4bbc3"
   },
   "outputs": [
    {
     "data": {
      "text/plain": [
       "<matplotlib.image.AxesImage at 0x7fde1a6827d0>"
      ]
     },
     "execution_count": 101,
     "metadata": {
      "tags": []
     },
     "output_type": "execute_result"
    },
    {
     "data": {
      "image/png": "[encoded data removed]",
      "text/plain": [
       "<Figure size 432x288 with 1 Axes>"
      ]
     },
     "metadata": {
      "needs_background": "light",
      "tags": []
     },
     "output_type": "display_data"
    }
   ],
   "source": [
    "plt.imshow(x_test[7])"
   ]
  },
  {
   "cell_type": "code",
   "execution_count": 102,
   "metadata": {
    "colab": {
     "base_uri": "https://localhost:8080/"
    },
    "id": "jRNVVAPgfjf0",
    "outputId": "0e084d37-3575-41d7-ed4e-5568a010e89e"
   },
   "outputs": [
    {
     "data": {
      "text/plain": [
       "(32, 32, 3)"
      ]
     },
     "execution_count": 102,
     "metadata": {
      "tags": []
     },
     "output_type": "execute_result"
    }
   ],
   "source": [
    "x_train[1].shape"
   ]
  },
  {
   "cell_type": "code",
   "execution_count": 103,
   "metadata": {
    "id": "PoViigF3fz6M"
   },
   "outputs": [],
   "source": [
    "# x_train and x_test data is ranges from 0 to 255, we need to normalize that"
   ]
  },
  {
   "cell_type": "code",
   "execution_count": 104,
   "metadata": {
    "id": "Ud46pYAZhEmV"
   },
   "outputs": [],
   "source": [
    "from sklearn.preprocessing import StandardScaler\n",
    "scaler = StandardScaler()"
   ]
  },
  {
   "cell_type": "code",
   "execution_count": 105,
   "metadata": {
    "id": "LTByR0nIhaRs"
   },
   "outputs": [],
   "source": [
    "x_train = x_train/255\n",
    "x_test = x_test/255"
   ]
  },
  {
   "cell_type": "code",
   "execution_count": 106,
   "metadata": {
    "colab": {
     "base_uri": "https://localhost:8080/"
    },
    "id": "7dcYNcwVhfLY",
    "outputId": "d3ebf66d-9cf2-44ee-ace0-278cdab65cd3"
   },
   "outputs": [
    {
     "data": {
      "text/plain": [
       "array([[[0.60392157, 0.69411765, 0.73333333],\n",
       "        [0.49411765, 0.5372549 , 0.53333333],\n",
       "        [0.41176471, 0.40784314, 0.37254902],\n",
       "        ...,\n",
       "        [0.35686275, 0.37254902, 0.27843137],\n",
       "        [0.34117647, 0.35294118, 0.27843137],\n",
       "        [0.30980392, 0.31764706, 0.2745098 ]],\n",
       "\n",
       "       [[0.54901961, 0.62745098, 0.6627451 ],\n",
       "        [0.56862745, 0.6       , 0.60392157],\n",
       "        [0.49019608, 0.49019608, 0.4627451 ],\n",
       "        ...,\n",
       "        [0.37647059, 0.38823529, 0.30588235],\n",
       "        [0.30196078, 0.31372549, 0.24313725],\n",
       "        [0.27843137, 0.28627451, 0.23921569]],\n",
       "\n",
       "       [[0.54901961, 0.60784314, 0.64313725],\n",
       "        [0.54509804, 0.57254902, 0.58431373],\n",
       "        [0.45098039, 0.45098039, 0.43921569],\n",
       "        ...,\n",
       "        [0.30980392, 0.32156863, 0.25098039],\n",
       "        [0.26666667, 0.2745098 , 0.21568627],\n",
       "        [0.2627451 , 0.27058824, 0.21568627]],\n",
       "\n",
       "       ...,\n",
       "\n",
       "       [[0.68627451, 0.65490196, 0.65098039],\n",
       "        [0.61176471, 0.60392157, 0.62745098],\n",
       "        [0.60392157, 0.62745098, 0.66666667],\n",
       "        ...,\n",
       "        [0.16470588, 0.13333333, 0.14117647],\n",
       "        [0.23921569, 0.20784314, 0.22352941],\n",
       "        [0.36470588, 0.3254902 , 0.35686275]],\n",
       "\n",
       "       [[0.64705882, 0.60392157, 0.50196078],\n",
       "        [0.61176471, 0.59607843, 0.50980392],\n",
       "        [0.62352941, 0.63137255, 0.55686275],\n",
       "        ...,\n",
       "        [0.40392157, 0.36470588, 0.37647059],\n",
       "        [0.48235294, 0.44705882, 0.47058824],\n",
       "        [0.51372549, 0.4745098 , 0.51372549]],\n",
       "\n",
       "       [[0.63921569, 0.58039216, 0.47058824],\n",
       "        [0.61960784, 0.58039216, 0.47843137],\n",
       "        [0.63921569, 0.61176471, 0.52156863],\n",
       "        ...,\n",
       "        [0.56078431, 0.52156863, 0.54509804],\n",
       "        [0.56078431, 0.5254902 , 0.55686275],\n",
       "        [0.56078431, 0.52156863, 0.56470588]]])"
      ]
     },
     "execution_count": 106,
     "metadata": {
      "tags": []
     },
     "output_type": "execute_result"
    }
   ],
   "source": [
    "x_train[1]"
   ]
  },
  {
   "cell_type": "code",
   "execution_count": 107,
   "metadata": {
    "colab": {
     "base_uri": "https://localhost:8080/",
     "height": 283
    },
    "id": "z2CABdlAk1z2",
    "outputId": "ebbc48a9-ec8f-4c4f-afd7-9f4dfb08dc7a"
   },
   "outputs": [
    {
     "data": {
      "text/plain": [
       "<matplotlib.image.AxesImage at 0x7fde1a5ecdd0>"
      ]
     },
     "execution_count": 107,
     "metadata": {
      "tags": []
     },
     "output_type": "execute_result"
    },
    {
     "data": {
      "image/png": "[encoded data removed]",
      "text/plain": [
       "<Figure size 432x288 with 1 Axes>"
      ]
     },
     "metadata": {
      "needs_background": "light",
      "tags": []
     },
     "output_type": "display_data"
    }
   ],
   "source": [
    "plt.imshow(x_train[6])"
   ]
  },
  {
   "cell_type": "code",
   "execution_count": 108,
   "metadata": {
    "colab": {
     "base_uri": "https://localhost:8080/"
    },
    "id": "vYZdUkgWlAAs",
    "outputId": "4c4c639e-ddb5-4283-82ff-9977bc2ce626"
   },
   "outputs": [
    {
     "data": {
      "text/plain": [
       "dtype('float64')"
      ]
     },
     "execution_count": 108,
     "metadata": {
      "tags": []
     },
     "output_type": "execute_result"
    }
   ],
   "source": [
    "x_train.dtype"
   ]
  },
  {
   "cell_type": "code",
   "execution_count": 109,
   "metadata": {
    "colab": {
     "base_uri": "https://localhost:8080/"
    },
    "id": "HPP0eGgOlKZD",
    "outputId": "52b630cc-013d-4fc6-b2e6-e6ee88aa0210"
   },
   "outputs": [
    {
     "data": {
      "text/plain": [
       "(50000, 32, 32, 3)"
      ]
     },
     "execution_count": 109,
     "metadata": {
      "tags": []
     },
     "output_type": "execute_result"
    }
   ],
   "source": [
    "x_train.shape"
   ]
  },
  {
   "cell_type": "code",
   "execution_count": 110,
   "metadata": {
    "colab": {
     "base_uri": "https://localhost:8080/"
    },
    "id": "n5GBRQyblrb4",
    "outputId": "d688c166-0910-4123-9cd3-14bf5d362712"
   },
   "outputs": [
    {
     "data": {
      "text/plain": [
       "3072"
      ]
     },
     "execution_count": 110,
     "metadata": {
      "tags": []
     },
     "output_type": "execute_result"
    }
   ],
   "source": [
    "32*32*3"
   ]
  },
  {
   "cell_type": "code",
   "execution_count": 111,
   "metadata": {
    "colab": {
     "base_uri": "https://localhost:8080/"
    },
    "id": "zjMt1iTelvpx",
    "outputId": "680c620c-c538-4146-dd5d-3bef6256c61e"
   },
   "outputs": [
    {
     "name": "stdout",
     "output_type": "stream",
     "text": [
      "(50000, 3072)\n",
      "(10000, 3072)\n"
     ]
    }
   ],
   "source": [
    "x_train = x_train.reshape(50000,3072)\n",
    "x_test = x_test.reshape(10000,3072)\n",
    "print(x_train.shape)\n",
    "print(x_test.shape)"
   ]
  },
  {
   "cell_type": "code",
   "execution_count": 112,
   "metadata": {
    "id": "cq2LbNrMFxuP"
   },
   "outputs": [],
   "source": [
    "# ANN "
   ]
  },
  {
   "cell_type": "code",
   "execution_count": 113,
   "metadata": {
    "id": "HcY2dcWgGGGl"
   },
   "outputs": [],
   "source": [
    "import keras\n",
    "from keras.models import Sequential\n",
    "from keras.layers import Dense\n",
    "from keras.layers import LeakyReLU,PReLU,ELU\n",
    "from keras.layers import Dropout\n",
    "from keras.utils import np_utils"
   ]
  },
  {
   "cell_type": "code",
   "execution_count": 114,
   "metadata": {
    "id": "Wagjk4VZGpy_"
   },
   "outputs": [],
   "source": [
    "classifier = Sequential()"
   ]
  },
  {
   "cell_type": "code",
   "execution_count": 115,
   "metadata": {
    "id": "WIB5W_S1HNRV"
   },
   "outputs": [],
   "source": [
    "# adding input layer and first hidden layer\n",
    "classifier.add(Dense(units=512,activation='relu',kernel_initializer='he_uniform',input_dim=3072))"
   ]
  },
  {
   "cell_type": "code",
   "execution_count": 116,
   "metadata": {
    "id": "9K8WFsLUM2Iv"
   },
   "outputs": [],
   "source": [
    "classifier.add(Dense(units=256,activation='relu',kernel_initializer='he_uniform'))"
   ]
  },
  {
   "cell_type": "code",
   "execution_count": 117,
   "metadata": {
    "id": "B_TQQ9UbkIm5"
   },
   "outputs": [],
   "source": [
    "classifier.add(Dense(units=128,activation='relu',kernel_initializer='he_uniform'))"
   ]
  },
  {
   "cell_type": "code",
   "execution_count": 117,
   "metadata": {
    "id": "6nmJ0NmpOBh_"
   },
   "outputs": [],
   "source": []
  },
  {
   "cell_type": "code",
   "execution_count": 118,
   "metadata": {
    "id": "2EvK8S2RNcS-"
   },
   "outputs": [],
   "source": [
    "y = pd.DataFrame(y_train)"
   ]
  },
  {
   "cell_type": "code",
   "execution_count": 119,
   "metadata": {
    "colab": {
     "base_uri": "https://localhost:8080/"
    },
    "id": "N2esmguJNm1m",
    "outputId": "2dcd7a7e-e105-4c03-ee16-e41d569e3ef8"
   },
   "outputs": [
    {
     "data": {
      "text/plain": [
       "0    10\n",
       "dtype: int64"
      ]
     },
     "execution_count": 119,
     "metadata": {
      "tags": []
     },
     "output_type": "execute_result"
    }
   ],
   "source": [
    "y.nunique()"
   ]
  },
  {
   "cell_type": "code",
   "execution_count": 120,
   "metadata": {
    "id": "Bb7ulcR-NyJF"
   },
   "outputs": [],
   "source": [
    "classifier.add(Dense(units=10,activation='softmax'))"
   ]
  },
  {
   "cell_type": "code",
   "execution_count": 121,
   "metadata": {
    "id": "UqlZiB_oQoFR"
   },
   "outputs": [],
   "source": [
    "# Compile the Model\n",
    "\n",
    "classifier.compile(optimizer='adam', loss='categorical_crossentropy', metrics=['accuracy'])"
   ]
  },
  {
   "cell_type": "code",
   "execution_count": 122,
   "metadata": {
    "colab": {
     "base_uri": "https://localhost:8080/"
    },
    "id": "-bmk-3ApV1mT",
    "outputId": "a5b42c41-6afe-4d8b-dc46-6a4c6aaf983c"
   },
   "outputs": [
    {
     "data": {
      "text/plain": [
       "(50000, 3072)"
      ]
     },
     "execution_count": 122,
     "metadata": {
      "tags": []
     },
     "output_type": "execute_result"
    }
   ],
   "source": [
    "x_train.shape"
   ]
  },
  {
   "cell_type": "code",
   "execution_count": 123,
   "metadata": {
    "colab": {
     "base_uri": "https://localhost:8080/"
    },
    "id": "jgSE6nMiV5DB",
    "outputId": "d442688a-7440-4c5d-9148-4caff5c81d3c"
   },
   "outputs": [
    {
     "data": {
      "text/plain": [
       "(50000, 1)"
      ]
     },
     "execution_count": 123,
     "metadata": {
      "tags": []
     },
     "output_type": "execute_result"
    }
   ],
   "source": [
    "y_train.shape"
   ]
  },
  {
   "cell_type": "code",
   "execution_count": 124,
   "metadata": {
    "id": "Bb94A20jY6QC"
   },
   "outputs": [],
   "source": [
    "y_train = np_utils.to_categorical(y_train, 10)\n",
    "y_test = np_utils.to_categorical(y_test, 10)"
   ]
  },
  {
   "cell_type": "code",
   "execution_count": 125,
   "metadata": {
    "colab": {
     "base_uri": "https://localhost:8080/"
    },
    "id": "QEShA_XHZFDF",
    "outputId": "da3f93c2-41b1-4536-e9ad-02c0155698e8"
   },
   "outputs": [
    {
     "data": {
      "text/plain": [
       "array([0., 0., 0., 0., 0., 0., 1., 0., 0., 0.], dtype=float32)"
      ]
     },
     "execution_count": 125,
     "metadata": {
      "tags": []
     },
     "output_type": "execute_result"
    }
   ],
   "source": [
    "y_train[0]"
   ]
  },
  {
   "cell_type": "code",
   "execution_count": 126,
   "metadata": {
    "id": "kOQ2LVSkaI2L"
   },
   "outputs": [],
   "source": [
    "import tensorflow as tf\n",
    "tf.config.run_functions_eagerly(True)"
   ]
  },
  {
   "cell_type": "code",
   "execution_count": 127,
   "metadata": {
    "colab": {
     "base_uri": "https://localhost:8080/"
    },
    "id": "PwaW4zlzQ0MX",
    "outputId": "a66742c6-ecf1-4689-bd0f-c50a5f693345"
   },
   "outputs": [
    {
     "name": "stdout",
     "output_type": "stream",
     "text": [
      "Epoch 1/100\n",
      " 10/262 [>.............................] - ETA: 3s - loss: 3.1488 - accuracy: 0.1085"
     ]
    },
    {
     "name": "stderr",
     "output_type": "stream",
     "text": [
      "/usr/local/lib/python3.7/dist-packages/tensorflow/python/data/ops/dataset_ops.py:3504: UserWarning: Even though the tf.config.experimental_run_functions_eagerly option is set, this option does not apply to tf.data functions. tf.data functions are still traced and executed as graphs.\n",
      "  \"Even though the tf.config.experimental_run_functions_eagerly \"\n"
     ]
    },
    {
     "name": "stdout",
     "output_type": "stream",
     "text": [
      "262/262 [==============================] - 5s 17ms/step - loss: 2.2086 - accuracy: 0.2241 - val_loss: 1.8645 - val_accuracy: 0.3267\n",
      "Epoch 2/100\n",
      "262/262 [==============================] - 5s 17ms/step - loss: 1.7874 - accuracy: 0.3589 - val_loss: 1.7019 - val_accuracy: 0.3901\n",
      "Epoch 3/100\n",
      "262/262 [==============================] - 5s 18ms/step - loss: 1.6598 - accuracy: 0.4049 - val_loss: 1.6536 - val_accuracy: 0.4104\n",
      "Epoch 4/100\n",
      "262/262 [==============================] - 5s 18ms/step - loss: 1.6083 - accuracy: 0.4249 - val_loss: 1.5975 - val_accuracy: 0.4345\n",
      "Epoch 5/100\n",
      "262/262 [==============================] - 5s 18ms/step - loss: 1.5554 - accuracy: 0.4464 - val_loss: 1.5932 - val_accuracy: 0.4313\n",
      "Epoch 6/100\n",
      "262/262 [==============================] - 5s 18ms/step - loss: 1.4898 - accuracy: 0.4669 - val_loss: 1.5417 - val_accuracy: 0.4572\n",
      "Epoch 7/100\n",
      "262/262 [==============================] - 5s 18ms/step - loss: 1.4700 - accuracy: 0.4713 - val_loss: 1.5469 - val_accuracy: 0.4461\n",
      "Epoch 8/100\n",
      "262/262 [==============================] - 5s 18ms/step - loss: 1.4559 - accuracy: 0.4805 - val_loss: 1.5358 - val_accuracy: 0.4562\n",
      "Epoch 9/100\n",
      "262/262 [==============================] - 5s 18ms/step - loss: 1.4285 - accuracy: 0.4900 - val_loss: 1.5648 - val_accuracy: 0.4581\n",
      "Epoch 10/100\n",
      "262/262 [==============================] - 5s 17ms/step - loss: 1.3805 - accuracy: 0.5049 - val_loss: 1.5176 - val_accuracy: 0.4676\n",
      "Epoch 11/100\n",
      "262/262 [==============================] - 5s 18ms/step - loss: 1.3534 - accuracy: 0.5213 - val_loss: 1.4966 - val_accuracy: 0.4728\n",
      "Epoch 12/100\n",
      "262/262 [==============================] - 5s 17ms/step - loss: 1.3339 - accuracy: 0.5261 - val_loss: 1.5002 - val_accuracy: 0.4690\n",
      "Epoch 13/100\n",
      "262/262 [==============================] - 5s 18ms/step - loss: 1.3102 - accuracy: 0.5332 - val_loss: 1.5437 - val_accuracy: 0.4667\n",
      "Epoch 14/100\n",
      "262/262 [==============================] - 5s 18ms/step - loss: 1.3077 - accuracy: 0.5303 - val_loss: 1.4922 - val_accuracy: 0.4753\n",
      "Epoch 15/100\n",
      "262/262 [==============================] - 5s 17ms/step - loss: 1.2727 - accuracy: 0.5470 - val_loss: 1.4751 - val_accuracy: 0.4811\n",
      "Epoch 16/100\n",
      "262/262 [==============================] - 5s 17ms/step - loss: 1.2423 - accuracy: 0.5580 - val_loss: 1.4657 - val_accuracy: 0.4888\n",
      "Epoch 17/100\n",
      "262/262 [==============================] - 5s 18ms/step - loss: 1.2219 - accuracy: 0.5623 - val_loss: 1.5059 - val_accuracy: 0.4847\n",
      "Epoch 18/100\n",
      "262/262 [==============================] - 5s 18ms/step - loss: 1.1923 - accuracy: 0.5718 - val_loss: 1.5454 - val_accuracy: 0.4704\n",
      "Epoch 19/100\n",
      "262/262 [==============================] - 5s 18ms/step - loss: 1.1895 - accuracy: 0.5716 - val_loss: 1.4689 - val_accuracy: 0.4938\n",
      "Epoch 20/100\n",
      "262/262 [==============================] - 5s 18ms/step - loss: 1.1377 - accuracy: 0.5900 - val_loss: 1.5048 - val_accuracy: 0.4857\n",
      "Epoch 21/100\n",
      "262/262 [==============================] - 5s 18ms/step - loss: 1.1417 - accuracy: 0.5888 - val_loss: 1.5102 - val_accuracy: 0.4899\n",
      "Epoch 22/100\n",
      "262/262 [==============================] - 5s 18ms/step - loss: 1.0963 - accuracy: 0.6063 - val_loss: 1.5103 - val_accuracy: 0.4890\n",
      "Epoch 23/100\n",
      "262/262 [==============================] - 5s 18ms/step - loss: 1.0848 - accuracy: 0.6125 - val_loss: 1.4918 - val_accuracy: 0.4967\n",
      "Epoch 24/100\n",
      "262/262 [==============================] - 5s 18ms/step - loss: 1.0552 - accuracy: 0.6236 - val_loss: 1.5089 - val_accuracy: 0.4984\n",
      "Epoch 25/100\n",
      "262/262 [==============================] - 5s 18ms/step - loss: 1.0210 - accuracy: 0.6348 - val_loss: 1.5292 - val_accuracy: 0.4908\n",
      "Epoch 26/100\n",
      "262/262 [==============================] - 5s 17ms/step - loss: 1.0211 - accuracy: 0.6350 - val_loss: 1.5713 - val_accuracy: 0.4848\n",
      "Epoch 27/100\n",
      "262/262 [==============================] - 5s 18ms/step - loss: 0.9876 - accuracy: 0.6446 - val_loss: 1.5437 - val_accuracy: 0.4916\n",
      "Epoch 28/100\n",
      "262/262 [==============================] - 5s 18ms/step - loss: 0.9787 - accuracy: 0.6446 - val_loss: 1.5775 - val_accuracy: 0.4916\n",
      "Epoch 29/100\n",
      "262/262 [==============================] - 5s 18ms/step - loss: 0.9401 - accuracy: 0.6655 - val_loss: 1.5831 - val_accuracy: 0.4960\n",
      "Epoch 30/100\n",
      "262/262 [==============================] - 5s 17ms/step - loss: 0.9129 - accuracy: 0.6728 - val_loss: 1.5756 - val_accuracy: 0.4990\n",
      "Epoch 31/100\n",
      "262/262 [==============================] - 4s 17ms/step - loss: 0.9056 - accuracy: 0.6772 - val_loss: 1.6108 - val_accuracy: 0.4966\n",
      "Epoch 32/100\n",
      "262/262 [==============================] - 5s 18ms/step - loss: 0.8737 - accuracy: 0.6885 - val_loss: 1.6474 - val_accuracy: 0.4898\n",
      "Epoch 33/100\n",
      "262/262 [==============================] - 5s 18ms/step - loss: 0.8630 - accuracy: 0.6926 - val_loss: 1.7077 - val_accuracy: 0.4739\n",
      "Epoch 34/100\n",
      "262/262 [==============================] - 5s 18ms/step - loss: 0.8442 - accuracy: 0.6971 - val_loss: 1.6988 - val_accuracy: 0.4836\n",
      "Epoch 35/100\n",
      "262/262 [==============================] - 5s 18ms/step - loss: 0.8120 - accuracy: 0.7121 - val_loss: 1.7165 - val_accuracy: 0.4876\n",
      "Epoch 36/100\n",
      "262/262 [==============================] - 5s 18ms/step - loss: 0.8028 - accuracy: 0.7126 - val_loss: 1.7510 - val_accuracy: 0.4868\n",
      "Epoch 37/100\n",
      "262/262 [==============================] - 5s 18ms/step - loss: 0.7989 - accuracy: 0.7106 - val_loss: 1.7150 - val_accuracy: 0.4993\n",
      "Epoch 38/100\n",
      "262/262 [==============================] - 5s 18ms/step - loss: 0.7600 - accuracy: 0.7271 - val_loss: 1.7689 - val_accuracy: 0.4922\n",
      "Epoch 39/100\n",
      "262/262 [==============================] - 5s 18ms/step - loss: 0.7398 - accuracy: 0.7318 - val_loss: 1.7606 - val_accuracy: 0.4873\n",
      "Epoch 40/100\n",
      "262/262 [==============================] - 5s 18ms/step - loss: 0.7246 - accuracy: 0.7392 - val_loss: 1.8403 - val_accuracy: 0.4832\n",
      "Epoch 41/100\n",
      "262/262 [==============================] - 5s 18ms/step - loss: 0.7176 - accuracy: 0.7413 - val_loss: 1.8469 - val_accuracy: 0.4928\n",
      "Epoch 42/100\n",
      "262/262 [==============================] - 5s 18ms/step - loss: 0.6820 - accuracy: 0.7573 - val_loss: 1.8198 - val_accuracy: 0.4928\n",
      "Epoch 43/100\n",
      "262/262 [==============================] - 5s 18ms/step - loss: 0.6759 - accuracy: 0.7566 - val_loss: 1.9405 - val_accuracy: 0.4876\n",
      "Epoch 44/100\n",
      "262/262 [==============================] - 5s 18ms/step - loss: 0.6447 - accuracy: 0.7664 - val_loss: 1.9394 - val_accuracy: 0.4889\n",
      "Epoch 45/100\n",
      "262/262 [==============================] - 5s 18ms/step - loss: 0.6193 - accuracy: 0.7795 - val_loss: 1.9568 - val_accuracy: 0.4890\n",
      "Epoch 46/100\n",
      "262/262 [==============================] - 5s 18ms/step - loss: 0.6329 - accuracy: 0.7679 - val_loss: 1.9672 - val_accuracy: 0.4852\n",
      "Epoch 47/100\n",
      "262/262 [==============================] - 5s 19ms/step - loss: 0.6044 - accuracy: 0.7806 - val_loss: 2.0611 - val_accuracy: 0.4833\n",
      "Epoch 48/100\n",
      "262/262 [==============================] - 5s 18ms/step - loss: 0.5949 - accuracy: 0.7862 - val_loss: 2.0984 - val_accuracy: 0.4748\n",
      "Epoch 49/100\n",
      "262/262 [==============================] - 5s 18ms/step - loss: 0.5970 - accuracy: 0.7834 - val_loss: 2.1035 - val_accuracy: 0.4787\n",
      "Epoch 50/100\n",
      "262/262 [==============================] - 5s 19ms/step - loss: 0.5662 - accuracy: 0.7959 - val_loss: 2.1744 - val_accuracy: 0.4802\n",
      "Epoch 51/100\n",
      "262/262 [==============================] - 5s 19ms/step - loss: 0.5481 - accuracy: 0.8039 - val_loss: 2.1825 - val_accuracy: 0.4872\n",
      "Epoch 52/100\n",
      "262/262 [==============================] - 5s 18ms/step - loss: 0.5284 - accuracy: 0.8116 - val_loss: 2.1994 - val_accuracy: 0.4837\n",
      "Epoch 53/100\n",
      "262/262 [==============================] - 5s 18ms/step - loss: 0.5201 - accuracy: 0.8134 - val_loss: 2.2747 - val_accuracy: 0.4785\n",
      "Epoch 54/100\n",
      "262/262 [==============================] - 5s 18ms/step - loss: 0.5198 - accuracy: 0.8129 - val_loss: 2.3156 - val_accuracy: 0.4829\n",
      "Epoch 55/100\n",
      "262/262 [==============================] - 5s 18ms/step - loss: 0.5220 - accuracy: 0.8122 - val_loss: 2.3178 - val_accuracy: 0.4816\n",
      "Epoch 56/100\n",
      "262/262 [==============================] - 5s 19ms/step - loss: 0.4917 - accuracy: 0.8252 - val_loss: 2.3489 - val_accuracy: 0.4841\n",
      "Epoch 57/100\n",
      "262/262 [==============================] - 5s 18ms/step - loss: 0.4807 - accuracy: 0.8318 - val_loss: 2.4506 - val_accuracy: 0.4778\n",
      "Epoch 58/100\n",
      "262/262 [==============================] - 5s 18ms/step - loss: 0.4764 - accuracy: 0.8294 - val_loss: 2.4424 - val_accuracy: 0.4784\n",
      "Epoch 59/100\n",
      "262/262 [==============================] - 5s 18ms/step - loss: 0.4604 - accuracy: 0.8358 - val_loss: 2.5408 - val_accuracy: 0.4743\n",
      "Epoch 60/100\n",
      "262/262 [==============================] - 5s 18ms/step - loss: 0.4581 - accuracy: 0.8339 - val_loss: 2.5327 - val_accuracy: 0.4839\n",
      "Epoch 61/100\n",
      "262/262 [==============================] - 5s 18ms/step - loss: 0.4267 - accuracy: 0.8502 - val_loss: 2.5557 - val_accuracy: 0.4845\n",
      "Epoch 62/100\n",
      "262/262 [==============================] - 5s 18ms/step - loss: 0.4266 - accuracy: 0.8468 - val_loss: 2.6135 - val_accuracy: 0.4835\n",
      "Epoch 63/100\n",
      "262/262 [==============================] - 5s 18ms/step - loss: 0.4166 - accuracy: 0.8528 - val_loss: 2.7026 - val_accuracy: 0.4701\n",
      "Epoch 64/100\n",
      "262/262 [==============================] - 5s 18ms/step - loss: 0.4057 - accuracy: 0.8553 - val_loss: 2.6480 - val_accuracy: 0.4753\n",
      "Epoch 65/100\n",
      "262/262 [==============================] - 5s 18ms/step - loss: 0.4154 - accuracy: 0.8541 - val_loss: 2.7575 - val_accuracy: 0.4789\n",
      "Epoch 66/100\n",
      "262/262 [==============================] - 5s 18ms/step - loss: 0.4056 - accuracy: 0.8530 - val_loss: 2.7503 - val_accuracy: 0.4821\n",
      "Epoch 67/100\n",
      "262/262 [==============================] - 5s 18ms/step - loss: 0.3730 - accuracy: 0.8685 - val_loss: 2.7722 - val_accuracy: 0.4765\n",
      "Epoch 68/100\n",
      "262/262 [==============================] - 5s 18ms/step - loss: 0.3572 - accuracy: 0.8745 - val_loss: 2.8591 - val_accuracy: 0.4824\n",
      "Epoch 69/100\n",
      "262/262 [==============================] - 5s 18ms/step - loss: 0.3647 - accuracy: 0.8698 - val_loss: 2.9437 - val_accuracy: 0.4688\n",
      "Epoch 70/100\n",
      "262/262 [==============================] - 5s 18ms/step - loss: 0.3709 - accuracy: 0.8665 - val_loss: 2.9721 - val_accuracy: 0.4811\n",
      "Epoch 71/100\n",
      "262/262 [==============================] - 5s 18ms/step - loss: 0.3362 - accuracy: 0.8792 - val_loss: 3.0203 - val_accuracy: 0.4776\n",
      "Epoch 72/100\n",
      "262/262 [==============================] - 5s 18ms/step - loss: 0.3797 - accuracy: 0.8640 - val_loss: 2.9996 - val_accuracy: 0.4735\n",
      "Epoch 73/100\n",
      "262/262 [==============================] - 5s 18ms/step - loss: 0.3438 - accuracy: 0.8746 - val_loss: 3.1223 - val_accuracy: 0.4714\n",
      "Epoch 74/100\n",
      "262/262 [==============================] - 5s 18ms/step - loss: 0.3433 - accuracy: 0.8758 - val_loss: 3.1197 - val_accuracy: 0.4710\n",
      "Epoch 75/100\n",
      "262/262 [==============================] - 5s 18ms/step - loss: 0.3341 - accuracy: 0.8806 - val_loss: 3.1890 - val_accuracy: 0.4648\n",
      "Epoch 76/100\n",
      "262/262 [==============================] - 5s 18ms/step - loss: 0.3393 - accuracy: 0.8807 - val_loss: 3.1799 - val_accuracy: 0.4740\n",
      "Epoch 77/100\n",
      "262/262 [==============================] - 5s 19ms/step - loss: 0.3271 - accuracy: 0.8823 - val_loss: 3.2327 - val_accuracy: 0.4757\n",
      "Epoch 78/100\n",
      "262/262 [==============================] - 5s 19ms/step - loss: 0.3411 - accuracy: 0.8774 - val_loss: 3.2987 - val_accuracy: 0.4795\n",
      "Epoch 79/100\n",
      "262/262 [==============================] - 5s 18ms/step - loss: 0.2993 - accuracy: 0.8906 - val_loss: 3.2698 - val_accuracy: 0.4722\n",
      "Epoch 80/100\n",
      "262/262 [==============================] - 5s 18ms/step - loss: 0.3249 - accuracy: 0.8813 - val_loss: 3.4104 - val_accuracy: 0.4744\n",
      "Epoch 81/100\n",
      "262/262 [==============================] - 5s 17ms/step - loss: 0.3125 - accuracy: 0.8900 - val_loss: 3.4327 - val_accuracy: 0.4733\n",
      "Epoch 82/100\n",
      "262/262 [==============================] - 5s 18ms/step - loss: 0.2693 - accuracy: 0.9049 - val_loss: 3.4795 - val_accuracy: 0.4660\n",
      "Epoch 83/100\n",
      "262/262 [==============================] - 5s 18ms/step - loss: 0.3267 - accuracy: 0.8830 - val_loss: 3.5068 - val_accuracy: 0.4798\n",
      "Epoch 84/100\n",
      "262/262 [==============================] - 5s 18ms/step - loss: 0.2925 - accuracy: 0.8952 - val_loss: 3.6752 - val_accuracy: 0.4699\n",
      "Epoch 85/100\n",
      "262/262 [==============================] - 5s 18ms/step - loss: 0.2784 - accuracy: 0.8990 - val_loss: 3.5427 - val_accuracy: 0.4635\n",
      "Epoch 86/100\n",
      "262/262 [==============================] - 5s 18ms/step - loss: 0.3111 - accuracy: 0.8870 - val_loss: 3.6049 - val_accuracy: 0.4759\n",
      "Epoch 87/100\n",
      "262/262 [==============================] - 5s 18ms/step - loss: 0.2840 - accuracy: 0.8978 - val_loss: 3.7144 - val_accuracy: 0.4801\n",
      "Epoch 88/100\n",
      "262/262 [==============================] - 5s 17ms/step - loss: 0.3056 - accuracy: 0.8909 - val_loss: 3.8469 - val_accuracy: 0.4646\n",
      "Epoch 89/100\n",
      "262/262 [==============================] - 5s 18ms/step - loss: 0.2997 - accuracy: 0.8947 - val_loss: 3.7349 - val_accuracy: 0.4716\n",
      "Epoch 90/100\n",
      "262/262 [==============================] - 5s 18ms/step - loss: 0.2542 - accuracy: 0.9075 - val_loss: 3.7606 - val_accuracy: 0.4535\n",
      "Epoch 91/100\n",
      "262/262 [==============================] - 5s 19ms/step - loss: 0.2920 - accuracy: 0.8964 - val_loss: 3.7787 - val_accuracy: 0.4762\n",
      "Epoch 92/100\n",
      "262/262 [==============================] - 5s 17ms/step - loss: 0.2441 - accuracy: 0.9127 - val_loss: 3.7727 - val_accuracy: 0.4755\n",
      "Epoch 93/100\n",
      "262/262 [==============================] - 5s 18ms/step - loss: 0.2707 - accuracy: 0.9046 - val_loss: 3.8419 - val_accuracy: 0.4749\n",
      "Epoch 94/100\n",
      "262/262 [==============================] - 5s 17ms/step - loss: 0.2213 - accuracy: 0.9208 - val_loss: 3.9270 - val_accuracy: 0.4652\n",
      "Epoch 95/100\n",
      "262/262 [==============================] - 5s 18ms/step - loss: 0.2971 - accuracy: 0.8936 - val_loss: 3.9156 - val_accuracy: 0.4721\n",
      "Epoch 96/100\n",
      "262/262 [==============================] - 5s 19ms/step - loss: 0.2635 - accuracy: 0.9048 - val_loss: 4.0487 - val_accuracy: 0.4716\n",
      "Epoch 97/100\n",
      "262/262 [==============================] - 5s 19ms/step - loss: 0.2572 - accuracy: 0.9091 - val_loss: 4.0467 - val_accuracy: 0.4653\n",
      "Epoch 98/100\n",
      "262/262 [==============================] - 5s 18ms/step - loss: 0.2230 - accuracy: 0.9224 - val_loss: 4.0507 - val_accuracy: 0.4710\n",
      "Epoch 99/100\n",
      "262/262 [==============================] - 5s 17ms/step - loss: 0.2175 - accuracy: 0.9218 - val_loss: 4.1482 - val_accuracy: 0.4692\n",
      "Epoch 100/100\n",
      "262/262 [==============================] - 5s 18ms/step - loss: 0.2173 - accuracy: 0.9209 - val_loss: 4.0792 - val_accuracy: 0.4708\n"
     ]
    }
   ],
   "source": [
    "# model_history=classifier.fit(x_train, y_train,validation_split=0.33, batch_size = 10, epochs = 100)\n",
    "model_history = classifier.fit(x_train, y_train, validation_split=0.33,batch_size=128, epochs=100)"
   ]
  },
  {
   "cell_type": "code",
   "execution_count": 128,
   "metadata": {
    "colab": {
     "base_uri": "https://localhost:8080/",
     "height": 312
    },
    "id": "EdNJD72WRBpK",
    "outputId": "f3a4dcf4-dedb-43ae-dd86-7f344f39cbe2"
   },
   "outputs": [
    {
     "name": "stdout",
     "output_type": "stream",
     "text": [
      "dict_keys(['loss', 'accuracy', 'val_loss', 'val_accuracy'])\n"
     ]
    },
    {
     "data": {
      "image/png": "[encoded data removed]",
      "text/plain": [
       "<Figure size 432x288 with 1 Axes>"
      ]
     },
     "metadata": {
      "needs_background": "light",
      "tags": []
     },
     "output_type": "display_data"
    }
   ],
   "source": [
    "\n",
    "print(model_history.history.keys())\n",
    "# summarize history for accuracy\n",
    "plt.plot(model_history.history['accuracy'])\n",
    "plt.plot(model_history.history['val_accuracy'])\n",
    "plt.title('model accuracy')\n",
    "plt.ylabel('accuracy')\n",
    "plt.xlabel('epoch')\n",
    "plt.legend(['train', 'test'], loc='lower right')\n",
    "plt.show()"
   ]
  },
  {
   "cell_type": "code",
   "execution_count": 129,
   "metadata": {
    "colab": {
     "base_uri": "https://localhost:8080/",
     "height": 295
    },
    "id": "7RxfmmxIA_ql",
    "outputId": "0886e0a3-525d-4ee3-a4b7-db37c759ed51"
   },
   "outputs": [
    {
     "data": {
      "image/png": "[encoded data removed]",
      "text/plain": [
       "<Figure size 432x288 with 1 Axes>"
      ]
     },
     "metadata": {
      "needs_background": "light",
      "tags": []
     },
     "output_type": "display_data"
    }
   ],
   "source": [
    "# summarize history for loss\n",
    "plt.plot(model_history.history['loss'])\n",
    "plt.plot(model_history.history['val_loss'])\n",
    "plt.title('model loss')\n",
    "plt.ylabel('loss')\n",
    "plt.xlabel('epoch')\n",
    "plt.legend(['train', 'test'], loc='upper left')\n",
    "plt.show()"
   ]
  },
  {
   "cell_type": "code",
   "execution_count": 130,
   "metadata": {
    "colab": {
     "base_uri": "https://localhost:8080/"
    },
    "id": "t92TKNl9EPBQ",
    "outputId": "4bc8097e-b361-4ca0-d820-bc1278d47808"
   },
   "outputs": [
    {
     "name": "stderr",
     "output_type": "stream",
     "text": [
      "/usr/local/lib/python3.7/dist-packages/tensorflow/python/data/ops/dataset_ops.py:3504: UserWarning: Even though the tf.config.experimental_run_functions_eagerly option is set, this option does not apply to tf.data functions. tf.data functions are still traced and executed as graphs.\n",
      "  \"Even though the tf.config.experimental_run_functions_eagerly \"\n"
     ]
    },
    {
     "data": {
      "text/plain": [
       "array([[1.8169774e-10, 2.5554194e-09, 1.7543982e-08, ..., 1.1435156e-08,\n",
       "        2.7750154e-08, 8.1545319e-11],\n",
       "       [2.0557047e-04, 1.6626285e-05, 3.0600487e-11, ..., 1.6144862e-06,\n",
       "        1.3391214e-02, 9.8638505e-01],\n",
       "       [9.8969346e-01, 3.1474033e-07, 4.0581302e-13, ..., 1.9877783e-03,\n",
       "        8.3123650e-03, 6.0540319e-06],\n",
       "       ...,\n",
       "       [1.2352330e-10, 4.2766581e-26, 1.0801449e-09, ..., 6.5183115e-12,\n",
       "        1.3349978e-12, 1.1873627e-19],\n",
       "       [3.8003534e-09, 1.3136186e-07, 7.2353985e-04, ..., 1.0265681e-04,\n",
       "        1.4528936e-06, 3.8866094e-10],\n",
       "       [9.1401127e-04, 3.1799000e-10, 4.2012099e-02, ..., 1.0494030e-01,\n",
       "        8.8153008e-08, 2.3546954e-07]], dtype=float32)"
      ]
     },
     "execution_count": 130,
     "metadata": {
      "tags": []
     },
     "output_type": "execute_result"
    }
   ],
   "source": [
    "y_pred = classifier.predict(x_test)\n",
    "y_pred"
   ]
  },
  {
   "cell_type": "code",
   "execution_count": 133,
   "metadata": {
    "colab": {
     "base_uri": "https://localhost:8080/"
    },
    "id": "zNiVqMeQErIw",
    "outputId": "93db858c-9f71-45ba-f66c-66088cecd14e"
   },
   "outputs": [
    {
     "name": "stderr",
     "output_type": "stream",
     "text": [
      "/usr/local/lib/python3.7/dist-packages/tensorflow/python/data/ops/dataset_ops.py:3504: UserWarning: Even though the tf.config.experimental_run_functions_eagerly option is set, this option does not apply to tf.data functions. tf.data functions are still traced and executed as graphs.\n",
      "  \"Even though the tf.config.experimental_run_functions_eagerly \"\n"
     ]
    },
    {
     "name": "stdout",
     "output_type": "stream",
     "text": [
      "Test Loss and Test Accuracy [3.9188156127929688, 0.47510001063346863]\n"
     ]
    }
   ],
   "source": [
    "prediction_score = classifier.evaluate(x_test, y_test, verbose=0)\n",
    "\n",
    "\n",
    "print('Test Loss and Test Accuracy', prediction_score)"
   ]
  },
  {
   "cell_type": "code",
   "execution_count": 133,
   "metadata": {
    "id": "ErAmr2sUE1Pp"
   },
   "outputs": [],
   "source": []
  },
  {
   "cell_type": "code",
   "execution_count": null,
   "metadata": {
    "id": "NV4hnzc9K3fM"
   },
   "outputs": [],
   "source": []
  }
 ],
 "metadata": {
  "accelerator": "GPU",
  "colab": {
   "collapsed_sections": [],
   "name": "ANN",
   "provenance": []
  },
  "kernelspec": {
   "display_name": "Python 3",
   "language": "python",
   "name": "python3"
  },
  "language_info": {
   "codemirror_mode": {
    "name": "ipython",
    "version": 3
   },
   "file_extension": ".py",
   "mimetype": "text/x-python",
   "name": "python",
   "nbconvert_exporter": "python",
   "pygments_lexer": "ipython3",
   "version": "3.8.5"
  }
 },
 "nbformat": 4,
 "nbformat_minor": 1
}
