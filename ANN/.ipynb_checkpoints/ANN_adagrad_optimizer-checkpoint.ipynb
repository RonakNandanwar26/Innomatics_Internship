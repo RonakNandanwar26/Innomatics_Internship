{
 "cells": [
  {
   "cell_type": "code",
   "execution_count": 16,
   "metadata": {
    "id": "k41Ba2ojTKjt"
   },
   "outputs": [],
   "source": [
    "import pandas as pd\n",
    "import numpy as np\n",
    "import matplotlib.pyplot as plt\n",
    "from keras.datasets import cifar10"
   ]
  },
  {
   "cell_type": "code",
   "execution_count": 17,
   "metadata": {
    "id": "Ch7jQzR0VoE3"
   },
   "outputs": [],
   "source": [
    "(x_train,y_train),(x_test,y_test) = cifar10.load_data()"
   ]
  },
  {
   "cell_type": "code",
   "execution_count": 18,
   "metadata": {
    "id": "GEPCzkk0VpjE"
   },
   "outputs": [],
   "source": [
    "x_train = x_train/255\n",
    "x_test = x_test/255\n"
   ]
  },
  {
   "cell_type": "code",
   "execution_count": 19,
   "metadata": {
    "colab": {
     "base_uri": "https://localhost:8080/"
    },
    "id": "ED3NsFIKVrHF",
    "outputId": "af0fefaa-fcb8-4bc5-e4c8-53abefaf09d6"
   },
   "outputs": [
    {
     "data": {
      "text/plain": [
       "(50000, 32, 32, 3)"
      ]
     },
     "execution_count": 19,
     "metadata": {
      "tags": []
     },
     "output_type": "execute_result"
    }
   ],
   "source": [
    "x_train.shape"
   ]
  },
  {
   "cell_type": "code",
   "execution_count": 20,
   "metadata": {
    "colab": {
     "base_uri": "https://localhost:8080/"
    },
    "id": "M_ck68cWVt0M",
    "outputId": "b17063b5-b5be-4312-b6e4-1f01582a472f"
   },
   "outputs": [
    {
     "name": "stdout",
     "output_type": "stream",
     "text": [
      "(50000, 3072)\n",
      "(10000, 3072)\n"
     ]
    }
   ],
   "source": [
    "x_train = x_train.reshape(50000,3072)\n",
    "x_test = x_test.reshape(10000,3072)\n",
    "print(x_train.shape)\n",
    "print(x_test.shape)"
   ]
  },
  {
   "cell_type": "code",
   "execution_count": 21,
   "metadata": {
    "id": "sRe3kNAtVw3G"
   },
   "outputs": [],
   "source": [
    "import keras\n",
    "from keras.models import Sequential\n",
    "from keras.layers import Dense\n",
    "from keras.layers import LeakyReLU,PReLU,ELU\n",
    "from keras.layers import Dropout\n",
    "from keras.utils import np_utils"
   ]
  },
  {
   "cell_type": "code",
   "execution_count": 22,
   "metadata": {
    "id": "Or-IYowqVzQ0"
   },
   "outputs": [],
   "source": [
    "classifier = Sequential()"
   ]
  },
  {
   "cell_type": "code",
   "execution_count": 23,
   "metadata": {
    "id": "35HHRgCcV065"
   },
   "outputs": [],
   "source": [
    "# adding input layer and first hidden layer\n",
    "classifier.add(Dense(units=512,activation='relu',kernel_initializer='he_uniform',input_dim=3072))"
   ]
  },
  {
   "cell_type": "code",
   "execution_count": 24,
   "metadata": {
    "id": "4asENdHoV4cd"
   },
   "outputs": [],
   "source": [
    "# adding input layer and first hidden layer\n",
    "classifier.add(Dense(units=512,activation='selu',kernel_initializer='he_uniform'))"
   ]
  },
  {
   "cell_type": "code",
   "execution_count": 25,
   "metadata": {
    "id": "92CK8kYiWjrm"
   },
   "outputs": [],
   "source": [
    "classifier.add(Dense(units=10,activation='softmax'))"
   ]
  },
  {
   "cell_type": "code",
   "execution_count": 26,
   "metadata": {
    "id": "QXp1XphJV6MA"
   },
   "outputs": [],
   "source": [
    "classifier.compile(optimizer='adagrad', loss='categorical_crossentropy', metrics=['accuracy'])"
   ]
  },
  {
   "cell_type": "code",
   "execution_count": 27,
   "metadata": {
    "id": "tq5k26QzWCFT"
   },
   "outputs": [],
   "source": [
    "y_train = np_utils.to_categorical(y_train, 10)\n",
    "y_test = np_utils.to_categorical(y_test, 10)"
   ]
  },
  {
   "cell_type": "code",
   "execution_count": 28,
   "metadata": {
    "id": "q6Z4VBZOWYLi"
   },
   "outputs": [],
   "source": [
    "import tensorflow as tf\n",
    "tf.config.run_functions_eagerly(True)"
   ]
  },
  {
   "cell_type": "code",
   "execution_count": 29,
   "metadata": {
    "colab": {
     "base_uri": "https://localhost:8080/"
    },
    "id": "dunI1lpbWE4V",
    "outputId": "149aaa41-cf99-4cba-9d14-6c5be0a2c2e6"
   },
   "outputs": [
    {
     "name": "stderr",
     "output_type": "stream",
     "text": [
      "/usr/local/lib/python3.7/dist-packages/tensorflow/python/data/ops/dataset_ops.py:3504: UserWarning: Even though the tf.config.experimental_run_functions_eagerly option is set, this option does not apply to tf.data functions. tf.data functions are still traced and executed as graphs.\n",
      "  \"Even though the tf.config.experimental_run_functions_eagerly \"\n"
     ]
    },
    {
     "name": "stdout",
     "output_type": "stream",
     "text": [
      "Epoch 1/100\n",
      "262/262 [==============================] - 18s 68ms/step - loss: 2.1770 - accuracy: 0.2272 - val_loss: 1.9019 - val_accuracy: 0.3358\n",
      "Epoch 2/100\n",
      "262/262 [==============================] - 14s 52ms/step - loss: 1.8838 - accuracy: 0.3397 - val_loss: 1.8360 - val_accuracy: 0.3518\n",
      "Epoch 3/100\n",
      "262/262 [==============================] - 14s 52ms/step - loss: 1.8037 - accuracy: 0.3712 - val_loss: 1.7948 - val_accuracy: 0.3725\n",
      "Epoch 4/100\n",
      "262/262 [==============================] - 14s 52ms/step - loss: 1.7702 - accuracy: 0.3815 - val_loss: 1.7750 - val_accuracy: 0.3797\n",
      "Epoch 5/100\n",
      "262/262 [==============================] - 14s 53ms/step - loss: 1.7290 - accuracy: 0.3974 - val_loss: 1.7601 - val_accuracy: 0.3852\n",
      "Epoch 6/100\n",
      "262/262 [==============================] - 14s 54ms/step - loss: 1.6968 - accuracy: 0.4111 - val_loss: 1.7247 - val_accuracy: 0.4017\n",
      "Epoch 7/100\n",
      "262/262 [==============================] - 14s 54ms/step - loss: 1.6849 - accuracy: 0.4111 - val_loss: 1.7198 - val_accuracy: 0.3980\n",
      "Epoch 8/100\n",
      "262/262 [==============================] - 14s 52ms/step - loss: 1.6692 - accuracy: 0.4175 - val_loss: 1.7017 - val_accuracy: 0.4117\n",
      "Epoch 9/100\n",
      "262/262 [==============================] - 14s 53ms/step - loss: 1.6496 - accuracy: 0.4255 - val_loss: 1.6941 - val_accuracy: 0.4125\n",
      "Epoch 10/100\n",
      "262/262 [==============================] - 14s 52ms/step - loss: 1.6398 - accuracy: 0.4293 - val_loss: 1.6765 - val_accuracy: 0.4205\n",
      "Epoch 11/100\n",
      "262/262 [==============================] - 14s 53ms/step - loss: 1.6203 - accuracy: 0.4363 - val_loss: 1.6795 - val_accuracy: 0.4093\n",
      "Epoch 12/100\n",
      "262/262 [==============================] - 14s 52ms/step - loss: 1.6040 - accuracy: 0.4390 - val_loss: 1.6547 - val_accuracy: 0.4251\n",
      "Epoch 13/100\n",
      "262/262 [==============================] - 14s 52ms/step - loss: 1.5992 - accuracy: 0.4457 - val_loss: 1.6532 - val_accuracy: 0.4247\n",
      "Epoch 14/100\n",
      "262/262 [==============================] - 14s 52ms/step - loss: 1.5909 - accuracy: 0.4455 - val_loss: 1.6449 - val_accuracy: 0.4279\n",
      "Epoch 15/100\n",
      "262/262 [==============================] - 14s 53ms/step - loss: 1.5701 - accuracy: 0.4492 - val_loss: 1.6507 - val_accuracy: 0.4219\n",
      "Epoch 16/100\n",
      "262/262 [==============================] - 14s 52ms/step - loss: 1.5654 - accuracy: 0.4564 - val_loss: 1.6246 - val_accuracy: 0.4353\n",
      "Epoch 17/100\n",
      "262/262 [==============================] - 14s 52ms/step - loss: 1.5547 - accuracy: 0.4608 - val_loss: 1.6150 - val_accuracy: 0.4414\n",
      "Epoch 18/100\n",
      "262/262 [==============================] - 14s 52ms/step - loss: 1.5480 - accuracy: 0.4624 - val_loss: 1.6171 - val_accuracy: 0.4380\n",
      "Epoch 19/100\n",
      "262/262 [==============================] - 14s 52ms/step - loss: 1.5359 - accuracy: 0.4658 - val_loss: 1.6050 - val_accuracy: 0.4421\n",
      "Epoch 20/100\n",
      "262/262 [==============================] - 14s 52ms/step - loss: 1.5240 - accuracy: 0.4712 - val_loss: 1.6018 - val_accuracy: 0.4413\n",
      "Epoch 21/100\n",
      "262/262 [==============================] - 14s 52ms/step - loss: 1.5384 - accuracy: 0.4657 - val_loss: 1.6031 - val_accuracy: 0.4399\n",
      "Epoch 22/100\n",
      "262/262 [==============================] - 13s 52ms/step - loss: 1.5152 - accuracy: 0.4739 - val_loss: 1.5857 - val_accuracy: 0.4511\n",
      "Epoch 23/100\n",
      "262/262 [==============================] - 14s 52ms/step - loss: 1.4994 - accuracy: 0.4834 - val_loss: 1.5897 - val_accuracy: 0.4510\n",
      "Epoch 24/100\n",
      "262/262 [==============================] - 14s 53ms/step - loss: 1.5049 - accuracy: 0.4767 - val_loss: 1.5756 - val_accuracy: 0.4536\n",
      "Epoch 25/100\n",
      "262/262 [==============================] - 14s 52ms/step - loss: 1.4965 - accuracy: 0.4777 - val_loss: 1.5816 - val_accuracy: 0.4470\n",
      "Epoch 26/100\n",
      "262/262 [==============================] - 14s 54ms/step - loss: 1.4939 - accuracy: 0.4824 - val_loss: 1.5695 - val_accuracy: 0.4550\n",
      "Epoch 27/100\n",
      "262/262 [==============================] - 14s 55ms/step - loss: 1.4817 - accuracy: 0.4861 - val_loss: 1.5708 - val_accuracy: 0.4548\n",
      "Epoch 28/100\n",
      "262/262 [==============================] - 14s 54ms/step - loss: 1.4714 - accuracy: 0.4898 - val_loss: 1.5681 - val_accuracy: 0.4567\n",
      "Epoch 29/100\n",
      "262/262 [==============================] - 14s 54ms/step - loss: 1.4585 - accuracy: 0.4961 - val_loss: 1.5590 - val_accuracy: 0.4581\n",
      "Epoch 30/100\n",
      "262/262 [==============================] - 14s 54ms/step - loss: 1.4628 - accuracy: 0.4964 - val_loss: 1.5534 - val_accuracy: 0.4619\n",
      "Epoch 31/100\n",
      "262/262 [==============================] - 14s 53ms/step - loss: 1.4571 - accuracy: 0.4958 - val_loss: 1.5628 - val_accuracy: 0.4552\n",
      "Epoch 32/100\n",
      "262/262 [==============================] - 14s 53ms/step - loss: 1.4566 - accuracy: 0.4954 - val_loss: 1.5554 - val_accuracy: 0.4620\n",
      "Epoch 33/100\n",
      "262/262 [==============================] - 14s 53ms/step - loss: 1.4465 - accuracy: 0.5016 - val_loss: 1.5580 - val_accuracy: 0.4581\n",
      "Epoch 34/100\n",
      "262/262 [==============================] - 14s 52ms/step - loss: 1.4383 - accuracy: 0.5014 - val_loss: 1.5369 - val_accuracy: 0.4661\n",
      "Epoch 35/100\n",
      "262/262 [==============================] - 14s 53ms/step - loss: 1.4340 - accuracy: 0.5063 - val_loss: 1.5387 - val_accuracy: 0.4630\n",
      "Epoch 36/100\n",
      "262/262 [==============================] - 14s 55ms/step - loss: 1.4349 - accuracy: 0.5077 - val_loss: 1.5387 - val_accuracy: 0.4648\n",
      "Epoch 37/100\n",
      "262/262 [==============================] - 14s 54ms/step - loss: 1.4358 - accuracy: 0.5081 - val_loss: 1.5460 - val_accuracy: 0.4594\n",
      "Epoch 38/100\n",
      "262/262 [==============================] - 14s 53ms/step - loss: 1.4298 - accuracy: 0.5073 - val_loss: 1.5373 - val_accuracy: 0.4690\n",
      "Epoch 39/100\n",
      "262/262 [==============================] - 14s 54ms/step - loss: 1.4209 - accuracy: 0.5101 - val_loss: 1.5219 - val_accuracy: 0.4735\n",
      "Epoch 40/100\n",
      "262/262 [==============================] - 14s 54ms/step - loss: 1.4174 - accuracy: 0.5116 - val_loss: 1.5232 - val_accuracy: 0.4706\n",
      "Epoch 41/100\n",
      "262/262 [==============================] - 15s 58ms/step - loss: 1.4060 - accuracy: 0.5168 - val_loss: 1.5277 - val_accuracy: 0.4650\n",
      "Epoch 42/100\n",
      "262/262 [==============================] - 15s 55ms/step - loss: 1.4041 - accuracy: 0.5176 - val_loss: 1.5351 - val_accuracy: 0.4639\n",
      "Epoch 43/100\n",
      "262/262 [==============================] - 14s 55ms/step - loss: 1.4055 - accuracy: 0.5143 - val_loss: 1.5290 - val_accuracy: 0.4666\n",
      "Epoch 44/100\n",
      "262/262 [==============================] - 14s 55ms/step - loss: 1.3856 - accuracy: 0.5260 - val_loss: 1.5138 - val_accuracy: 0.4741\n",
      "Epoch 45/100\n",
      "262/262 [==============================] - 15s 58ms/step - loss: 1.3958 - accuracy: 0.5165 - val_loss: 1.5072 - val_accuracy: 0.4760\n",
      "Epoch 46/100\n",
      "262/262 [==============================] - 16s 60ms/step - loss: 1.3782 - accuracy: 0.5261 - val_loss: 1.5045 - val_accuracy: 0.4792\n",
      "Epoch 47/100\n",
      "262/262 [==============================] - 14s 53ms/step - loss: 1.3839 - accuracy: 0.5220 - val_loss: 1.5058 - val_accuracy: 0.4766\n",
      "Epoch 48/100\n",
      "262/262 [==============================] - 14s 54ms/step - loss: 1.3779 - accuracy: 0.5251 - val_loss: 1.5082 - val_accuracy: 0.4728\n",
      "Epoch 49/100\n",
      "262/262 [==============================] - 16s 60ms/step - loss: 1.3752 - accuracy: 0.5295 - val_loss: 1.5015 - val_accuracy: 0.4759\n",
      "Epoch 50/100\n",
      "262/262 [==============================] - 14s 53ms/step - loss: 1.3769 - accuracy: 0.5226 - val_loss: 1.4981 - val_accuracy: 0.4788\n",
      "Epoch 51/100\n",
      "262/262 [==============================] - 14s 52ms/step - loss: 1.3683 - accuracy: 0.5303 - val_loss: 1.4998 - val_accuracy: 0.4802\n",
      "Epoch 52/100\n",
      "262/262 [==============================] - 14s 52ms/step - loss: 1.3687 - accuracy: 0.5290 - val_loss: 1.4940 - val_accuracy: 0.4811\n",
      "Epoch 53/100\n",
      "262/262 [==============================] - 14s 52ms/step - loss: 1.3700 - accuracy: 0.5281 - val_loss: 1.5001 - val_accuracy: 0.4798\n",
      "Epoch 54/100\n",
      "262/262 [==============================] - 14s 53ms/step - loss: 1.3611 - accuracy: 0.5351 - val_loss: 1.4911 - val_accuracy: 0.4826\n",
      "Epoch 55/100\n",
      "262/262 [==============================] - 14s 52ms/step - loss: 1.3512 - accuracy: 0.5366 - val_loss: 1.4959 - val_accuracy: 0.4793\n",
      "Epoch 56/100\n",
      "262/262 [==============================] - 14s 52ms/step - loss: 1.3422 - accuracy: 0.5410 - val_loss: 1.4886 - val_accuracy: 0.4825\n",
      "Epoch 57/100\n",
      "262/262 [==============================] - 14s 54ms/step - loss: 1.3433 - accuracy: 0.5365 - val_loss: 1.4834 - val_accuracy: 0.4855\n",
      "Epoch 58/100\n",
      "262/262 [==============================] - 14s 53ms/step - loss: 1.3426 - accuracy: 0.5387 - val_loss: 1.4887 - val_accuracy: 0.4803\n",
      "Epoch 59/100\n",
      "262/262 [==============================] - 14s 53ms/step - loss: 1.3379 - accuracy: 0.5410 - val_loss: 1.4815 - val_accuracy: 0.4825\n",
      "Epoch 60/100\n",
      "262/262 [==============================] - 14s 52ms/step - loss: 1.3299 - accuracy: 0.5433 - val_loss: 1.4847 - val_accuracy: 0.4819\n",
      "Epoch 61/100\n",
      "262/262 [==============================] - 14s 54ms/step - loss: 1.3288 - accuracy: 0.5434 - val_loss: 1.4861 - val_accuracy: 0.4810\n",
      "Epoch 62/100\n",
      "262/262 [==============================] - 16s 59ms/step - loss: 1.3197 - accuracy: 0.5418 - val_loss: 1.4741 - val_accuracy: 0.4869\n",
      "Epoch 63/100\n",
      "262/262 [==============================] - 14s 55ms/step - loss: 1.3254 - accuracy: 0.5442 - val_loss: 1.4734 - val_accuracy: 0.4866\n",
      "Epoch 64/100\n",
      "262/262 [==============================] - 14s 54ms/step - loss: 1.3121 - accuracy: 0.5502 - val_loss: 1.4719 - val_accuracy: 0.4873\n",
      "Epoch 65/100\n",
      "262/262 [==============================] - 14s 53ms/step - loss: 1.3087 - accuracy: 0.5517 - val_loss: 1.4764 - val_accuracy: 0.4852\n",
      "Epoch 66/100\n",
      "262/262 [==============================] - 14s 53ms/step - loss: 1.3248 - accuracy: 0.5421 - val_loss: 1.4739 - val_accuracy: 0.4868\n",
      "Epoch 67/100\n",
      "262/262 [==============================] - 14s 53ms/step - loss: 1.3059 - accuracy: 0.5516 - val_loss: 1.4760 - val_accuracy: 0.4885\n",
      "Epoch 68/100\n",
      "262/262 [==============================] - 14s 53ms/step - loss: 1.3061 - accuracy: 0.5544 - val_loss: 1.4752 - val_accuracy: 0.4851\n",
      "Epoch 69/100\n",
      "262/262 [==============================] - 14s 53ms/step - loss: 1.2936 - accuracy: 0.5564 - val_loss: 1.4646 - val_accuracy: 0.4904\n",
      "Epoch 70/100\n",
      "262/262 [==============================] - 14s 52ms/step - loss: 1.3093 - accuracy: 0.5499 - val_loss: 1.4642 - val_accuracy: 0.4903\n",
      "Epoch 71/100\n",
      "262/262 [==============================] - 14s 54ms/step - loss: 1.2939 - accuracy: 0.5542 - val_loss: 1.4628 - val_accuracy: 0.4892\n",
      "Epoch 72/100\n",
      "262/262 [==============================] - 14s 53ms/step - loss: 1.2984 - accuracy: 0.5544 - val_loss: 1.4646 - val_accuracy: 0.4883\n",
      "Epoch 73/100\n",
      "262/262 [==============================] - 14s 53ms/step - loss: 1.2904 - accuracy: 0.5597 - val_loss: 1.4583 - val_accuracy: 0.4933\n",
      "Epoch 74/100\n",
      "262/262 [==============================] - 14s 55ms/step - loss: 1.2823 - accuracy: 0.5586 - val_loss: 1.4541 - val_accuracy: 0.4941\n",
      "Epoch 75/100\n",
      "262/262 [==============================] - 15s 56ms/step - loss: 1.2857 - accuracy: 0.5579 - val_loss: 1.4528 - val_accuracy: 0.4932\n",
      "Epoch 76/100\n",
      "262/262 [==============================] - 14s 54ms/step - loss: 1.2798 - accuracy: 0.5617 - val_loss: 1.4605 - val_accuracy: 0.4899\n",
      "Epoch 77/100\n",
      "262/262 [==============================] - 14s 52ms/step - loss: 1.2797 - accuracy: 0.5583 - val_loss: 1.4520 - val_accuracy: 0.4938\n",
      "Epoch 78/100\n",
      "262/262 [==============================] - 14s 54ms/step - loss: 1.2706 - accuracy: 0.5638 - val_loss: 1.4573 - val_accuracy: 0.4925\n",
      "Epoch 79/100\n",
      "262/262 [==============================] - 14s 53ms/step - loss: 1.2698 - accuracy: 0.5656 - val_loss: 1.4491 - val_accuracy: 0.4948\n",
      "Epoch 80/100\n",
      "262/262 [==============================] - 14s 53ms/step - loss: 1.2692 - accuracy: 0.5657 - val_loss: 1.4485 - val_accuracy: 0.4965\n",
      "Epoch 81/100\n",
      "262/262 [==============================] - 14s 53ms/step - loss: 1.2670 - accuracy: 0.5652 - val_loss: 1.4468 - val_accuracy: 0.4947\n",
      "Epoch 82/100\n",
      "262/262 [==============================] - 14s 53ms/step - loss: 1.2736 - accuracy: 0.5627 - val_loss: 1.4503 - val_accuracy: 0.4916\n",
      "Epoch 83/100\n",
      "262/262 [==============================] - 14s 54ms/step - loss: 1.2582 - accuracy: 0.5683 - val_loss: 1.4497 - val_accuracy: 0.4947\n",
      "Epoch 84/100\n",
      "262/262 [==============================] - 14s 55ms/step - loss: 1.2547 - accuracy: 0.5706 - val_loss: 1.4484 - val_accuracy: 0.4944\n",
      "Epoch 85/100\n",
      "262/262 [==============================] - 14s 54ms/step - loss: 1.2492 - accuracy: 0.5705 - val_loss: 1.4441 - val_accuracy: 0.5006\n",
      "Epoch 86/100\n",
      "262/262 [==============================] - 14s 53ms/step - loss: 1.2615 - accuracy: 0.5651 - val_loss: 1.4447 - val_accuracy: 0.4970\n",
      "Epoch 87/100\n",
      "262/262 [==============================] - 15s 56ms/step - loss: 1.2497 - accuracy: 0.5682 - val_loss: 1.4499 - val_accuracy: 0.4936\n",
      "Epoch 88/100\n",
      "262/262 [==============================] - 15s 58ms/step - loss: 1.2484 - accuracy: 0.5706 - val_loss: 1.4528 - val_accuracy: 0.4944\n",
      "Epoch 89/100\n",
      "262/262 [==============================] - 14s 54ms/step - loss: 1.2462 - accuracy: 0.5757 - val_loss: 1.4371 - val_accuracy: 0.4990\n",
      "Epoch 90/100\n",
      "262/262 [==============================] - 14s 53ms/step - loss: 1.2401 - accuracy: 0.5753 - val_loss: 1.4422 - val_accuracy: 0.4972\n",
      "Epoch 91/100\n",
      "262/262 [==============================] - 14s 53ms/step - loss: 1.2351 - accuracy: 0.5748 - val_loss: 1.4452 - val_accuracy: 0.4984\n",
      "Epoch 92/100\n",
      "262/262 [==============================] - 14s 53ms/step - loss: 1.2458 - accuracy: 0.5733 - val_loss: 1.4481 - val_accuracy: 0.4951\n",
      "Epoch 93/100\n",
      "262/262 [==============================] - 14s 53ms/step - loss: 1.2294 - accuracy: 0.5786 - val_loss: 1.4415 - val_accuracy: 0.4975\n",
      "Epoch 94/100\n",
      "262/262 [==============================] - 14s 53ms/step - loss: 1.2385 - accuracy: 0.5763 - val_loss: 1.4377 - val_accuracy: 0.4986\n",
      "Epoch 95/100\n",
      "262/262 [==============================] - 15s 56ms/step - loss: 1.2209 - accuracy: 0.5812 - val_loss: 1.4361 - val_accuracy: 0.4970\n",
      "Epoch 96/100\n",
      "262/262 [==============================] - 14s 54ms/step - loss: 1.2262 - accuracy: 0.5787 - val_loss: 1.4361 - val_accuracy: 0.4984\n",
      "Epoch 97/100\n",
      "262/262 [==============================] - 14s 53ms/step - loss: 1.2169 - accuracy: 0.5861 - val_loss: 1.4356 - val_accuracy: 0.5001\n",
      "Epoch 98/100\n",
      "262/262 [==============================] - 14s 53ms/step - loss: 1.2181 - accuracy: 0.5858 - val_loss: 1.4394 - val_accuracy: 0.4952\n",
      "Epoch 99/100\n",
      "262/262 [==============================] - 14s 53ms/step - loss: 1.2304 - accuracy: 0.5776 - val_loss: 1.4276 - val_accuracy: 0.5028\n",
      "Epoch 100/100\n",
      "262/262 [==============================] - 16s 59ms/step - loss: 1.2156 - accuracy: 0.5839 - val_loss: 1.4314 - val_accuracy: 0.4996\n"
     ]
    }
   ],
   "source": [
    "model_history = classifier.fit(x_train, y_train, validation_split=0.33,batch_size=128, epochs=100)"
   ]
  },
  {
   "cell_type": "code",
   "execution_count": 30,
   "metadata": {
    "colab": {
     "base_uri": "https://localhost:8080/",
     "height": 312
    },
    "id": "zmhJVUBJWHUd",
    "outputId": "c2d430cf-ccc3-4aab-d8bc-8ed4003dfaea"
   },
   "outputs": [
    {
     "name": "stdout",
     "output_type": "stream",
     "text": [
      "dict_keys(['loss', 'accuracy', 'val_loss', 'val_accuracy'])\n"
     ]
    },
    {
     "data": {
      "image/png": "[encoded data removed]",
      "text/plain": [
       "<Figure size 432x288 with 1 Axes>"
      ]
     },
     "metadata": {
      "needs_background": "light",
      "tags": []
     },
     "output_type": "display_data"
    }
   ],
   "source": [
    "\n",
    "print(model_history.history.keys())\n",
    "# summarize history for accuracy\n",
    "plt.plot(model_history.history['accuracy'])\n",
    "plt.plot(model_history.history['val_accuracy'])\n",
    "plt.title('model accuracy')\n",
    "plt.ylabel('accuracy')\n",
    "plt.xlabel('epoch')\n",
    "plt.legend(['train', 'test'], loc='lower right')\n",
    "plt.show()"
   ]
  },
  {
   "cell_type": "code",
   "execution_count": 31,
   "metadata": {
    "colab": {
     "base_uri": "https://localhost:8080/",
     "height": 295
    },
    "id": "-zmtiEMLhaeC",
    "outputId": "30a8964d-9278-4605-accc-99b5dda3c974"
   },
   "outputs": [
    {
     "data": {
      "image/png": "[encoded data removed]",
      "text/plain": [
       "<Figure size 432x288 with 1 Axes>"
      ]
     },
     "metadata": {
      "needs_background": "light",
      "tags": []
     },
     "output_type": "display_data"
    }
   ],
   "source": [
    "# summarize history for loss\n",
    "plt.plot(model_history.history['loss'])\n",
    "plt.plot(model_history.history['val_loss'])\n",
    "plt.title('model loss')\n",
    "plt.ylabel('loss')\n",
    "plt.xlabel('epoch')\n",
    "plt.legend(['train', 'test'], loc='upper left')\n",
    "plt.show()"
   ]
  },
  {
   "cell_type": "code",
   "execution_count": 32,
   "metadata": {
    "colab": {
     "base_uri": "https://localhost:8080/"
    },
    "id": "Hs-6vmRwhdCQ",
    "outputId": "df049aec-c542-4e91-c602-378b9caf4176"
   },
   "outputs": [
    {
     "name": "stderr",
     "output_type": "stream",
     "text": [
      "/usr/local/lib/python3.7/dist-packages/tensorflow/python/data/ops/dataset_ops.py:3504: UserWarning: Even though the tf.config.experimental_run_functions_eagerly option is set, this option does not apply to tf.data functions. tf.data functions are still traced and executed as graphs.\n",
      "  \"Even though the tf.config.experimental_run_functions_eagerly \"\n"
     ]
    },
    {
     "data": {
      "text/plain": [
       "array([[0.04597363, 0.03875631, 0.16094236, ..., 0.00215513, 0.08663037,\n",
       "        0.00324985],\n",
       "       [0.0329456 , 0.13798141, 0.00233256, ..., 0.00060514, 0.36548606,\n",
       "        0.45592093],\n",
       "       [0.32696235, 0.1255535 , 0.0055723 , ..., 0.00345849, 0.35523266,\n",
       "        0.1730443 ],\n",
       "       ...,\n",
       "       [0.00052266, 0.00048299, 0.24525197, ..., 0.01330965, 0.03256322,\n",
       "        0.00288412],\n",
       "       [0.02324617, 0.01732944, 0.14991954, ..., 0.01499248, 0.01172863,\n",
       "        0.02417843],\n",
       "       [0.03984271, 0.01770708, 0.15167758, ..., 0.4155491 , 0.00850759,\n",
       "        0.03589403]], dtype=float32)"
      ]
     },
     "execution_count": 32,
     "metadata": {
      "tags": []
     },
     "output_type": "execute_result"
    }
   ],
   "source": [
    "y_pred = classifier.predict(x_test)\n",
    "y_pred"
   ]
  },
  {
   "cell_type": "code",
   "execution_count": 33,
   "metadata": {
    "colab": {
     "base_uri": "https://localhost:8080/"
    },
    "id": "4K0Om0UihfID",
    "outputId": "503b3cdb-4a70-4654-ba5c-9214b07b415f"
   },
   "outputs": [
    {
     "name": "stderr",
     "output_type": "stream",
     "text": [
      "/usr/local/lib/python3.7/dist-packages/tensorflow/python/data/ops/dataset_ops.py:3504: UserWarning: Even though the tf.config.experimental_run_functions_eagerly option is set, this option does not apply to tf.data functions. tf.data functions are still traced and executed as graphs.\n",
      "  \"Even though the tf.config.experimental_run_functions_eagerly \"\n"
     ]
    },
    {
     "name": "stdout",
     "output_type": "stream",
     "text": [
      "Test Loss and Test Accuracy [1.406088948249817, 0.5038999915122986]\n"
     ]
    }
   ],
   "source": [
    "prediction_score = classifier.evaluate(x_test, y_test, verbose=0)\n",
    "\n",
    "print('Test Loss and Test Accuracy', prediction_score)"
   ]
  },
  {
   "cell_type": "code",
   "execution_count": null,
   "metadata": {
    "id": "A7cEyJy_hhgz"
   },
   "outputs": [],
   "source": []
  }
 ],
 "metadata": {
  "colab": {
   "collapsed_sections": [],
   "name": "ANN_adagrad_optimizer",
   "provenance": []
  },
  "kernelspec": {
   "display_name": "Python 3",
   "language": "python",
   "name": "python3"
  },
  "language_info": {
   "codemirror_mode": {
    "name": "ipython",
    "version": 3
   },
   "file_extension": ".py",
   "mimetype": "text/x-python",
   "name": "python",
   "nbconvert_exporter": "python",
   "pygments_lexer": "ipython3",
   "version": "3.8.5"
  }
 },
 "nbformat": 4,
 "nbformat_minor": 1
}
