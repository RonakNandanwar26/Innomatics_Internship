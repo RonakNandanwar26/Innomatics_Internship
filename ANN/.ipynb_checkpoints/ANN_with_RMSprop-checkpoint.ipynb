{
 "cells": [
  {
   "cell_type": "code",
   "execution_count": null,
   "metadata": {
    "id": "1SlAvl9Yib7r"
   },
   "outputs": [],
   "source": [
    "import pandas as pd\n",
    "import numpy as np\n",
    "import matplotlib.pyplot as plt\n",
    "from keras.datasets import cifar10"
   ]
  },
  {
   "cell_type": "code",
   "execution_count": null,
   "metadata": {
    "colab": {
     "base_uri": "https://localhost:8080/"
    },
    "id": "aFaAhf5skSk_",
    "outputId": "08378a74-c44f-4389-8adf-1df230464434"
   },
   "outputs": [
    {
     "name": "stdout",
     "output_type": "stream",
     "text": [
      "Downloading data from https://www.cs.toronto.edu/~kriz/cifar-10-python.tar.gz\n",
      "170500096/170498071 [==============================] - 4s 0us/step\n"
     ]
    }
   ],
   "source": [
    "(x_train,y_train),(x_test,y_test) = cifar10.load_data()"
   ]
  },
  {
   "cell_type": "code",
   "execution_count": null,
   "metadata": {
    "id": "6PZkdIObkUWJ"
   },
   "outputs": [],
   "source": [
    "x_train = x_train/255\n",
    "x_test = x_test/255"
   ]
  },
  {
   "cell_type": "code",
   "execution_count": null,
   "metadata": {
    "colab": {
     "base_uri": "https://localhost:8080/"
    },
    "id": "2zT_VDcAkVyx",
    "outputId": "05ec2e3b-35c9-44dc-a0ba-271f2af555ad"
   },
   "outputs": [
    {
     "data": {
      "text/plain": [
       "(50000, 32, 32, 3)"
      ]
     },
     "execution_count": 4,
     "metadata": {
      "tags": []
     },
     "output_type": "execute_result"
    }
   ],
   "source": [
    "x_train.shape"
   ]
  },
  {
   "cell_type": "code",
   "execution_count": null,
   "metadata": {
    "colab": {
     "base_uri": "https://localhost:8080/"
    },
    "id": "_1PUbAZZkXV6",
    "outputId": "f08c93f3-177e-4b67-f590-caac29fcf0c6"
   },
   "outputs": [
    {
     "name": "stdout",
     "output_type": "stream",
     "text": [
      "(50000, 3072)\n",
      "(10000, 3072)\n"
     ]
    }
   ],
   "source": [
    "x_train = x_train.reshape(50000,3072)\n",
    "x_test = x_test.reshape(10000,3072)\n",
    "print(x_train.shape)\n",
    "print(x_test.shape)"
   ]
  },
  {
   "cell_type": "code",
   "execution_count": null,
   "metadata": {
    "id": "dk20C8TYkZE5"
   },
   "outputs": [],
   "source": [
    "import keras\n",
    "from keras.models import Sequential\n",
    "from keras.layers import Dense\n",
    "from keras.layers import LeakyReLU,PReLU,ELU\n",
    "from keras.layers import Dropout\n",
    "from keras.utils import np_utils"
   ]
  },
  {
   "cell_type": "code",
   "execution_count": null,
   "metadata": {
    "id": "PboY6eyVkid2"
   },
   "outputs": [],
   "source": [
    "classifier = Sequential()"
   ]
  },
  {
   "cell_type": "code",
   "execution_count": null,
   "metadata": {
    "id": "i-BH1bNakkMA"
   },
   "outputs": [],
   "source": [
    "classifier.add(Dense(units=1024,activation='relu',kernel_initializer='he_uniform',input_dim=3072))"
   ]
  },
  {
   "cell_type": "code",
   "execution_count": null,
   "metadata": {
    "id": "L2geaT8-kxyI"
   },
   "outputs": [],
   "source": [
    "classifier.add(Dense(units=512,activation='selu',kernel_initializer='he_uniform'))"
   ]
  },
  {
   "cell_type": "code",
   "execution_count": null,
   "metadata": {
    "id": "6U_WtfAwkzow"
   },
   "outputs": [],
   "source": [
    "classifier.add(Dense(units=10,activation='softmax'))"
   ]
  },
  {
   "cell_type": "code",
   "execution_count": null,
   "metadata": {
    "id": "-2THd5bNk1Ni"
   },
   "outputs": [],
   "source": [
    "classifier.compile(optimizer='RMSprop', loss='categorical_crossentropy', metrics=['accuracy'])"
   ]
  },
  {
   "cell_type": "code",
   "execution_count": null,
   "metadata": {
    "id": "RR5CUaltlADM"
   },
   "outputs": [],
   "source": [
    "y_train = np_utils.to_categorical(y_train, 10)\n",
    "y_test = np_utils.to_categorical(y_test, 10)"
   ]
  },
  {
   "cell_type": "code",
   "execution_count": null,
   "metadata": {
    "id": "zr2op607lCDl"
   },
   "outputs": [],
   "source": [
    "import tensorflow as tf\n",
    "tf.config.run_functions_eagerly(True)"
   ]
  },
  {
   "cell_type": "code",
   "execution_count": null,
   "metadata": {
    "colab": {
     "base_uri": "https://localhost:8080/"
    },
    "id": "Wb6YM1LnlEAj",
    "outputId": "10e62ab0-9f0d-492b-b1e8-75edf9c51d44"
   },
   "outputs": [
    {
     "name": "stderr",
     "output_type": "stream",
     "text": [
      "/usr/local/lib/python3.7/dist-packages/tensorflow/python/data/ops/dataset_ops.py:3504: UserWarning: Even though the tf.config.experimental_run_functions_eagerly option is set, this option does not apply to tf.data functions. tf.data functions are still traced and executed as graphs.\n",
      "  \"Even though the tf.config.experimental_run_functions_eagerly \"\n"
     ]
    },
    {
     "name": "stdout",
     "output_type": "stream",
     "text": [
      "Epoch 1/100\n",
      "262/262 [==============================] - 29s 108ms/step - loss: 5.7978 - accuracy: 0.1629 - val_loss: 2.0703 - val_accuracy: 0.2132\n",
      "Epoch 2/100\n",
      "262/262 [==============================] - 28s 107ms/step - loss: 1.9562 - accuracy: 0.2944 - val_loss: 2.0026 - val_accuracy: 0.2914\n",
      "Epoch 3/100\n",
      "262/262 [==============================] - 28s 107ms/step - loss: 1.8615 - accuracy: 0.3267 - val_loss: 1.7644 - val_accuracy: 0.3614\n",
      "Epoch 4/100\n",
      "262/262 [==============================] - 28s 107ms/step - loss: 1.7595 - accuracy: 0.3652 - val_loss: 1.7787 - val_accuracy: 0.3585\n",
      "Epoch 5/100\n",
      "262/262 [==============================] - 28s 108ms/step - loss: 1.7226 - accuracy: 0.3785 - val_loss: 1.7278 - val_accuracy: 0.3821\n",
      "Epoch 6/100\n",
      "262/262 [==============================] - 28s 107ms/step - loss: 1.6757 - accuracy: 0.3965 - val_loss: 1.6702 - val_accuracy: 0.4039\n",
      "Epoch 7/100\n",
      "262/262 [==============================] - 28s 107ms/step - loss: 1.6518 - accuracy: 0.4087 - val_loss: 1.6492 - val_accuracy: 0.4139\n",
      "Epoch 8/100\n",
      "262/262 [==============================] - 28s 107ms/step - loss: 1.6195 - accuracy: 0.4168 - val_loss: 1.8151 - val_accuracy: 0.3688\n",
      "Epoch 9/100\n",
      "262/262 [==============================] - 28s 107ms/step - loss: 1.5902 - accuracy: 0.4325 - val_loss: 1.6789 - val_accuracy: 0.4143\n",
      "Epoch 10/100\n",
      "262/262 [==============================] - 28s 107ms/step - loss: 1.5754 - accuracy: 0.4366 - val_loss: 1.5882 - val_accuracy: 0.4312\n",
      "Epoch 11/100\n",
      "262/262 [==============================] - 28s 107ms/step - loss: 1.5490 - accuracy: 0.4398 - val_loss: 1.6518 - val_accuracy: 0.4261\n",
      "Epoch 12/100\n",
      "262/262 [==============================] - 28s 107ms/step - loss: 1.5339 - accuracy: 0.4459 - val_loss: 1.6271 - val_accuracy: 0.4245\n",
      "Epoch 13/100\n",
      "262/262 [==============================] - 28s 108ms/step - loss: 1.5050 - accuracy: 0.4604 - val_loss: 1.7559 - val_accuracy: 0.3926\n",
      "Epoch 14/100\n",
      "262/262 [==============================] - 28s 107ms/step - loss: 1.4907 - accuracy: 0.4652 - val_loss: 1.6217 - val_accuracy: 0.4205\n",
      "Epoch 15/100\n",
      "262/262 [==============================] - 28s 108ms/step - loss: 1.4579 - accuracy: 0.4801 - val_loss: 1.5260 - val_accuracy: 0.4578\n",
      "Epoch 16/100\n",
      "262/262 [==============================] - 29s 109ms/step - loss: 1.4416 - accuracy: 0.4853 - val_loss: 1.5459 - val_accuracy: 0.4594\n",
      "Epoch 17/100\n",
      "262/262 [==============================] - 28s 109ms/step - loss: 1.4383 - accuracy: 0.4858 - val_loss: 1.6412 - val_accuracy: 0.4233\n",
      "Epoch 18/100\n",
      "262/262 [==============================] - 28s 107ms/step - loss: 1.4195 - accuracy: 0.4884 - val_loss: 1.5147 - val_accuracy: 0.4639\n",
      "Epoch 19/100\n",
      "262/262 [==============================] - 28s 107ms/step - loss: 1.4059 - accuracy: 0.4944 - val_loss: 1.6029 - val_accuracy: 0.4400\n",
      "Epoch 20/100\n",
      "262/262 [==============================] - 28s 106ms/step - loss: 1.4008 - accuracy: 0.4954 - val_loss: 1.5442 - val_accuracy: 0.4568\n",
      "Epoch 21/100\n",
      "262/262 [==============================] - 28s 106ms/step - loss: 1.3767 - accuracy: 0.5057 - val_loss: 1.5603 - val_accuracy: 0.4572\n",
      "Epoch 22/100\n",
      "262/262 [==============================] - 28s 106ms/step - loss: 1.3580 - accuracy: 0.5134 - val_loss: 1.5883 - val_accuracy: 0.4308\n",
      "Epoch 23/100\n",
      "262/262 [==============================] - 28s 105ms/step - loss: 1.3480 - accuracy: 0.5194 - val_loss: 1.5501 - val_accuracy: 0.4588\n",
      "Epoch 24/100\n",
      "262/262 [==============================] - 28s 106ms/step - loss: 1.3442 - accuracy: 0.5204 - val_loss: 1.6745 - val_accuracy: 0.4287\n",
      "Epoch 25/100\n",
      "262/262 [==============================] - 28s 106ms/step - loss: 1.3381 - accuracy: 0.5165 - val_loss: 1.5216 - val_accuracy: 0.4761\n",
      "Epoch 26/100\n",
      "262/262 [==============================] - 28s 105ms/step - loss: 1.3127 - accuracy: 0.5294 - val_loss: 1.5602 - val_accuracy: 0.4545\n",
      "Epoch 27/100\n",
      "262/262 [==============================] - 28s 107ms/step - loss: 1.3094 - accuracy: 0.5313 - val_loss: 1.5139 - val_accuracy: 0.4728\n",
      "Epoch 28/100\n",
      "262/262 [==============================] - 28s 106ms/step - loss: 1.2826 - accuracy: 0.5377 - val_loss: 1.5840 - val_accuracy: 0.4646\n",
      "Epoch 29/100\n",
      "262/262 [==============================] - 28s 106ms/step - loss: 1.2723 - accuracy: 0.5450 - val_loss: 1.5097 - val_accuracy: 0.4733\n",
      "Epoch 30/100\n",
      "262/262 [==============================] - 28s 107ms/step - loss: 1.2570 - accuracy: 0.5450 - val_loss: 1.5610 - val_accuracy: 0.4613\n",
      "Epoch 31/100\n",
      "262/262 [==============================] - 28s 105ms/step - loss: 1.2574 - accuracy: 0.5492 - val_loss: 1.5526 - val_accuracy: 0.4645\n",
      "Epoch 32/100\n",
      "262/262 [==============================] - 28s 106ms/step - loss: 1.2481 - accuracy: 0.5534 - val_loss: 1.5324 - val_accuracy: 0.4790\n",
      "Epoch 33/100\n",
      "262/262 [==============================] - 28s 105ms/step - loss: 1.2128 - accuracy: 0.5686 - val_loss: 1.5426 - val_accuracy: 0.4755\n",
      "Epoch 34/100\n",
      "262/262 [==============================] - 28s 105ms/step - loss: 1.2212 - accuracy: 0.5618 - val_loss: 1.8150 - val_accuracy: 0.4248\n",
      "Epoch 35/100\n",
      "262/262 [==============================] - 28s 106ms/step - loss: 1.2162 - accuracy: 0.5638 - val_loss: 1.6480 - val_accuracy: 0.4492\n",
      "Epoch 36/100\n",
      "262/262 [==============================] - 28s 107ms/step - loss: 1.1983 - accuracy: 0.5702 - val_loss: 1.5880 - val_accuracy: 0.4679\n",
      "Epoch 37/100\n",
      "262/262 [==============================] - 28s 108ms/step - loss: 1.1795 - accuracy: 0.5799 - val_loss: 1.5982 - val_accuracy: 0.4581\n",
      "Epoch 38/100\n",
      "262/262 [==============================] - 28s 107ms/step - loss: 1.1823 - accuracy: 0.5793 - val_loss: 1.5650 - val_accuracy: 0.4705\n",
      "Epoch 39/100\n",
      "262/262 [==============================] - 28s 108ms/step - loss: 1.1664 - accuracy: 0.5853 - val_loss: 1.5462 - val_accuracy: 0.4848\n",
      "Epoch 40/100\n",
      "262/262 [==============================] - 28s 107ms/step - loss: 1.1625 - accuracy: 0.5877 - val_loss: 1.5921 - val_accuracy: 0.4764\n",
      "Epoch 41/100\n",
      "262/262 [==============================] - 28s 107ms/step - loss: 1.1533 - accuracy: 0.5876 - val_loss: 1.7357 - val_accuracy: 0.4368\n",
      "Epoch 42/100\n",
      "262/262 [==============================] - 28s 108ms/step - loss: 1.1489 - accuracy: 0.5912 - val_loss: 1.6052 - val_accuracy: 0.4777\n",
      "Epoch 43/100\n",
      "262/262 [==============================] - 28s 108ms/step - loss: 1.1355 - accuracy: 0.5961 - val_loss: 1.5297 - val_accuracy: 0.4889\n",
      "Epoch 44/100\n",
      "262/262 [==============================] - 28s 108ms/step - loss: 1.1249 - accuracy: 0.5979 - val_loss: 1.6704 - val_accuracy: 0.4622\n",
      "Epoch 45/100\n",
      "262/262 [==============================] - 28s 108ms/step - loss: 1.1222 - accuracy: 0.5977 - val_loss: 1.6642 - val_accuracy: 0.4519\n",
      "Epoch 46/100\n",
      "262/262 [==============================] - 28s 108ms/step - loss: 1.0987 - accuracy: 0.6042 - val_loss: 1.6760 - val_accuracy: 0.4604\n",
      "Epoch 47/100\n",
      "262/262 [==============================] - 29s 110ms/step - loss: 1.0882 - accuracy: 0.6108 - val_loss: 1.5792 - val_accuracy: 0.4826\n",
      "Epoch 48/100\n",
      "262/262 [==============================] - 28s 108ms/step - loss: 1.0729 - accuracy: 0.6157 - val_loss: 1.5915 - val_accuracy: 0.4848\n",
      "Epoch 49/100\n",
      "262/262 [==============================] - 29s 109ms/step - loss: 1.0848 - accuracy: 0.6130 - val_loss: 1.6278 - val_accuracy: 0.4808\n",
      "Epoch 50/100\n",
      "262/262 [==============================] - 29s 110ms/step - loss: 1.0761 - accuracy: 0.6139 - val_loss: 1.6794 - val_accuracy: 0.4678\n",
      "Epoch 51/100\n",
      "262/262 [==============================] - 29s 109ms/step - loss: 1.0625 - accuracy: 0.6199 - val_loss: 1.6142 - val_accuracy: 0.4848\n",
      "Epoch 52/100\n",
      "262/262 [==============================] - 29s 109ms/step - loss: 1.0506 - accuracy: 0.6254 - val_loss: 1.6630 - val_accuracy: 0.4598\n",
      "Epoch 53/100\n",
      "262/262 [==============================] - 28s 109ms/step - loss: 1.0502 - accuracy: 0.6221 - val_loss: 1.6401 - val_accuracy: 0.4802\n",
      "Epoch 54/100\n",
      "262/262 [==============================] - 28s 109ms/step - loss: 1.0418 - accuracy: 0.6270 - val_loss: 1.6940 - val_accuracy: 0.4645\n",
      "Epoch 55/100\n",
      "262/262 [==============================] - 28s 109ms/step - loss: 1.0248 - accuracy: 0.6319 - val_loss: 1.6941 - val_accuracy: 0.4837\n",
      "Epoch 56/100\n",
      "262/262 [==============================] - 28s 109ms/step - loss: 1.0232 - accuracy: 0.6360 - val_loss: 1.6764 - val_accuracy: 0.4776\n",
      "Epoch 57/100\n",
      "262/262 [==============================] - 28s 109ms/step - loss: 1.0196 - accuracy: 0.6361 - val_loss: 1.7162 - val_accuracy: 0.4742\n",
      "Epoch 58/100\n",
      "262/262 [==============================] - 28s 108ms/step - loss: 1.0152 - accuracy: 0.6351 - val_loss: 1.6331 - val_accuracy: 0.4869\n",
      "Epoch 59/100\n",
      "262/262 [==============================] - 28s 109ms/step - loss: 0.9968 - accuracy: 0.6424 - val_loss: 1.6814 - val_accuracy: 0.4827\n",
      "Epoch 60/100\n",
      "262/262 [==============================] - 28s 109ms/step - loss: 0.9828 - accuracy: 0.6538 - val_loss: 1.7601 - val_accuracy: 0.4625\n",
      "Epoch 61/100\n",
      "262/262 [==============================] - 28s 108ms/step - loss: 0.9918 - accuracy: 0.6452 - val_loss: 1.7073 - val_accuracy: 0.4784\n",
      "Epoch 62/100\n",
      "262/262 [==============================] - 29s 110ms/step - loss: 0.9692 - accuracy: 0.6502 - val_loss: 1.7842 - val_accuracy: 0.4747\n",
      "Epoch 63/100\n",
      "262/262 [==============================] - 28s 109ms/step - loss: 0.9790 - accuracy: 0.6509 - val_loss: 1.6707 - val_accuracy: 0.4907\n",
      "Epoch 64/100\n",
      "262/262 [==============================] - 28s 109ms/step - loss: 0.9755 - accuracy: 0.6523 - val_loss: 1.7130 - val_accuracy: 0.4816\n",
      "Epoch 65/100\n",
      "262/262 [==============================] - 29s 109ms/step - loss: 0.9629 - accuracy: 0.6523 - val_loss: 1.7216 - val_accuracy: 0.4828\n",
      "Epoch 66/100\n",
      "262/262 [==============================] - 28s 108ms/step - loss: 0.9519 - accuracy: 0.6603 - val_loss: 1.8572 - val_accuracy: 0.4634\n",
      "Epoch 67/100\n",
      "262/262 [==============================] - 28s 108ms/step - loss: 0.9411 - accuracy: 0.6618 - val_loss: 1.7492 - val_accuracy: 0.4808\n",
      "Epoch 68/100\n",
      "262/262 [==============================] - 28s 108ms/step - loss: 0.9355 - accuracy: 0.6681 - val_loss: 1.8106 - val_accuracy: 0.4791\n",
      "Epoch 69/100\n",
      "262/262 [==============================] - 28s 108ms/step - loss: 0.9255 - accuracy: 0.6693 - val_loss: 1.7824 - val_accuracy: 0.4822\n",
      "Epoch 70/100\n",
      "262/262 [==============================] - 28s 108ms/step - loss: 0.9324 - accuracy: 0.6658 - val_loss: 1.7610 - val_accuracy: 0.4845\n",
      "Epoch 71/100\n",
      "262/262 [==============================] - 28s 108ms/step - loss: 0.9166 - accuracy: 0.6746 - val_loss: 1.8390 - val_accuracy: 0.4701\n",
      "Epoch 72/100\n",
      "262/262 [==============================] - 28s 108ms/step - loss: 0.9099 - accuracy: 0.6728 - val_loss: 1.8688 - val_accuracy: 0.4667\n",
      "Epoch 73/100\n",
      "262/262 [==============================] - 28s 109ms/step - loss: 0.8985 - accuracy: 0.6777 - val_loss: 1.8137 - val_accuracy: 0.4766\n",
      "Epoch 74/100\n",
      "262/262 [==============================] - 28s 109ms/step - loss: 0.8950 - accuracy: 0.6807 - val_loss: 1.8083 - val_accuracy: 0.4774\n",
      "Epoch 75/100\n",
      "262/262 [==============================] - 28s 109ms/step - loss: 0.8908 - accuracy: 0.6784 - val_loss: 1.9441 - val_accuracy: 0.4573\n",
      "Epoch 76/100\n",
      "262/262 [==============================] - 28s 108ms/step - loss: 0.8863 - accuracy: 0.6837 - val_loss: 1.8463 - val_accuracy: 0.4751\n",
      "Epoch 77/100\n",
      "262/262 [==============================] - 28s 109ms/step - loss: 0.8799 - accuracy: 0.6841 - val_loss: 1.8427 - val_accuracy: 0.4833\n",
      "Epoch 78/100\n",
      "262/262 [==============================] - 28s 109ms/step - loss: 0.8892 - accuracy: 0.6853 - val_loss: 1.8357 - val_accuracy: 0.4851\n",
      "Epoch 79/100\n",
      "262/262 [==============================] - 28s 108ms/step - loss: 0.8597 - accuracy: 0.6917 - val_loss: 1.8995 - val_accuracy: 0.4699\n",
      "Epoch 80/100\n",
      "262/262 [==============================] - 28s 108ms/step - loss: 0.8612 - accuracy: 0.6929 - val_loss: 1.8988 - val_accuracy: 0.4723\n",
      "Epoch 81/100\n",
      "262/262 [==============================] - 28s 108ms/step - loss: 0.8604 - accuracy: 0.6926 - val_loss: 1.9234 - val_accuracy: 0.4676\n",
      "Epoch 82/100\n",
      "262/262 [==============================] - 28s 108ms/step - loss: 0.8493 - accuracy: 0.6977 - val_loss: 2.0220 - val_accuracy: 0.4552\n",
      "Epoch 83/100\n",
      "262/262 [==============================] - 29s 110ms/step - loss: 0.8429 - accuracy: 0.6986 - val_loss: 1.9611 - val_accuracy: 0.4708\n",
      "Epoch 84/100\n",
      "262/262 [==============================] - 29s 109ms/step - loss: 0.8443 - accuracy: 0.6995 - val_loss: 1.8827 - val_accuracy: 0.4758\n",
      "Epoch 85/100\n",
      "262/262 [==============================] - 28s 109ms/step - loss: 0.8295 - accuracy: 0.7062 - val_loss: 1.9430 - val_accuracy: 0.4773\n",
      "Epoch 86/100\n",
      "262/262 [==============================] - 28s 107ms/step - loss: 0.8343 - accuracy: 0.7053 - val_loss: 1.9624 - val_accuracy: 0.4765\n",
      "Epoch 87/100\n",
      "262/262 [==============================] - 28s 107ms/step - loss: 0.8260 - accuracy: 0.7044 - val_loss: 1.9268 - val_accuracy: 0.4862\n",
      "Epoch 88/100\n",
      "262/262 [==============================] - 28s 108ms/step - loss: 0.8074 - accuracy: 0.7094 - val_loss: 2.0545 - val_accuracy: 0.4710\n",
      "Epoch 89/100\n",
      "262/262 [==============================] - 28s 108ms/step - loss: 0.8157 - accuracy: 0.7072 - val_loss: 1.9814 - val_accuracy: 0.4812\n",
      "Epoch 90/100\n",
      "262/262 [==============================] - 28s 108ms/step - loss: 0.8139 - accuracy: 0.7096 - val_loss: 2.0476 - val_accuracy: 0.4779\n",
      "Epoch 91/100\n",
      "262/262 [==============================] - 28s 107ms/step - loss: 0.8028 - accuracy: 0.7095 - val_loss: 2.0247 - val_accuracy: 0.4772\n",
      "Epoch 92/100\n",
      "262/262 [==============================] - 28s 107ms/step - loss: 0.7984 - accuracy: 0.7147 - val_loss: 2.0571 - val_accuracy: 0.4751\n",
      "Epoch 93/100\n",
      "262/262 [==============================] - 28s 107ms/step - loss: 0.7800 - accuracy: 0.7238 - val_loss: 2.0250 - val_accuracy: 0.4802\n",
      "Epoch 94/100\n",
      "262/262 [==============================] - 28s 107ms/step - loss: 0.7985 - accuracy: 0.7137 - val_loss: 2.0682 - val_accuracy: 0.4761\n",
      "Epoch 95/100\n",
      "262/262 [==============================] - 28s 107ms/step - loss: 0.7863 - accuracy: 0.7198 - val_loss: 2.1104 - val_accuracy: 0.4647\n",
      "Epoch 96/100\n",
      "262/262 [==============================] - 28s 108ms/step - loss: 0.7716 - accuracy: 0.7213 - val_loss: 2.0784 - val_accuracy: 0.4750\n",
      "Epoch 97/100\n",
      "262/262 [==============================] - 28s 108ms/step - loss: 0.7820 - accuracy: 0.7212 - val_loss: 2.0951 - val_accuracy: 0.4678\n",
      "Epoch 98/100\n",
      "262/262 [==============================] - 28s 108ms/step - loss: 0.7650 - accuracy: 0.7269 - val_loss: 2.0859 - val_accuracy: 0.4748\n",
      "Epoch 99/100\n",
      "262/262 [==============================] - 28s 108ms/step - loss: 0.7666 - accuracy: 0.7273 - val_loss: 2.1109 - val_accuracy: 0.4842\n",
      "Epoch 100/100\n",
      "262/262 [==============================] - 28s 107ms/step - loss: 0.7558 - accuracy: 0.7283 - val_loss: 2.1159 - val_accuracy: 0.4743\n"
     ]
    }
   ],
   "source": [
    "model_history = classifier.fit(x_train, y_train, validation_split=0.33,batch_size=128, epochs=100)"
   ]
  },
  {
   "cell_type": "code",
   "execution_count": null,
   "metadata": {
    "colab": {
     "base_uri": "https://localhost:8080/",
     "height": 312
    },
    "id": "6uz73rtylGcX",
    "outputId": "4957031b-a25a-4384-cac5-c531548626f6"
   },
   "outputs": [
    {
     "name": "stdout",
     "output_type": "stream",
     "text": [
      "dict_keys(['loss', 'accuracy', 'val_loss', 'val_accuracy'])\n"
     ]
    },
    {
     "data": {
      "image/png": "[encoded data removed]",
      "text/plain": [
       "<Figure size 432x288 with 1 Axes>"
      ]
     },
     "metadata": {
      "needs_background": "light",
      "tags": []
     },
     "output_type": "display_data"
    }
   ],
   "source": [
    "\n",
    "print(model_history.history.keys())\n",
    "# summarize history for accuracy\n",
    "plt.plot(model_history.history['accuracy'])\n",
    "plt.plot(model_history.history['val_accuracy'])\n",
    "plt.title('model accuracy')\n",
    "plt.ylabel('accuracy')\n",
    "plt.xlabel('epoch')\n",
    "plt.legend(['train', 'test'], loc='lower right')\n",
    "plt.show()"
   ]
  },
  {
   "cell_type": "code",
   "execution_count": null,
   "metadata": {
    "colab": {
     "base_uri": "https://localhost:8080/",
     "height": 295
    },
    "id": "g1bXpPeUlULc",
    "outputId": "5b72d983-7622-4cb8-a82a-7a82330a25db"
   },
   "outputs": [
    {
     "data": {
      "image/png": "[encoded data removed]",
      "text/plain": [
       "<Figure size 432x288 with 1 Axes>"
      ]
     },
     "metadata": {
      "needs_background": "light",
      "tags": []
     },
     "output_type": "display_data"
    }
   ],
   "source": [
    "# summarize history for loss\n",
    "plt.plot(model_history.history['loss'])\n",
    "plt.plot(model_history.history['val_loss'])\n",
    "plt.title('model loss')\n",
    "plt.ylabel('loss')\n",
    "plt.xlabel('epoch')\n",
    "plt.legend(['train', 'test'], loc='upper left')\n",
    "plt.show()"
   ]
  },
  {
   "cell_type": "code",
   "execution_count": null,
   "metadata": {
    "colab": {
     "base_uri": "https://localhost:8080/"
    },
    "id": "AI5_Ryl8lWDy",
    "outputId": "d7940542-7d39-4d47-e958-3f77a122bcf2"
   },
   "outputs": [
    {
     "name": "stderr",
     "output_type": "stream",
     "text": [
      "/usr/local/lib/python3.7/dist-packages/tensorflow/python/data/ops/dataset_ops.py:3504: UserWarning: Even though the tf.config.experimental_run_functions_eagerly option is set, this option does not apply to tf.data functions. tf.data functions are still traced and executed as graphs.\n",
      "  \"Even though the tf.config.experimental_run_functions_eagerly \"\n"
     ]
    },
    {
     "data": {
      "text/plain": [
       "array([[1.3532557e-01, 6.4823595e-03, 9.2059961e-03, ..., 1.4305774e-04,\n",
       "        8.3255745e-02, 1.3644170e-05],\n",
       "       [1.8862793e-02, 3.7222311e-02, 2.0345543e-07, ..., 5.5707653e-07,\n",
       "        9.3115443e-01, 1.2757935e-02],\n",
       "       [8.0407426e-02, 1.2255273e-02, 2.9197583e-06, ..., 6.0943104e-03,\n",
       "        8.9391446e-01, 7.3089884e-03],\n",
       "       ...,\n",
       "       [1.5842785e-03, 1.4659118e-10, 4.4066008e-02, ..., 3.0175485e-07,\n",
       "        2.0898281e-07, 8.6181906e-08],\n",
       "       [3.6197498e-02, 1.2792236e-02, 7.1946949e-02, ..., 9.6596457e-04,\n",
       "        1.3778733e-02, 6.2981919e-05],\n",
       "       [4.3444449e-01, 1.1308555e-03, 8.3031744e-02, ..., 1.6197756e-01,\n",
       "        1.3368043e-02, 5.9217797e-03]], dtype=float32)"
      ]
     },
     "execution_count": 19,
     "metadata": {
      "tags": []
     },
     "output_type": "execute_result"
    }
   ],
   "source": [
    "y_pred = classifier.predict(x_test)\n",
    "y_pred"
   ]
  },
  {
   "cell_type": "code",
   "execution_count": null,
   "metadata": {
    "colab": {
     "base_uri": "https://localhost:8080/"
    },
    "id": "3Uil475FlXnt",
    "outputId": "bfd15d28-331a-4aaf-f332-9d95bdf468cd"
   },
   "outputs": [
    {
     "name": "stderr",
     "output_type": "stream",
     "text": [
      "/usr/local/lib/python3.7/dist-packages/tensorflow/python/data/ops/dataset_ops.py:3504: UserWarning: Even though the tf.config.experimental_run_functions_eagerly option is set, this option does not apply to tf.data functions. tf.data functions are still traced and executed as graphs.\n",
      "  \"Even though the tf.config.experimental_run_functions_eagerly \"\n"
     ]
    },
    {
     "name": "stdout",
     "output_type": "stream",
     "text": [
      "Test Loss and Test Accuracy [2.0628139972686768, 0.47769999504089355]\n"
     ]
    }
   ],
   "source": [
    "prediction_score = classifier.evaluate(x_test, y_test, verbose=0)\n",
    "\n",
    "print('Test Loss and Test Accuracy', prediction_score)"
   ]
  },
  {
   "cell_type": "code",
   "execution_count": null,
   "metadata": {
    "id": "Z6xJF1WR43Bi"
   },
   "outputs": [],
   "source": []
  }
 ],
 "metadata": {
  "colab": {
   "collapsed_sections": [],
   "name": "ANN_with_RMSprop",
   "provenance": []
  },
  "kernelspec": {
   "display_name": "Python 3",
   "language": "python",
   "name": "python3"
  },
  "language_info": {
   "codemirror_mode": {
    "name": "ipython",
    "version": 3
   },
   "file_extension": ".py",
   "mimetype": "text/x-python",
   "name": "python",
   "nbconvert_exporter": "python",
   "pygments_lexer": "ipython3",
   "version": "3.8.5"
  }
 },
 "nbformat": 4,
 "nbformat_minor": 1
}
