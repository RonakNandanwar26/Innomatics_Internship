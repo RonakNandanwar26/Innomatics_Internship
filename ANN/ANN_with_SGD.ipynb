{
  "nbformat": 4,
  "nbformat_minor": 0,
  "metadata": {
    "colab": {
      "name": "ANN_with_SGD",
      "provenance": [],
      "collapsed_sections": []
    },
    "kernelspec": {
      "name": "python3",
      "display_name": "Python 3"
    }
  },
  "cells": [
    {
      "cell_type": "code",
      "metadata": {
        "id": "7nY99kzqe4fI"
      },
      "source": [
        "import pandas as pd\n",
        "import numpy as np\n",
        "import matplotlib.pyplot as plt\n",
        "from keras.datasets import cifar10"
      ],
      "execution_count": 1,
      "outputs": []
    },
    {
      "cell_type": "code",
      "metadata": {
        "colab": {
          "base_uri": "https://localhost:8080/"
        },
        "id": "qaKwduO_e-mY",
        "outputId": "920a28f5-69ed-4981-bc0d-3dba56d7c146"
      },
      "source": [
        "(x_train,y_train),(x_test,y_test) = cifar10.load_data()"
      ],
      "execution_count": 2,
      "outputs": [
        {
          "output_type": "stream",
          "text": [
            "Downloading data from https://www.cs.toronto.edu/~kriz/cifar-10-python.tar.gz\n",
            "170500096/170498071 [==============================] - 6s 0us/step\n"
          ],
          "name": "stdout"
        }
      ]
    },
    {
      "cell_type": "code",
      "metadata": {
        "id": "rATtE4axfAzv"
      },
      "source": [
        "x_train = x_train/255\n",
        "x_test = x_test/255"
      ],
      "execution_count": 3,
      "outputs": []
    },
    {
      "cell_type": "code",
      "metadata": {
        "colab": {
          "base_uri": "https://localhost:8080/"
        },
        "id": "46yBFx0wfCuu",
        "outputId": "520462d9-9cf3-4ae3-91f9-7c8d3ee919ae"
      },
      "source": [
        "x_train.shape"
      ],
      "execution_count": 4,
      "outputs": [
        {
          "output_type": "execute_result",
          "data": {
            "text/plain": [
              "(50000, 32, 32, 3)"
            ]
          },
          "metadata": {
            "tags": []
          },
          "execution_count": 4
        }
      ]
    },
    {
      "cell_type": "code",
      "metadata": {
        "colab": {
          "base_uri": "https://localhost:8080/"
        },
        "id": "dR0u-XY8fELr",
        "outputId": "413ec82c-cca9-4518-c8f2-f1a80f3802f3"
      },
      "source": [
        "x_train = x_train.reshape(50000,3072)\n",
        "x_test = x_test.reshape(10000,3072)\n",
        "print(x_train.shape)\n",
        "print(x_test.shape)"
      ],
      "execution_count": 5,
      "outputs": [
        {
          "output_type": "stream",
          "text": [
            "(50000, 3072)\n",
            "(10000, 3072)\n"
          ],
          "name": "stdout"
        }
      ]
    },
    {
      "cell_type": "code",
      "metadata": {
        "id": "AK5ocq5HfF3Q"
      },
      "source": [
        "import keras\n",
        "from keras.models import Sequential\n",
        "from keras.layers import Dense\n",
        "from keras.layers import LeakyReLU,PReLU,ELU\n",
        "from keras.layers import Dropout\n",
        "from keras.utils import np_utils"
      ],
      "execution_count": 6,
      "outputs": []
    },
    {
      "cell_type": "code",
      "metadata": {
        "id": "FWbJGkzrfIIj"
      },
      "source": [
        "classifier = Sequential()"
      ],
      "execution_count": 7,
      "outputs": []
    },
    {
      "cell_type": "code",
      "metadata": {
        "id": "JZhzusgBfJ8U"
      },
      "source": [
        "classifier.add(Dense(units=1024,activation='relu',kernel_initializer='he_uniform',input_dim=3072))"
      ],
      "execution_count": 9,
      "outputs": []
    },
    {
      "cell_type": "code",
      "metadata": {
        "id": "86vApGo7fMEh"
      },
      "source": [
        "classifier.add(Dense(units=512,activation='selu',kernel_initializer='he_uniform'))"
      ],
      "execution_count": 10,
      "outputs": []
    },
    {
      "cell_type": "code",
      "metadata": {
        "id": "tZg78959fRnM"
      },
      "source": [
        "classifier.add(Dense(units=10,activation='softmax'))"
      ],
      "execution_count": 11,
      "outputs": []
    },
    {
      "cell_type": "code",
      "metadata": {
        "id": "47rdHEu7fTaQ"
      },
      "source": [
        "classifier.compile(optimizer='SGD', loss='categorical_crossentropy', metrics=['accuracy'])"
      ],
      "execution_count": 12,
      "outputs": []
    },
    {
      "cell_type": "code",
      "metadata": {
        "id": "wzeiDsY9ffFc"
      },
      "source": [
        "y_train = np_utils.to_categorical(y_train, 10)\n",
        "y_test = np_utils.to_categorical(y_test, 10)"
      ],
      "execution_count": 13,
      "outputs": []
    },
    {
      "cell_type": "code",
      "metadata": {
        "id": "o5fT4KxLfhTx"
      },
      "source": [
        "import tensorflow as tf\n",
        "tf.config.run_functions_eagerly(True)"
      ],
      "execution_count": 14,
      "outputs": []
    },
    {
      "cell_type": "code",
      "metadata": {
        "colab": {
          "base_uri": "https://localhost:8080/"
        },
        "id": "TVMPccSsfjT3",
        "outputId": "c65e8c2c-5869-48c0-edc8-5826bb765f81"
      },
      "source": [
        "model_history = classifier.fit(x_train, y_train, validation_split=0.33,batch_size=128, epochs=100)"
      ],
      "execution_count": 15,
      "outputs": [
        {
          "output_type": "stream",
          "text": [
            "/usr/local/lib/python3.7/dist-packages/tensorflow/python/data/ops/dataset_ops.py:3504: UserWarning: Even though the tf.config.experimental_run_functions_eagerly option is set, this option does not apply to tf.data functions. tf.data functions are still traced and executed as graphs.\n",
            "  \"Even though the tf.config.experimental_run_functions_eagerly \"\n"
          ],
          "name": "stderr"
        },
        {
          "output_type": "stream",
          "text": [
            "Epoch 1/100\n",
            "262/262 [==============================] - 20s 74ms/step - loss: 2.1180 - accuracy: 0.2461 - val_loss: 1.8565 - val_accuracy: 0.3360\n",
            "Epoch 2/100\n",
            "262/262 [==============================] - 19s 73ms/step - loss: 1.7625 - accuracy: 0.3746 - val_loss: 1.7180 - val_accuracy: 0.3888\n",
            "Epoch 3/100\n",
            "262/262 [==============================] - 19s 73ms/step - loss: 1.6898 - accuracy: 0.4000 - val_loss: 1.7359 - val_accuracy: 0.3740\n",
            "Epoch 4/100\n",
            "262/262 [==============================] - 19s 71ms/step - loss: 1.6189 - accuracy: 0.4254 - val_loss: 1.6598 - val_accuracy: 0.4092\n",
            "Epoch 5/100\n",
            "262/262 [==============================] - 19s 73ms/step - loss: 1.5781 - accuracy: 0.4439 - val_loss: 1.6505 - val_accuracy: 0.4097\n",
            "Epoch 6/100\n",
            "262/262 [==============================] - 19s 73ms/step - loss: 1.5429 - accuracy: 0.4557 - val_loss: 1.6451 - val_accuracy: 0.4178\n",
            "Epoch 7/100\n",
            "262/262 [==============================] - 19s 74ms/step - loss: 1.5198 - accuracy: 0.4608 - val_loss: 1.5551 - val_accuracy: 0.4496\n",
            "Epoch 8/100\n",
            "262/262 [==============================] - 19s 72ms/step - loss: 1.4689 - accuracy: 0.4815 - val_loss: 1.5736 - val_accuracy: 0.4419\n",
            "Epoch 9/100\n",
            "262/262 [==============================] - 19s 72ms/step - loss: 1.4536 - accuracy: 0.4888 - val_loss: 1.5478 - val_accuracy: 0.4534\n",
            "Epoch 10/100\n",
            "262/262 [==============================] - 19s 72ms/step - loss: 1.4358 - accuracy: 0.4939 - val_loss: 1.5330 - val_accuracy: 0.4588\n",
            "Epoch 11/100\n",
            "262/262 [==============================] - 19s 72ms/step - loss: 1.4015 - accuracy: 0.5084 - val_loss: 1.5189 - val_accuracy: 0.4663\n",
            "Epoch 12/100\n",
            "262/262 [==============================] - 19s 73ms/step - loss: 1.3790 - accuracy: 0.5147 - val_loss: 1.5104 - val_accuracy: 0.4642\n",
            "Epoch 13/100\n",
            "262/262 [==============================] - 19s 73ms/step - loss: 1.3528 - accuracy: 0.5235 - val_loss: 1.4721 - val_accuracy: 0.4814\n",
            "Epoch 14/100\n",
            "262/262 [==============================] - 19s 73ms/step - loss: 1.3360 - accuracy: 0.5309 - val_loss: 1.5160 - val_accuracy: 0.4682\n",
            "Epoch 15/100\n",
            "262/262 [==============================] - 19s 73ms/step - loss: 1.3204 - accuracy: 0.5379 - val_loss: 1.4735 - val_accuracy: 0.4768\n",
            "Epoch 16/100\n",
            "262/262 [==============================] - 19s 73ms/step - loss: 1.3052 - accuracy: 0.5417 - val_loss: 1.5455 - val_accuracy: 0.4638\n",
            "Epoch 17/100\n",
            "262/262 [==============================] - 19s 73ms/step - loss: 1.2853 - accuracy: 0.5452 - val_loss: 1.4994 - val_accuracy: 0.4714\n",
            "Epoch 18/100\n",
            "262/262 [==============================] - 21s 81ms/step - loss: 1.2713 - accuracy: 0.5511 - val_loss: 1.5542 - val_accuracy: 0.4625\n",
            "Epoch 19/100\n",
            "262/262 [==============================] - 19s 73ms/step - loss: 1.2480 - accuracy: 0.5649 - val_loss: 1.5144 - val_accuracy: 0.4639\n",
            "Epoch 20/100\n",
            "262/262 [==============================] - 19s 73ms/step - loss: 1.2383 - accuracy: 0.5646 - val_loss: 1.5140 - val_accuracy: 0.4660\n",
            "Epoch 21/100\n",
            "262/262 [==============================] - 19s 74ms/step - loss: 1.2146 - accuracy: 0.5733 - val_loss: 1.4284 - val_accuracy: 0.5015\n",
            "Epoch 22/100\n",
            "262/262 [==============================] - 19s 73ms/step - loss: 1.1991 - accuracy: 0.5786 - val_loss: 1.4991 - val_accuracy: 0.4770\n",
            "Epoch 23/100\n",
            "262/262 [==============================] - 19s 73ms/step - loss: 1.1874 - accuracy: 0.5859 - val_loss: 1.4191 - val_accuracy: 0.5030\n",
            "Epoch 24/100\n",
            "262/262 [==============================] - 19s 73ms/step - loss: 1.1697 - accuracy: 0.5899 - val_loss: 1.5765 - val_accuracy: 0.4568\n",
            "Epoch 25/100\n",
            "262/262 [==============================] - 19s 73ms/step - loss: 1.1651 - accuracy: 0.5944 - val_loss: 1.4449 - val_accuracy: 0.4963\n",
            "Epoch 26/100\n",
            "262/262 [==============================] - 19s 74ms/step - loss: 1.1496 - accuracy: 0.5997 - val_loss: 1.4408 - val_accuracy: 0.5010\n",
            "Epoch 27/100\n",
            "262/262 [==============================] - 19s 74ms/step - loss: 1.1219 - accuracy: 0.6068 - val_loss: 1.4659 - val_accuracy: 0.4915\n",
            "Epoch 28/100\n",
            "262/262 [==============================] - 19s 74ms/step - loss: 1.1219 - accuracy: 0.6067 - val_loss: 1.4728 - val_accuracy: 0.4833\n",
            "Epoch 29/100\n",
            "262/262 [==============================] - 19s 74ms/step - loss: 1.1054 - accuracy: 0.6135 - val_loss: 1.4439 - val_accuracy: 0.4996\n",
            "Epoch 30/100\n",
            "262/262 [==============================] - 19s 73ms/step - loss: 1.0763 - accuracy: 0.6257 - val_loss: 1.4056 - val_accuracy: 0.5155\n",
            "Epoch 31/100\n",
            "262/262 [==============================] - 19s 74ms/step - loss: 1.0622 - accuracy: 0.6340 - val_loss: 1.4776 - val_accuracy: 0.4908\n",
            "Epoch 32/100\n",
            "262/262 [==============================] - 19s 74ms/step - loss: 1.0541 - accuracy: 0.6333 - val_loss: 1.5019 - val_accuracy: 0.4872\n",
            "Epoch 33/100\n",
            "262/262 [==============================] - 19s 74ms/step - loss: 1.0330 - accuracy: 0.6386 - val_loss: 1.6350 - val_accuracy: 0.4467\n",
            "Epoch 34/100\n",
            "262/262 [==============================] - 19s 74ms/step - loss: 1.0369 - accuracy: 0.6373 - val_loss: 1.4093 - val_accuracy: 0.5175\n",
            "Epoch 35/100\n",
            "262/262 [==============================] - 19s 73ms/step - loss: 0.9965 - accuracy: 0.6557 - val_loss: 1.4199 - val_accuracy: 0.5111\n",
            "Epoch 36/100\n",
            "262/262 [==============================] - 19s 74ms/step - loss: 1.0006 - accuracy: 0.6516 - val_loss: 1.4967 - val_accuracy: 0.4869\n",
            "Epoch 37/100\n",
            "262/262 [==============================] - 19s 74ms/step - loss: 0.9797 - accuracy: 0.6618 - val_loss: 1.4363 - val_accuracy: 0.5076\n",
            "Epoch 38/100\n",
            "262/262 [==============================] - 19s 73ms/step - loss: 0.9604 - accuracy: 0.6718 - val_loss: 1.4440 - val_accuracy: 0.5050\n",
            "Epoch 39/100\n",
            "262/262 [==============================] - 19s 74ms/step - loss: 0.9597 - accuracy: 0.6641 - val_loss: 1.4106 - val_accuracy: 0.5193\n",
            "Epoch 40/100\n",
            "262/262 [==============================] - 19s 74ms/step - loss: 0.9416 - accuracy: 0.6740 - val_loss: 1.4660 - val_accuracy: 0.5116\n",
            "Epoch 41/100\n",
            "262/262 [==============================] - 19s 74ms/step - loss: 0.9184 - accuracy: 0.6816 - val_loss: 1.4551 - val_accuracy: 0.5076\n",
            "Epoch 42/100\n",
            "262/262 [==============================] - 19s 74ms/step - loss: 0.9040 - accuracy: 0.6869 - val_loss: 1.4688 - val_accuracy: 0.5087\n",
            "Epoch 43/100\n",
            "262/262 [==============================] - 19s 73ms/step - loss: 0.8893 - accuracy: 0.6966 - val_loss: 1.5343 - val_accuracy: 0.4876\n",
            "Epoch 44/100\n",
            "262/262 [==============================] - 19s 74ms/step - loss: 0.8905 - accuracy: 0.6889 - val_loss: 1.4834 - val_accuracy: 0.5067\n",
            "Epoch 45/100\n",
            "262/262 [==============================] - 19s 74ms/step - loss: 0.8810 - accuracy: 0.6951 - val_loss: 1.6221 - val_accuracy: 0.4880\n",
            "Epoch 46/100\n",
            "262/262 [==============================] - 19s 73ms/step - loss: 0.8570 - accuracy: 0.7063 - val_loss: 1.6500 - val_accuracy: 0.4681\n",
            "Epoch 47/100\n",
            "262/262 [==============================] - 19s 74ms/step - loss: 0.8422 - accuracy: 0.7144 - val_loss: 1.4943 - val_accuracy: 0.5097\n",
            "Epoch 48/100\n",
            "262/262 [==============================] - 19s 74ms/step - loss: 0.8360 - accuracy: 0.7137 - val_loss: 1.4991 - val_accuracy: 0.5054\n",
            "Epoch 49/100\n",
            "262/262 [==============================] - 19s 74ms/step - loss: 0.8181 - accuracy: 0.7198 - val_loss: 1.4714 - val_accuracy: 0.5172\n",
            "Epoch 50/100\n",
            "262/262 [==============================] - 21s 80ms/step - loss: 0.7960 - accuracy: 0.7289 - val_loss: 1.4804 - val_accuracy: 0.5104\n",
            "Epoch 51/100\n",
            "262/262 [==============================] - 20s 75ms/step - loss: 0.7847 - accuracy: 0.7322 - val_loss: 1.7109 - val_accuracy: 0.4908\n",
            "Epoch 52/100\n",
            "262/262 [==============================] - 19s 74ms/step - loss: 0.7740 - accuracy: 0.7387 - val_loss: 1.5013 - val_accuracy: 0.5153\n",
            "Epoch 53/100\n",
            "262/262 [==============================] - 19s 74ms/step - loss: 0.7580 - accuracy: 0.7464 - val_loss: 1.5610 - val_accuracy: 0.5001\n",
            "Epoch 54/100\n",
            "262/262 [==============================] - 19s 74ms/step - loss: 0.7471 - accuracy: 0.7431 - val_loss: 1.5640 - val_accuracy: 0.4982\n",
            "Epoch 55/100\n",
            "262/262 [==============================] - 19s 73ms/step - loss: 0.7217 - accuracy: 0.7555 - val_loss: 1.5261 - val_accuracy: 0.5081\n",
            "Epoch 56/100\n",
            "262/262 [==============================] - 19s 74ms/step - loss: 0.7128 - accuracy: 0.7615 - val_loss: 1.5203 - val_accuracy: 0.5169\n",
            "Epoch 57/100\n",
            "262/262 [==============================] - 19s 74ms/step - loss: 0.7062 - accuracy: 0.7617 - val_loss: 1.4813 - val_accuracy: 0.5267\n",
            "Epoch 58/100\n",
            "262/262 [==============================] - 19s 74ms/step - loss: 0.6930 - accuracy: 0.7643 - val_loss: 1.5464 - val_accuracy: 0.5090\n",
            "Epoch 59/100\n",
            "262/262 [==============================] - 19s 74ms/step - loss: 0.6619 - accuracy: 0.7759 - val_loss: 1.6184 - val_accuracy: 0.5057\n",
            "Epoch 60/100\n",
            "262/262 [==============================] - 19s 74ms/step - loss: 0.6629 - accuracy: 0.7728 - val_loss: 1.5092 - val_accuracy: 0.5234\n",
            "Epoch 61/100\n",
            "262/262 [==============================] - 19s 74ms/step - loss: 0.6423 - accuracy: 0.7826 - val_loss: 1.5340 - val_accuracy: 0.5179\n",
            "Epoch 62/100\n",
            "262/262 [==============================] - 19s 73ms/step - loss: 0.6260 - accuracy: 0.7899 - val_loss: 1.5579 - val_accuracy: 0.5101\n",
            "Epoch 63/100\n",
            "262/262 [==============================] - 19s 73ms/step - loss: 0.6196 - accuracy: 0.7948 - val_loss: 1.6145 - val_accuracy: 0.5020\n",
            "Epoch 64/100\n",
            "262/262 [==============================] - 19s 73ms/step - loss: 0.5903 - accuracy: 0.8052 - val_loss: 1.5961 - val_accuracy: 0.5062\n",
            "Epoch 65/100\n",
            "262/262 [==============================] - 19s 74ms/step - loss: 0.6090 - accuracy: 0.7953 - val_loss: 1.6224 - val_accuracy: 0.5011\n",
            "Epoch 66/100\n",
            "262/262 [==============================] - 19s 74ms/step - loss: 0.5737 - accuracy: 0.8106 - val_loss: 1.6299 - val_accuracy: 0.5118\n",
            "Epoch 67/100\n",
            "262/262 [==============================] - 19s 74ms/step - loss: 0.5566 - accuracy: 0.8182 - val_loss: 1.7697 - val_accuracy: 0.4798\n",
            "Epoch 68/100\n",
            "262/262 [==============================] - 20s 75ms/step - loss: 0.5478 - accuracy: 0.8192 - val_loss: 1.6458 - val_accuracy: 0.5122\n",
            "Epoch 69/100\n",
            "262/262 [==============================] - 20s 75ms/step - loss: 0.5484 - accuracy: 0.8202 - val_loss: 1.6686 - val_accuracy: 0.5033\n",
            "Epoch 70/100\n",
            "262/262 [==============================] - 19s 74ms/step - loss: 0.5169 - accuracy: 0.8320 - val_loss: 1.7877 - val_accuracy: 0.4825\n",
            "Epoch 71/100\n",
            "262/262 [==============================] - 19s 74ms/step - loss: 0.5171 - accuracy: 0.8289 - val_loss: 2.0064 - val_accuracy: 0.4716\n",
            "Epoch 72/100\n",
            "262/262 [==============================] - 20s 74ms/step - loss: 0.5064 - accuracy: 0.8370 - val_loss: 1.6351 - val_accuracy: 0.5142\n",
            "Epoch 73/100\n",
            "262/262 [==============================] - 19s 74ms/step - loss: 0.4776 - accuracy: 0.8460 - val_loss: 1.7421 - val_accuracy: 0.5103\n",
            "Epoch 74/100\n",
            "262/262 [==============================] - 19s 74ms/step - loss: 0.4665 - accuracy: 0.8516 - val_loss: 1.7049 - val_accuracy: 0.5129\n",
            "Epoch 75/100\n",
            "262/262 [==============================] - 19s 74ms/step - loss: 0.4803 - accuracy: 0.8454 - val_loss: 1.7504 - val_accuracy: 0.5030\n",
            "Epoch 76/100\n",
            "262/262 [==============================] - 20s 76ms/step - loss: 0.4589 - accuracy: 0.8497 - val_loss: 1.7365 - val_accuracy: 0.5102\n",
            "Epoch 77/100\n",
            "262/262 [==============================] - 20s 75ms/step - loss: 0.4538 - accuracy: 0.8523 - val_loss: 1.6880 - val_accuracy: 0.5272\n",
            "Epoch 78/100\n",
            "262/262 [==============================] - 19s 74ms/step - loss: 0.4375 - accuracy: 0.8573 - val_loss: 1.9058 - val_accuracy: 0.4890\n",
            "Epoch 79/100\n",
            "262/262 [==============================] - 20s 75ms/step - loss: 0.4310 - accuracy: 0.8630 - val_loss: 1.7607 - val_accuracy: 0.5028\n",
            "Epoch 80/100\n",
            "262/262 [==============================] - 20s 75ms/step - loss: 0.3931 - accuracy: 0.8747 - val_loss: 1.7555 - val_accuracy: 0.5099\n",
            "Epoch 81/100\n",
            "262/262 [==============================] - 20s 75ms/step - loss: 0.3961 - accuracy: 0.8763 - val_loss: 1.7860 - val_accuracy: 0.4987\n",
            "Epoch 82/100\n",
            "262/262 [==============================] - 20s 75ms/step - loss: 0.3859 - accuracy: 0.8796 - val_loss: 1.8737 - val_accuracy: 0.5087\n",
            "Epoch 83/100\n",
            "262/262 [==============================] - 20s 75ms/step - loss: 0.3730 - accuracy: 0.8847 - val_loss: 1.7678 - val_accuracy: 0.5191\n",
            "Epoch 84/100\n",
            "262/262 [==============================] - 20s 78ms/step - loss: 0.3559 - accuracy: 0.8908 - val_loss: 1.7670 - val_accuracy: 0.5159\n",
            "Epoch 85/100\n",
            "262/262 [==============================] - 20s 75ms/step - loss: 0.3461 - accuracy: 0.8938 - val_loss: 1.8693 - val_accuracy: 0.5057\n",
            "Epoch 86/100\n",
            "262/262 [==============================] - 20s 75ms/step - loss: 0.3361 - accuracy: 0.8965 - val_loss: 1.9102 - val_accuracy: 0.4970\n",
            "Epoch 87/100\n",
            "262/262 [==============================] - 21s 78ms/step - loss: 0.3395 - accuracy: 0.8930 - val_loss: 1.9355 - val_accuracy: 0.4915\n",
            "Epoch 88/100\n",
            "262/262 [==============================] - 21s 80ms/step - loss: 0.3264 - accuracy: 0.8982 - val_loss: 1.9659 - val_accuracy: 0.4991\n",
            "Epoch 89/100\n",
            "262/262 [==============================] - 20s 75ms/step - loss: 0.3219 - accuracy: 0.9024 - val_loss: 1.8697 - val_accuracy: 0.5144\n",
            "Epoch 90/100\n",
            "262/262 [==============================] - 20s 75ms/step - loss: 0.3638 - accuracy: 0.8946 - val_loss: 1.9247 - val_accuracy: 0.5099\n",
            "Epoch 91/100\n",
            "262/262 [==============================] - 20s 75ms/step - loss: 0.2899 - accuracy: 0.9144 - val_loss: 1.8308 - val_accuracy: 0.5268\n",
            "Epoch 92/100\n",
            "262/262 [==============================] - 20s 75ms/step - loss: 0.2561 - accuracy: 0.9290 - val_loss: 2.1591 - val_accuracy: 0.4837\n",
            "Epoch 93/100\n",
            "262/262 [==============================] - 20s 75ms/step - loss: 0.2851 - accuracy: 0.9161 - val_loss: 1.9892 - val_accuracy: 0.5001\n",
            "Epoch 94/100\n",
            "262/262 [==============================] - 20s 76ms/step - loss: 0.2668 - accuracy: 0.9234 - val_loss: 1.9510 - val_accuracy: 0.5125\n",
            "Epoch 95/100\n",
            "262/262 [==============================] - 20s 75ms/step - loss: 0.2510 - accuracy: 0.9271 - val_loss: 2.0283 - val_accuracy: 0.5093\n",
            "Epoch 96/100\n",
            "262/262 [==============================] - 20s 75ms/step - loss: 0.2256 - accuracy: 0.9391 - val_loss: 1.9430 - val_accuracy: 0.5153\n",
            "Epoch 97/100\n",
            "262/262 [==============================] - 20s 75ms/step - loss: 0.2141 - accuracy: 0.9428 - val_loss: 2.0045 - val_accuracy: 0.5150\n",
            "Epoch 98/100\n",
            "262/262 [==============================] - 20s 74ms/step - loss: 0.2183 - accuracy: 0.9406 - val_loss: 2.0170 - val_accuracy: 0.5113\n",
            "Epoch 99/100\n",
            "262/262 [==============================] - 20s 76ms/step - loss: 0.2093 - accuracy: 0.9443 - val_loss: 1.9495 - val_accuracy: 0.5122\n",
            "Epoch 100/100\n",
            "262/262 [==============================] - 20s 76ms/step - loss: 0.2081 - accuracy: 0.9445 - val_loss: 1.9715 - val_accuracy: 0.5182\n"
          ],
          "name": "stdout"
        }
      ]
    },
    {
      "cell_type": "code",
      "metadata": {
        "colab": {
          "base_uri": "https://localhost:8080/",
          "height": 312
        },
        "id": "XDR42ttehqsc",
        "outputId": "c7b2d3e5-3d3f-4fd2-b86b-79f0c0f978f7"
      },
      "source": [
        "\n",
        "print(model_history.history.keys())\n",
        "# summarize history for accuracy\n",
        "plt.plot(model_history.history['accuracy'])\n",
        "plt.plot(model_history.history['val_accuracy'])\n",
        "plt.title('model accuracy')\n",
        "plt.ylabel('accuracy')\n",
        "plt.xlabel('epoch')\n",
        "plt.legend(['train', 'test'], loc='lower right')\n",
        "plt.show()"
      ],
      "execution_count": 17,
      "outputs": [
        {
          "output_type": "stream",
          "text": [
            "dict_keys(['loss', 'accuracy', 'val_loss', 'val_accuracy'])\n"
          ],
          "name": "stdout"
        },
        {
          "output_type": "display_data",
          "data": {
            "image/png": "[encoded data removed]",
            "text/plain": [
              "<Figure size 432x288 with 1 Axes>"
            ]
          },
          "metadata": {
            "tags": [],
            "needs_background": "light"
          }
        }
      ]
    },
    {
      "cell_type": "code",
      "metadata": {
        "colab": {
          "base_uri": "https://localhost:8080/",
          "height": 295
        },
        "id": "kofPC-DNlLdX",
        "outputId": "14180612-999a-421d-ef88-f94284041ea2"
      },
      "source": [
        "# summarize history for loss\n",
        "plt.plot(model_history.history['loss'])\n",
        "plt.plot(model_history.history['val_loss'])\n",
        "plt.title('model loss')\n",
        "plt.ylabel('loss')\n",
        "plt.xlabel('epoch')\n",
        "plt.legend(['train', 'test'], loc='upper left')\n",
        "plt.show()"
      ],
      "execution_count": 18,
      "outputs": [
        {
          "output_type": "display_data",
          "data": {
            "image/png": "[encoded data removed]",
            "text/plain": [
              "<Figure size 432x288 with 1 Axes>"
            ]
          },
          "metadata": {
            "tags": [],
            "needs_background": "light"
          }
        }
      ]
    },
    {
      "cell_type": "code",
      "metadata": {
        "colab": {
          "base_uri": "https://localhost:8080/"
        },
        "id": "L7yQM6uslNem",
        "outputId": "b3c788de-dbb2-43f8-ae8c-951df11f78b1"
      },
      "source": [
        "y_pred = classifier.predict(x_test)\n",
        "y_pred"
      ],
      "execution_count": 19,
      "outputs": [
        {
          "output_type": "stream",
          "text": [
            "/usr/local/lib/python3.7/dist-packages/tensorflow/python/data/ops/dataset_ops.py:3504: UserWarning: Even though the tf.config.experimental_run_functions_eagerly option is set, this option does not apply to tf.data functions. tf.data functions are still traced and executed as graphs.\n",
            "  \"Even though the tf.config.experimental_run_functions_eagerly \"\n"
          ],
          "name": "stderr"
        },
        {
          "output_type": "execute_result",
          "data": {
            "text/plain": [
              "array([[2.1286875e-04, 7.3933879e-05, 4.3873020e-05, ..., 1.4929641e-06,\n",
              "        6.8285583e-05, 1.7747481e-05],\n",
              "       [2.7566630e-04, 1.0027685e-02, 3.9835254e-07, ..., 1.2914558e-05,\n",
              "        8.6491472e-01, 1.2476508e-01],\n",
              "       [6.3204207e-02, 3.4286082e-01, 8.5248241e-05, ..., 8.3443355e-03,\n",
              "        5.2224743e-01, 5.9531633e-02],\n",
              "       ...,\n",
              "       [5.0517418e-03, 3.1038947e-09, 5.7720363e-01, ..., 8.6977532e-05,\n",
              "        6.6711432e-03, 9.9790958e-04],\n",
              "       [8.9271649e-05, 2.2083125e-06, 8.3076012e-01, ..., 6.2725629e-04,\n",
              "        5.8570009e-04, 1.6271037e-05],\n",
              "       [3.7037520e-04, 2.8573920e-04, 2.6658574e-01, ..., 2.9951316e-01,\n",
              "        1.9290127e-04, 2.5439346e-02]], dtype=float32)"
            ]
          },
          "metadata": {
            "tags": []
          },
          "execution_count": 19
        }
      ]
    },
    {
      "cell_type": "code",
      "metadata": {
        "colab": {
          "base_uri": "https://localhost:8080/"
        },
        "id": "M2J6w4V9lR19",
        "outputId": "56e8a7f8-f9d8-4ecc-fe0a-3286945e2ed0"
      },
      "source": [
        "prediction_score = classifier.evaluate(x_test, y_test, verbose=0)\n",
        "\n",
        "print('Test Loss and Test Accuracy', prediction_score)"
      ],
      "execution_count": 20,
      "outputs": [
        {
          "output_type": "stream",
          "text": [
            "/usr/local/lib/python3.7/dist-packages/tensorflow/python/data/ops/dataset_ops.py:3504: UserWarning: Even though the tf.config.experimental_run_functions_eagerly option is set, this option does not apply to tf.data functions. tf.data functions are still traced and executed as graphs.\n",
            "  \"Even though the tf.config.experimental_run_functions_eagerly \"\n"
          ],
          "name": "stderr"
        },
        {
          "output_type": "stream",
          "text": [
            "Test Loss and Test Accuracy [1.9639761447906494, 0.5146999955177307]\n"
          ],
          "name": "stdout"
        }
      ]
    },
    {
      "cell_type": "code",
      "metadata": {
        "id": "2nvUBs6kpJB1"
      },
      "source": [
        ""
      ],
      "execution_count": 20,
      "outputs": []
    }
  ]
}