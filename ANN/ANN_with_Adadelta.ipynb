{
  "nbformat": 4,
  "nbformat_minor": 0,
  "metadata": {
    "colab": {
      "name": "ANN_with_Adadelta",
      "provenance": [],
      "collapsed_sections": []
    },
    "kernelspec": {
      "name": "python3",
      "display_name": "Python 3"
    }
  },
  "cells": [
    {
      "cell_type": "code",
      "metadata": {
        "id": "Du2agn85ouja"
      },
      "source": [
        "import pandas as pd\n",
        "import numpy as np\n",
        "import matplotlib.pyplot as plt\n",
        "from keras.datasets import cifar10"
      ],
      "execution_count": 25,
      "outputs": []
    },
    {
      "cell_type": "code",
      "metadata": {
        "id": "VQEGoH1dpSHn"
      },
      "source": [
        ""
      ],
      "execution_count": 25,
      "outputs": []
    },
    {
      "cell_type": "code",
      "metadata": {
        "id": "42bFGS1fowuq"
      },
      "source": [
        "(x_train,y_train),(x_test,y_test) = cifar10.load_data()"
      ],
      "execution_count": 26,
      "outputs": []
    },
    {
      "cell_type": "code",
      "metadata": {
        "id": "n2OsWtufpAav"
      },
      "source": [
        "x_train = x_train/255\n",
        "x_test = x_test/255"
      ],
      "execution_count": 27,
      "outputs": []
    },
    {
      "cell_type": "code",
      "metadata": {
        "colab": {
          "base_uri": "https://localhost:8080/"
        },
        "id": "GGJHB2h0pCVM",
        "outputId": "de986cc9-c85e-462b-c129-e8a015ab8140"
      },
      "source": [
        "x_train.shape"
      ],
      "execution_count": 28,
      "outputs": [
        {
          "output_type": "execute_result",
          "data": {
            "text/plain": [
              "(50000, 32, 32, 3)"
            ]
          },
          "metadata": {
            "tags": []
          },
          "execution_count": 28
        }
      ]
    },
    {
      "cell_type": "code",
      "metadata": {
        "colab": {
          "base_uri": "https://localhost:8080/"
        },
        "id": "3tuu7I76pWP2",
        "outputId": "89734248-eb34-4949-bf92-79fa3b607679"
      },
      "source": [
        "x_train = x_train.reshape(50000,3072)\n",
        "x_test = x_test.reshape(10000,3072)\n",
        "print(x_train.shape)\n",
        "print(x_test.shape)"
      ],
      "execution_count": 29,
      "outputs": [
        {
          "output_type": "stream",
          "text": [
            "(50000, 3072)\n",
            "(10000, 3072)\n"
          ],
          "name": "stdout"
        }
      ]
    },
    {
      "cell_type": "code",
      "metadata": {
        "id": "8Ok9TOGTpX-r"
      },
      "source": [
        "import keras\n",
        "from keras.models import Sequential\n",
        "from keras.layers import Dense\n",
        "from keras.layers import LeakyReLU,PReLU,ELU\n",
        "from keras.layers import Dropout\n",
        "from keras.utils import np_utils"
      ],
      "execution_count": 30,
      "outputs": []
    },
    {
      "cell_type": "code",
      "metadata": {
        "id": "RyoPkp3npZz1"
      },
      "source": [
        "classifier = Sequential()"
      ],
      "execution_count": 31,
      "outputs": []
    },
    {
      "cell_type": "code",
      "metadata": {
        "id": "huWoawIepbHW"
      },
      "source": [
        "classifier.add(Dense(units=1024,activation='relu',kernel_initializer='he_uniform',input_dim=3072))"
      ],
      "execution_count": 32,
      "outputs": []
    },
    {
      "cell_type": "code",
      "metadata": {
        "id": "KxuOBSvlpdJc"
      },
      "source": [
        "classifier.add(Dense(units=512,activation='selu',kernel_initializer='he_uniform'))"
      ],
      "execution_count": 33,
      "outputs": []
    },
    {
      "cell_type": "code",
      "metadata": {
        "id": "K9wA1EU6pegu"
      },
      "source": [
        "classifier.add(Dense(units=10,activation='softmax'))"
      ],
      "execution_count": 34,
      "outputs": []
    },
    {
      "cell_type": "code",
      "metadata": {
        "id": "wSwUxtN4pf8r"
      },
      "source": [
        "classifier.compile(optimizer='Adadelta', loss='categorical_crossentropy', metrics=['accuracy'])"
      ],
      "execution_count": 35,
      "outputs": []
    },
    {
      "cell_type": "code",
      "metadata": {
        "id": "Dr5RgnGjqb4r"
      },
      "source": [
        "y_train = np_utils.to_categorical(y_train, 10)\n",
        "y_test = np_utils.to_categorical(y_test, 10)"
      ],
      "execution_count": 36,
      "outputs": []
    },
    {
      "cell_type": "code",
      "metadata": {
        "id": "idvyfERurrHq"
      },
      "source": [
        "import tensorflow as tf\n",
        "tf.config.run_functions_eagerly(True)"
      ],
      "execution_count": 37,
      "outputs": []
    },
    {
      "cell_type": "code",
      "metadata": {
        "colab": {
          "base_uri": "https://localhost:8080/"
        },
        "id": "v2L7-FXbrs1P",
        "outputId": "8501ed7f-2b10-41c9-e783-23160a81e427"
      },
      "source": [
        "model_history = classifier.fit(x_train, y_train, validation_split=0.33,batch_size=128, epochs=100)"
      ],
      "execution_count": 38,
      "outputs": [
        {
          "output_type": "stream",
          "text": [
            "/usr/local/lib/python3.7/dist-packages/tensorflow/python/data/ops/dataset_ops.py:3504: UserWarning: Even though the tf.config.experimental_run_functions_eagerly option is set, this option does not apply to tf.data functions. tf.data functions are still traced and executed as graphs.\n",
            "  \"Even though the tf.config.experimental_run_functions_eagerly \"\n"
          ],
          "name": "stderr"
        },
        {
          "output_type": "stream",
          "text": [
            "Epoch 1/100\n",
            "262/262 [==============================] - 25s 93ms/step - loss: 2.4843 - accuracy: 0.1129 - val_loss: 2.2100 - val_accuracy: 0.1894\n",
            "Epoch 2/100\n",
            "262/262 [==============================] - 21s 79ms/step - loss: 2.1729 - accuracy: 0.2146 - val_loss: 2.0955 - val_accuracy: 0.2507\n",
            "Epoch 3/100\n",
            "262/262 [==============================] - 21s 79ms/step - loss: 2.0706 - accuracy: 0.2636 - val_loss: 2.0274 - val_accuracy: 0.2816\n",
            "Epoch 4/100\n",
            "262/262 [==============================] - 21s 79ms/step - loss: 2.0037 - accuracy: 0.2944 - val_loss: 1.9831 - val_accuracy: 0.3038\n",
            "Epoch 5/100\n",
            "262/262 [==============================] - 21s 79ms/step - loss: 1.9620 - accuracy: 0.3094 - val_loss: 1.9497 - val_accuracy: 0.3180\n",
            "Epoch 6/100\n",
            "262/262 [==============================] - 21s 80ms/step - loss: 1.9249 - accuracy: 0.3253 - val_loss: 1.9238 - val_accuracy: 0.3266\n",
            "Epoch 7/100\n",
            "262/262 [==============================] - 21s 80ms/step - loss: 1.9070 - accuracy: 0.3327 - val_loss: 1.9057 - val_accuracy: 0.3341\n",
            "Epoch 8/100\n",
            "262/262 [==============================] - 21s 80ms/step - loss: 1.8886 - accuracy: 0.3368 - val_loss: 1.8872 - val_accuracy: 0.3410\n",
            "Epoch 9/100\n",
            "262/262 [==============================] - 21s 80ms/step - loss: 1.8705 - accuracy: 0.3449 - val_loss: 1.8732 - val_accuracy: 0.3449\n",
            "Epoch 10/100\n",
            "262/262 [==============================] - 21s 80ms/step - loss: 1.8501 - accuracy: 0.3506 - val_loss: 1.8616 - val_accuracy: 0.3493\n",
            "Epoch 11/100\n",
            "262/262 [==============================] - 21s 80ms/step - loss: 1.8337 - accuracy: 0.3586 - val_loss: 1.8516 - val_accuracy: 0.3546\n",
            "Epoch 12/100\n",
            "262/262 [==============================] - 21s 80ms/step - loss: 1.8230 - accuracy: 0.3666 - val_loss: 1.8413 - val_accuracy: 0.3567\n",
            "Epoch 13/100\n",
            "262/262 [==============================] - 21s 79ms/step - loss: 1.8135 - accuracy: 0.3668 - val_loss: 1.8328 - val_accuracy: 0.3627\n",
            "Epoch 14/100\n",
            "262/262 [==============================] - 20s 78ms/step - loss: 1.8127 - accuracy: 0.3684 - val_loss: 1.8253 - val_accuracy: 0.3648\n",
            "Epoch 15/100\n",
            "262/262 [==============================] - 21s 79ms/step - loss: 1.7973 - accuracy: 0.3764 - val_loss: 1.8192 - val_accuracy: 0.3668\n",
            "Epoch 16/100\n",
            "262/262 [==============================] - 21s 79ms/step - loss: 1.7857 - accuracy: 0.3798 - val_loss: 1.8124 - val_accuracy: 0.3703\n",
            "Epoch 17/100\n",
            "262/262 [==============================] - 21s 78ms/step - loss: 1.7827 - accuracy: 0.3814 - val_loss: 1.8062 - val_accuracy: 0.3703\n",
            "Epoch 18/100\n",
            "262/262 [==============================] - 21s 79ms/step - loss: 1.7833 - accuracy: 0.3798 - val_loss: 1.8004 - val_accuracy: 0.3725\n",
            "Epoch 19/100\n",
            "262/262 [==============================] - 21s 80ms/step - loss: 1.7694 - accuracy: 0.3902 - val_loss: 1.7936 - val_accuracy: 0.3750\n",
            "Epoch 20/100\n",
            "262/262 [==============================] - 21s 79ms/step - loss: 1.7613 - accuracy: 0.3891 - val_loss: 1.7890 - val_accuracy: 0.3769\n",
            "Epoch 21/100\n",
            "262/262 [==============================] - 21s 79ms/step - loss: 1.7594 - accuracy: 0.3886 - val_loss: 1.7842 - val_accuracy: 0.3793\n",
            "Epoch 22/100\n",
            "262/262 [==============================] - 21s 79ms/step - loss: 1.7532 - accuracy: 0.3874 - val_loss: 1.7791 - val_accuracy: 0.3806\n",
            "Epoch 23/100\n",
            "262/262 [==============================] - 21s 79ms/step - loss: 1.7473 - accuracy: 0.3902 - val_loss: 1.7760 - val_accuracy: 0.3818\n",
            "Epoch 24/100\n",
            "262/262 [==============================] - 21s 79ms/step - loss: 1.7375 - accuracy: 0.3942 - val_loss: 1.7714 - val_accuracy: 0.3815\n",
            "Epoch 25/100\n",
            "262/262 [==============================] - 21s 79ms/step - loss: 1.7334 - accuracy: 0.3985 - val_loss: 1.7695 - val_accuracy: 0.3820\n",
            "Epoch 26/100\n",
            "262/262 [==============================] - 21s 79ms/step - loss: 1.7271 - accuracy: 0.3979 - val_loss: 1.7633 - val_accuracy: 0.3828\n",
            "Epoch 27/100\n",
            "262/262 [==============================] - 21s 79ms/step - loss: 1.7316 - accuracy: 0.4021 - val_loss: 1.7590 - val_accuracy: 0.3878\n",
            "Epoch 28/100\n",
            "262/262 [==============================] - 21s 79ms/step - loss: 1.7172 - accuracy: 0.4045 - val_loss: 1.7583 - val_accuracy: 0.3856\n",
            "Epoch 29/100\n",
            "262/262 [==============================] - 21s 79ms/step - loss: 1.7194 - accuracy: 0.4058 - val_loss: 1.7527 - val_accuracy: 0.3894\n",
            "Epoch 30/100\n",
            "262/262 [==============================] - 21s 79ms/step - loss: 1.7139 - accuracy: 0.4080 - val_loss: 1.7493 - val_accuracy: 0.3903\n",
            "Epoch 31/100\n",
            "262/262 [==============================] - 21s 79ms/step - loss: 1.7073 - accuracy: 0.4087 - val_loss: 1.7458 - val_accuracy: 0.3908\n",
            "Epoch 32/100\n",
            "262/262 [==============================] - 21s 79ms/step - loss: 1.7126 - accuracy: 0.4058 - val_loss: 1.7420 - val_accuracy: 0.3938\n",
            "Epoch 33/100\n",
            "262/262 [==============================] - 21s 79ms/step - loss: 1.7068 - accuracy: 0.4054 - val_loss: 1.7404 - val_accuracy: 0.3942\n",
            "Epoch 34/100\n",
            "262/262 [==============================] - 21s 79ms/step - loss: 1.6888 - accuracy: 0.4189 - val_loss: 1.7373 - val_accuracy: 0.3976\n",
            "Epoch 35/100\n",
            "262/262 [==============================] - 21s 79ms/step - loss: 1.6969 - accuracy: 0.4113 - val_loss: 1.7324 - val_accuracy: 0.3978\n",
            "Epoch 36/100\n",
            "262/262 [==============================] - 21s 78ms/step - loss: 1.6890 - accuracy: 0.4183 - val_loss: 1.7307 - val_accuracy: 0.3968\n",
            "Epoch 37/100\n",
            "262/262 [==============================] - 21s 78ms/step - loss: 1.6949 - accuracy: 0.4171 - val_loss: 1.7278 - val_accuracy: 0.3999\n",
            "Epoch 38/100\n",
            "262/262 [==============================] - 21s 79ms/step - loss: 1.6879 - accuracy: 0.4212 - val_loss: 1.7269 - val_accuracy: 0.3992\n",
            "Epoch 39/100\n",
            "262/262 [==============================] - 21s 79ms/step - loss: 1.6698 - accuracy: 0.4247 - val_loss: 1.7221 - val_accuracy: 0.4009\n",
            "Epoch 40/100\n",
            "262/262 [==============================] - 21s 79ms/step - loss: 1.6790 - accuracy: 0.4161 - val_loss: 1.7195 - val_accuracy: 0.4022\n",
            "Epoch 41/100\n",
            "262/262 [==============================] - 21s 80ms/step - loss: 1.6786 - accuracy: 0.4206 - val_loss: 1.7186 - val_accuracy: 0.4026\n",
            "Epoch 42/100\n",
            "262/262 [==============================] - 21s 79ms/step - loss: 1.6678 - accuracy: 0.4244 - val_loss: 1.7149 - val_accuracy: 0.4016\n",
            "Epoch 43/100\n",
            "262/262 [==============================] - 21s 80ms/step - loss: 1.6585 - accuracy: 0.4267 - val_loss: 1.7120 - val_accuracy: 0.4049\n",
            "Epoch 44/100\n",
            "262/262 [==============================] - 21s 79ms/step - loss: 1.6627 - accuracy: 0.4259 - val_loss: 1.7099 - val_accuracy: 0.4040\n",
            "Epoch 45/100\n",
            "262/262 [==============================] - 21s 79ms/step - loss: 1.6597 - accuracy: 0.4303 - val_loss: 1.7075 - val_accuracy: 0.4059\n",
            "Epoch 46/100\n",
            "262/262 [==============================] - 21s 79ms/step - loss: 1.6556 - accuracy: 0.4322 - val_loss: 1.7051 - val_accuracy: 0.4050\n",
            "Epoch 47/100\n",
            "262/262 [==============================] - 21s 80ms/step - loss: 1.6442 - accuracy: 0.4345 - val_loss: 1.7040 - val_accuracy: 0.4093\n",
            "Epoch 48/100\n",
            "262/262 [==============================] - 21s 79ms/step - loss: 1.6463 - accuracy: 0.4337 - val_loss: 1.7005 - val_accuracy: 0.4079\n",
            "Epoch 49/100\n",
            "262/262 [==============================] - 21s 80ms/step - loss: 1.6512 - accuracy: 0.4309 - val_loss: 1.6983 - val_accuracy: 0.4061\n",
            "Epoch 50/100\n",
            "262/262 [==============================] - 21s 79ms/step - loss: 1.6461 - accuracy: 0.4302 - val_loss: 1.6966 - val_accuracy: 0.4082\n",
            "Epoch 51/100\n",
            "262/262 [==============================] - 21s 79ms/step - loss: 1.6443 - accuracy: 0.4336 - val_loss: 1.6954 - val_accuracy: 0.4099\n",
            "Epoch 52/100\n",
            "262/262 [==============================] - 21s 79ms/step - loss: 1.6392 - accuracy: 0.4361 - val_loss: 1.6923 - val_accuracy: 0.4091\n",
            "Epoch 53/100\n",
            "262/262 [==============================] - 21s 80ms/step - loss: 1.6433 - accuracy: 0.4366 - val_loss: 1.6904 - val_accuracy: 0.4117\n",
            "Epoch 54/100\n",
            "262/262 [==============================] - 21s 79ms/step - loss: 1.6411 - accuracy: 0.4370 - val_loss: 1.6885 - val_accuracy: 0.4123\n",
            "Epoch 55/100\n",
            "262/262 [==============================] - 21s 79ms/step - loss: 1.6395 - accuracy: 0.4369 - val_loss: 1.6859 - val_accuracy: 0.4137\n",
            "Epoch 56/100\n",
            "262/262 [==============================] - 21s 79ms/step - loss: 1.6282 - accuracy: 0.4401 - val_loss: 1.6844 - val_accuracy: 0.4147\n",
            "Epoch 57/100\n",
            "262/262 [==============================] - 21s 79ms/step - loss: 1.6210 - accuracy: 0.4424 - val_loss: 1.6835 - val_accuracy: 0.4145\n",
            "Epoch 58/100\n",
            "262/262 [==============================] - 21s 79ms/step - loss: 1.6337 - accuracy: 0.4359 - val_loss: 1.6804 - val_accuracy: 0.4152\n",
            "Epoch 59/100\n",
            "262/262 [==============================] - 21s 79ms/step - loss: 1.6198 - accuracy: 0.4449 - val_loss: 1.6783 - val_accuracy: 0.4156\n",
            "Epoch 60/100\n",
            "262/262 [==============================] - 21s 79ms/step - loss: 1.6175 - accuracy: 0.4421 - val_loss: 1.6768 - val_accuracy: 0.4167\n",
            "Epoch 61/100\n",
            "262/262 [==============================] - 21s 79ms/step - loss: 1.6192 - accuracy: 0.4436 - val_loss: 1.6749 - val_accuracy: 0.4180\n",
            "Epoch 62/100\n",
            "262/262 [==============================] - 21s 79ms/step - loss: 1.6167 - accuracy: 0.4426 - val_loss: 1.6749 - val_accuracy: 0.4161\n",
            "Epoch 63/100\n",
            "262/262 [==============================] - 21s 79ms/step - loss: 1.6198 - accuracy: 0.4432 - val_loss: 1.6707 - val_accuracy: 0.4199\n",
            "Epoch 64/100\n",
            "262/262 [==============================] - 21s 79ms/step - loss: 1.5942 - accuracy: 0.4520 - val_loss: 1.6689 - val_accuracy: 0.4193\n",
            "Epoch 65/100\n",
            "262/262 [==============================] - 21s 79ms/step - loss: 1.6054 - accuracy: 0.4468 - val_loss: 1.6686 - val_accuracy: 0.4191\n",
            "Epoch 66/100\n",
            "262/262 [==============================] - 21s 78ms/step - loss: 1.6064 - accuracy: 0.4492 - val_loss: 1.6658 - val_accuracy: 0.4202\n",
            "Epoch 67/100\n",
            "262/262 [==============================] - 21s 79ms/step - loss: 1.6066 - accuracy: 0.4500 - val_loss: 1.6641 - val_accuracy: 0.4212\n",
            "Epoch 68/100\n",
            "262/262 [==============================] - 21s 79ms/step - loss: 1.6061 - accuracy: 0.4511 - val_loss: 1.6627 - val_accuracy: 0.4224\n",
            "Epoch 69/100\n",
            "262/262 [==============================] - 21s 79ms/step - loss: 1.6016 - accuracy: 0.4475 - val_loss: 1.6610 - val_accuracy: 0.4221\n",
            "Epoch 70/100\n",
            "262/262 [==============================] - 21s 79ms/step - loss: 1.6041 - accuracy: 0.4470 - val_loss: 1.6586 - val_accuracy: 0.4232\n",
            "Epoch 71/100\n",
            "262/262 [==============================] - 21s 79ms/step - loss: 1.5881 - accuracy: 0.4527 - val_loss: 1.6584 - val_accuracy: 0.4241\n",
            "Epoch 72/100\n",
            "262/262 [==============================] - 21s 79ms/step - loss: 1.5850 - accuracy: 0.4568 - val_loss: 1.6577 - val_accuracy: 0.4242\n",
            "Epoch 73/100\n",
            "262/262 [==============================] - 21s 79ms/step - loss: 1.5993 - accuracy: 0.4510 - val_loss: 1.6553 - val_accuracy: 0.4248\n",
            "Epoch 74/100\n",
            "262/262 [==============================] - 20s 78ms/step - loss: 1.5925 - accuracy: 0.4501 - val_loss: 1.6537 - val_accuracy: 0.4256\n",
            "Epoch 75/100\n",
            "262/262 [==============================] - 20s 78ms/step - loss: 1.5885 - accuracy: 0.4578 - val_loss: 1.6514 - val_accuracy: 0.4276\n",
            "Epoch 76/100\n",
            "262/262 [==============================] - 21s 78ms/step - loss: 1.5821 - accuracy: 0.4565 - val_loss: 1.6512 - val_accuracy: 0.4259\n",
            "Epoch 77/100\n",
            "262/262 [==============================] - 20s 78ms/step - loss: 1.5848 - accuracy: 0.4602 - val_loss: 1.6496 - val_accuracy: 0.4265\n",
            "Epoch 78/100\n",
            "262/262 [==============================] - 20s 78ms/step - loss: 1.5900 - accuracy: 0.4541 - val_loss: 1.6482 - val_accuracy: 0.4284\n",
            "Epoch 79/100\n",
            "262/262 [==============================] - 21s 79ms/step - loss: 1.5816 - accuracy: 0.4523 - val_loss: 1.6452 - val_accuracy: 0.4277\n",
            "Epoch 80/100\n",
            "262/262 [==============================] - 21s 79ms/step - loss: 1.5790 - accuracy: 0.4603 - val_loss: 1.6441 - val_accuracy: 0.4294\n",
            "Epoch 81/100\n",
            "262/262 [==============================] - 21s 79ms/step - loss: 1.5774 - accuracy: 0.4570 - val_loss: 1.6425 - val_accuracy: 0.4297\n",
            "Epoch 82/100\n",
            "262/262 [==============================] - 21s 79ms/step - loss: 1.5673 - accuracy: 0.4646 - val_loss: 1.6438 - val_accuracy: 0.4284\n",
            "Epoch 83/100\n",
            "262/262 [==============================] - 21s 80ms/step - loss: 1.5700 - accuracy: 0.4619 - val_loss: 1.6403 - val_accuracy: 0.4295\n",
            "Epoch 84/100\n",
            "262/262 [==============================] - 21s 79ms/step - loss: 1.5682 - accuracy: 0.4606 - val_loss: 1.6404 - val_accuracy: 0.4307\n",
            "Epoch 85/100\n",
            "262/262 [==============================] - 21s 79ms/step - loss: 1.5746 - accuracy: 0.4594 - val_loss: 1.6394 - val_accuracy: 0.4308\n",
            "Epoch 86/100\n",
            "262/262 [==============================] - 21s 80ms/step - loss: 1.5648 - accuracy: 0.4618 - val_loss: 1.6368 - val_accuracy: 0.4321\n",
            "Epoch 87/100\n",
            "262/262 [==============================] - 21s 79ms/step - loss: 1.5616 - accuracy: 0.4658 - val_loss: 1.6348 - val_accuracy: 0.4312\n",
            "Epoch 88/100\n",
            "262/262 [==============================] - 21s 80ms/step - loss: 1.5610 - accuracy: 0.4681 - val_loss: 1.6339 - val_accuracy: 0.4325\n",
            "Epoch 89/100\n",
            "262/262 [==============================] - 21s 80ms/step - loss: 1.5599 - accuracy: 0.4644 - val_loss: 1.6320 - val_accuracy: 0.4336\n",
            "Epoch 90/100\n",
            "262/262 [==============================] - 21s 81ms/step - loss: 1.5541 - accuracy: 0.4675 - val_loss: 1.6319 - val_accuracy: 0.4321\n",
            "Epoch 91/100\n",
            "262/262 [==============================] - 21s 81ms/step - loss: 1.5543 - accuracy: 0.4697 - val_loss: 1.6295 - val_accuracy: 0.4341\n",
            "Epoch 92/100\n",
            "262/262 [==============================] - 21s 81ms/step - loss: 1.5528 - accuracy: 0.4644 - val_loss: 1.6292 - val_accuracy: 0.4315\n",
            "Epoch 93/100\n",
            "262/262 [==============================] - 21s 81ms/step - loss: 1.5597 - accuracy: 0.4675 - val_loss: 1.6266 - val_accuracy: 0.4334\n",
            "Epoch 94/100\n",
            "262/262 [==============================] - 21s 81ms/step - loss: 1.5501 - accuracy: 0.4686 - val_loss: 1.6256 - val_accuracy: 0.4361\n",
            "Epoch 95/100\n",
            "262/262 [==============================] - 21s 80ms/step - loss: 1.5491 - accuracy: 0.4696 - val_loss: 1.6245 - val_accuracy: 0.4358\n",
            "Epoch 96/100\n",
            "262/262 [==============================] - 21s 80ms/step - loss: 1.5492 - accuracy: 0.4698 - val_loss: 1.6233 - val_accuracy: 0.4356\n",
            "Epoch 97/100\n",
            "262/262 [==============================] - 21s 81ms/step - loss: 1.5407 - accuracy: 0.4692 - val_loss: 1.6224 - val_accuracy: 0.4344\n",
            "Epoch 98/100\n",
            "262/262 [==============================] - 21s 82ms/step - loss: 1.5362 - accuracy: 0.4733 - val_loss: 1.6217 - val_accuracy: 0.4349\n",
            "Epoch 99/100\n",
            "262/262 [==============================] - 21s 81ms/step - loss: 1.5416 - accuracy: 0.4727 - val_loss: 1.6201 - val_accuracy: 0.4359\n",
            "Epoch 100/100\n",
            "262/262 [==============================] - 21s 81ms/step - loss: 1.5438 - accuracy: 0.4689 - val_loss: 1.6193 - val_accuracy: 0.4370\n"
          ],
          "name": "stdout"
        }
      ]
    },
    {
      "cell_type": "code",
      "metadata": {
        "colab": {
          "base_uri": "https://localhost:8080/",
          "height": 312
        },
        "id": "DMQWj00Grvk6",
        "outputId": "f8d257d8-90d0-4485-968f-d2f4b0aab3a9"
      },
      "source": [
        "\n",
        "print(model_history.history.keys())\n",
        "# summarize history for accuracy\n",
        "plt.plot(model_history.history['accuracy'])\n",
        "plt.plot(model_history.history['val_accuracy'])\n",
        "plt.title('model accuracy')\n",
        "plt.ylabel('accuracy')\n",
        "plt.xlabel('epoch')\n",
        "plt.legend(['train', 'test'], loc='lower right')\n",
        "plt.show()"
      ],
      "execution_count": 39,
      "outputs": [
        {
          "output_type": "stream",
          "text": [
            "dict_keys(['loss', 'accuracy', 'val_loss', 'val_accuracy'])\n"
          ],
          "name": "stdout"
        },
        {
          "output_type": "display_data",
          "data": {
            "image/png": "[encoded data removed]",
            "text/plain": [
              "<Figure size 432x288 with 1 Axes>"
            ]
          },
          "metadata": {
            "tags": [],
            "needs_background": "light"
          }
        }
      ]
    },
    {
      "cell_type": "code",
      "metadata": {
        "colab": {
          "base_uri": "https://localhost:8080/",
          "height": 295
        },
        "id": "KvG4v8Oor4IB",
        "outputId": "7c04d214-7acf-4e2a-c5cd-11797a27c096"
      },
      "source": [
        "# summarize history for loss\n",
        "plt.plot(model_history.history['loss'])\n",
        "plt.plot(model_history.history['val_loss'])\n",
        "plt.title('model loss')\n",
        "plt.ylabel('loss')\n",
        "plt.xlabel('epoch')\n",
        "plt.legend(['train', 'test'], loc='upper left')\n",
        "plt.show()"
      ],
      "execution_count": 40,
      "outputs": [
        {
          "output_type": "display_data",
          "data": {
            "image/png": "[encoded data removed]",
            "text/plain": [
              "<Figure size 432x288 with 1 Axes>"
            ]
          },
          "metadata": {
            "tags": [],
            "needs_background": "light"
          }
        }
      ]
    },
    {
      "cell_type": "code",
      "metadata": {
        "colab": {
          "base_uri": "https://localhost:8080/"
        },
        "id": "KG8VGEtur4pH",
        "outputId": "c808552b-422b-43fc-eef0-f11cb6c7d643"
      },
      "source": [
        "y_pred = classifier.predict(x_test)\n",
        "y_pred"
      ],
      "execution_count": 41,
      "outputs": [
        {
          "output_type": "stream",
          "text": [
            "/usr/local/lib/python3.7/dist-packages/tensorflow/python/data/ops/dataset_ops.py:3504: UserWarning: Even though the tf.config.experimental_run_functions_eagerly option is set, this option does not apply to tf.data functions. tf.data functions are still traced and executed as graphs.\n",
            "  \"Even though the tf.config.experimental_run_functions_eagerly \"\n"
          ],
          "name": "stderr"
        },
        {
          "output_type": "execute_result",
          "data": {
            "text/plain": [
              "array([[0.03355207, 0.09704396, 0.13740566, ..., 0.00860002, 0.15002273,\n",
              "        0.00502557],\n",
              "       [0.0419125 , 0.14242505, 0.00310929, ..., 0.00390398, 0.21190701,\n",
              "        0.5826421 ],\n",
              "       [0.17176925, 0.11982212, 0.0088467 , ..., 0.00852877, 0.5282521 ,\n",
              "        0.13680561],\n",
              "       ...,\n",
              "       [0.00783179, 0.0049063 , 0.1326428 , ..., 0.04836635, 0.01545939,\n",
              "        0.00627922],\n",
              "       [0.02354556, 0.06133815, 0.09863335, ..., 0.03487202, 0.01629338,\n",
              "        0.03110141],\n",
              "       [0.05563897, 0.01554137, 0.11596117, ..., 0.37278032, 0.05029262,\n",
              "        0.02619815]], dtype=float32)"
            ]
          },
          "metadata": {
            "tags": []
          },
          "execution_count": 41
        }
      ]
    },
    {
      "cell_type": "code",
      "metadata": {
        "colab": {
          "base_uri": "https://localhost:8080/"
        },
        "id": "5ljOGl7kr7D6",
        "outputId": "798ae000-664a-4f8b-ac45-ae02f82d2679"
      },
      "source": [
        "prediction_score = classifier.evaluate(x_test, y_test, verbose=0)\n",
        "\n",
        "print('Test Loss and Test Accuracy', prediction_score)"
      ],
      "execution_count": 42,
      "outputs": [
        {
          "output_type": "stream",
          "text": [
            "/usr/local/lib/python3.7/dist-packages/tensorflow/python/data/ops/dataset_ops.py:3504: UserWarning: Even though the tf.config.experimental_run_functions_eagerly option is set, this option does not apply to tf.data functions. tf.data functions are still traced and executed as graphs.\n",
            "  \"Even though the tf.config.experimental_run_functions_eagerly \"\n"
          ],
          "name": "stderr"
        },
        {
          "output_type": "stream",
          "text": [
            "Test Loss and Test Accuracy [1.5951577425003052, 0.44359999895095825]\n"
          ],
          "name": "stdout"
        }
      ]
    },
    {
      "cell_type": "code",
      "metadata": {
        "id": "XCeWuCNOuajj"
      },
      "source": [
        ""
      ],
      "execution_count": 42,
      "outputs": []
    }
  ]
}